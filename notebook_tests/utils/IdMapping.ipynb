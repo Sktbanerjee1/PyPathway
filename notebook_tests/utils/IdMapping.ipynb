{
 "cells": [
  {
   "cell_type": "markdown",
   "metadata": {},
   "source": [
    "## IdMapping class\n",
    "The id convertor between different idtype"
   ]
  },
  {
   "cell_type": "code",
   "execution_count": 5,
   "metadata": {},
   "outputs": [],
   "source": [
    "from pypathway import IdMapping, ColorectalCancer"
   ]
  },
  {
   "cell_type": "markdown",
   "metadata": {},
   "source": [
    "### Species and Database support\n",
    "* In the table below, every element in a list(species) stand for same species (e.m Hs == hsa == 9606)\n",
    "* The database will be downloaded from www.bioconductor.org\n",
    "* every database takes 80~200M disk space."
   ]
  },
  {
   "cell_type": "code",
   "execution_count": 6,
   "metadata": {},
   "outputs": [
    {
     "data": {
      "text/plain": [
       "[['anopheles', 'Anopheles gambiae', 'Ag', 'aga', 'anoGam', '7165'],\n",
       " ['bovine', 'Bos taurus', 'Bt', 'bta', 'bosTau', '9913'],\n",
       " ['canine', 'Canis familiaris', 'Cf', 'cfa', 'canFam', '9615'],\n",
       " ['chicken', 'Gallus gallus', 'Gg', 'gga', 'galGal', '9031'],\n",
       " ['chimp', 'Pan troglodytes', 'Pt', 'ptr', 'PanTro', '9598'],\n",
       " ['ecoliK12',\n",
       "  'Escherichia coli K12',\n",
       "  'EcK12',\n",
       "  'eco',\n",
       "  None,\n",
       "  '562,83333,511145'],\n",
       " ['ecoliSakai', 'Escherichia coli Sakai', 'EcSakai', 'ecs', None, '83334'],\n",
       " ['fly', 'Drosophila melanogaster', 'Dm', 'dme', 'dm', '7227'],\n",
       " ['human', 'Homo sapiens', 'Hs', 'hsa', 'hg', '9606'],\n",
       " ['mouse', 'Mus musculus', 'Mm', 'mmu', 'mm', '10090'],\n",
       " ['pig', 'Sus scrofa', 'Ss', 'ssc', 'susScr', '9823'],\n",
       " ['rat', 'Rattus norvegicus', 'Rn', 'rno', 'rn', '10116'],\n",
       " ['rhesus', 'Macaca mulatta', 'Mmu', 'mcc', 'rheMac', '9544'],\n",
       " ['worm', 'Caenorhabditis elegans', 'Ce', 'cel', 'ce', '6239'],\n",
       " ['xenopus', 'Xenopus laevis', 'Xl', 'xla', 'NA', '8355'],\n",
       " ['yeast', 'Saccharomyces cerevisiae', 'Sc', 'sce', 'sacCer', '4932,559292'],\n",
       " ['zebrafish', 'Danio rerio', 'Dr', 'dre', 'danRer', '7955']]"
      ]
     },
     "execution_count": 6,
     "metadata": {},
     "output_type": "execute_result"
    }
   ],
   "source": [
    "IdMapping.SPECIES                  "
   ]
  },
  {
   "cell_type": "markdown",
   "metadata": {},
   "source": [
    "### Idtypes\n",
    "The idtype supports"
   ]
  },
  {
   "cell_type": "code",
   "execution_count": 7,
   "metadata": {},
   "outputs": [
    {
     "data": {
      "text/plain": [
       "['ACCNUM',\n",
       " 'ALIAS',\n",
       " 'ALIAS2EG',\n",
       " 'ALIAS2PROBE',\n",
       " 'CHR',\n",
       " 'CHRLOC',\n",
       " 'CHRLOCCHR',\n",
       " 'CHRLOCEND',\n",
       " 'ENSEMBL',\n",
       " 'ENSEMBLPROT',\n",
       " 'ENSEMBLTRANS',\n",
       " 'ENTREZID',\n",
       " 'ENZYME',\n",
       " 'EVIDENCE',\n",
       " 'EVIDENCEALL',\n",
       " 'GENENAME',\n",
       " 'GO',\n",
       " 'GOALL',\n",
       " 'IPI',\n",
       " 'MAP',\n",
       " 'ONTOLOGY',\n",
       " 'ONTOLOGYALL',\n",
       " 'PATH',\n",
       " 'PFAM',\n",
       " 'PMID',\n",
       " 'PROSITE',\n",
       " 'REFSEQ',\n",
       " 'SYMBOL',\n",
       " 'UNIGENE',\n",
       " 'UNIPROT']"
      ]
     },
     "execution_count": 7,
     "metadata": {},
     "output_type": "execute_result"
    }
   ],
   "source": [
    "sorted(list(IdMapping.POSSIBLE_KEY.keys()))"
   ]
  },
  {
   "cell_type": "markdown",
   "metadata": {},
   "source": [
    "### Example\n",
    "convert `ENTREZID` to `SYMBOL`"
   ]
  },
  {
   "cell_type": "code",
   "execution_count": 8,
   "metadata": {},
   "outputs": [],
   "source": [
    "# load datasets\n",
    "c = ColorectalCancer()"
   ]
  },
  {
   "cell_type": "code",
   "execution_count": 9,
   "metadata": {},
   "outputs": [
    {
     "data": {
      "text/plain": [
       "[2, 9, 10, 12, 14, 16, 18, 20, 21, 27]"
      ]
     },
     "execution_count": 9,
     "metadata": {},
     "output_type": "execute_result"
    }
   ],
   "source": [
    "# view the first 10 ENTREZID\n",
    "sorted(c.deg_list)[:10]"
   ]
  },
  {
   "cell_type": "code",
   "execution_count": 8,
   "metadata": {},
   "outputs": [
    {
     "data": {
      "text/plain": [
       "[[2, ['A2M']], [8195, ['MKKS']], [6274, ['S100A3']], [147463, ['ANKRD29']]]"
      ]
     },
     "execution_count": 8,
     "metadata": {},
     "output_type": "execute_result"
    }
   ],
   "source": [
    "# convert to the SYMBOL, the out put format is a list of I/O pairs, [[source, [target1, target2 ... ]]], \n",
    "input_id = [2, 8195, 6274, 147463]\n",
    "IdMapping.convert(input_id, source=\"ENTREZID\", target=\"SYMBOL\", species='hsa')"
   ]
  },
  {
   "cell_type": "markdown",
   "metadata": {},
   "source": [
    "### Note\n",
    "if there are many corresponding target id, the second element in return list will have several element.\n",
    "\n",
    "for example: \n",
    "* if source A, target B, C: [[A, [B, C]]...]\n",
    "* if source A, and no corresponding target: [[A, [None]]]"
   ]
  },
  {
   "cell_type": "markdown",
   "metadata": {},
   "source": [
    "### convert to dict\n",
    "same as convert, but returns a dict object. if source id has not coresponding target id, this source id will not exist in dict"
   ]
  },
  {
   "cell_type": "code",
   "execution_count": 14,
   "metadata": {},
   "outputs": [
    {
     "data": {
      "text/plain": [
       "{2: ['A2M'],\n",
       " 9: ['NAT1'],\n",
       " 10: ['NAT2'],\n",
       " 12: ['SERPINA3'],\n",
       " 14: ['AAMP'],\n",
       " 16: ['AARS'],\n",
       " 6274: ['S100A3'],\n",
       " 8195: ['MKKS'],\n",
       " 90120: ['TMEM250'],\n",
       " 147463: ['ANKRD29']}"
      ]
     },
     "execution_count": 14,
     "metadata": {},
     "output_type": "execute_result"
    }
   ],
   "source": [
    "input_id = [2, 8195, 6274, 147463, 90120, 9, 10, 12, 14, 16]\n",
    "IdMapping.convert_to_dict(input_id, source=\"ENTREZID\", target=\"SYMBOL\", species='hsa')"
   ]
  }
 ],
 "metadata": {
  "kernelspec": {
   "display_name": "Python 3",
   "language": "python",
   "name": "python3"
  },
  "language_info": {
   "codemirror_mode": {
    "name": "ipython",
    "version": 3
   },
   "file_extension": ".py",
   "mimetype": "text/x-python",
   "name": "python",
   "nbconvert_exporter": "python",
   "pygments_lexer": "ipython3",
   "version": "3.5.0"
  }
 },
 "nbformat": 4,
 "nbformat_minor": 2
}
