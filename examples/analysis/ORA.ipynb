{
 "cells": [
  {
   "cell_type": "markdown",
   "metadata": {},
   "source": [
    "# ORA\n",
    "the general and specfic for KEGG, REACTOME and GO"
   ]
  },
  {
   "cell_type": "code",
   "execution_count": 1,
   "metadata": {
    "collapsed": true
   },
   "outputs": [],
   "source": [
    "import sys\n",
    "sys.path.insert(0, \"/Users/yangxu/PyPathway\")"
   ]
  },
  {
   "cell_type": "code",
   "execution_count": 4,
   "metadata": {
    "collapsed": true
   },
   "outputs": [],
   "source": [
    "import pandas as pd\n",
    "from pypathway import Reactome, GO, KEGG, ORA\n",
    "from pypathway import ColorectalCancer, IdMapping, GMTUtils\n",
    "from pypathway import EnrichmentExport\n",
    "import os\n",
    "import sys"
   ]
  },
  {
   "cell_type": "code",
   "execution_count": 3,
   "metadata": {
    "collapsed": true
   },
   "outputs": [],
   "source": [
    "# load a gmt file.\n",
    "gmt = GMTUtils.parse_gmt_file(\"../../pypathway/tests/gmt_file/h.all.v6.0.entrez.gmt\")"
   ]
  },
  {
   "cell_type": "code",
   "execution_count": 5,
   "metadata": {
    "collapsed": true
   },
   "outputs": [],
   "source": [
    "# load the example\n",
    "c = ColorectalCancer()"
   ]
  },
  {
   "cell_type": "code",
   "execution_count": 6,
   "metadata": {},
   "outputs": [
    {
     "data": {
      "text/plain": [
       "(5320, 17216)"
      ]
     },
     "execution_count": 6,
     "metadata": {},
     "output_type": "execute_result"
    }
   ],
   "source": [
    "# infomation of datasets\n",
    "len(c.deg_list), len(c.background)"
   ]
  },
  {
   "cell_type": "code",
   "execution_count": 7,
   "metadata": {
    "collapsed": true,
    "scrolled": false
   },
   "outputs": [],
   "source": [
    "res_h = ORA.run(c.deg_list, c.background, gmt)"
   ]
  },
  {
   "cell_type": "code",
   "execution_count": 15,
   "metadata": {},
   "outputs": [
    {
     "data": {
      "text/plain": [
       "7.3846435055285931e-24"
      ]
     },
     "execution_count": 15,
     "metadata": {},
     "output_type": "execute_result"
    }
   ],
   "source": [
    "res_h.table.sort_values(\"fdr\").iloc[0][-1]"
   ]
  },
  {
   "cell_type": "code",
   "execution_count": 8,
   "metadata": {},
   "outputs": [
    {
     "data": {
      "text/html": [
       "<div id=\"box1510799314762662\" style=\"width: 100%; height: 0px;background-color: #ffffff\">\n",
       "    <script>\n",
       "        var box = $(\"#box1510799314762662\");\n",
       "        var father = box.parent();\n",
       "        var thirdfather = father.parent().parent().parent();\n",
       "        thirdfather.children(\".prompt\").remove();\n",
       "        father.parent().children(\".prompt\").remove();\n",
       "        father.css(\"max-width\", \"100%\");\n",
       "        box.css(\"margin-left\", \"5px\");\n",
       "        var target = document.getElementById(\"box1510799314762662\");\n",
       "        var w = thirdfather.outerWidth();\n",
       "        console.log(w);\n",
       "        target.style.height = w * 0.6 + \"px\";\n",
       "        box.append($(\"<iframe width='\" + (parseInt(w) - 15).toString() + \"'\" +\n",
       "                \" height='\" + (w * 0.6 - 5) + \"' src='assets/plot/plot_1510799314762662.html' \" +\n",
       "                \"frameborder='0'></iframe>\"))\n",
       "    </script>\n",
       "</div>"
      ],
      "text/plain": [
       "<IPython.core.display.HTML object>"
      ]
     },
     "execution_count": 8,
     "metadata": {},
     "output_type": "execute_result"
    }
   ],
   "source": [
    "# inline bar plot.\n",
    "res_h.plot()"
   ]
  },
  {
   "cell_type": "markdown",
   "metadata": {},
   "source": [
    "## KEGG"
   ]
  },
  {
   "cell_type": "code",
   "execution_count": 16,
   "metadata": {
    "collapsed": true,
    "scrolled": false
   },
   "outputs": [],
   "source": [
    "# kegg enrichment for certain organism\n",
    "r_kg = KEGG.run(c.deg_list, c.background, 'hsa')"
   ]
  },
  {
   "cell_type": "code",
   "execution_count": 20,
   "metadata": {},
   "outputs": [
    {
     "data": {
      "text/plain": [
       "2.8162417135395389e-18"
      ]
     },
     "execution_count": 20,
     "metadata": {},
     "output_type": "execute_result"
    }
   ],
   "source": [
    "r_kg.table.sort_values(\"fdr\").iloc[0][-1]"
   ]
  },
  {
   "cell_type": "code",
   "execution_count": 11,
   "metadata": {},
   "outputs": [
    {
     "data": {
      "text/html": [
       "<div id=\"box151079932440201\" style=\"width: 100%; height: 0px;background-color: #ffffff\">\n",
       "    <script>\n",
       "        var box = $(\"#box151079932440201\");\n",
       "        var father = box.parent();\n",
       "        var thirdfather = father.parent().parent().parent();\n",
       "        thirdfather.children(\".prompt\").remove();\n",
       "        father.parent().children(\".prompt\").remove();\n",
       "        father.css(\"max-width\", \"100%\");\n",
       "        box.css(\"margin-left\", \"5px\");\n",
       "        var target = document.getElementById(\"box151079932440201\");\n",
       "        var w = thirdfather.outerWidth();\n",
       "        console.log(w);\n",
       "        target.style.height = w * 0.6 + \"px\";\n",
       "        box.append($(\"<iframe width='\" + (parseInt(w) - 15).toString() + \"'\" +\n",
       "                \" height='\" + (w * 0.6 - 5) + \"' src='assets/plot/plot_151079932440201.html' \" +\n",
       "                \"frameborder='0'></iframe>\"))\n",
       "    </script>\n",
       "</div>"
      ],
      "text/plain": [
       "<IPython.core.display.HTML object>"
      ]
     },
     "execution_count": 11,
     "metadata": {},
     "output_type": "execute_result"
    }
   ],
   "source": [
    "r_kg.plot()"
   ]
  },
  {
   "cell_type": "markdown",
   "metadata": {},
   "source": [
    "## Reactome"
   ]
  },
  {
   "cell_type": "code",
   "execution_count": 12,
   "metadata": {
    "collapsed": true
   },
   "outputs": [],
   "source": [
    "# the Example of using the warpper of Reactome gene set enrichment analysis"
   ]
  },
  {
   "cell_type": "code",
   "execution_count": 7,
   "metadata": {
    "collapsed": true
   },
   "outputs": [],
   "source": [
    "sybs = [x[1][0] for x in IdMapping.convert(input_id=c.deg_list, species='hsa', source='ENTREZID', target='SYMBOL') if x[1]]"
   ]
  },
  {
   "cell_type": "code",
   "execution_count": 8,
   "metadata": {},
   "outputs": [
    {
     "data": {
      "text/plain": [
       "['A2M',\n",
       " 'MKKS',\n",
       " 'S100A3',\n",
       " 'ANKRD29',\n",
       " 'TMEM250',\n",
       " 'NAT1',\n",
       " 'NAT2',\n",
       " 'SERPINA3',\n",
       " 'AAMP',\n",
       " 'AARS']"
      ]
     },
     "execution_count": 8,
     "metadata": {},
     "output_type": "execute_result"
    }
   ],
   "source": [
    "sybs[:10]"
   ]
  },
  {
   "cell_type": "code",
   "execution_count": 9,
   "metadata": {
    "collapsed": true,
    "scrolled": false
   },
   "outputs": [],
   "source": [
    "# the input is a list of symbol\n",
    "r = Reactome.run(sybs[:10], organism='Homo sapiens')"
   ]
  },
  {
   "cell_type": "code",
   "execution_count": 10,
   "metadata": {
    "scrolled": true
   },
   "outputs": [
    {
     "data": {
      "text/html": [
       "<div>\n",
       "<style>\n",
       "    .dataframe thead tr:only-child th {\n",
       "        text-align: right;\n",
       "    }\n",
       "\n",
       "    .dataframe thead th {\n",
       "        text-align: left;\n",
       "    }\n",
       "\n",
       "    .dataframe tbody tr th {\n",
       "        vertical-align: top;\n",
       "    }\n",
       "</style>\n",
       "<table border=\"1\" class=\"dataframe\">\n",
       "  <thead>\n",
       "    <tr style=\"text-align: right;\">\n",
       "      <th></th>\n",
       "      <th>name</th>\n",
       "      <th>dbId</th>\n",
       "      <th>found</th>\n",
       "      <th>p-value</th>\n",
       "      <th>fdr</th>\n",
       "      <th>species</th>\n",
       "    </tr>\n",
       "  </thead>\n",
       "  <tbody>\n",
       "    <tr>\n",
       "      <th>0</th>\n",
       "      <td>Acetylation</td>\n",
       "      <td>156582</td>\n",
       "      <td>2</td>\n",
       "      <td>0.000557</td>\n",
       "      <td>0.023960</td>\n",
       "      <td>Homo sapiens</td>\n",
       "    </tr>\n",
       "    <tr>\n",
       "      <th>1</th>\n",
       "      <td>Defective SLC6A2 causes orthostatic intoleranc...</td>\n",
       "      <td>5619109</td>\n",
       "      <td>1</td>\n",
       "      <td>0.006418</td>\n",
       "      <td>0.131517</td>\n",
       "      <td>Homo sapiens</td>\n",
       "    </tr>\n",
       "    <tr>\n",
       "      <th>2</th>\n",
       "      <td>Amino acid transport across the plasma membrane</td>\n",
       "      <td>352230</td>\n",
       "      <td>2</td>\n",
       "      <td>0.009394</td>\n",
       "      <td>0.131517</td>\n",
       "      <td>Homo sapiens</td>\n",
       "    </tr>\n",
       "    <tr>\n",
       "      <th>3</th>\n",
       "      <td>Neurotransmitter uptake and metabolism In glia...</td>\n",
       "      <td>112313</td>\n",
       "      <td>1</td>\n",
       "      <td>0.021240</td>\n",
       "      <td>0.162962</td>\n",
       "      <td>Homo sapiens</td>\n",
       "    </tr>\n",
       "    <tr>\n",
       "      <th>4</th>\n",
       "      <td>Astrocytic Glutamate-Glutamine Uptake And Meta...</td>\n",
       "      <td>210455</td>\n",
       "      <td>1</td>\n",
       "      <td>0.021240</td>\n",
       "      <td>0.162962</td>\n",
       "      <td>Homo sapiens</td>\n",
       "    </tr>\n",
       "  </tbody>\n",
       "</table>\n",
       "</div>"
      ],
      "text/plain": [
       "                                                name     dbId  found  \\\n",
       "0                                        Acetylation   156582      2   \n",
       "1  Defective SLC6A2 causes orthostatic intoleranc...  5619109      1   \n",
       "2    Amino acid transport across the plasma membrane   352230      2   \n",
       "3  Neurotransmitter uptake and metabolism In glia...   112313      1   \n",
       "4  Astrocytic Glutamate-Glutamine Uptake And Meta...   210455      1   \n",
       "\n",
       "    p-value       fdr       species  \n",
       "0  0.000557  0.023960  Homo sapiens  \n",
       "1  0.006418  0.131517  Homo sapiens  \n",
       "2  0.009394  0.131517  Homo sapiens  \n",
       "3  0.021240  0.162962  Homo sapiens  \n",
       "4  0.021240  0.162962  Homo sapiens  "
      ]
     },
     "execution_count": 10,
     "metadata": {},
     "output_type": "execute_result"
    }
   ],
   "source": [
    "# the result\n",
    "r.table.head()"
   ]
  },
  {
   "cell_type": "markdown",
   "metadata": {},
   "source": [
    "## Gene ontology"
   ]
  },
  {
   "cell_type": "code",
   "execution_count": 21,
   "metadata": {
    "collapsed": true
   },
   "outputs": [],
   "source": [
    "# make the association file using the id_mapping function\n",
    "# detail using will be shown in the utils section\n",
    "r = IdMapping.convert_to_dict(input_id=c.background, source='ENTREZID', target=\"GO\", species='hsa')"
   ]
  },
  {
   "cell_type": "code",
   "execution_count": 22,
   "metadata": {
    "scrolled": true
   },
   "outputs": [
    {
     "name": "stdout",
     "output_type": "stream",
     "text": [
      "load obo file /Users/yangxu/PyPathway/examples/analysis/go.obo\n",
      "/Users/yangxu/PyPathway/examples/analysis/go.obo: fmt(1.2) rel(2017-04-28) 48,589 GO Terms\n",
      "fisher module not installed.  Falling back on scipy.stats.fisher_exact\n"
     ]
    },
    {
     "name": "stderr",
     "output_type": "stream",
     "text": [
      "Propagating term counts to parents ..\n",
      "goids not found: {'GO:0140059', 'GO:0061897', 'GO:0110026', 'GO:0140030', 'GO:0106046', 'GO:0140058', 'GO:0102798', 'GO:0061885', 'GO:0102200', 'GO:0102487', 'GO:0102500', 'GO:0061898', 'GO:0102489', 'GO:0102953', 'GO:0102568', 'GO:0102158', 'GO:0140066', 'GO:0061890', 'GO:0102773', 'GO:0140068', 'GO:0106028', 'GO:0110053', 'GO:0102389', 'GO:0106030', 'GO:0061881', 'GO:0061931', 'GO:0140052', 'GO:0120053', 'GO:0102420', 'GO:0103067', 'GO:0102756', 'GO:0102250', 'GO:0120103', 'GO:0102524', 'GO:0106045', 'GO:0061920', 'GO:0102752', 'GO:0102499', 'GO:0102751', 'GO:0102486', 'GO:0061921', 'GO:0140036', 'GO:0120072', 'GO:0120092', 'GO:0140067', 'GO:0102966', 'GO:0102797', 'GO:0102707', 'GO:0102488', 'GO:0102113', 'GO:0110024', 'GO:0140031', 'GO:0103045', 'GO:0061944', 'GO:0102294', 'GO:0102102', 'GO:0061896', 'GO:0140069', 'GO:0140065', 'GO:0102965', 'GO:0140080', 'GO:0102769', 'GO:0106022', 'GO:0102485', 'GO:0102148', 'GO:0061899', 'GO:0120058', 'GO:0140078', 'GO:0120108', 'GO:0120094', 'GO:0102491', 'GO:0103066', 'GO:0106044', 'GO:0102567'}\n"
     ]
    },
    {
     "name": "stdout",
     "output_type": "stream",
     "text": [
      "15,292 out of 17,216 population items found in association\n",
      "Calculating uncorrected p-values using fisher_scipy_stats\n",
      " 5,114 out of  5,320 study items found in association\n",
      "Running multitest correction: local bonferroni\n",
      "Running multitest correction: local sidak\n",
      "Running multitest correction: local holm\n",
      "  15,947 GO terms are associated with 5,114 of 5,320 study items\n",
      "  21,008 GO terms are associated with 15,292 of 17,216 population items\n"
     ]
    }
   ],
   "source": [
    "# run go enrichment analysis via goatools \n",
    "# the inputs of study, pop, and assoc is list, list,  dict.\n",
    "# the path is the folder of go obo file\n",
    "# the path should be a valid filesystem path\n",
    "path = os.getcwd() + \"/go.obo\"\n",
    "rg = GO.run([str(x) for x in c.deg_list], [str(x) for x in c.background], r, obo=path)"
   ]
  },
  {
   "cell_type": "code",
   "execution_count": 24,
   "metadata": {},
   "outputs": [
    {
     "data": {
      "text/html": [
       "<div>\n",
       "<style>\n",
       "    .dataframe thead tr:only-child th {\n",
       "        text-align: right;\n",
       "    }\n",
       "\n",
       "    .dataframe thead th {\n",
       "        text-align: left;\n",
       "    }\n",
       "\n",
       "    .dataframe tbody tr th {\n",
       "        vertical-align: top;\n",
       "    }\n",
       "</style>\n",
       "<table border=\"1\" class=\"dataframe\">\n",
       "  <thead>\n",
       "    <tr style=\"text-align: right;\">\n",
       "      <th></th>\n",
       "      <th>GO</th>\n",
       "      <th>NS</th>\n",
       "      <th>enrichment</th>\n",
       "      <th>name</th>\n",
       "      <th>ratio_in_study</th>\n",
       "      <th>ratio_in_pop</th>\n",
       "      <th>p_uncorrected</th>\n",
       "      <th>depth</th>\n",
       "      <th>study_count</th>\n",
       "      <th>p_bonferroni</th>\n",
       "      <th>p_sidak</th>\n",
       "      <th>p_holm</th>\n",
       "      <th>hit</th>\n",
       "    </tr>\n",
       "  </thead>\n",
       "  <tbody>\n",
       "    <tr>\n",
       "      <th>0</th>\n",
       "      <td>GO:0008150</td>\n",
       "      <td>BP</td>\n",
       "      <td>e</td>\n",
       "      <td>biological_process</td>\n",
       "      <td>4755/5320</td>\n",
       "      <td>14017/17216</td>\n",
       "      <td>5.100000e-78</td>\n",
       "      <td>n.a.</td>\n",
       "      <td>4755</td>\n",
       "      <td>1.070000e-73</td>\n",
       "      <td>1.040000e-73</td>\n",
       "      <td>1.070000e-73</td>\n",
       "      <td>10, 1000, 10000, 10005, 10006, 10008, 10013, 1...</td>\n",
       "    </tr>\n",
       "    <tr>\n",
       "      <th>1</th>\n",
       "      <td>GO:0044699</td>\n",
       "      <td>BP</td>\n",
       "      <td>e</td>\n",
       "      <td>single-organism process</td>\n",
       "      <td>3375/5320</td>\n",
       "      <td>9267/17216</td>\n",
       "      <td>8.830000e-65</td>\n",
       "      <td>n.a.</td>\n",
       "      <td>3375</td>\n",
       "      <td>1.860000e-60</td>\n",
       "      <td>1.810000e-60</td>\n",
       "      <td>1.860000e-60</td>\n",
       "      <td>1000, 10000, 10005, 10006, 10008, 10013, 10013...</td>\n",
       "    </tr>\n",
       "    <tr>\n",
       "      <th>2</th>\n",
       "      <td>GO:0044763</td>\n",
       "      <td>BP</td>\n",
       "      <td>e</td>\n",
       "      <td>single-organism cellular process</td>\n",
       "      <td>2954/5320</td>\n",
       "      <td>7926/17216</td>\n",
       "      <td>1.740000e-62</td>\n",
       "      <td>n.a.</td>\n",
       "      <td>2954</td>\n",
       "      <td>3.660000e-58</td>\n",
       "      <td>3.570000e-58</td>\n",
       "      <td>3.660000e-58</td>\n",
       "      <td>1000, 10000, 10005, 10006, 10008, 10013, 10013...</td>\n",
       "    </tr>\n",
       "    <tr>\n",
       "      <th>3</th>\n",
       "      <td>GO:0009987</td>\n",
       "      <td>BP</td>\n",
       "      <td>e</td>\n",
       "      <td>cellular process</td>\n",
       "      <td>4204/5320</td>\n",
       "      <td>12197/17216</td>\n",
       "      <td>3.790000e-58</td>\n",
       "      <td>n.a.</td>\n",
       "      <td>4204</td>\n",
       "      <td>7.970000e-54</td>\n",
       "      <td>7.770000e-54</td>\n",
       "      <td>7.960000e-54</td>\n",
       "      <td>10, 1000, 10000, 10005, 10006, 10008, 10013, 1...</td>\n",
       "    </tr>\n",
       "    <tr>\n",
       "      <th>4</th>\n",
       "      <td>GO:0044710</td>\n",
       "      <td>BP</td>\n",
       "      <td>e</td>\n",
       "      <td>single-organism metabolic process</td>\n",
       "      <td>1318/5320</td>\n",
       "      <td>3082/17216</td>\n",
       "      <td>2.230000e-53</td>\n",
       "      <td>n.a.</td>\n",
       "      <td>1318</td>\n",
       "      <td>4.680000e-49</td>\n",
       "      <td>4.570000e-49</td>\n",
       "      <td>4.680000e-49</td>\n",
       "      <td>10005, 100131187, 100133941, 10044, 10045, 100...</td>\n",
       "    </tr>\n",
       "  </tbody>\n",
       "</table>\n",
       "</div>"
      ],
      "text/plain": [
       "           GO  NS enrichment                               name  \\\n",
       "0  GO:0008150  BP          e     biological_process               \n",
       "1  GO:0044699  BP          e     single-organism process          \n",
       "2  GO:0044763  BP          e   single-organism cellular process   \n",
       "3  GO:0009987  BP          e     cellular process                 \n",
       "4  GO:0044710  BP          e  single-organism metabolic process   \n",
       "\n",
       "  ratio_in_study ratio_in_pop  p_uncorrected depth  study_count  p_bonferroni  \\\n",
       "0      4755/5320  14017/17216   5.100000e-78  n.a.         4755  1.070000e-73   \n",
       "1      3375/5320   9267/17216   8.830000e-65  n.a.         3375  1.860000e-60   \n",
       "2      2954/5320   7926/17216   1.740000e-62  n.a.         2954  3.660000e-58   \n",
       "3      4204/5320  12197/17216   3.790000e-58  n.a.         4204  7.970000e-54   \n",
       "4      1318/5320   3082/17216   2.230000e-53  n.a.         1318  4.680000e-49   \n",
       "\n",
       "        p_sidak        p_holm  \\\n",
       "0  1.040000e-73  1.070000e-73   \n",
       "1  1.810000e-60  1.860000e-60   \n",
       "2  3.570000e-58  3.660000e-58   \n",
       "3  7.770000e-54  7.960000e-54   \n",
       "4  4.570000e-49  4.680000e-49   \n",
       "\n",
       "                                                 hit  \n",
       "0  10, 1000, 10000, 10005, 10006, 10008, 10013, 1...  \n",
       "1  1000, 10000, 10005, 10006, 10008, 10013, 10013...  \n",
       "2  1000, 10000, 10005, 10006, 10008, 10013, 10013...  \n",
       "3  10, 1000, 10000, 10005, 10006, 10008, 10013, 1...  \n",
       "4  10005, 100131187, 100133941, 10044, 10045, 100...  "
      ]
     },
     "execution_count": 24,
     "metadata": {},
     "output_type": "execute_result"
    }
   ],
   "source": [
    "rg.table.head()"
   ]
  },
  {
   "cell_type": "code",
   "execution_count": 28,
   "metadata": {},
   "outputs": [
    {
     "data": {
      "text/plain": [
       "4.7299999999999981e-102"
      ]
     },
     "execution_count": 28,
     "metadata": {},
     "output_type": "execute_result"
    }
   ],
   "source": [
    "rg.table.sort_values(\"p_bonferroni\").iloc[0][-2]"
   ]
  },
  {
   "cell_type": "code",
   "execution_count": 8,
   "metadata": {
    "scrolled": false
   },
   "outputs": [
    {
     "name": "stdout",
     "output_type": "stream",
     "text": [
      "obo file not found, start to download\n",
      "load obo file /Users/yangxu/PyPathway/examples/analysisgo-basic.obo\n",
      "/Users/yangxu/PyPathway/examples/analysisgo-basic.obo: fmt(1.2) rel(2017-11-22) 49,201 GO Terms\n",
      "fisher module not installed.  Falling back on scipy.stats.fisher_exact\n"
     ]
    },
    {
     "name": "stderr",
     "output_type": "stream",
     "text": [
      "Propagating term counts to parents ..\n",
      "goids not found: {'GO:0022625', 'GO:0022627'}\n"
     ]
    },
    {
     "name": "stdout",
     "output_type": "stream",
     "text": [
      "31,855 out of 33,239 population items found in association\n",
      "Calculating uncorrected p-values using fisher_scipy_stats\n",
      "   269 out of    276 study items found in association\n",
      "Running multitest correction: local bonferroni\n",
      "Running multitest correction: local sidak\n",
      "Running multitest correction: local holm\n",
      "  788 GO terms are associated with 269 of 276 study items\n",
      "  6,118 GO terms are associated with 31,855 of 33,239 population items\n"
     ]
    }
   ],
   "source": [
    "# the file input of study, pop and assoc\n",
    "# this function is the warpper of the Goatools\n",
    "# Github: https://github.com/tanghaibao/goatools\n",
    "# cite: Haibao Tang et al. (2015). GOATOOLS: Tools for Gene Ontology. Zenodo. 10.5281/zenodo.31628.\n",
    "path = \"../../pypathway/tests/data/\"\n",
    "rg = GO.run(path + 'study', path + 'population', path + 'association',\n",
    "        obo=os.getcwd() + 'go-basic.obo')"
   ]
  },
  {
   "cell_type": "code",
   "execution_count": 9,
   "metadata": {},
   "outputs": [
    {
     "data": {
      "text/html": [
       "<div>\n",
       "<style>\n",
       "    .dataframe thead tr:only-child th {\n",
       "        text-align: right;\n",
       "    }\n",
       "\n",
       "    .dataframe thead th {\n",
       "        text-align: left;\n",
       "    }\n",
       "\n",
       "    .dataframe tbody tr th {\n",
       "        vertical-align: top;\n",
       "    }\n",
       "</style>\n",
       "<table border=\"1\" class=\"dataframe\">\n",
       "  <thead>\n",
       "    <tr style=\"text-align: right;\">\n",
       "      <th></th>\n",
       "      <th>GO</th>\n",
       "      <th>NS</th>\n",
       "      <th>enrichment</th>\n",
       "      <th>name</th>\n",
       "      <th>ratio_in_study</th>\n",
       "      <th>ratio_in_pop</th>\n",
       "      <th>p_uncorrected</th>\n",
       "      <th>depth</th>\n",
       "      <th>study_count</th>\n",
       "      <th>p_bonferroni</th>\n",
       "      <th>p_sidak</th>\n",
       "      <th>p_holm</th>\n",
       "      <th>hit</th>\n",
       "    </tr>\n",
       "  </thead>\n",
       "  <tbody>\n",
       "    <tr>\n",
       "      <th>0</th>\n",
       "      <td>GO:0036211</td>\n",
       "      <td>BP</td>\n",
       "      <td>e</td>\n",
       "      <td>protein modification process</td>\n",
       "      <td>33/276</td>\n",
       "      <td>1727/33239</td>\n",
       "      <td>0.000008</td>\n",
       "      <td>n.a.</td>\n",
       "      <td>33</td>\n",
       "      <td>0.0505</td>\n",
       "      <td>0.0492</td>\n",
       "      <td>0.0504</td>\n",
       "      <td>AT1G13580, AT1G66610, AT1G66860, AT1G66980, AT...</td>\n",
       "    </tr>\n",
       "    <tr>\n",
       "      <th>1</th>\n",
       "      <td>GO:0006464</td>\n",
       "      <td>BP</td>\n",
       "      <td>e</td>\n",
       "      <td>cellular protein modification process</td>\n",
       "      <td>33/276</td>\n",
       "      <td>1727/33239</td>\n",
       "      <td>0.000008</td>\n",
       "      <td>n.a.</td>\n",
       "      <td>33</td>\n",
       "      <td>0.0505</td>\n",
       "      <td>0.0492</td>\n",
       "      <td>0.0504</td>\n",
       "      <td>AT1G13580, AT1G66610, AT1G66860, AT1G66980, AT...</td>\n",
       "    </tr>\n",
       "    <tr>\n",
       "      <th>2</th>\n",
       "      <td>GO:0006468</td>\n",
       "      <td>BP</td>\n",
       "      <td>e</td>\n",
       "      <td>protein phosphorylation</td>\n",
       "      <td>22/276</td>\n",
       "      <td>922/33239</td>\n",
       "      <td>0.000011</td>\n",
       "      <td>n.a.</td>\n",
       "      <td>22</td>\n",
       "      <td>0.0660</td>\n",
       "      <td>0.0643</td>\n",
       "      <td>0.0659</td>\n",
       "      <td>AT1G66980, AT2G29220, AT2G41140, AT2G41970, AT...</td>\n",
       "    </tr>\n",
       "    <tr>\n",
       "      <th>3</th>\n",
       "      <td>GO:0016310</td>\n",
       "      <td>BP</td>\n",
       "      <td>e</td>\n",
       "      <td>phosphorylation</td>\n",
       "      <td>22/276</td>\n",
       "      <td>996/33239</td>\n",
       "      <td>0.000035</td>\n",
       "      <td>n.a.</td>\n",
       "      <td>22</td>\n",
       "      <td>0.2120</td>\n",
       "      <td>0.2070</td>\n",
       "      <td>0.2120</td>\n",
       "      <td>AT1G66980, AT2G29220, AT2G41140, AT2G41970, AT...</td>\n",
       "    </tr>\n",
       "    <tr>\n",
       "      <th>4</th>\n",
       "      <td>GO:0043412</td>\n",
       "      <td>BP</td>\n",
       "      <td>e</td>\n",
       "      <td>macromolecule modification</td>\n",
       "      <td>33/276</td>\n",
       "      <td>1877/33239</td>\n",
       "      <td>0.000057</td>\n",
       "      <td>n.a.</td>\n",
       "      <td>33</td>\n",
       "      <td>0.3510</td>\n",
       "      <td>0.3420</td>\n",
       "      <td>0.3500</td>\n",
       "      <td>AT1G13580, AT1G66610, AT1G66860, AT1G66980, AT...</td>\n",
       "    </tr>\n",
       "  </tbody>\n",
       "</table>\n",
       "</div>"
      ],
      "text/plain": [
       "           GO  NS enrichment                                   name  \\\n",
       "0  GO:0036211  BP          e         protein modification process     \n",
       "1  GO:0006464  BP          e  cellular protein modification process   \n",
       "2  GO:0006468  BP          e         protein phosphorylation          \n",
       "3  GO:0016310  BP          e         phosphorylation                  \n",
       "4  GO:0043412  BP          e         macromolecule modification       \n",
       "\n",
       "  ratio_in_study ratio_in_pop  p_uncorrected depth  study_count  p_bonferroni  \\\n",
       "0         33/276   1727/33239       0.000008  n.a.           33        0.0505   \n",
       "1         33/276   1727/33239       0.000008  n.a.           33        0.0505   \n",
       "2         22/276    922/33239       0.000011  n.a.           22        0.0660   \n",
       "3         22/276    996/33239       0.000035  n.a.           22        0.2120   \n",
       "4         33/276   1877/33239       0.000057  n.a.           33        0.3510   \n",
       "\n",
       "   p_sidak  p_holm                                                hit  \n",
       "0   0.0492  0.0504  AT1G13580, AT1G66610, AT1G66860, AT1G66980, AT...  \n",
       "1   0.0492  0.0504  AT1G13580, AT1G66610, AT1G66860, AT1G66980, AT...  \n",
       "2   0.0643  0.0659  AT1G66980, AT2G29220, AT2G41140, AT2G41970, AT...  \n",
       "3   0.2070  0.2120  AT1G66980, AT2G29220, AT2G41140, AT2G41970, AT...  \n",
       "4   0.3420  0.3500  AT1G13580, AT1G66610, AT1G66860, AT1G66980, AT...  "
      ]
     },
     "execution_count": 9,
     "metadata": {},
     "output_type": "execute_result"
    }
   ],
   "source": [
    "rg.table.head()"
   ]
  },
  {
   "cell_type": "code",
   "execution_count": 10,
   "metadata": {},
   "outputs": [
    {
     "data": {
      "text/html": [
       "<div id=\"box1511422863\" style=\"width: 100%; height: 0px;background-color: #ffffff\">\n",
       "    <script>\n",
       "        var box = $(\"#box1511422863\");\n",
       "        var father = box.parent();\n",
       "        var thirdfather = father.parent().parent().parent();\n",
       "        thirdfather.children(\".prompt\").remove();\n",
       "        father.parent().children(\".prompt\").remove();\n",
       "        father.css(\"max-width\", \"100%\");\n",
       "        box.css(\"margin-left\", \"5px\");\n",
       "        box.css(\"margin-top\", \"3px\");\n",
       "        var target = document.getElementById(\"box1511422863\");\n",
       "        var w = thirdfather.outerWidth();\n",
       "        console.log(w);\n",
       "        target.style.height = w * 0.625 + \"px\";\n",
       "        box.append($(\"<iframe id='inner-iframe' width='\" + (parseInt(w) - 15).toString() + \"'\" +\n",
       "                \" height='\" + w * 0.625 + \"' src=files/caches/cy_plot/index.html \" +\n",
       "                \"frameborder='0'></iframe>\"));\n",
       "        window.onresize = function () {\n",
       "            console.log(\"resize\", thirdfather.outerWidth());\n",
       "            var inner_frame = $(\"#inner-iframe\");\n",
       "            inner_frame.css(\"width\", thirdfather.outerWidth() - 15 + \"px\");\n",
       "            inner_frame.css(\"height\", thirdfather.outerWidth() * 0.625 + \"px\");\n",
       "            father.css(\"height\", thirdfather.outerWidth() * 0.625 + 8 + \"px\");\n",
       "            thirdfather.css(\"height\", thirdfather.outerWidth() * 0.625 + 8 + \"px\");\n",
       "            father.parent().css(\"height\", thirdfather.outerWidth() * 0.625 + 8 + \"px\");\n",
       "        }\n",
       "    </script>\n",
       "</div>"
      ],
      "text/plain": [
       "<IPython.core.display.HTML object>"
      ]
     },
     "execution_count": 10,
     "metadata": {},
     "output_type": "execute_result"
    }
   ],
   "source": [
    "# the interactive graph display the significance of the result by color\n",
    "rg.graph()"
   ]
  },
  {
   "cell_type": "code",
   "execution_count": 11,
   "metadata": {
    "collapsed": true
   },
   "outputs": [],
   "source": [
    "# test export\n",
    "c = EnrichmentExport.export([rg, rg])"
   ]
  }
 ],
 "metadata": {
  "kernelspec": {
   "display_name": "Python 3",
   "language": "python",
   "name": "python3"
  },
  "language_info": {
   "codemirror_mode": {
    "name": "ipython",
    "version": 3
   },
   "file_extension": ".py",
   "mimetype": "text/x-python",
   "name": "python",
   "nbconvert_exporter": "python",
   "pygments_lexer": "ipython3",
   "version": "3.5.2"
  }
 },
 "nbformat": 4,
 "nbformat_minor": 2
}
