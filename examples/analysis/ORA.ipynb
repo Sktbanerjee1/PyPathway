{
 "cells": [
  {
   "cell_type": "markdown",
   "metadata": {},
   "source": [
    "# ORA\n",
    "the general and specfic for KEGG, REACTOME and GO"
   ]
  },
  {
   "cell_type": "code",
   "execution_count": 2,
   "metadata": {
    "collapsed": true
   },
   "outputs": [],
   "source": [
    "import pandas as pd\n",
    "from pypathway import Reactome, GO, KEGG, ORA\n",
    "from pypathway import ColorectalCancer, IdMapping, GMTUtils\n",
    "from pypathway import EnrichmentExport\n",
    "import os"
   ]
  },
  {
   "cell_type": "code",
   "execution_count": 3,
   "metadata": {
    "collapsed": true
   },
   "outputs": [],
   "source": [
    "# load a gmt file.\n",
    "gmt = GMTUtils.parse_gmt_file(\"../../pypathway/tests/gmt_file/h.all.v6.0.entrez.gmt\")"
   ]
  },
  {
   "cell_type": "code",
   "execution_count": 3,
   "metadata": {
    "collapsed": true
   },
   "outputs": [],
   "source": [
    "# load the example\n",
    "c = ColorectalCancer()"
   ]
  },
  {
   "cell_type": "code",
   "execution_count": 4,
   "metadata": {},
   "outputs": [
    {
     "data": {
      "text/plain": [
       "(5320, 17216)"
      ]
     },
     "execution_count": 4,
     "metadata": {},
     "output_type": "execute_result"
    }
   ],
   "source": [
    "# infomation of datasets\n",
    "len(c.deg_list), len(c.background)"
   ]
  },
  {
   "cell_type": "code",
   "execution_count": 5,
   "metadata": {
    "collapsed": true,
    "scrolled": false
   },
   "outputs": [],
   "source": [
    "res_h = ORA.run(c.deg_list, c.background, gmt)"
   ]
  },
  {
   "cell_type": "code",
   "execution_count": 6,
   "metadata": {},
   "outputs": [
    {
     "data": {
      "text/html": [
       "<div>\n",
       "<table border=\"1\" class=\"dataframe\">\n",
       "  <thead>\n",
       "    <tr style=\"text-align: right;\">\n",
       "      <th></th>\n",
       "      <th>name</th>\n",
       "      <th>mapped</th>\n",
       "      <th>number in study</th>\n",
       "      <th>p-value</th>\n",
       "      <th>fdr</th>\n",
       "    </tr>\n",
       "  </thead>\n",
       "  <tbody>\n",
       "    <tr>\n",
       "      <th>0</th>\n",
       "      <td>HALLMARK_IL2_STAT5_SIGNALING</td>\n",
       "      <td>188</td>\n",
       "      <td>84</td>\n",
       "      <td>4.488864e-05</td>\n",
       "      <td>0.000107</td>\n",
       "    </tr>\n",
       "    <tr>\n",
       "      <th>1</th>\n",
       "      <td>HALLMARK_APOPTOSIS</td>\n",
       "      <td>146</td>\n",
       "      <td>74</td>\n",
       "      <td>4.482560e-07</td>\n",
       "      <td>0.000001</td>\n",
       "    </tr>\n",
       "    <tr>\n",
       "      <th>2</th>\n",
       "      <td>HALLMARK_NOTCH_SIGNALING</td>\n",
       "      <td>30</td>\n",
       "      <td>12</td>\n",
       "      <td>1.874339e-01</td>\n",
       "      <td>0.246624</td>\n",
       "    </tr>\n",
       "    <tr>\n",
       "      <th>3</th>\n",
       "      <td>HALLMARK_KRAS_SIGNALING_DN</td>\n",
       "      <td>184</td>\n",
       "      <td>43</td>\n",
       "      <td>9.907251e-01</td>\n",
       "      <td>0.999262</td>\n",
       "    </tr>\n",
       "    <tr>\n",
       "      <th>4</th>\n",
       "      <td>HALLMARK_INTERFERON_ALPHA_RESPONSE</td>\n",
       "      <td>87</td>\n",
       "      <td>31</td>\n",
       "      <td>1.989797e-01</td>\n",
       "      <td>0.255102</td>\n",
       "    </tr>\n",
       "  </tbody>\n",
       "</table>\n",
       "</div>"
      ],
      "text/plain": [
       "                                 name  mapped  number in study       p-value  \\\n",
       "0        HALLMARK_IL2_STAT5_SIGNALING     188               84  4.488864e-05   \n",
       "1                  HALLMARK_APOPTOSIS     146               74  4.482560e-07   \n",
       "2            HALLMARK_NOTCH_SIGNALING      30               12  1.874339e-01   \n",
       "3          HALLMARK_KRAS_SIGNALING_DN     184               43  9.907251e-01   \n",
       "4  HALLMARK_INTERFERON_ALPHA_RESPONSE      87               31  1.989797e-01   \n",
       "\n",
       "        fdr  \n",
       "0  0.000107  \n",
       "1  0.000001  \n",
       "2  0.246624  \n",
       "3  0.999262  \n",
       "4  0.255102  "
      ]
     },
     "execution_count": 6,
     "metadata": {},
     "output_type": "execute_result"
    }
   ],
   "source": [
    "res_h.table.head()"
   ]
  },
  {
   "cell_type": "code",
   "execution_count": 7,
   "metadata": {},
   "outputs": [
    {
     "data": {
      "text/html": [
       "<div id=\"box150517872950517\" style=\"width: 100%; height: 0px;background-color: #ffffff\">\n",
       "    <script>\n",
       "        var box = $(\"#box150517872950517\");\n",
       "        var father = box.parent();\n",
       "        var thirdfather = father.parent().parent().parent();\n",
       "        thirdfather.children(\".prompt\").remove();\n",
       "        father.parent().children(\".prompt\").remove();\n",
       "        father.css(\"max-width\", \"100%\");\n",
       "        box.css(\"margin-left\", \"5px\");\n",
       "        var target = document.getElementById(\"box150517872950517\");\n",
       "        var w = thirdfather.outerWidth();\n",
       "        console.log(w);\n",
       "        target.style.height = w * 0.6 + \"px\";\n",
       "        box.append($(\"<iframe width='\" + (parseInt(w) - 15).toString() + \"'\" +\n",
       "                \" height='\" + (w * 0.6 - 5) + \"' src='assets/plot/plot_150517872950517.html' \" +\n",
       "                \"frameborder='0'></iframe>\"))\n",
       "    </script>\n",
       "</div>"
      ],
      "text/plain": [
       "<IPython.core.display.HTML object>"
      ]
     },
     "execution_count": 7,
     "metadata": {},
     "output_type": "execute_result"
    }
   ],
   "source": [
    "# inline bar plot.\n",
    "res_h.plot()"
   ]
  },
  {
   "cell_type": "markdown",
   "metadata": {},
   "source": [
    "## KEGG"
   ]
  },
  {
   "cell_type": "code",
   "execution_count": 4,
   "metadata": {
    "collapsed": true,
    "scrolled": false
   },
   "outputs": [],
   "source": [
    "# kegg enrichment for certain organism\n",
    "r_kg = KEGG.run(c.deg_list, c.background, 'hsa')"
   ]
  },
  {
   "cell_type": "code",
   "execution_count": 9,
   "metadata": {},
   "outputs": [
    {
     "data": {
      "text/html": [
       "<div>\n",
       "<table border=\"1\" class=\"dataframe\">\n",
       "  <thead>\n",
       "    <tr style=\"text-align: right;\">\n",
       "      <th></th>\n",
       "      <th>ID</th>\n",
       "      <th>Name</th>\n",
       "      <th>mapped</th>\n",
       "      <th>deg</th>\n",
       "      <th>p-value</th>\n",
       "      <th>fdr</th>\n",
       "    </tr>\n",
       "  </thead>\n",
       "  <tbody>\n",
       "    <tr>\n",
       "      <th>0</th>\n",
       "      <td>hsa04215</td>\n",
       "      <td>Apoptosis - multiple species - Homo sapiens (h...</td>\n",
       "      <td>27</td>\n",
       "      <td>14</td>\n",
       "      <td>1.854966e-02</td>\n",
       "      <td>6.119475e-02</td>\n",
       "    </tr>\n",
       "    <tr>\n",
       "      <th>1</th>\n",
       "      <td>hsa05320</td>\n",
       "      <td>Autoimmune thyroid disease - Homo sapiens (human)</td>\n",
       "      <td>41</td>\n",
       "      <td>10</td>\n",
       "      <td>8.592329e-01</td>\n",
       "      <td>9.576304e-01</td>\n",
       "    </tr>\n",
       "    <tr>\n",
       "      <th>2</th>\n",
       "      <td>hsa04932</td>\n",
       "      <td>Non-alcoholic fatty liver disease (NAFLD) - Ho...</td>\n",
       "      <td>132</td>\n",
       "      <td>73</td>\n",
       "      <td>4.781813e-09</td>\n",
       "      <td>3.060360e-07</td>\n",
       "    </tr>\n",
       "    <tr>\n",
       "      <th>3</th>\n",
       "      <td>hsa04071</td>\n",
       "      <td>Sphingolipid signaling pathway - Homo sapiens ...</td>\n",
       "      <td>104</td>\n",
       "      <td>41</td>\n",
       "      <td>3.957681e-02</td>\n",
       "      <td>1.047602e-01</td>\n",
       "    </tr>\n",
       "    <tr>\n",
       "      <th>4</th>\n",
       "      <td>hsa05167</td>\n",
       "      <td>Kaposi's sarcoma-associated herpesvirus infect...</td>\n",
       "      <td>168</td>\n",
       "      <td>67</td>\n",
       "      <td>8.118105e-03</td>\n",
       "      <td>3.608047e-02</td>\n",
       "    </tr>\n",
       "  </tbody>\n",
       "</table>\n",
       "</div>"
      ],
      "text/plain": [
       "         ID                                               Name  mapped  deg  \\\n",
       "0  hsa04215  Apoptosis - multiple species - Homo sapiens (h...      27   14   \n",
       "1  hsa05320  Autoimmune thyroid disease - Homo sapiens (human)      41   10   \n",
       "2  hsa04932  Non-alcoholic fatty liver disease (NAFLD) - Ho...     132   73   \n",
       "3  hsa04071  Sphingolipid signaling pathway - Homo sapiens ...     104   41   \n",
       "4  hsa05167  Kaposi's sarcoma-associated herpesvirus infect...     168   67   \n",
       "\n",
       "        p-value           fdr  \n",
       "0  1.854966e-02  6.119475e-02  \n",
       "1  8.592329e-01  9.576304e-01  \n",
       "2  4.781813e-09  3.060360e-07  \n",
       "3  3.957681e-02  1.047602e-01  \n",
       "4  8.118105e-03  3.608047e-02  "
      ]
     },
     "execution_count": 9,
     "metadata": {},
     "output_type": "execute_result"
    }
   ],
   "source": [
    "r_kg.table.head()"
   ]
  },
  {
   "cell_type": "code",
   "execution_count": 10,
   "metadata": {},
   "outputs": [
    {
     "data": {
      "text/html": [
       "<div id=\"box1505178771231342\" style=\"width: 100%; height: 0px;background-color: #ffffff\">\n",
       "    <script>\n",
       "        var box = $(\"#box1505178771231342\");\n",
       "        var father = box.parent();\n",
       "        var thirdfather = father.parent().parent().parent();\n",
       "        thirdfather.children(\".prompt\").remove();\n",
       "        father.parent().children(\".prompt\").remove();\n",
       "        father.css(\"max-width\", \"100%\");\n",
       "        box.css(\"margin-left\", \"5px\");\n",
       "        var target = document.getElementById(\"box1505178771231342\");\n",
       "        var w = thirdfather.outerWidth();\n",
       "        console.log(w);\n",
       "        target.style.height = w * 0.6 + \"px\";\n",
       "        box.append($(\"<iframe width='\" + (parseInt(w) - 15).toString() + \"'\" +\n",
       "                \" height='\" + (w * 0.6 - 5) + \"' src='assets/plot/plot_1505178771231342.html' \" +\n",
       "                \"frameborder='0'></iframe>\"))\n",
       "    </script>\n",
       "</div>"
      ],
      "text/plain": [
       "<IPython.core.display.HTML object>"
      ]
     },
     "execution_count": 10,
     "metadata": {},
     "output_type": "execute_result"
    }
   ],
   "source": [
    "r_kg.plot()"
   ]
  },
  {
   "cell_type": "markdown",
   "metadata": {},
   "source": [
    "## Reactome"
   ]
  },
  {
   "cell_type": "code",
   "execution_count": 11,
   "metadata": {
    "collapsed": true
   },
   "outputs": [],
   "source": [
    "# the Example of using the warpper of Reactome gene set enrichment analysis"
   ]
  },
  {
   "cell_type": "code",
   "execution_count": 12,
   "metadata": {
    "collapsed": true
   },
   "outputs": [],
   "source": [
    "sybs = [x[1][0] for x in IdMapping.convert(input_id=c.deg_list, organism='hsa', source='ENTREZID', target='SYMBOL') if x[1]]"
   ]
  },
  {
   "cell_type": "code",
   "execution_count": 13,
   "metadata": {
    "scrolled": false
   },
   "outputs": [
    {
     "name": "stdout",
     "output_type": "stream",
     "text": [
      "4\n"
     ]
    }
   ],
   "source": [
    "# the input is a list of symbol\n",
    "r = Reactome.run(sybs[:10], organism='Homo sapiens')"
   ]
  },
  {
   "cell_type": "code",
   "execution_count": 14,
   "metadata": {
    "scrolled": true
   },
   "outputs": [
    {
     "data": {
      "text/html": [
       "<div>\n",
       "<table border=\"1\" class=\"dataframe\">\n",
       "  <thead>\n",
       "    <tr style=\"text-align: right;\">\n",
       "      <th></th>\n",
       "      <th>name</th>\n",
       "      <th>dbId</th>\n",
       "      <th>found</th>\n",
       "      <th>p-value</th>\n",
       "      <th>fdr</th>\n",
       "      <th>species</th>\n",
       "    </tr>\n",
       "  </thead>\n",
       "  <tbody>\n",
       "    <tr>\n",
       "      <th>0</th>\n",
       "      <td>Acetylation</td>\n",
       "      <td>156582</td>\n",
       "      <td>2</td>\n",
       "      <td>0.000722</td>\n",
       "      <td>0.031066</td>\n",
       "      <td>Homo sapiens</td>\n",
       "    </tr>\n",
       "    <tr>\n",
       "      <th>1</th>\n",
       "      <td>Defective SLC6A2 causes orthostatic intoleranc...</td>\n",
       "      <td>5619109</td>\n",
       "      <td>1</td>\n",
       "      <td>0.007301</td>\n",
       "      <td>0.153318</td>\n",
       "      <td>Homo sapiens</td>\n",
       "    </tr>\n",
       "    <tr>\n",
       "      <th>2</th>\n",
       "      <td>Amino acid transport across the plasma membrane</td>\n",
       "      <td>352230</td>\n",
       "      <td>2</td>\n",
       "      <td>0.012057</td>\n",
       "      <td>0.168804</td>\n",
       "      <td>Homo sapiens</td>\n",
       "    </tr>\n",
       "    <tr>\n",
       "      <th>3</th>\n",
       "      <td>Astrocytic Glutamate-Glutamine Uptake And Meta...</td>\n",
       "      <td>210455</td>\n",
       "      <td>1</td>\n",
       "      <td>0.024136</td>\n",
       "      <td>0.184060</td>\n",
       "      <td>Homo sapiens</td>\n",
       "    </tr>\n",
       "    <tr>\n",
       "      <th>4</th>\n",
       "      <td>Neurotransmitter uptake and metabolism In glia...</td>\n",
       "      <td>112313</td>\n",
       "      <td>1</td>\n",
       "      <td>0.024136</td>\n",
       "      <td>0.184060</td>\n",
       "      <td>Homo sapiens</td>\n",
       "    </tr>\n",
       "  </tbody>\n",
       "</table>\n",
       "</div>"
      ],
      "text/plain": [
       "                                                name     dbId  found  \\\n",
       "0                                        Acetylation   156582      2   \n",
       "1  Defective SLC6A2 causes orthostatic intoleranc...  5619109      1   \n",
       "2    Amino acid transport across the plasma membrane   352230      2   \n",
       "3  Astrocytic Glutamate-Glutamine Uptake And Meta...   210455      1   \n",
       "4  Neurotransmitter uptake and metabolism In glia...   112313      1   \n",
       "\n",
       "    p-value       fdr       species  \n",
       "0  0.000722  0.031066  Homo sapiens  \n",
       "1  0.007301  0.153318  Homo sapiens  \n",
       "2  0.012057  0.168804  Homo sapiens  \n",
       "3  0.024136  0.184060  Homo sapiens  \n",
       "4  0.024136  0.184060  Homo sapiens  "
      ]
     },
     "execution_count": 14,
     "metadata": {},
     "output_type": "execute_result"
    }
   ],
   "source": [
    "# the result\n",
    "r.table.head()"
   ]
  },
  {
   "cell_type": "markdown",
   "metadata": {},
   "source": [
    "## Gene ontology"
   ]
  },
  {
   "cell_type": "code",
   "execution_count": 4,
   "metadata": {},
   "outputs": [],
   "source": [
    "# make the association file using the id_mapping function\n",
    "# detail using will be shown in the utils section\n",
    "r = IdMapping.convert_to_dict(input_id=c.background, source='ENTREZID', target=\"GO\", organism='hsa')"
   ]
  },
  {
   "cell_type": "code",
   "execution_count": 5,
   "metadata": {
    "scrolled": true
   },
   "outputs": [
    {
     "name": "stdout",
     "output_type": "stream",
     "text": [
      "load obo file /Users/yangxu/PyPathway/examples/analysis/go.obo\n",
      "/Users/yangxu/PyPathway/examples/analysis/go.obo: fmt(1.2) rel(2017-04-28) 48,589 GO Terms\n",
      "fisher module not installed.  Falling back on scipy.stats.fisher_exact\n"
     ]
    },
    {
     "name": "stderr",
     "output_type": "stream",
     "text": [
      "Propagating term counts to parents ..\n"
     ]
    },
    {
     "name": "stdout",
     "output_type": "stream",
     "text": [
      "15,253 out of 17,216 population items found in association\n",
      "Calculating uncorrected p-values using fisher_scipy_stats\n",
      " 5,104 out of  5,320 study items found in association\n",
      "Running multitest correction: local bonferroni\n",
      "Running multitest correction: local sidak\n",
      "Running multitest correction: local holm\n",
      "  15,739 GO terms are associated with 5,104 of 5,320 study items\n",
      "  20,709 GO terms are associated with 15,253 of 17,216 population items\n"
     ]
    }
   ],
   "source": [
    "# run go enrichment analysis via goatools \n",
    "# the inputs of study, pop, and assoc is list, list,  dict.\n",
    "# the path is the folder of go obo file\n",
    "# the path should be a valid filesystem path\n",
    "path = os.getcwd() + \"/go.obo\"\n",
    "rg = GO.run([str(x) for x in c.deg_list], [str(x) for x in c.background], r, obo=path)"
   ]
  },
  {
   "cell_type": "code",
   "execution_count": 8,
   "metadata": {
    "scrolled": true
   },
   "outputs": [
    {
     "name": "stdout",
     "output_type": "stream",
     "text": [
      "load obo file /Users/yangxu/goatools/go-basic.obo\n",
      "/Users/yangxu/goatools/go-basic.obo: fmt(1.2) rel(2017-04-28) 48,589 GO Terms\n",
      "fisher module not installed.  Falling back on scipy.stats.fisher_exact\n"
     ]
    },
    {
     "name": "stderr",
     "output_type": "stream",
     "text": [
      "Propagating term counts to parents ..\n",
      "goids not found: {'GO:0022625', 'GO:0022627'}\n"
     ]
    },
    {
     "name": "stdout",
     "output_type": "stream",
     "text": [
      "31,855 out of 33,239 population items found in association\n",
      "Calculating uncorrected p-values using fisher_scipy_stats\n",
      "   269 out of    276 study items found in association\n",
      "Running multitest correction: local bonferroni\n",
      "Running multitest correction: local sidak\n",
      "Running multitest correction: local holm\n",
      "  797 GO terms are associated with 269 of 276 study items\n",
      "  6,122 GO terms are associated with 31,855 of 33,239 population items\n"
     ]
    }
   ],
   "source": [
    "# the file input of study, pop and assoc\n",
    "# this function is the warpper of the Goatools\n",
    "# Github: https://github.com/tanghaibao/goatools\n",
    "# cite: Haibao Tang et al. (2015). GOATOOLS: Tools for Gene Ontology. Zenodo. 10.5281/zenodo.31628.\n",
    "\n",
    "path = \"/Users/yangxu/goatools/\"\n",
    "rg = GO.run(path + 'data/study', path + 'data/population', path + 'data/association',\n",
    "        obo=path + 'go-basic.obo')"
   ]
  },
  {
   "cell_type": "code",
   "execution_count": 8,
   "metadata": {},
   "outputs": [
    {
     "data": {
      "text/html": [
       "<div>\n",
       "<style>\n",
       "    .dataframe thead tr:only-child th {\n",
       "        text-align: right;\n",
       "    }\n",
       "\n",
       "    .dataframe thead th {\n",
       "        text-align: left;\n",
       "    }\n",
       "\n",
       "    .dataframe tbody tr th {\n",
       "        vertical-align: top;\n",
       "    }\n",
       "</style>\n",
       "<table border=\"1\" class=\"dataframe\">\n",
       "  <thead>\n",
       "    <tr style=\"text-align: right;\">\n",
       "      <th></th>\n",
       "      <th>ID</th>\n",
       "      <th>NS</th>\n",
       "      <th>enrichment</th>\n",
       "      <th>name</th>\n",
       "      <th>ratio_in_study</th>\n",
       "      <th>ratio_in_pop</th>\n",
       "      <th>p_uncorrected</th>\n",
       "      <th>depth</th>\n",
       "      <th>study_count</th>\n",
       "      <th>p_bonferroni</th>\n",
       "      <th>p_sidak</th>\n",
       "      <th>p_holm</th>\n",
       "      <th>hit</th>\n",
       "    </tr>\n",
       "  </thead>\n",
       "  <tbody>\n",
       "    <tr>\n",
       "      <th>0</th>\n",
       "      <td>GO:0006464</td>\n",
       "      <td>BP</td>\n",
       "      <td>e</td>\n",
       "      <td>cellular protein modification process</td>\n",
       "      <td>33/276</td>\n",
       "      <td>1727/33239</td>\n",
       "      <td>0.000008</td>\n",
       "      <td>n.a.</td>\n",
       "      <td>33</td>\n",
       "      <td>0.0505</td>\n",
       "      <td>0.0492</td>\n",
       "      <td>0.0505</td>\n",
       "      <td>AT1G13580, AT1G66610, AT1G66860, AT1G66980, AT...</td>\n",
       "    </tr>\n",
       "    <tr>\n",
       "      <th>1</th>\n",
       "      <td>GO:0036211</td>\n",
       "      <td>BP</td>\n",
       "      <td>e</td>\n",
       "      <td>protein modification process</td>\n",
       "      <td>33/276</td>\n",
       "      <td>1727/33239</td>\n",
       "      <td>0.000008</td>\n",
       "      <td>n.a.</td>\n",
       "      <td>33</td>\n",
       "      <td>0.0505</td>\n",
       "      <td>0.0492</td>\n",
       "      <td>0.0505</td>\n",
       "      <td>AT1G13580, AT1G66610, AT1G66860, AT1G66980, AT...</td>\n",
       "    </tr>\n",
       "    <tr>\n",
       "      <th>2</th>\n",
       "      <td>GO:0006468</td>\n",
       "      <td>BP</td>\n",
       "      <td>e</td>\n",
       "      <td>protein phosphorylation</td>\n",
       "      <td>22/276</td>\n",
       "      <td>922/33239</td>\n",
       "      <td>0.000011</td>\n",
       "      <td>n.a.</td>\n",
       "      <td>22</td>\n",
       "      <td>0.0660</td>\n",
       "      <td>0.0643</td>\n",
       "      <td>0.0660</td>\n",
       "      <td>AT1G66980, AT2G29220, AT2G41140, AT2G41970, AT...</td>\n",
       "    </tr>\n",
       "    <tr>\n",
       "      <th>3</th>\n",
       "      <td>GO:0016310</td>\n",
       "      <td>BP</td>\n",
       "      <td>e</td>\n",
       "      <td>phosphorylation</td>\n",
       "      <td>22/276</td>\n",
       "      <td>996/33239</td>\n",
       "      <td>0.000035</td>\n",
       "      <td>n.a.</td>\n",
       "      <td>22</td>\n",
       "      <td>0.2130</td>\n",
       "      <td>0.2070</td>\n",
       "      <td>0.2120</td>\n",
       "      <td>AT1G66980, AT2G29220, AT2G41140, AT2G41970, AT...</td>\n",
       "    </tr>\n",
       "    <tr>\n",
       "      <th>4</th>\n",
       "      <td>GO:0043412</td>\n",
       "      <td>BP</td>\n",
       "      <td>e</td>\n",
       "      <td>macromolecule modification</td>\n",
       "      <td>33/276</td>\n",
       "      <td>1877/33239</td>\n",
       "      <td>0.000057</td>\n",
       "      <td>n.a.</td>\n",
       "      <td>33</td>\n",
       "      <td>0.3510</td>\n",
       "      <td>0.3420</td>\n",
       "      <td>0.3510</td>\n",
       "      <td>AT1G13580, AT1G66610, AT1G66860, AT1G66980, AT...</td>\n",
       "    </tr>\n",
       "  </tbody>\n",
       "</table>\n",
       "</div>"
      ],
      "text/plain": [
       "           ID  NS enrichment                                   name  \\\n",
       "0  GO:0006464  BP          e  cellular protein modification process   \n",
       "1  GO:0036211  BP          e         protein modification process     \n",
       "2  GO:0006468  BP          e         protein phosphorylation          \n",
       "3  GO:0016310  BP          e         phosphorylation                  \n",
       "4  GO:0043412  BP          e         macromolecule modification       \n",
       "\n",
       "  ratio_in_study ratio_in_pop  p_uncorrected depth  study_count  p_bonferroni  \\\n",
       "0         33/276   1727/33239       0.000008  n.a.           33        0.0505   \n",
       "1         33/276   1727/33239       0.000008  n.a.           33        0.0505   \n",
       "2         22/276    922/33239       0.000011  n.a.           22        0.0660   \n",
       "3         22/276    996/33239       0.000035  n.a.           22        0.2130   \n",
       "4         33/276   1877/33239       0.000057  n.a.           33        0.3510   \n",
       "\n",
       "   p_sidak  p_holm                                                hit  \n",
       "0   0.0492  0.0505  AT1G13580, AT1G66610, AT1G66860, AT1G66980, AT...  \n",
       "1   0.0492  0.0505  AT1G13580, AT1G66610, AT1G66860, AT1G66980, AT...  \n",
       "2   0.0643  0.0660  AT1G66980, AT2G29220, AT2G41140, AT2G41970, AT...  \n",
       "3   0.2070  0.2120  AT1G66980, AT2G29220, AT2G41140, AT2G41970, AT...  \n",
       "4   0.3420  0.3510  AT1G13580, AT1G66610, AT1G66860, AT1G66980, AT...  "
      ]
     },
     "execution_count": 8,
     "metadata": {},
     "output_type": "execute_result"
    }
   ],
   "source": [
    "rg.table.head()"
   ]
  },
  {
   "cell_type": "code",
   "execution_count": 9,
   "metadata": {},
   "outputs": [
    {
     "data": {
      "text/html": [
       "<div id=\"box1505269495\" style=\"width: 100%; height: 0px;background-color: #ffffff\">\n",
       "    <script>\n",
       "        var box = $(\"#box1505269495\");\n",
       "        var father = box.parent();\n",
       "        var thirdfather = father.parent().parent().parent();\n",
       "        thirdfather.children(\".prompt\").remove();\n",
       "        father.parent().children(\".prompt\").remove();\n",
       "        father.css(\"max-width\", \"100%\");\n",
       "        box.css(\"margin-left\", \"5px\");\n",
       "        box.css(\"margin-top\", \"3px\");\n",
       "        var target = document.getElementById(\"box1505269495\");\n",
       "        var w = thirdfather.outerWidth();\n",
       "        console.log(w);\n",
       "        target.style.height = w * 0.625 + \"px\";\n",
       "        box.append($(\"<iframe id='inner-iframe' width='\" + (parseInt(w) - 15).toString() + \"'\" +\n",
       "                \" height='\" + w * 0.625 + \"' src=files/caches/cy_plot/index.html \" +\n",
       "                \"frameborder='0'></iframe>\"));\n",
       "        window.onresize = function () {\n",
       "            console.log(\"resize\", thirdfather.outerWidth());\n",
       "            var inner_frame = $(\"#inner-iframe\");\n",
       "            inner_frame.css(\"width\", thirdfather.outerWidth() - 15 + \"px\");\n",
       "            inner_frame.css(\"height\", thirdfather.outerWidth() * 0.625 + \"px\");\n",
       "            father.css(\"height\", thirdfather.outerWidth() * 0.625 + 8 + \"px\");\n",
       "            thirdfather.css(\"height\", thirdfather.outerWidth() * 0.625 + 8 + \"px\");\n",
       "            father.parent().css(\"height\", thirdfather.outerWidth() * 0.625 + 8 + \"px\");\n",
       "        }\n",
       "    </script>\n",
       "</div>"
      ],
      "text/plain": [
       "<IPython.core.display.HTML object>"
      ]
     },
     "execution_count": 9,
     "metadata": {},
     "output_type": "execute_result"
    }
   ],
   "source": [
    "# the interactive graph display the significance of the result by color\n",
    "rg.graph()"
   ]
  },
  {
   "cell_type": "code",
   "execution_count": 7,
   "metadata": {},
   "outputs": [],
   "source": [
    "# test export\n",
    "c = EnrichmentExport.export([rg, rg])"
   ]
  }
 ],
 "metadata": {
  "kernelspec": {
   "display_name": "Python 3",
   "language": "python",
   "name": "python3"
  },
  "language_info": {
   "codemirror_mode": {
    "name": "ipython",
    "version": 3
   },
   "file_extension": ".py",
   "mimetype": "text/x-python",
   "name": "python",
   "nbconvert_exporter": "python",
   "pygments_lexer": "ipython3",
   "version": "3.5.2"
  }
 },
 "nbformat": 4,
 "nbformat_minor": 2
}
