{
 "cells": [
  {
   "cell_type": "code",
   "execution_count": 5,
   "metadata": {
    "collapsed": true
   },
   "outputs": [],
   "source": [
    "# This example shows how to add connection\n",
    "from pypathway import *\n",
    "import random"
   ]
  },
  {
   "cell_type": "code",
   "execution_count": 21,
   "metadata": {
    "collapsed": false
   },
   "outputs": [
    {
     "data": {
      "text/html": [
       "<div id=\"box1477123279596321\" style=\"width: 100%; height: 0px;background-color: #ffffff\">\n",
       "    <script>\n",
       "        var box = $(\"#box1477123279596321\");\n",
       "        var father = box.parent();\n",
       "//        var grandfather = father.parent();\n",
       "        var thirdfather = father.parent().parent().parent();\n",
       "        thirdfather.children(\".prompt\").remove();\n",
       "        father.parent().children(\".prompt\").remove();\n",
       "        father.css(\"max-width\", \"100%\");\n",
       "        box.css(\"margin-left\", \"5px\");\n",
       "//        box.css(\"margin-top\", \"10px\");\n",
       "        var target = document.getElementById(\"box1477123279596321\");\n",
       "//        var w = target.offsetWidth;\n",
       "        var w = thirdfather.outerWidth();\n",
       "        console.log(w);\n",
       "        target.style.height = w * 0.7709335899903753 + \"px\";\n",
       "        box.append($(\"<iframe width='\" + (parseInt(w) - 15).toString() + \"'\" +\n",
       "                \" height='\" + w * 0.7709335899903753 + \"' src='assets/KEGG/kegg_1477123279596321.html' \" +\n",
       "                \"frameborder='0'></iframe>\"))\n",
       "    </script>\n",
       "</div>"
      ],
      "text/plain": [
       "<IPython.core.display.HTML object>"
      ]
     },
     "execution_count": 21,
     "metadata": {},
     "output_type": "execute_result"
    }
   ],
   "source": [
    "path = PublicDatabase.search_kegg(\"t cell\")[0].load()\n",
    "path.draw()"
   ]
  },
  {
   "cell_type": "code",
   "execution_count": 20,
   "metadata": {
    "collapsed": false
   },
   "outputs": [
    {
     "data": {
      "text/html": [
       "<div id=\"box1477123253497334\" style=\"width: 100%; height: 0px;background-color: #ffffff\">\n",
       "    <script>\n",
       "        var box = $(\"#box1477123253497334\");\n",
       "        var father = box.parent();\n",
       "//        var grandfather = father.parent();\n",
       "        var thirdfather = father.parent().parent().parent();\n",
       "        thirdfather.children(\".prompt\").remove();\n",
       "        father.parent().children(\".prompt\").remove();\n",
       "        father.css(\"max-width\", \"100%\");\n",
       "        box.css(\"margin-left\", \"5px\");\n",
       "//        box.css(\"margin-top\", \"10px\");\n",
       "        var target = document.getElementById(\"box1477123253497334\");\n",
       "//        var w = target.offsetWidth;\n",
       "        var w = thirdfather.outerWidth();\n",
       "        console.log(w);\n",
       "        target.style.height = w * 0.7709335899903753 + \"px\";\n",
       "        box.append($(\"<iframe width='\" + (parseInt(w) - 15).toString() + \"'\" +\n",
       "                \" height='\" + w * 0.7709335899903753 + \"' src='assets/KEGG/kegg_1477123253497334.html' \" +\n",
       "                \"frameborder='0'></iframe>\"))\n",
       "    </script>\n",
       "</div>"
      ],
      "text/plain": [
       "<IPython.core.display.HTML object>"
      ]
     },
     "execution_count": 20,
     "metadata": {},
     "output_type": "execute_result"
    }
   ],
   "source": [
    "# for each node, we want certain node to connect to several node while mouse over\n",
    "id_lists = [x.id for x in path.genes]\n",
    "vos = []\n",
    "for x in id_lists:\n",
    "    vos.append(VisualizationOption(mouse_over=\n",
    "                                   [Connection(edges=[Edge(x, line_color=\"orange\", width=3, \n",
    "                                                           target_style=ValueChanged({NP.BG_COLOR: \"red\", NP.SCALE: 2}))\n",
    "                                                      for x in random.sample(id_lists, 5)])]))\n",
    "path.integrate(id_lists, vos)\n",
    "path.draw()"
   ]
  }
 ],
 "metadata": {
  "kernelspec": {
   "display_name": "Python 3",
   "language": "python",
   "name": "python3"
  },
  "language_info": {
   "codemirror_mode": {
    "name": "ipython",
    "version": 3
   },
   "file_extension": ".py",
   "mimetype": "text/x-python",
   "name": "python",
   "nbconvert_exporter": "python",
   "pygments_lexer": "ipython3",
   "version": "3.5.1"
  }
 },
 "nbformat": 4,
 "nbformat_minor": 1
}
