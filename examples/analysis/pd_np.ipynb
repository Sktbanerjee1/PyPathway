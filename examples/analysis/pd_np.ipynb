{
 "cells": [
  {
   "cell_type": "code",
   "execution_count": 6,
   "metadata": {
    "collapsed": true
   },
   "outputs": [],
   "source": [
    "import matplotlib.pyplot as plt\n",
    "import numpy as np\n",
    "import pandas as pd\n",
    "import seaborn as sns"
   ]
  },
  {
   "cell_type": "code",
   "execution_count": 2,
   "metadata": {
    "collapsed": true
   },
   "outputs": [],
   "source": [
    "df = pd.read_excel(\"/Users/sheep/Downloads/GSE4107_series_matrix2.xlsx\")"
   ]
  },
  {
   "cell_type": "code",
   "execution_count": 40,
   "metadata": {
    "collapsed": false
   },
   "outputs": [
    {
     "data": {
      "text/plain": [
       "Index(['!Sample_title', '2965M patient's mucosa', '3216M patient's mucosa',\n",
       "       '3335M patientüs mucosa', '3416M patient's mucosa',\n",
       "       '3578M patientüs mucosa', '3798M patientüs mucosa',\n",
       "       '3838M patientüs mucosa', '3894M patientüs mucosa',\n",
       "       '3950M patientüs mucosa', '4145M patientüs mucosa',\n",
       "       '4160M patientüs mucosa', '3446M patientüs mucosa',\n",
       "       'NM14 healthy control', 'NM16 healthy control', 'NM18 healthy control',\n",
       "       'NM19 healthy control', 'NM20 healthy control', 'NM22 healthy control',\n",
       "       'NM24 healthy control', 'NM3 healthy control', 'NM4 healthy control',\n",
       "       'NM9 healthy control'],\n",
       "      dtype='object')"
      ]
     },
     "execution_count": 40,
     "metadata": {},
     "output_type": "execute_result"
    }
   ],
   "source": [
    "df.columns"
   ]
  },
  {
   "cell_type": "code",
   "execution_count": 49,
   "metadata": {
    "collapsed": false
   },
   "outputs": [
    {
     "name": "stdout",
     "output_type": "stream",
     "text": [
      "patient patient patient patient patient patient patient patient patient patient patient patient control control control control control control control control control control\n"
     ]
    }
   ],
   "source": [
    "print(\" \".join([\"patient\" if \"patient\" in x else 'control' for x in list(df.columns)[1:]]))"
   ]
  },
  {
   "cell_type": "code",
   "execution_count": 5,
   "metadata": {
    "collapsed": true
   },
   "outputs": [],
   "source": [
    "# row and columns stats\n",
    "%matplotlib inline"
   ]
  },
  {
   "cell_type": "code",
   "execution_count": 21,
   "metadata": {
    "collapsed": false
   },
   "outputs": [],
   "source": [
    "df2 = df.iloc[:, 1:]"
   ]
  },
  {
   "cell_type": "code",
   "execution_count": 25,
   "metadata": {
    "collapsed": false
   },
   "outputs": [],
   "source": [
    "df2 = df2.set_index(df.iloc[:, 0])"
   ]
  },
  {
   "cell_type": "code",
   "execution_count": 28,
   "metadata": {
    "collapsed": false
   },
   "outputs": [
    {
     "data": {
      "text/html": [
       "<div>\n",
       "<table border=\"1\" class=\"dataframe\">\n",
       "  <thead>\n",
       "    <tr style=\"text-align: right;\">\n",
       "      <th></th>\n",
       "      <th>2965M patient's mucosa</th>\n",
       "      <th>3216M patient's mucosa</th>\n",
       "      <th>3335M patientüs mucosa</th>\n",
       "      <th>3416M patient's mucosa</th>\n",
       "      <th>3578M patientüs mucosa</th>\n",
       "      <th>3798M patientüs mucosa</th>\n",
       "      <th>3838M patientüs mucosa</th>\n",
       "      <th>3894M patientüs mucosa</th>\n",
       "      <th>3950M patientüs mucosa</th>\n",
       "      <th>4145M patientüs mucosa</th>\n",
       "      <th>...</th>\n",
       "      <th>NM14 healthy control</th>\n",
       "      <th>NM16 healthy control</th>\n",
       "      <th>NM18 healthy control</th>\n",
       "      <th>NM19 healthy control</th>\n",
       "      <th>NM20 healthy control</th>\n",
       "      <th>NM22 healthy control</th>\n",
       "      <th>NM24 healthy control</th>\n",
       "      <th>NM3 healthy control</th>\n",
       "      <th>NM4 healthy control</th>\n",
       "      <th>NM9 healthy control</th>\n",
       "    </tr>\n",
       "    <tr>\n",
       "      <th>!Sample_title</th>\n",
       "      <th></th>\n",
       "      <th></th>\n",
       "      <th></th>\n",
       "      <th></th>\n",
       "      <th></th>\n",
       "      <th></th>\n",
       "      <th></th>\n",
       "      <th></th>\n",
       "      <th></th>\n",
       "      <th></th>\n",
       "      <th></th>\n",
       "      <th></th>\n",
       "      <th></th>\n",
       "      <th></th>\n",
       "      <th></th>\n",
       "      <th></th>\n",
       "      <th></th>\n",
       "      <th></th>\n",
       "      <th></th>\n",
       "      <th></th>\n",
       "      <th></th>\n",
       "    </tr>\n",
       "  </thead>\n",
       "  <tbody>\n",
       "    <tr>\n",
       "      <th>1007_s_at</th>\n",
       "      <td>10.031357</td>\n",
       "      <td>11.959459</td>\n",
       "      <td>12.382840</td>\n",
       "      <td>11.206526</td>\n",
       "      <td>11.886497</td>\n",
       "      <td>11.259802</td>\n",
       "      <td>10.360628</td>\n",
       "      <td>10.956013</td>\n",
       "      <td>11.981389</td>\n",
       "      <td>12.314640</td>\n",
       "      <td>...</td>\n",
       "      <td>12.409232</td>\n",
       "      <td>12.634244</td>\n",
       "      <td>11.965279</td>\n",
       "      <td>11.865501</td>\n",
       "      <td>12.228338</td>\n",
       "      <td>12.577146</td>\n",
       "      <td>12.246859</td>\n",
       "      <td>12.163901</td>\n",
       "      <td>12.248906</td>\n",
       "      <td>11.672558</td>\n",
       "    </tr>\n",
       "    <tr>\n",
       "      <th>1053_at</th>\n",
       "      <td>9.557655</td>\n",
       "      <td>8.686851</td>\n",
       "      <td>7.759555</td>\n",
       "      <td>8.354911</td>\n",
       "      <td>8.277055</td>\n",
       "      <td>8.759888</td>\n",
       "      <td>8.028459</td>\n",
       "      <td>9.246978</td>\n",
       "      <td>9.160124</td>\n",
       "      <td>9.379378</td>\n",
       "      <td>...</td>\n",
       "      <td>9.000282</td>\n",
       "      <td>8.172428</td>\n",
       "      <td>8.067703</td>\n",
       "      <td>9.378295</td>\n",
       "      <td>8.173927</td>\n",
       "      <td>8.578184</td>\n",
       "      <td>7.805421</td>\n",
       "      <td>8.873444</td>\n",
       "      <td>7.653920</td>\n",
       "      <td>7.812498</td>\n",
       "    </tr>\n",
       "    <tr>\n",
       "      <th>117_at</th>\n",
       "      <td>7.974988</td>\n",
       "      <td>7.765535</td>\n",
       "      <td>7.783326</td>\n",
       "      <td>7.965784</td>\n",
       "      <td>7.543805</td>\n",
       "      <td>8.302867</td>\n",
       "      <td>7.486232</td>\n",
       "      <td>6.033423</td>\n",
       "      <td>8.327328</td>\n",
       "      <td>7.712871</td>\n",
       "      <td>...</td>\n",
       "      <td>6.240314</td>\n",
       "      <td>7.602884</td>\n",
       "      <td>7.735387</td>\n",
       "      <td>6.531381</td>\n",
       "      <td>7.799605</td>\n",
       "      <td>6.875289</td>\n",
       "      <td>7.089583</td>\n",
       "      <td>6.599913</td>\n",
       "      <td>7.381110</td>\n",
       "      <td>6.944858</td>\n",
       "    </tr>\n",
       "    <tr>\n",
       "      <th>121_at</th>\n",
       "      <td>9.445429</td>\n",
       "      <td>10.088656</td>\n",
       "      <td>9.791000</td>\n",
       "      <td>10.222553</td>\n",
       "      <td>9.644938</td>\n",
       "      <td>9.625161</td>\n",
       "      <td>9.275193</td>\n",
       "      <td>9.707877</td>\n",
       "      <td>9.957392</td>\n",
       "      <td>9.758723</td>\n",
       "      <td>...</td>\n",
       "      <td>10.188465</td>\n",
       "      <td>10.052840</td>\n",
       "      <td>9.539934</td>\n",
       "      <td>9.739612</td>\n",
       "      <td>9.514122</td>\n",
       "      <td>10.341408</td>\n",
       "      <td>9.843764</td>\n",
       "      <td>9.803970</td>\n",
       "      <td>10.189948</td>\n",
       "      <td>10.138912</td>\n",
       "    </tr>\n",
       "    <tr>\n",
       "      <th>1255_g_at</th>\n",
       "      <td>3.378512</td>\n",
       "      <td>4.137504</td>\n",
       "      <td>3.392317</td>\n",
       "      <td>4.270529</td>\n",
       "      <td>3.655352</td>\n",
       "      <td>5.563768</td>\n",
       "      <td>4.760221</td>\n",
       "      <td>5.205549</td>\n",
       "      <td>5.870365</td>\n",
       "      <td>6.329124</td>\n",
       "      <td>...</td>\n",
       "      <td>6.008989</td>\n",
       "      <td>7.223036</td>\n",
       "      <td>5.157852</td>\n",
       "      <td>2.722466</td>\n",
       "      <td>4.733354</td>\n",
       "      <td>4.008989</td>\n",
       "      <td>6.731998</td>\n",
       "      <td>5.711495</td>\n",
       "      <td>5.478972</td>\n",
       "      <td>4.590961</td>\n",
       "    </tr>\n",
       "  </tbody>\n",
       "</table>\n",
       "<p>5 rows × 22 columns</p>\n",
       "</div>"
      ],
      "text/plain": [
       "               2965M patient's mucosa  3216M patient's mucosa  \\\n",
       "!Sample_title                                                   \n",
       "1007_s_at                   10.031357               11.959459   \n",
       "1053_at                      9.557655                8.686851   \n",
       "117_at                       7.974988                7.765535   \n",
       "121_at                       9.445429               10.088656   \n",
       "1255_g_at                    3.378512                4.137504   \n",
       "\n",
       "               3335M patientüs mucosa  3416M patient's mucosa  \\\n",
       "!Sample_title                                                   \n",
       "1007_s_at                   12.382840               11.206526   \n",
       "1053_at                      7.759555                8.354911   \n",
       "117_at                       7.783326                7.965784   \n",
       "121_at                       9.791000               10.222553   \n",
       "1255_g_at                    3.392317                4.270529   \n",
       "\n",
       "               3578M patientüs mucosa  3798M patientüs mucosa  \\\n",
       "!Sample_title                                                   \n",
       "1007_s_at                   11.886497               11.259802   \n",
       "1053_at                      8.277055                8.759888   \n",
       "117_at                       7.543805                8.302867   \n",
       "121_at                       9.644938                9.625161   \n",
       "1255_g_at                    3.655352                5.563768   \n",
       "\n",
       "               3838M patientüs mucosa  3894M patientüs mucosa  \\\n",
       "!Sample_title                                                   \n",
       "1007_s_at                   10.360628               10.956013   \n",
       "1053_at                      8.028459                9.246978   \n",
       "117_at                       7.486232                6.033423   \n",
       "121_at                       9.275193                9.707877   \n",
       "1255_g_at                    4.760221                5.205549   \n",
       "\n",
       "               3950M patientüs mucosa  4145M patientüs mucosa  \\\n",
       "!Sample_title                                                   \n",
       "1007_s_at                   11.981389               12.314640   \n",
       "1053_at                      9.160124                9.379378   \n",
       "117_at                       8.327328                7.712871   \n",
       "121_at                       9.957392                9.758723   \n",
       "1255_g_at                    5.870365                6.329124   \n",
       "\n",
       "                      ...           NM14 healthy control  \\\n",
       "!Sample_title         ...                                  \n",
       "1007_s_at             ...                      12.409232   \n",
       "1053_at               ...                       9.000282   \n",
       "117_at                ...                       6.240314   \n",
       "121_at                ...                      10.188465   \n",
       "1255_g_at             ...                       6.008989   \n",
       "\n",
       "               NM16 healthy control  NM18 healthy control  \\\n",
       "!Sample_title                                               \n",
       "1007_s_at                 12.634244             11.965279   \n",
       "1053_at                    8.172428              8.067703   \n",
       "117_at                     7.602884              7.735387   \n",
       "121_at                    10.052840              9.539934   \n",
       "1255_g_at                  7.223036              5.157852   \n",
       "\n",
       "               NM19 healthy control  NM20 healthy control  \\\n",
       "!Sample_title                                               \n",
       "1007_s_at                 11.865501             12.228338   \n",
       "1053_at                    9.378295              8.173927   \n",
       "117_at                     6.531381              7.799605   \n",
       "121_at                     9.739612              9.514122   \n",
       "1255_g_at                  2.722466              4.733354   \n",
       "\n",
       "               NM22 healthy control  NM24 healthy control  \\\n",
       "!Sample_title                                               \n",
       "1007_s_at                 12.577146             12.246859   \n",
       "1053_at                    8.578184              7.805421   \n",
       "117_at                     6.875289              7.089583   \n",
       "121_at                    10.341408              9.843764   \n",
       "1255_g_at                  4.008989              6.731998   \n",
       "\n",
       "               NM3 healthy control  NM4 healthy control  NM9 healthy control  \n",
       "!Sample_title                                                                 \n",
       "1007_s_at                12.163901            12.248906            11.672558  \n",
       "1053_at                   8.873444             7.653920             7.812498  \n",
       "117_at                    6.599913             7.381110             6.944858  \n",
       "121_at                    9.803970            10.189948            10.138912  \n",
       "1255_g_at                 5.711495             5.478972             4.590961  \n",
       "\n",
       "[5 rows x 22 columns]"
      ]
     },
     "execution_count": 28,
     "metadata": {},
     "output_type": "execute_result"
    }
   ],
   "source": [
    "df2.head()"
   ]
  },
  {
   "cell_type": "code",
   "execution_count": 27,
   "metadata": {
    "collapsed": true
   },
   "outputs": [],
   "source": [
    "# apply log2\n",
    "df2 = df2.apply(np.log2)"
   ]
  },
  {
   "cell_type": "code",
   "execution_count": 32,
   "metadata": {
    "collapsed": false
   },
   "outputs": [
    {
     "ename": "ValueError",
     "evalue": "cannot convert float NaN to integer",
     "output_type": "error",
     "traceback": [
      "\u001b[0;31m----------------------------------\u001b[0m",
      "\u001b[0;31mValueError\u001b[0mTraceback (most recent call last)",
      "\u001b[0;32m<ipython-input-32-1e57887ef537>\u001b[0m in \u001b[0;36m<module>\u001b[0;34m()\u001b[0m\n\u001b[0;32m----> 1\u001b[0;31m \u001b[0msns\u001b[0m\u001b[0;34m.\u001b[0m\u001b[0mdistplot\u001b[0m\u001b[0;34m(\u001b[0m\u001b[0mdf2\u001b[0m\u001b[0;34m)\u001b[0m\u001b[0;34m\u001b[0m\u001b[0m\n\u001b[0m",
      "\u001b[0;32m/usr/local/lib/python3.5/site-packages/seaborn/distributions.py\u001b[0m in \u001b[0;36mdistplot\u001b[0;34m(a, bins, hist, kde, rug, fit, hist_kws, kde_kws, rug_kws, fit_kws, color, vertical, norm_hist, axlabel, label, ax)\u001b[0m\n\u001b[1;32m    207\u001b[0m     \u001b[0;32mif\u001b[0m \u001b[0mhist\u001b[0m\u001b[0;34m:\u001b[0m\u001b[0;34m\u001b[0m\u001b[0m\n\u001b[1;32m    208\u001b[0m         \u001b[0;32mif\u001b[0m \u001b[0mbins\u001b[0m \u001b[0;32mis\u001b[0m \u001b[0;32mNone\u001b[0m\u001b[0;34m:\u001b[0m\u001b[0;34m\u001b[0m\u001b[0m\n\u001b[0;32m--> 209\u001b[0;31m             \u001b[0mbins\u001b[0m \u001b[0;34m=\u001b[0m \u001b[0mmin\u001b[0m\u001b[0;34m(\u001b[0m\u001b[0m_freedman_diaconis_bins\u001b[0m\u001b[0;34m(\u001b[0m\u001b[0ma\u001b[0m\u001b[0;34m)\u001b[0m\u001b[0;34m,\u001b[0m \u001b[0;36m50\u001b[0m\u001b[0;34m)\u001b[0m\u001b[0;34m\u001b[0m\u001b[0m\n\u001b[0m\u001b[1;32m    210\u001b[0m         \u001b[0mhist_kws\u001b[0m\u001b[0;34m.\u001b[0m\u001b[0msetdefault\u001b[0m\u001b[0;34m(\u001b[0m\u001b[0;34m\"alpha\"\u001b[0m\u001b[0;34m,\u001b[0m \u001b[0;36m0.4\u001b[0m\u001b[0;34m)\u001b[0m\u001b[0;34m\u001b[0m\u001b[0m\n\u001b[1;32m    211\u001b[0m         \u001b[0mhist_kws\u001b[0m\u001b[0;34m.\u001b[0m\u001b[0msetdefault\u001b[0m\u001b[0;34m(\u001b[0m\u001b[0;34m\"normed\"\u001b[0m\u001b[0;34m,\u001b[0m \u001b[0mnorm_hist\u001b[0m\u001b[0;34m)\u001b[0m\u001b[0;34m\u001b[0m\u001b[0m\n",
      "\u001b[0;32m/usr/local/lib/python3.5/site-packages/seaborn/distributions.py\u001b[0m in \u001b[0;36m_freedman_diaconis_bins\u001b[0;34m(a)\u001b[0m\n\u001b[1;32m     33\u001b[0m         \u001b[0;32mreturn\u001b[0m \u001b[0mint\u001b[0m\u001b[0;34m(\u001b[0m\u001b[0mnp\u001b[0m\u001b[0;34m.\u001b[0m\u001b[0msqrt\u001b[0m\u001b[0;34m(\u001b[0m\u001b[0ma\u001b[0m\u001b[0;34m.\u001b[0m\u001b[0msize\u001b[0m\u001b[0;34m)\u001b[0m\u001b[0;34m)\u001b[0m\u001b[0;34m\u001b[0m\u001b[0m\n\u001b[1;32m     34\u001b[0m     \u001b[0;32melse\u001b[0m\u001b[0;34m:\u001b[0m\u001b[0;34m\u001b[0m\u001b[0m\n\u001b[0;32m---> 35\u001b[0;31m         \u001b[0;32mreturn\u001b[0m \u001b[0mint\u001b[0m\u001b[0;34m(\u001b[0m\u001b[0mnp\u001b[0m\u001b[0;34m.\u001b[0m\u001b[0mceil\u001b[0m\u001b[0;34m(\u001b[0m\u001b[0;34m(\u001b[0m\u001b[0ma\u001b[0m\u001b[0;34m.\u001b[0m\u001b[0mmax\u001b[0m\u001b[0;34m(\u001b[0m\u001b[0;34m)\u001b[0m \u001b[0;34m-\u001b[0m \u001b[0ma\u001b[0m\u001b[0;34m.\u001b[0m\u001b[0mmin\u001b[0m\u001b[0;34m(\u001b[0m\u001b[0;34m)\u001b[0m\u001b[0;34m)\u001b[0m \u001b[0;34m/\u001b[0m \u001b[0mh\u001b[0m\u001b[0;34m)\u001b[0m\u001b[0;34m)\u001b[0m\u001b[0;34m\u001b[0m\u001b[0m\n\u001b[0m\u001b[1;32m     36\u001b[0m \u001b[0;34m\u001b[0m\u001b[0m\n\u001b[1;32m     37\u001b[0m \u001b[0;34m\u001b[0m\u001b[0m\n",
      "\u001b[0;31mValueError\u001b[0m: cannot convert float NaN to integer"
     ]
    },
    {
     "data": {
      "image/png": "[encoded data removed]",
      "text/plain": [
       "<matplotlib.figure.Figure at 0x10967f4e0>"
      ]
     },
     "metadata": {},
     "output_type": "display_data"
    }
   ],
   "source": [
    "sns.distplot(df2)"
   ]
  }
 ],
 "metadata": {
  "kernelspec": {
   "display_name": "Python 3",
   "language": "python",
   "name": "python3"
  },
  "language_info": {
   "codemirror_mode": {
    "name": "ipython",
    "version": 3
   },
   "file_extension": ".py",
   "mimetype": "text/x-python",
   "name": "python",
   "nbconvert_exporter": "python",
   "pygments_lexer": "ipython3",
   "version": "3.5.2"
  }
 },
 "nbformat": 4,
 "nbformat_minor": 1
}
