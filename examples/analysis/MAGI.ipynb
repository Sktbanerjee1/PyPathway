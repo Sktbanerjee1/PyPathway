{
 "cells": [
  {
   "cell_type": "markdown",
   "metadata": {},
   "source": [
    "## MAGI\n",
    "The interface, the multithreading and the visualizer\n",
    "\n",
    "Here we demonstrate the usage of magi, for the information of parameters and file inputs, please refer to [docs](http://ooxx.cloud/PyPathway/modelling/)"
   ]
  },
  {
   "cell_type": "code",
   "execution_count": 1,
   "metadata": {},
   "outputs": [],
   "source": [
    "from pypathway import MAGI, MAGIExport"
   ]
  },
  {
   "cell_type": "code",
   "execution_count": 5,
   "metadata": {},
   "outputs": [
    {
     "data": {
      "text/plain": [
       "'/Users/yangxu/anaconda3/lib/python3.5/site-packages/pypathway-0.4.0-py3.5-macosx-10.5-x86_64.egg/pypathway/__init__.py'"
      ]
     },
     "execution_count": 5,
     "metadata": {},
     "output_type": "execute_result"
    }
   ],
   "source": [
    "import pypathway as pt\n",
    "pt.__file__"
   ]
  },
  {
   "cell_type": "code",
   "execution_count": 2,
   "metadata": {},
   "outputs": [],
   "source": [
    "# the path to the official example folder, this file should exist after the cloning of the repo\n",
    "path = \"../../tests/assets/smaller_magi/\""
   ]
  },
  {
   "cell_type": "code",
   "execution_count": 3,
   "metadata": {
    "scrolled": false
   },
   "outputs": [],
   "source": [
    "MAGI.select_pathway(\n",
    "    path + 'StringNew_HPRD.txt', \n",
    "    path + 'ID_2_Autism_4_Severe_Missense.Clean_WithNew.txt', \n",
    "    path + 'GeneCoExpresion_ID.txt', path + 'adj1.csv.Tab.BinaryFormat', \n",
    "    path + 'New_ESP_Sereve.txt',\n",
    "    path + 'Gene_Name_Length.txt',\n",
    "    rand_seed = 10\n",
    ")"
   ]
  },
  {
   "cell_type": "code",
   "execution_count": 6,
   "metadata": {
    "scrolled": true
   },
   "outputs": [],
   "source": [
    "r = MAGI.cluster(\n",
    "    path + 'StringNew_HPRD.txt', path + 'GeneCoExpresion_ID.txt', \n",
    "    path + 'adj1.csv.Tab.BinaryFormat', 10, 5, 10, 0.3\n",
    ")"
   ]
  },
  {
   "cell_type": "code",
   "execution_count": 12,
   "metadata": {},
   "outputs": [],
   "source": [
    "r[0].genes = {\"PSMA7\": \"1\", \"CUL1\": \"2\", \"CTNNB1\": \"3\", \"SMAD2\": 4, \"YY1\": 5, \"HSPA4\": 6, \"ZMYND11\": 7, \"MECP2\": 8,\n",
    "             \"RUVBL1\": 9, \"STAG1\": 11}"
   ]
  },
  {
   "cell_type": "code",
   "execution_count": 13,
   "metadata": {},
   "outputs": [
    {
     "data": {
      "text/plain": [
       "dict_keys(['STAG1', 'MECP2', 'ZMYND11', 'CTNNB1', 'PSMA7', 'RUVBL1', 'YY1', 'SMAD2', 'HSPA4', 'CUL1'])"
      ]
     },
     "execution_count": 13,
     "metadata": {},
     "output_type": "execute_result"
    }
   ],
   "source": [
    "r[0].genes.keys()"
   ]
  },
  {
   "cell_type": "code",
   "execution_count": 8,
   "metadata": {},
   "outputs": [],
   "source": [
    "# or export\n",
    "MAGIExport.export(r)"
   ]
  }
 ],
 "metadata": {
  "kernelspec": {
   "display_name": "Python 3",
   "language": "python",
   "name": "python3"
  },
  "language_info": {
   "codemirror_mode": {
    "name": "ipython",
    "version": 3
   },
   "file_extension": ".py",
   "mimetype": "text/x-python",
   "name": "python",
   "nbconvert_exporter": "python",
   "pygments_lexer": "ipython3",
   "version": "3.5.0"
  }
 },
 "nbformat": 4,
 "nbformat_minor": 1
}
