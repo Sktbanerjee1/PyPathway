{
 "cells": [
  {
   "cell_type": "markdown",
   "metadata": {},
   "source": [
    "# GSEA\n",
    "Implemented via GSEApy\n",
    "> Github: https://github.com/BioNinja/GSEApy"
   ]
  },
  {
   "cell_type": "code",
   "execution_count": 1,
   "metadata": {
    "collapsed": true
   },
   "outputs": [],
   "source": [
    "from pypathway import GSEA\n",
    "import pandas as pd"
   ]
  },
  {
   "cell_type": "code",
   "execution_count": 2,
   "metadata": {
    "collapsed": true
   },
   "outputs": [],
   "source": [
    "# load the cls file\n",
    "phenoA, phenoB, class_vector = GSEA.parse_class_vector(\"data/GSE4107.cls\")"
   ]
  },
  {
   "cell_type": "code",
   "execution_count": 3,
   "metadata": {
    "collapsed": true,
    "scrolled": true
   },
   "outputs": [],
   "source": [
    "# load the table\n",
    "gene_exp = pd.read_excel(\"data/GSE4107.xlsx\")"
   ]
  },
  {
   "cell_type": "code",
   "execution_count": 4,
   "metadata": {
    "collapsed": true
   },
   "outputs": [],
   "source": [
    "r = GSEA.run(data=gene_exp.iloc[:1000], gmt=\"KEGG_2016\", cls=class_vector)"
   ]
  },
  {
   "cell_type": "code",
   "execution_count": 8,
   "metadata": {},
   "outputs": [
    {
     "data": {
      "text/html": [
       "<div>\n",
       "<style>\n",
       "    .dataframe thead tr:only-child th {\n",
       "        text-align: right;\n",
       "    }\n",
       "\n",
       "    .dataframe thead th {\n",
       "        text-align: left;\n",
       "    }\n",
       "\n",
       "    .dataframe tbody tr th {\n",
       "        vertical-align: top;\n",
       "    }\n",
       "</style>\n",
       "<table border=\"1\" class=\"dataframe\">\n",
       "  <thead>\n",
       "    <tr style=\"text-align: right;\">\n",
       "      <th></th>\n",
       "      <th>es</th>\n",
       "      <th>nes</th>\n",
       "      <th>pval</th>\n",
       "      <th>fdr</th>\n",
       "      <th>gene_set_size</th>\n",
       "      <th>matched_size</th>\n",
       "      <th>genes</th>\n",
       "    </tr>\n",
       "    <tr>\n",
       "      <th>Term</th>\n",
       "      <th></th>\n",
       "      <th></th>\n",
       "      <th></th>\n",
       "      <th></th>\n",
       "      <th></th>\n",
       "      <th></th>\n",
       "      <th></th>\n",
       "    </tr>\n",
       "  </thead>\n",
       "  <tbody>\n",
       "    <tr>\n",
       "      <th>Fatty acid degradation_Homo sapiens_hsa00071</th>\n",
       "      <td>-0.659732</td>\n",
       "      <td>-1.882686</td>\n",
       "      <td>0.000000</td>\n",
       "      <td>0.004651</td>\n",
       "      <td>44</td>\n",
       "      <td>30</td>\n",
       "      <td>ADH1B,ACSL6,ACSBG1,ACADL,ADH5,ACSL4,ALDH1B1,AD...</td>\n",
       "    </tr>\n",
       "    <tr>\n",
       "      <th>Valine, leucine and isoleucine degradation_Homo sapiens_hsa00280</th>\n",
       "      <td>-0.836409</td>\n",
       "      <td>-1.829041</td>\n",
       "      <td>0.000000</td>\n",
       "      <td>0.004910</td>\n",
       "      <td>48</td>\n",
       "      <td>18</td>\n",
       "      <td>ALDH1B1,AGXT2,ACAT1,ACSF3,ALDH7A1,ACAA2,ALDH9A...</td>\n",
       "    </tr>\n",
       "    <tr>\n",
       "      <th>Glycerolipid metabolism_Homo sapiens_hsa00561</th>\n",
       "      <td>-0.674209</td>\n",
       "      <td>-1.840591</td>\n",
       "      <td>0.000000</td>\n",
       "      <td>0.005039</td>\n",
       "      <td>59</td>\n",
       "      <td>16</td>\n",
       "      <td>AKR1B1,AGPAT4,AGPAT1,ALDH1B1,AGPAT6,AGK,AKR1A1...</td>\n",
       "    </tr>\n",
       "    <tr>\n",
       "      <th>Glycolysis / Gluconeogenesis_Homo sapiens_hsa00010</th>\n",
       "      <td>-0.541580</td>\n",
       "      <td>-1.672927</td>\n",
       "      <td>0.014141</td>\n",
       "      <td>0.028295</td>\n",
       "      <td>67</td>\n",
       "      <td>23</td>\n",
       "      <td>ADH1B,ALDOC,ADPGK,ADH5,ACSS1,ALDH1B1,ADH7,ALDH...</td>\n",
       "    </tr>\n",
       "    <tr>\n",
       "      <th>Peroxisome_Homo sapiens_hsa04146</th>\n",
       "      <td>-0.672436</td>\n",
       "      <td>-1.649882</td>\n",
       "      <td>0.009940</td>\n",
       "      <td>0.030388</td>\n",
       "      <td>83</td>\n",
       "      <td>17</td>\n",
       "      <td>ACSL6,ABCD1,ACSL4,ABCD2,ACSL1,AGXT,ACOX2,ACSL3...</td>\n",
       "    </tr>\n",
       "  </tbody>\n",
       "</table>\n",
       "</div>"
      ],
      "text/plain": [
       "                                                          es       nes  \\\n",
       "Term                                                                     \n",
       "Fatty acid degradation_Homo sapiens_hsa00071       -0.659732 -1.882686   \n",
       "Valine, leucine and isoleucine degradation_Homo... -0.836409 -1.829041   \n",
       "Glycerolipid metabolism_Homo sapiens_hsa00561      -0.674209 -1.840591   \n",
       "Glycolysis / Gluconeogenesis_Homo sapiens_hsa00010 -0.541580 -1.672927   \n",
       "Peroxisome_Homo sapiens_hsa04146                   -0.672436 -1.649882   \n",
       "\n",
       "                                                        pval       fdr  \\\n",
       "Term                                                                     \n",
       "Fatty acid degradation_Homo sapiens_hsa00071        0.000000  0.004651   \n",
       "Valine, leucine and isoleucine degradation_Homo...  0.000000  0.004910   \n",
       "Glycerolipid metabolism_Homo sapiens_hsa00561       0.000000  0.005039   \n",
       "Glycolysis / Gluconeogenesis_Homo sapiens_hsa00010  0.014141  0.028295   \n",
       "Peroxisome_Homo sapiens_hsa04146                    0.009940  0.030388   \n",
       "\n",
       "                                                    gene_set_size  \\\n",
       "Term                                                                \n",
       "Fatty acid degradation_Homo sapiens_hsa00071                   44   \n",
       "Valine, leucine and isoleucine degradation_Homo...             48   \n",
       "Glycerolipid metabolism_Homo sapiens_hsa00561                  59   \n",
       "Glycolysis / Gluconeogenesis_Homo sapiens_hsa00010             67   \n",
       "Peroxisome_Homo sapiens_hsa04146                               83   \n",
       "\n",
       "                                                    matched_size  \\\n",
       "Term                                                               \n",
       "Fatty acid degradation_Homo sapiens_hsa00071                  30   \n",
       "Valine, leucine and isoleucine degradation_Homo...            18   \n",
       "Glycerolipid metabolism_Homo sapiens_hsa00561                 16   \n",
       "Glycolysis / Gluconeogenesis_Homo sapiens_hsa00010            23   \n",
       "Peroxisome_Homo sapiens_hsa04146                              17   \n",
       "\n",
       "                                                                                                genes  \n",
       "Term                                                                                                   \n",
       "Fatty acid degradation_Homo sapiens_hsa00071        ADH1B,ACSL6,ACSBG1,ACADL,ADH5,ACSL4,ALDH1B1,AD...  \n",
       "Valine, leucine and isoleucine degradation_Homo...  ALDH1B1,AGXT2,ACAT1,ACSF3,ALDH7A1,ACAA2,ALDH9A...  \n",
       "Glycerolipid metabolism_Homo sapiens_hsa00561       AKR1B1,AGPAT4,AGPAT1,ALDH1B1,AGPAT6,AGK,AKR1A1...  \n",
       "Glycolysis / Gluconeogenesis_Homo sapiens_hsa00010  ADH1B,ALDOC,ADPGK,ADH5,ACSS1,ALDH1B1,ADH7,ALDH...  \n",
       "Peroxisome_Homo sapiens_hsa04146                    ACSL6,ABCD1,ACSL4,ABCD2,ACSL1,AGXT,ACOX2,ACSL3...  "
      ]
     },
     "execution_count": 8,
     "metadata": {},
     "output_type": "execute_result"
    }
   ],
   "source": [
    "r.table.head()"
   ]
  },
  {
   "cell_type": "code",
   "execution_count": 9,
   "metadata": {},
   "outputs": [
    {
     "data": {
      "text/html": [
       "<div id=\"box1511166983691169\" style=\"width: 100%; height: 0px;background-color: #ffffff\">\n",
       "    <script>\n",
       "        var box = $(\"#box1511166983691169\");\n",
       "        var father = box.parent();\n",
       "        var thirdfather = father.parent().parent().parent();\n",
       "        thirdfather.children(\".prompt\").remove();\n",
       "        father.parent().children(\".prompt\").remove();\n",
       "        father.css(\"max-width\", \"100%\");\n",
       "        box.css(\"margin-left\", \"5px\");\n",
       "        var target = document.getElementById(\"box1511166983691169\");\n",
       "        var w = thirdfather.outerWidth();\n",
       "        console.log(w);\n",
       "        target.style.height = w * 0.6 + \"px\";\n",
       "        box.append($(\"<iframe width='\" + (parseInt(w) - 15).toString() + \"'\" +\n",
       "                \" height='\" + (w * 0.6 - 5) + \"' src='assets/plot/plot_1511166983691169.html' \" +\n",
       "                \"frameborder='0'></iframe>\"))\n",
       "    </script>\n",
       "</div>"
      ],
      "text/plain": [
       "<IPython.core.display.HTML object>"
      ]
     },
     "execution_count": 9,
     "metadata": {},
     "output_type": "execute_result"
    }
   ],
   "source": [
    "r.plot()"
   ]
  }
 ],
 "metadata": {
  "kernelspec": {
   "display_name": "Python 3",
   "language": "python",
   "name": "python3"
  },
  "language_info": {
   "codemirror_mode": {
    "name": "ipython",
    "version": 3
   },
   "file_extension": ".py",
   "mimetype": "text/x-python",
   "name": "python",
   "nbconvert_exporter": "python",
   "pygments_lexer": "ipython3",
   "version": "3.5.2"
  }
 },
 "nbformat": 4,
 "nbformat_minor": 2
}
