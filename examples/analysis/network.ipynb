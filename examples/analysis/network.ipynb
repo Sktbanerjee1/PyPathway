{
 "cells": [
  {
   "cell_type": "code",
   "execution_count": 1,
   "metadata": {
    "collapsed": true
   },
   "outputs": [],
   "source": [
    "%load_ext autoreload\n",
    "%autoreload 2"
   ]
  },
  {
   "cell_type": "code",
   "execution_count": 2,
   "metadata": {
    "collapsed": true
   },
   "outputs": [],
   "source": [
    "import sys"
   ]
  },
  {
   "cell_type": "code",
   "execution_count": 3,
   "metadata": {
    "collapsed": true
   },
   "outputs": [],
   "source": [
    "sys.path.append('/Users/yangxu/PyPathway/')"
   ]
  },
  {
   "cell_type": "code",
   "execution_count": 4,
   "metadata": {
    "collapsed": true
   },
   "outputs": [],
   "source": [
    "from pypathway.analysis.network import Enrichnet, SPIA"
   ]
  },
  {
   "cell_type": "code",
   "execution_count": 5,
   "metadata": {
    "collapsed": true
   },
   "outputs": [],
   "source": [
    "geneset = ['LRRK2', 'PARK2', 'SNCA', 'APOE', 'PINK1', 'MAPT', 'GBA', 'COMT', 'UCHL1', 'MAOB', 'DRD2', 'CYP2D6', 'PARK7', 'SLC6A3', 'BDNF', 'NR4A2', 'GIGYF2', 'DRD3', 'GSTM1', 'MTHFR', 'PON1', 'GSTP1', 'NAT2', 'HFE', 'ATP13A2', 'IL1A', 'IL1B', 'MAOA', 'ND1', 'ABCB1', 'FGF20', 'GSTT1', 'FMR1', 'SLC6A4', 'TNF', 'SOD2', 'PITX3', 'ND3', 'NQO1', 'DRD4', 'LINGO1', 'SEMA5A', 'CYP2E1', 'ND2', 'ATXN3', 'NOS1', 'NOS2A', 'POLG', 'ATXN2', 'TBP', 'TFAM', 'TRNG', 'GSTO2', 'SERPINA3', 'DBH', 'ESR1', 'ESR2', 'PARK10', 'HTRA2', 'HTR2A', 'IL6', 'GSTO1', 'SNCAIP', 'BST1', 'TH', 'IL10', 'LMX1B', 'GSTM3', 'HNMT', 'FTL', 'GRN', 'GRIN2B', 'GSK3B', 'EPHX1', 'ACE', 'CYP1A1', 'CYP1A2', 'ND5', 'ATP6', 'COX2', 'NQO2', 'TRNQ', 'NEDD9', 'NUCKS1', 'CACNA1A', 'PRNP', 'USP40', 'CALB1', 'SNCG', 'TRNK', 'NDUFV2', 'NOS3', 'MSX1', 'COX1', 'ATP8', 'ASCL1', 'PARK11', 'LMX1A', 'MTR', 'ND4', 'CYTB', 'NUDT1', 'CYP1B1', 'ADRA2A', 'CST3', 'PACRG', 'CHRNA4', 'DRD5', 'ELAVL4', 'A2M', 'USP24', 'TOR1A', 'GCH1', 'GSTZ1', 'STH', 'FRAXA', 'FTH1', 'HMOX1', 'IL8', 'IL1RN', 'CAST', 'PDXK', 'UNC5C', 'CCK', 'CCKAR', 'CCKBR']"
   ]
  },
  {
   "cell_type": "code",
   "execution_count": 18,
   "metadata": {},
   "outputs": [
    {
     "name": "stdout",
     "output_type": "stream",
     "text": [
      "http://www.enrichnet.org/pages/tmp/a8947_1497356642/result.php\n",
      "404\n",
      "http://www.enrichnet.org/pages/tmp/a8947_1497356642/result.php\n",
      "404\n",
      "http://www.enrichnet.org/pages/tmp/a8947_1497356642/result.php\n",
      "404\n",
      "http://www.enrichnet.org/pages/tmp/a8947_1497356642/result.php\n",
      "404\n",
      "http://www.enrichnet.org/pages/tmp/a8947_1497356642/result.php\n",
      "404\n",
      "http://www.enrichnet.org/pages/tmp/a8947_1497356642/result.php\n",
      "200\n"
     ]
    }
   ],
   "source": [
    "task = Enrichnet.run(geneset, pathdb='kegg')"
   ]
  },
  {
   "cell_type": "code",
   "execution_count": 16,
   "metadata": {},
   "outputs": [
    {
     "data": {
      "text/html": [
       "<div id=\"box1497355102236342\" style=\"width: 100%; height: 0px;background-color: #ffffff\">\n",
       "    <script>\n",
       "        var box = $(\"#box1497355102236342\");\n",
       "        var father = box.parent();\n",
       "//        var grandfather = father.parent();\n",
       "        var thirdfather = father.parent().parent().parent();\n",
       "        thirdfather.children(\".prompt\").remove();\n",
       "        father.parent().children(\".prompt\").remove();\n",
       "        father.css(\"max-width\", \"100%\");\n",
       "        box.css(\"margin-left\", \"5px\");\n",
       "        var target = document.getElementById(\"box1497355102236342\");\n",
       "//        var w = target.offsetWidth;\n",
       "        var w = thirdfather.outerWidth();\n",
       "        console.log(w);\n",
       "        target.style.height = w * 0.6 + \"px\";\n",
       "        box.append($(\"<iframe width='\" + (parseInt(w) - 15).toString() + \"'\" +\n",
       "                \" height='\" + w * 0.6 + \"' src='assets/plot/plot_1497355102236342.html' \" +\n",
       "                \"frameborder='0'></iframe>\"))\n",
       "    </script>\n",
       "</div>"
      ],
      "text/plain": [
       "<IPython.core.display.HTML object>"
      ]
     },
     "execution_count": 16,
     "metadata": {},
     "output_type": "execute_result"
    }
   ],
   "source": [
    "task.plot"
   ]
  }
 ],
 "metadata": {
  "kernelspec": {
   "display_name": "Python 3",
   "language": "python",
   "name": "python3"
  },
  "language_info": {
   "codemirror_mode": {
    "name": "ipython",
    "version": 3
   },
   "file_extension": ".py",
   "mimetype": "text/x-python",
   "name": "python",
   "nbconvert_exporter": "python",
   "pygments_lexer": "ipython3",
   "version": "3.5.2"
  }
 },
 "nbformat": 4,
 "nbformat_minor": 2
}
