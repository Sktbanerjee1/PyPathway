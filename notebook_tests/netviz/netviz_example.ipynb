{
 "cells": [
  {
   "cell_type": "markdown",
   "metadata": {},
   "source": [
    "# The netviz module\n",
    "\n",
    "this module provide interactive IPython notebook inline network viz."
   ]
  },
  {
   "cell_type": "code",
   "execution_count": 1,
   "metadata": {},
   "outputs": [],
   "source": [
    "from pypathway import FromNetworkX, StylePresets\n",
    "import networkx as nx"
   ]
  },
  {
   "cell_type": "code",
   "execution_count": 2,
   "metadata": {},
   "outputs": [],
   "source": [
    "# init a graph\n",
    "G = nx.complete_graph(5)"
   ]
  },
  {
   "cell_type": "code",
   "execution_count": 3,
   "metadata": {},
   "outputs": [
    {
     "data": {
      "text/plain": [
       "[0, 1, 2, 3, 4]"
      ]
     },
     "execution_count": 3,
     "metadata": {},
     "output_type": "execute_result"
    }
   ],
   "source": [
    "from pypathway import FromNetworkX\n",
    "import networkx as nx\n",
    "G = nx.complete_graph(5)  # init a graph\n",
    "FromNetworkX(G).data\n",
    "sorted(list([x[\"data\"].get(\"id\") for x in FromNetworkX(G).data[\"options\"][\"elements\"] if x[\"group\"] == \"nodes\"]))"
   ]
  },
  {
   "cell_type": "code",
   "execution_count": 4,
   "metadata": {},
   "outputs": [
    {
     "data": {
      "text/plain": [
       "['#CC2025', '#CC2025', '#CC2025', '#CC2025', '#CC2025']"
      ]
     },
     "execution_count": 4,
     "metadata": {},
     "output_type": "execute_result"
    }
   ],
   "source": [
    "# or change style using the StylePresets class\n",
    "sorted(\n",
    "    list(\n",
    "        [x[\"style\"].get(\"background-color\") for x in \n",
    "         FromNetworkX(G, preset=StylePresets.RED_CENTERED_LABEL).data[\"options\"][\"elements\"] if x[\"group\"] == \"nodes\"]\n",
    "    ))"
   ]
  },
  {
   "cell_type": "markdown",
   "metadata": {},
   "source": [
    "## tooltips\n",
    "add dict to node prop tooltip to add a tooltip"
   ]
  },
  {
   "cell_type": "code",
   "execution_count": 5,
   "metadata": {},
   "outputs": [],
   "source": [
    "# Add tooltip for nodes\n",
    "for k, v in G.node.items():\n",
    "    v[\"tooltip\"] = {\"id\": k}"
   ]
  },
  {
   "cell_type": "code",
   "execution_count": 6,
   "metadata": {},
   "outputs": [
    {
     "data": {
      "text/plain": [
       "[0, 1, 2, 3, 4]"
      ]
     },
     "execution_count": 6,
     "metadata": {},
     "output_type": "execute_result"
    }
   ],
   "source": [
    "sorted(\n",
    "    list(\n",
    "        [x[\"tooltip\"].get(\"id\") for x in \n",
    "         FromNetworkX(G).data[\"options\"][\"elements\"] if x[\"group\"] == \"nodes\"]\n",
    "    ))"
   ]
  },
  {
   "cell_type": "markdown",
   "metadata": {},
   "source": [
    "## style\n",
    "set the style using the prop style of any edge or node"
   ]
  },
  {
   "cell_type": "code",
   "execution_count": 7,
   "metadata": {},
   "outputs": [],
   "source": [
    "import random"
   ]
  },
  {
   "cell_type": "code",
   "execution_count": 10,
   "metadata": {},
   "outputs": [],
   "source": [
    "# example: for test, we do not use a random var\n",
    "for i, (k, v) in enumerate(G.node.items()):\n",
    "    r = 20 + 5 * i\n",
    "    v['style'] = {\n",
    "        'width': r,\n",
    "        'height': r\n",
    "    }"
   ]
  },
  {
   "cell_type": "code",
   "execution_count": 11,
   "metadata": {},
   "outputs": [
    {
     "data": {
      "text/plain": [
       "[20, 25, 30, 35, 40]"
      ]
     },
     "execution_count": 11,
     "metadata": {},
     "output_type": "execute_result"
    }
   ],
   "source": [
    "sorted(\n",
    "    list(\n",
    "        [x[\"style\"].get(\"height\") for x in \n",
    "         FromNetworkX(G, preset=StylePresets.RED_CENTERED_LABEL).data[\"options\"][\"elements\"] if x[\"group\"] == \"nodes\"]\n",
    "    ))"
   ]
  }
 ],
 "metadata": {
  "kernelspec": {
   "display_name": "Python 3",
   "language": "python",
   "name": "python3"
  },
  "language_info": {
   "codemirror_mode": {
    "name": "ipython",
    "version": 3
   },
   "file_extension": ".py",
   "mimetype": "text/x-python",
   "name": "python",
   "nbconvert_exporter": "python",
   "pygments_lexer": "ipython3",
   "version": "3.5.0"
  }
 },
 "nbformat": 4,
 "nbformat_minor": 2
}
