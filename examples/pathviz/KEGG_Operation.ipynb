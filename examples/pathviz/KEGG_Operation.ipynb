{
 "cells": [
  {
   "cell_type": "code",
   "execution_count": 1,
   "metadata": {
    "collapsed": true
   },
   "outputs": [],
   "source": [
    "%load_ext autoreload\n",
    "%autoreload 2"
   ]
  },
  {
   "cell_type": "code",
   "execution_count": 2,
   "metadata": {
    "collapsed": false
   },
   "outputs": [],
   "source": [
    "import sys\n",
    "sys.path.append(\"/Users/sheep/PyPathway\")"
   ]
  },
  {
   "cell_type": "code",
   "execution_count": 3,
   "metadata": {
    "collapsed": true
   },
   "outputs": [],
   "source": [
    "from pypathway.pathviz.query import PublicDatabase"
   ]
  },
  {
   "cell_type": "code",
   "execution_count": 4,
   "metadata": {
    "collapsed": false
   },
   "outputs": [],
   "source": [
    "path = PublicDatabase.search_kegg(\"jak\", organism=\"hsa\")[0].load()"
   ]
  },
  {
   "cell_type": "code",
   "execution_count": 6,
   "metadata": {
    "collapsed": false
   },
   "outputs": [
    {
     "data": {
      "text/plain": [
       "class: pathway, name: path:hsa04630, title: Jak-STAT signaling pathway"
      ]
     },
     "execution_count": 6,
     "metadata": {},
     "output_type": "execute_result"
    }
   ],
   "source": [
    "# screen pathway basic information from __repr__ method\n",
    "path"
   ]
  },
  {
   "cell_type": "code",
   "execution_count": 18,
   "metadata": {
    "collapsed": false
   },
   "outputs": [
    {
     "data": {
      "text/html": [
       "<div id=\"box1503044139692133\" style=\"width: 100%; height: 0px;background-color: #ffffff\">\n",
       "    <script>\n",
       "        var box = $(\"#box1503044139692133\");\n",
       "        var father = box.parent();\n",
       "//        var grandfather = father.parent();\n",
       "        var thirdfather = father.parent().parent().parent();\n",
       "        thirdfather.children(\".prompt\").remove();\n",
       "        father.parent().children(\".prompt\").remove();\n",
       "        father.css(\"max-width\", \"100%\");\n",
       "        box.css(\"margin-left\", \"5px\");\n",
       "        var target = document.getElementById(\"box1503044139692133\");\n",
       "//        var w = target.offsetWidth;\n",
       "        var w = thirdfather.outerWidth();\n",
       "        console.log(w);\n",
       "        target.style.height = w * 0.6 + \"px\";\n",
       "        box.append($(\"<iframe width='\" + (parseInt(w) - 15).toString() + \"'\" +\n",
       "                \" height='\" + w * 0.6 + \"' src='assets/KEGG/kegg_1503044139692133.html' \" +\n",
       "                \"frameborder='0'></iframe>\"))\n",
       "    </script>\n",
       "</div>"
      ],
      "text/plain": [
       "<IPython.core.display.HTML object>"
      ]
     },
     "execution_count": 18,
     "metadata": {},
     "output_type": "execute_result"
    }
   ],
   "source": [
    "# draw the path\n",
    "path.draw()"
   ]
  },
  {
   "cell_type": "code",
   "execution_count": 7,
   "metadata": {
    "collapsed": false,
    "scrolled": true
   },
   "outputs": [
    {
     "name": "stdout",
     "output_type": "stream",
     "text": [
      "class: pathway, props: name: path:hsa04630, image: http://www.kegg.jp/kegg/pathway/hsa/hsa04630.png, org: hsa, number: 04630, title: Jak-STAT signaling pathway, xrange: 1273, yrange: 803\n",
      "....class: relation, props: entry1: 38, type: PPrel, entry2: 22\n",
      "........class: subtype, props: name: activation, value: -->\n",
      "....class: relation, props: entry1: 39, type: PPrel, entry2: 22\n",
      "........class: subtype, props: name: activation, value: -->\n",
      "....class: relation, props: entry1: 9, type: PPrel, entry2: 42\n",
      "........class: subtype, props: name: activation, value: -->\n",
      "....class: relation, props: entry1: 43, type: PPrel, entry2: 4\n",
      "........class: subtype, props: name: activation, value: -->\n",
      "....class: relation, props: entry1: 4, type: PPrel, entry2: 32\n",
      "........class: subtype, props: name: activation, value: -->\n",
      "....class: relation, props: entry1: 32, type: PPrel, entry2: 33\n",
      "........class: subtype, props: name: activation, value: -->\n",
      "....class: relation, props: entry1: 15, type: PPrel, entry2: 11\n",
      "........class: subtype, props: name: activation, value: -->\n",
      "........class: subtype, props: name: phosphorylation, value: +p\n",
      "....class: relation, props: entry1: 15, type: PPrel, entry2: 29\n",
      "........class: subtype, props: name: activation, value: -->\n",
      "........class: subtype, props: name: phosphorylation, value: +p\n",
      "....class: relation, props: entry1: 15, type: PPrel, entry2: 3\n",
      "........class: subtype, props: name: activation, value: -->\n",
      "........class: subtype, props: name: phosphorylation, value: +p\n",
      "....class: relation, props: entry1: 3, type: PPrel, entry2: 2\n",
      "........class: subtype, props: name: activation, value: -->\n",
      "........class: subtype, props: name: indirect effect, value: ..>\n",
      "....class: relation, props: entry1: 2, type: PPrel, entry2: 35\n",
      "........class: subtype, props: name: activation, value: -->\n",
      "........class: subtype, props: name: indirect effect, value: ..>\n",
      "....class: relation, props: entry1: 11, type: PPrel, entry2: 42\n",
      "........class: subtype, props: name: state change, value: ...\n",
      "....class: relation, props: entry1: 42, type: GErel, entry2: 6\n",
      "........class: subtype, props: name: expression, value: -->\n",
      "....class: relation, props: entry1: 42, type: GErel, entry2: 7\n",
      "........class: subtype, props: name: expression, value: -->\n",
      "....class: relation, props: entry1: 42, type: GErel, entry2: 31\n",
      "........class: subtype, props: name: expression, value: -->\n",
      "....class: relation, props: entry1: 42, type: GErel, entry2: 1\n",
      "........class: subtype, props: name: expression, value: -->\n",
      "....class: relation, props: entry1: 42, type: GErel, entry2: 30\n",
      "........class: subtype, props: name: expression, value: -->\n",
      "....class: relation, props: entry1: 42, type: GErel, entry2: 34\n",
      "........class: subtype, props: name: expression, value: -->\n",
      "....class: relation, props: entry1: 42, type: GErel, entry2: 36\n",
      "........class: subtype, props: name: expression, value: -->\n",
      "....class: relation, props: entry1: 42, type: GErel, entry2: 8\n",
      "........class: subtype, props: name: expression, value: -->\n",
      "....class: relation, props: entry1: 42, type: GErel, entry2: 24\n",
      "........class: subtype, props: name: expression, value: -->\n",
      "....class: relation, props: entry1: 42, type: GErel, entry2: 27\n",
      "........class: subtype, props: name: expression, value: -->\n",
      "....class: relation, props: entry1: 42, type: GErel, entry2: 28\n",
      "........class: subtype, props: name: expression, value: -->\n",
      "....class: relation, props: entry1: 22, type: PPrel, entry2: 15\n",
      "........class: subtype, props: name: binding/association, value: ---\n",
      "....class: relation, props: entry1: 42, type: PPrel, entry2: 10\n",
      "........class: subtype, props: name: binding/association, value: ---\n",
      "....class: relation, props: entry1: 12, type: PPrel, entry2: 42\n",
      "........class: subtype, props: name: inhibition, value: --|\n",
      "....class: relation, props: entry1: 23, type: PPrel, entry2: 42\n",
      "........class: subtype, props: name: inhibition, value: --|\n",
      "........class: subtype, props: name: dephosphorylation, value: -p\n",
      "....class: relation, props: entry1: 37, type: PPrel, entry2: 15\n",
      "........class: subtype, props: name: inhibition, value: --|\n",
      "........class: subtype, props: name: dephosphorylation, value: -p\n",
      "....class: relation, props: entry1: 13, type: PPrel, entry2: 15\n",
      "........class: subtype, props: name: inhibition, value: --|\n",
      "........class: subtype, props: name: dephosphorylation, value: -p\n",
      "....class: relation, props: entry1: 19, type: PPrel, entry2: 42\n",
      "........class: subtype, props: name: ubiquitination, value: +u\n",
      "....class: relation, props: entry1: 6, type: PPrel, entry2: 11\n",
      "........class: subtype, props: name: inhibition, value: --|\n",
      "....class: relation, props: entry1: 8, type: PPrel, entry2: 15\n",
      "........class: subtype, props: name: inhibition, value: --|\n",
      "....class: relation, props: entry1: 14, type: PPrel, entry2: 15\n",
      "........class: subtype, props: name: activation, value: -->\n",
      "....class: entry, props: id: 1, name: hsa:4609, color: black, bg_color: white, type: gene, scale: 1, add_name: MYC, opacity: 1\n",
      "........class: graphics, props: name: MYC, MRTL, MYCC, bHLHe39, c-Myc, y: 240.0, width: 46.0, height: 17.0, fgcolor: #000000, type: rectangle, x: 900.0\n",
      "....class: entry, props: id: 2, name: hsa:10000 hsa:207 hsa:208, color: black, bg_color: white, type: gene, scale: 1, add_name: AKT, opacity: 1\n",
      "........class: graphics, props: name: AKT3, MPPH, MPPH2, PKB-GAMMA, PKBG, PRKBG, RAC-PK-gamma, RAC-gamma, STK-2..., y: 427.0, width: 46.0, height: 17.0, fgcolor: #000000, type: rectangle, x: 429.0\n",
      "....class: entry, props: id: 3, name: hsa:5290 hsa:5291 hsa:5293 hsa:5295 hsa:5296 hsa:8503, color: black, bg_color: white, type: gene, scale: 1, add_name: PIK3CA_B_D, opacity: 1\n",
      "........class: graphics, props: name: PIK3CA, CLOVE, CWS5, MCAP, MCM, MCMTC, PI3K, PI3K-alpha, p110-alpha..., y: 426.0, width: 46.0, height: 17.0, fgcolor: #000000, type: rectangle, x: 346.0\n",
      "....class: entry, props: id: 4, name: hsa:6654 hsa:6655, color: black, bg_color: white, type: gene, scale: 1, add_name: SOS, opacity: 1\n",
      "........class: graphics, props: name: SOS1, GF1, GGF1, GINGF, HGF, NS4..., y: 361.0, width: 46.0, height: 17.0, fgcolor: #000000, type: rectangle, x: 429.0\n",
      "....class: entry, props: id: 5, name: hsa:2885, color: black, bg_color: white, type: gene, scale: 1, add_name: GRB2, opacity: 1\n",
      "........class: graphics, props: name: GRB2, ASH, EGFRBP-GRB2, Grb3-3, MST084, MSTP084, NCKAP2, y: 369.0, width: 46.0, height: 17.0, fgcolor: #000000, type: rectangle, x: 346.0\n",
      "....class: entry, props: id: 6, name: hsa:1154, color: black, bg_color: white, type: gene, scale: 1, add_name: CISH, opacity: 1\n",
      "........class: graphics, props: name: CISH, BACTS2, CIS, CIS-1, G18, SOCS, y: 174.0, width: 46.0, height: 17.0, fgcolor: #000000, type: rectangle, x: 900.0\n",
      "....class: entry, props: id: 7, name: hsa:596, color: black, bg_color: white, type: gene, scale: 1, add_name: BCL2, opacity: 1\n",
      "........class: graphics, props: name: BCL2, Bcl-2, PPP1R50, y: 197.0, width: 46.0, height: 17.0, fgcolor: #000000, type: rectangle, x: 900.0\n",
      "....class: entry, props: id: 8, name: hsa:122809 hsa:30837 hsa:8651 hsa:8835 hsa:9021 hsa:9306 hsa:9655, color: black, bg_color: white, type: gene, scale: 1, add_name: SOCS1, opacity: 1\n",
      "........class: graphics, props: name: SOCS4, SOCS7..., y: 174.0, width: 46.0, height: 17.0, fgcolor: #000000, type: rectangle, x: 948.0\n",
      "....class: entry, props: id: 9, name: hsa:1387 hsa:2033, color: black, bg_color: white, type: gene, scale: 1, add_name: EP300, opacity: 1\n",
      "........class: graphics, props: name: CREBBP, CBP, KAT3A, RSTS..., y: 273.0, width: 46.0, height: 17.0, fgcolor: #000000, type: rectangle, x: 688.0\n",
      "....class: entry, props: id: 10, name: hsa:10379, color: black, bg_color: white, type: gene, scale: 1, add_name: IRF9, opacity: 1\n",
      "........class: graphics, props: name: IRF9, IRF-9, ISGF3, ISGF3G, p48, y: 273.0, width: 46.0, height: 17.0, fgcolor: #000000, type: rectangle, x: 584.0\n",
      "....class: entry, props: id: 11, name: hsa:6772 hsa:6773 hsa:6774 hsa:6775 hsa:6776 hsa:6777 hsa:6778, color: black, bg_color: white, type: gene, scale: 1, add_name: STAT1, opacity: 1\n",
      "........class: graphics, props: name: STAT1, CANDF7, IMD31A, IMD31B, IMD31C, ISGF-3, STAT91..., y: 240.0, width: 46.0, height: 17.0, fgcolor: #000000, type: rectangle, x: 352.0\n",
      "....class: entry, props: id: 12, name: hsa:10401 hsa:51588 hsa:8554 hsa:9063, color: black, bg_color: white, type: gene, scale: 1, add_name: PIAS1, opacity: 1\n",
      "........class: graphics, props: name: PIAS3, ZMIZ5..., y: 206.0, width: 46.0, height: 17.0, fgcolor: #000000, type: rectangle, x: 743.0\n",
      "....class: entry, props: id: 13, name: hsa:5777, color: black, bg_color: white, type: gene, scale: 1, add_name: PTPN6, opacity: 1\n",
      "........class: graphics, props: name: PTPN6, HCP, HCPH, HPTP1C, PTP-1C, SH-PTP1, SHP-1, SHP-1L, SHP1, y: 284.0, width: 46.0, height: 17.0, fgcolor: #000000, type: rectangle, x: 272.0\n",
      "....class: entry, props: id: 14, name: hsa:10254 hsa:8027, color: black, bg_color: white, type: gene, scale: 1, add_name: STAM, opacity: 1\n",
      "........class: graphics, props: name: STAM2, Hbp, STAM2A, STAM2B..., y: 194.0, width: 46.0, height: 17.0, fgcolor: #000000, type: rectangle, x: 284.0\n",
      "....class: entry, props: id: 15, name: hsa:3716 hsa:3717 hsa:3718 hsa:7297, color: black, bg_color: white, type: gene, scale: 1, add_name: JAK1, opacity: 1\n",
      "........class: graphics, props: name: JAK1, JAK1A, JAK1B, JTK3..., y: 240.0, width: 46.0, height: 17.0, fgcolor: #000000, type: rectangle, x: 225.0\n",
      "....class: entry, props: id: 16, name: path:hsa04120, color: black, bg_color: white, type: map, scale: 1, opacity: 1\n",
      "........class: graphics, props: name: Ubiquitin mediated proteolysis, y: 122.0, width: 127.0, height: 34.0, fgcolor: #000000, type: roundrectangle, x: 385.0\n",
      "....class: entry, props: id: 17, name: path:hsa04010, color: black, bg_color: white, type: map, scale: 1, opacity: 1\n",
      "........class: graphics, props: name: MAPK signaling pathway, y: 332.0, width: 105.0, height: 34.0, fgcolor: #000000, type: roundrectangle, x: 573.0\n",
      "....class: entry, props: id: 18, name: path:hsa04151, color: black, bg_color: white, type: map, scale: 1, opacity: 1\n",
      "........class: graphics, props: name: PI3K-Akt signaling pathway, y: 405.0, width: 105.0, height: 34.0, fgcolor: #000000, type: roundrectangle, x: 590.0\n",
      "....class: entry, props: id: 19, name: hsa:2273, color: black, bg_color: white, type: gene, scale: 1, add_name: FHL1, opacity: 1\n",
      "........class: graphics, props: name: FHL1, FHL-1, FHL1A, FHL1B, FLH1A, KYOT, RBMX1A, RBMX1B, SLIM, SLIM-1, SLIM1, SLIMMER, XMPMA, y: 273.0, width: 46.0, height: 17.0, fgcolor: #000000, type: rectangle, x: 746.0\n",
      "....class: entry, props: id: 20, name: path:hsa04060, color: black, bg_color: white, type: map, scale: 1, opacity: 1\n",
      "........class: graphics, props: name: Cytokine-cytokine receptor interaction, y: 177.0, width: 107.0, height: 34.0, fgcolor: #000000, type: roundrectangle, x: 105.0\n",
      "....class: entry, props: id: 21, name: path:hsa04630, color: black, bg_color: white, type: map, scale: 1, opacity: 1\n",
      "........class: graphics, props: name: TITLE:Jak-STAT signaling pathway, y: 58.0, width: 248.0, height: 25.0, fgcolor: #000000, type: roundrectangle, x: 164.0\n",
      "....class: entry, props: id: 22, name: hsa:116379 hsa:1271 hsa:1438 hsa:1439 hsa:1441 hsa:149233 hsa:163702 hsa:2057 hsa:2690 hsa:3454 hsa:3455 hsa:3459 hsa:3460 hsa:3559 hsa:3560 hsa:3561 hsa:3563 hsa:3566 hsa:3568 hsa:3570 hsa:3572 hsa:3575 hsa:3581 hsa:3587 hsa:3588 hsa:3590 hsa:3594 hsa:3595 hsa:3597 hsa:3598 hsa:3601 hsa:3953 hsa:3977 hsa:4352 hsa:50615 hsa:53832 hsa:53833 hsa:5618 hsa:58985 hsa:64109 hsa:9180 hsa:9466, color: black, bg_color: white, type: gene, scale: 1, add_name: IL2RA, opacity: 1\n",
      "........class: graphics, props: name: IL22RA2, CRF2-10, CRF2-S1, CRF2X, IL-22BP, IL-22R-alpha-2, IL-22RA2, ZCYTOR16..., y: 240.0, width: 46.0, height: 17.0, fgcolor: #000000, type: rectangle, x: 180.0\n",
      "....class: entry, props: id: 23, name: hsa:5771, color: black, bg_color: white, type: gene, scale: 1, add_name: PTPN2, opacity: 1\n",
      "........class: graphics, props: name: PTPN2, PTN2, PTPT, TC-PTP, TCELLPTP, TCPTP, y: 206.0, width: 46.0, height: 17.0, fgcolor: #000000, type: rectangle, x: 689.0\n",
      "....class: entry, props: id: 24, name: hsa:4170, color: black, bg_color: white, type: gene, scale: 1, add_name: MCL1, opacity: 1\n",
      "........class: graphics, props: name: MCL1, BCL2L3, EAT, MCL1-ES, MCL1L, MCL1S, Mcl-1, TM, bcl2-L-3, mcl1/EAT, y: 197.0, width: 46.0, height: 17.0, fgcolor: #000000, type: rectangle, x: 948.0\n",
      "....class: entry, props: id: 25, name: path:hsa04210, color: black, bg_color: white, type: map, scale: 1, opacity: 1\n",
      "........class: graphics, props: name: Apoptosis, y: 201.0, width: 87.0, height: 25.0, fgcolor: #000000, type: roundrectangle, x: 1135.0\n",
      "....class: entry, props: id: 26, name: path:hsa04110, color: black, bg_color: white, type: map, scale: 1, opacity: 1\n",
      "........class: graphics, props: name: Cell cycle, y: 252.0, width: 87.0, height: 25.0, fgcolor: #000000, type: roundrectangle, x: 1165.0\n",
      "....class: entry, props: id: 27, name: hsa:5292, color: black, bg_color: white, type: gene, scale: 1, add_name: PIM1, opacity: 1\n",
      "........class: graphics, props: name: PIM1, PIM, y: 216.0, width: 46.0, height: 17.0, fgcolor: #000000, type: rectangle, x: 948.0\n",
      "....class: entry, props: id: 28, name: hsa:595 hsa:894 hsa:896, color: black, bg_color: white, type: gene, scale: 1, add_name: CCND1, opacity: 1\n",
      "........class: graphics, props: name: CCND1, BCL1, D11S287E, PRAD1, U21B31..., y: 240.0, width: 46.0, height: 17.0, fgcolor: #000000, type: rectangle, x: 948.0\n",
      "....class: entry, props: id: 29, name: hsa:5781, color: black, bg_color: white, type: gene, scale: 1, add_name: PTPN11, opacity: 1\n",
      "........class: graphics, props: name: PTPN11, BPTP3, CFC, JMML, METCDS, NS1, PTP-1D, PTP2C, SH-PTP2, SH-PTP3, SHP2, y: 352.0, width: 46.0, height: 17.0, fgcolor: #000000, type: rectangle, x: 346.0\n",
      "....class: entry, props: id: 30, name: hsa:1026, color: black, bg_color: white, type: gene, scale: 1, add_name: CDKN1A, opacity: 1\n",
      "........class: graphics, props: name: CDKN1A, CAP20, CDKN1, CIP1, MDA-6, P21, SDI1, WAF1, p21CIP1, y: 259.0, width: 46.0, height: 17.0, fgcolor: #000000, type: rectangle, x: 900.0\n",
      "....class: entry, props: id: 31, name: hsa:598, color: black, bg_color: white, type: gene, scale: 1, add_name: BCL2L1, opacity: 1\n",
      "........class: graphics, props: name: BCL2L1, BCL-XL/S, BCL2L, BCLX, Bcl-X, PPP1R52, y: 216.0, width: 46.0, height: 17.0, fgcolor: #000000, type: rectangle, x: 900.0\n",
      "....class: entry, props: id: 32, name: hsa:3265, color: black, bg_color: white, type: gene, scale: 1, add_name: HRAS, opacity: 1\n",
      "........class: graphics, props: name: HRAS, C-BAS/HAS, C-H-RAS, C-HA-RAS1, CTLO, H-RASIDX, HAMSV, HRAS1, RASH1, p21ras, y: 361.0, width: 46.0, height: 17.0, fgcolor: #000000, type: rectangle, x: 510.0\n",
      "....class: entry, props: id: 33, name: hsa:5894, color: black, bg_color: white, type: gene, scale: 1, add_name: RAF1, opacity: 1\n",
      "........class: graphics, props: name: RAF1, CMD1NN, CRAF, NS5, Raf-1, c-Raf, y: 361.0, width: 46.0, height: 17.0, fgcolor: #000000, type: rectangle, x: 592.0\n",
      "....class: entry, props: id: 34, name: hsa:316, color: black, bg_color: white, type: gene, scale: 1, add_name: AOX, opacity: 1\n",
      "........class: graphics, props: name: AOX1, AO, AOH1, y: 278.0, width: 46.0, height: 17.0, fgcolor: #000000, type: rectangle, x: 900.0\n",
      "....class: entry, props: id: 35, name: hsa:2475, color: black, bg_color: white, type: gene, scale: 1, add_name: MTOR, opacity: 1\n",
      "........class: graphics, props: name: MTOR, FRAP, FRAP1, FRAP2, RAFT1, RAPT1, SKS, y: 427.0, width: 46.0, height: 17.0, fgcolor: #000000, type: rectangle, x: 510.0\n",
      "....class: entry, props: id: 36, name: hsa:2670, color: black, bg_color: white, type: gene, scale: 1, add_name: GFAP, opacity: 1\n",
      "........class: graphics, props: name: GFAP, ALXDRD, y: 297.0, width: 46.0, height: 17.0, fgcolor: #000000, type: rectangle, x: 900.0\n",
      "....class: entry, props: id: 37, name: hsa:5771, color: black, bg_color: white, type: gene, scale: 1, add_name: PTPN2, opacity: 1\n",
      "........class: graphics, props: name: PTPN2, PTN2, PTPT, TC-PTP, TCELLPTP, TCPTP, y: 284.0, width: 46.0, height: 17.0, fgcolor: #000000, type: rectangle, x: 223.0\n",
      "....class: entry, props: id: 38, name: hsa:11009 hsa:1437 hsa:1489 hsa:282616 hsa:282617 hsa:282618 hsa:29949 hsa:338376 hsa:3439 hsa:3440 hsa:3441 hsa:3442 hsa:3443 hsa:3444 hsa:3445 hsa:3446 hsa:3447 hsa:3448 hsa:3449 hsa:3451 hsa:3452 hsa:3456 hsa:3458 hsa:3467 hsa:3558 hsa:3562 hsa:3565 hsa:3567 hsa:3569 hsa:3574 hsa:3578 hsa:3586 hsa:3589 hsa:3592 hsa:3593 hsa:3596 hsa:3600 hsa:3976 hsa:5008 hsa:50604 hsa:50616 hsa:51561 hsa:53342 hsa:56832 hsa:59067 hsa:85480, color: black, bg_color: white, type: gene, scale: 1, add_name: IL2, opacity: 1\n",
      "........class: graphics, props: name: IL24, C49A, FISP, IL10B, MDA7, MOB5, ST16..., y: 215.0, width: 46.0, height: 17.0, fgcolor: #000000, type: rectangle, x: 99.0\n",
      "....class: entry, props: id: 39, name: hsa:1270 hsa:1440 hsa:1442 hsa:1443 hsa:2056 hsa:2688 hsa:2689 hsa:3952 hsa:5617 hsa:7066, color: black, bg_color: white, type: gene, scale: 1, add_name: CNTF, opacity: 1\n",
      "........class: graphics, props: name: CNTF, HCNTF..., y: 266.0, width: 46.0, height: 17.0, fgcolor: #000000, type: rectangle, x: 99.0\n",
      "....class: entry, props: id: 40, name: hsa:6772 hsa:6773 hsa:6774 hsa:6775 hsa:6776 hsa:6777 hsa:6778, color: black, bg_color: white, type: gene, scale: 1, add_name: STAT1, opacity: 1\n",
      "........class: graphics, props: name: STAT1, CANDF7, IMD31A, IMD31B, IMD31C, ISGF-3, STAT91..., y: 231.0, width: 46.0, height: 17.0, fgcolor: #000000, type: rectangle, x: 454.0\n",
      "....class: entry, props: id: 41, name: hsa:6772 hsa:6773 hsa:6774 hsa:6775 hsa:6776 hsa:6777 hsa:6778, color: black, bg_color: white, type: gene, scale: 1, add_name: STAT1, opacity: 1\n",
      "........class: graphics, props: name: STAT1, CANDF7, IMD31A, IMD31B, IMD31C, ISGF-3, STAT91..., y: 248.0, width: 46.0, height: 17.0, fgcolor: #000000, type: rectangle, x: 454.0\n",
      "....class: entry, props: id: 42, name: undefined, color: black, bg_color: white, type: group, scale: 1, opacity: 1\n",
      "........class: component, props: id: 40\n",
      "........class: component, props: id: 41\n",
      "........class: graphics, props: y: 239.0, width: 46.0, height: 34.0, fgcolor: #000000, type: rectangle, x: 454.0\n",
      "....class: entry, props: id: 43, name: undefined, color: black, bg_color: white, type: group, scale: 1, opacity: 1\n",
      "........class: component, props: id: 29\n",
      "........class: component, props: id: 5\n",
      "........class: graphics, props: y: 360.0, width: 46.0, height: 34.0, fgcolor: #000000, type: rectangle, x: 346.0\n",
      "\n"
     ]
    }
   ],
   "source": [
    "# detail pathway information, use summary() method\n",
    "print(path.summary())"
   ]
  },
  {
   "cell_type": "code",
   "execution_count": 8,
   "metadata": {
    "collapsed": false,
    "scrolled": true
   },
   "outputs": [
    {
     "data": {
      "text/plain": [
       "[class: relation, props: entry1: 38, type: PPrel, entry2: 22\n",
       " ....class: subtype, props: name: activation, value: -->,\n",
       " class: relation, props: entry1: 39, type: PPrel, entry2: 22\n",
       " ....class: subtype, props: name: activation, value: -->,\n",
       " class: relation, props: entry1: 9, type: PPrel, entry2: 42\n",
       " ....class: subtype, props: name: activation, value: -->,\n",
       " class: relation, props: entry1: 43, type: PPrel, entry2: 4\n",
       " ....class: subtype, props: name: activation, value: -->,\n",
       " class: relation, props: entry1: 4, type: PPrel, entry2: 32\n",
       " ....class: subtype, props: name: activation, value: -->,\n",
       " class: relation, props: entry1: 32, type: PPrel, entry2: 33\n",
       " ....class: subtype, props: name: activation, value: -->,\n",
       " class: relation, props: entry1: 15, type: PPrel, entry2: 11\n",
       " ....class: subtype, props: name: activation, value: -->\n",
       " ....class: subtype, props: name: phosphorylation, value: +p,\n",
       " class: relation, props: entry1: 15, type: PPrel, entry2: 29\n",
       " ....class: subtype, props: name: activation, value: -->\n",
       " ....class: subtype, props: name: phosphorylation, value: +p,\n",
       " class: relation, props: entry1: 15, type: PPrel, entry2: 3\n",
       " ....class: subtype, props: name: activation, value: -->\n",
       " ....class: subtype, props: name: phosphorylation, value: +p,\n",
       " class: relation, props: entry1: 3, type: PPrel, entry2: 2\n",
       " ....class: subtype, props: name: activation, value: -->\n",
       " ....class: subtype, props: name: indirect effect, value: ..>,\n",
       " class: relation, props: entry1: 2, type: PPrel, entry2: 35\n",
       " ....class: subtype, props: name: activation, value: -->\n",
       " ....class: subtype, props: name: indirect effect, value: ..>,\n",
       " class: relation, props: entry1: 11, type: PPrel, entry2: 42\n",
       " ....class: subtype, props: name: state change, value: ...,\n",
       " class: relation, props: entry1: 42, type: GErel, entry2: 6\n",
       " ....class: subtype, props: name: expression, value: -->,\n",
       " class: relation, props: entry1: 42, type: GErel, entry2: 7\n",
       " ....class: subtype, props: name: expression, value: -->,\n",
       " class: relation, props: entry1: 42, type: GErel, entry2: 31\n",
       " ....class: subtype, props: name: expression, value: -->,\n",
       " class: relation, props: entry1: 42, type: GErel, entry2: 1\n",
       " ....class: subtype, props: name: expression, value: -->,\n",
       " class: relation, props: entry1: 42, type: GErel, entry2: 30\n",
       " ....class: subtype, props: name: expression, value: -->,\n",
       " class: relation, props: entry1: 42, type: GErel, entry2: 34\n",
       " ....class: subtype, props: name: expression, value: -->,\n",
       " class: relation, props: entry1: 42, type: GErel, entry2: 36\n",
       " ....class: subtype, props: name: expression, value: -->,\n",
       " class: relation, props: entry1: 42, type: GErel, entry2: 8\n",
       " ....class: subtype, props: name: expression, value: -->,\n",
       " class: relation, props: entry1: 42, type: GErel, entry2: 24\n",
       " ....class: subtype, props: name: expression, value: -->,\n",
       " class: relation, props: entry1: 42, type: GErel, entry2: 27\n",
       " ....class: subtype, props: name: expression, value: -->,\n",
       " class: relation, props: entry1: 42, type: GErel, entry2: 28\n",
       " ....class: subtype, props: name: expression, value: -->,\n",
       " class: relation, props: entry1: 22, type: PPrel, entry2: 15\n",
       " ....class: subtype, props: name: binding/association, value: ---,\n",
       " class: relation, props: entry1: 42, type: PPrel, entry2: 10\n",
       " ....class: subtype, props: name: binding/association, value: ---,\n",
       " class: relation, props: entry1: 12, type: PPrel, entry2: 42\n",
       " ....class: subtype, props: name: inhibition, value: --|,\n",
       " class: relation, props: entry1: 23, type: PPrel, entry2: 42\n",
       " ....class: subtype, props: name: inhibition, value: --|\n",
       " ....class: subtype, props: name: dephosphorylation, value: -p,\n",
       " class: relation, props: entry1: 37, type: PPrel, entry2: 15\n",
       " ....class: subtype, props: name: inhibition, value: --|\n",
       " ....class: subtype, props: name: dephosphorylation, value: -p,\n",
       " class: relation, props: entry1: 13, type: PPrel, entry2: 15\n",
       " ....class: subtype, props: name: inhibition, value: --|\n",
       " ....class: subtype, props: name: dephosphorylation, value: -p,\n",
       " class: relation, props: entry1: 19, type: PPrel, entry2: 42\n",
       " ....class: subtype, props: name: ubiquitination, value: +u,\n",
       " class: relation, props: entry1: 6, type: PPrel, entry2: 11\n",
       " ....class: subtype, props: name: inhibition, value: --|,\n",
       " class: relation, props: entry1: 8, type: PPrel, entry2: 15\n",
       " ....class: subtype, props: name: inhibition, value: --|,\n",
       " class: relation, props: entry1: 14, type: PPrel, entry2: 15\n",
       " ....class: subtype, props: name: activation, value: -->,\n",
       " class: entry, name: hsa:4609, type: gene, id: 1, KO: ['K04377'],\n",
       " class: entry, name: hsa:10000 hsa:207 hsa:208, type: gene, id: 2, KO: ['K04456'],\n",
       " class: entry, name: hsa:5290 hsa:5291 hsa:5293 hsa:5295 hsa:5296 hsa:8503, type: gene, id: 3, KO: ['K00922', 'K02649'],\n",
       " class: entry, name: hsa:6654 hsa:6655, type: gene, id: 4, KO: ['K03099'],\n",
       " class: entry, name: hsa:2885, type: gene, id: 5, KO: ['K04364'],\n",
       " class: entry, name: hsa:1154, type: gene, id: 6, KO: ['K04701'],\n",
       " class: entry, name: hsa:596, type: gene, id: 7, KO: ['K02161'],\n",
       " class: entry, name: hsa:122809 hsa:30837 hsa:8651 hsa:8835 hsa:9021 hsa:9306 hsa:9655, type: gene, id: 8, KO: ['K04694', 'K04695', 'K04696', 'K04697', 'K04698', 'K04699'],\n",
       " class: entry, name: hsa:1387 hsa:2033, type: gene, id: 9, KO: ['K04498'],\n",
       " class: entry, name: hsa:10379, type: gene, id: 10, KO: ['K04693'],\n",
       " class: entry, name: hsa:6772 hsa:6773 hsa:6774 hsa:6775 hsa:6776 hsa:6777 hsa:6778, type: gene, id: 11, KO: ['K11220', 'K11221', 'K04692', 'K11222', 'K11223', 'K11224', 'K11225'],\n",
       " class: entry, name: hsa:10401 hsa:51588 hsa:8554 hsa:9063, type: gene, id: 12, KO: ['K04706', 'K16063', 'K16064', 'K16065'],\n",
       " class: entry, name: hsa:5777, type: gene, id: 13, KO: ['K05697'],\n",
       " class: entry, name: hsa:10254 hsa:8027, type: gene, id: 14, KO: ['K04705'],\n",
       " class: entry, name: hsa:3716 hsa:3717 hsa:3718 hsa:7297, type: gene, id: 15, KO: ['K11217', 'K04447', 'K11218', 'K11219'],\n",
       " class: entry, name: path:hsa04120, type: map, id: 16, KO: ['map04120'],\n",
       " class: entry, name: path:hsa04010, type: map, id: 17, KO: ['map04010'],\n",
       " class: entry, name: path:hsa04151, type: map, id: 18, KO: ['map04151'],\n",
       " class: entry, name: hsa:2273, type: gene, id: 19, KO: ['K14365'],\n",
       " class: entry, name: path:hsa04060, type: map, id: 20, KO: ['map04060'],\n",
       " class: entry, name: path:hsa04630, type: map, id: 21, KO: ['map04630'],\n",
       " class: entry, name: hsa:116379 hsa:1271 hsa:1438 hsa:1439 hsa:1441 hsa:149233 hsa:163702 hsa:2057 hsa:2690 hsa:3454 hsa:3455 hsa:3459 hsa:3460 hsa:3559 hsa:3560 hsa:3561 hsa:3563 hsa:3566 hsa:3568 hsa:3570 hsa:3572 hsa:3575 hsa:3581 hsa:3587 hsa:3588 hsa:3590 hsa:3594 hsa:3595 hsa:3597 hsa:3598 hsa:3601 hsa:3953 hsa:3977 hsa:4352 hsa:50615 hsa:53832 hsa:53833 hsa:5618 hsa:58985 hsa:64109 hsa:9180 hsa:9466, type: gene, id: 22, KO: ['K05068', 'K05069', 'K05070', 'K04737', 'K05071', 'K05067', 'K05055', 'K05072', 'K05073', 'K05134', 'K05135', 'K05056', 'K05063', 'K05064', 'K05076', 'K05077', 'K05074', 'K05136', 'K05137', 'K05075', 'K05138', 'K05139', 'K05065', 'K19598', 'K05060', 'K05130', 'K05131', 'K05132', 'K05133', 'K05140', 'K05057', 'K05058', 'K05078', 'K05059', 'K05066', 'K04738', 'K05061', 'K05079', 'K05080', 'K05062', 'K05082', 'K05081', 'K19599'],\n",
       " class: entry, name: hsa:5771, type: gene, id: 23, KO: ['K18026'],\n",
       " class: entry, name: hsa:4170, type: gene, id: 24, KO: ['K02539'],\n",
       " class: entry, name: path:hsa04210, type: map, id: 25, KO: ['map04210'],\n",
       " class: entry, name: path:hsa04110, type: map, id: 26, KO: ['map04110'],\n",
       " class: entry, name: hsa:5292, type: gene, id: 27, KO: ['K04702'],\n",
       " class: entry, name: hsa:595 hsa:894 hsa:896, type: gene, id: 28, KO: ['K04503', 'K10151', 'K10152'],\n",
       " class: entry, name: hsa:5781, type: gene, id: 29, KO: ['K07293'],\n",
       " class: entry, name: hsa:1026, type: gene, id: 30, KO: ['K06625'],\n",
       " class: entry, name: hsa:598, type: gene, id: 31, KO: ['K04570'],\n",
       " class: entry, name: hsa:3265, type: gene, id: 32, KO: ['K02833'],\n",
       " class: entry, name: hsa:5894, type: gene, id: 33, KO: ['K04366'],\n",
       " class: entry, name: hsa:316, type: gene, id: 34, KO: ['K00157'],\n",
       " class: entry, name: hsa:2475, type: gene, id: 35, KO: ['K07203'],\n",
       " class: entry, name: hsa:2670, type: gene, id: 36, KO: ['K05640'],\n",
       " class: entry, name: hsa:5771, type: gene, id: 37, KO: ['K18026'],\n",
       " class: entry, name: hsa:11009 hsa:1437 hsa:1489 hsa:282616 hsa:282617 hsa:282618 hsa:29949 hsa:338376 hsa:3439 hsa:3440 hsa:3441 hsa:3442 hsa:3443 hsa:3444 hsa:3445 hsa:3446 hsa:3447 hsa:3448 hsa:3449 hsa:3451 hsa:3452 hsa:3456 hsa:3458 hsa:3467 hsa:3558 hsa:3562 hsa:3565 hsa:3567 hsa:3569 hsa:3574 hsa:3578 hsa:3586 hsa:3589 hsa:3592 hsa:3593 hsa:3596 hsa:3600 hsa:3976 hsa:5008 hsa:50604 hsa:50616 hsa:51561 hsa:53342 hsa:56832 hsa:59067 hsa:85480, type: gene, id: 38, KO: ['K05429', 'K04736', 'K05430', 'K05428', 'K05405', 'K05431', 'K05432', 'K05443', 'K05417', 'K05406', 'K05425', 'K05435', 'K05433', 'K05444', 'K05434', 'K05445', 'K05426', 'K05492', 'K05414', 'K05415', 'K04687', 'K05442', 'K05441', 'K05447', 'K05440', 'K05418', 'K05419', 'K05436', 'K05422', 'K05427', 'K16689'],\n",
       " class: entry, name: hsa:1270 hsa:1440 hsa:1442 hsa:1443 hsa:2056 hsa:2688 hsa:2689 hsa:3952 hsa:5617 hsa:7066, type: gene, id: 39, KO: ['K05420', 'K05423', 'K05437', 'K05438', 'K05424', 'K06854', 'K05439'],\n",
       " class: entry, name: hsa:6772 hsa:6773 hsa:6774 hsa:6775 hsa:6776 hsa:6777 hsa:6778, type: gene, id: 40, KO: ['K11220', 'K11221', 'K04692', 'K11222', 'K11223', 'K11224', 'K11225'],\n",
       " class: entry, name: hsa:6772 hsa:6773 hsa:6774 hsa:6775 hsa:6776 hsa:6777 hsa:6778, type: gene, id: 41, KO: ['K11220', 'K11221', 'K04692', 'K11222', 'K11223', 'K11224', 'K11225'],\n",
       " class: entry, name: undefined, type: group, id: 42, KO: [],\n",
       " class: entry, name: undefined, type: group, id: 43, KO: []]"
      ]
     },
     "execution_count": 8,
     "metadata": {},
     "output_type": "execute_result"
    }
   ],
   "source": [
    "# node operation method\n",
    "# children: return a list of node's children\n",
    "path.children"
   ]
  },
  {
   "cell_type": "code",
   "execution_count": 9,
   "metadata": {
    "collapsed": false
   },
   "outputs": [
    {
     "data": {
      "text/plain": [
       "True"
      ]
     },
     "execution_count": 9,
     "metadata": {},
     "output_type": "execute_result"
    }
   ],
   "source": [
    "# father: return node's father node\n",
    "path.children[0].father == path"
   ]
  },
  {
   "cell_type": "code",
   "execution_count": 10,
   "metadata": {
    "collapsed": false
   },
   "outputs": [
    {
     "data": {
      "text/plain": [
       "True"
      ]
     },
     "execution_count": 10,
     "metadata": {},
     "output_type": "execute_result"
    }
   ],
   "source": [
    "# root: return the root node of node\n",
    "path.children[0].children[0].root == path"
   ]
  },
  {
   "cell_type": "code",
   "execution_count": 11,
   "metadata": {
    "collapsed": false,
    "scrolled": true
   },
   "outputs": [
    {
     "data": {
      "text/plain": [
       "[class: relation, props: entry1: 38, type: PPrel, entry2: 22\n",
       " ....class: subtype, props: name: activation, value: -->,\n",
       " class: relation, props: entry1: 39, type: PPrel, entry2: 22\n",
       " ....class: subtype, props: name: activation, value: -->,\n",
       " class: relation, props: entry1: 9, type: PPrel, entry2: 42\n",
       " ....class: subtype, props: name: activation, value: -->,\n",
       " class: relation, props: entry1: 43, type: PPrel, entry2: 4\n",
       " ....class: subtype, props: name: activation, value: -->,\n",
       " class: relation, props: entry1: 4, type: PPrel, entry2: 32\n",
       " ....class: subtype, props: name: activation, value: -->,\n",
       " class: relation, props: entry1: 32, type: PPrel, entry2: 33\n",
       " ....class: subtype, props: name: activation, value: -->,\n",
       " class: relation, props: entry1: 15, type: PPrel, entry2: 11\n",
       " ....class: subtype, props: name: activation, value: -->\n",
       " ....class: subtype, props: name: phosphorylation, value: +p,\n",
       " class: relation, props: entry1: 15, type: PPrel, entry2: 29\n",
       " ....class: subtype, props: name: activation, value: -->\n",
       " ....class: subtype, props: name: phosphorylation, value: +p,\n",
       " class: relation, props: entry1: 15, type: PPrel, entry2: 3\n",
       " ....class: subtype, props: name: activation, value: -->\n",
       " ....class: subtype, props: name: phosphorylation, value: +p,\n",
       " class: relation, props: entry1: 3, type: PPrel, entry2: 2\n",
       " ....class: subtype, props: name: activation, value: -->\n",
       " ....class: subtype, props: name: indirect effect, value: ..>,\n",
       " class: relation, props: entry1: 2, type: PPrel, entry2: 35\n",
       " ....class: subtype, props: name: activation, value: -->\n",
       " ....class: subtype, props: name: indirect effect, value: ..>,\n",
       " class: relation, props: entry1: 11, type: PPrel, entry2: 42\n",
       " ....class: subtype, props: name: state change, value: ...,\n",
       " class: relation, props: entry1: 42, type: GErel, entry2: 6\n",
       " ....class: subtype, props: name: expression, value: -->,\n",
       " class: relation, props: entry1: 42, type: GErel, entry2: 7\n",
       " ....class: subtype, props: name: expression, value: -->,\n",
       " class: relation, props: entry1: 42, type: GErel, entry2: 31\n",
       " ....class: subtype, props: name: expression, value: -->,\n",
       " class: relation, props: entry1: 42, type: GErel, entry2: 1\n",
       " ....class: subtype, props: name: expression, value: -->,\n",
       " class: relation, props: entry1: 42, type: GErel, entry2: 30\n",
       " ....class: subtype, props: name: expression, value: -->,\n",
       " class: relation, props: entry1: 42, type: GErel, entry2: 34\n",
       " ....class: subtype, props: name: expression, value: -->,\n",
       " class: relation, props: entry1: 42, type: GErel, entry2: 36\n",
       " ....class: subtype, props: name: expression, value: -->,\n",
       " class: relation, props: entry1: 42, type: GErel, entry2: 8\n",
       " ....class: subtype, props: name: expression, value: -->,\n",
       " class: relation, props: entry1: 42, type: GErel, entry2: 24\n",
       " ....class: subtype, props: name: expression, value: -->,\n",
       " class: relation, props: entry1: 42, type: GErel, entry2: 27\n",
       " ....class: subtype, props: name: expression, value: -->,\n",
       " class: relation, props: entry1: 42, type: GErel, entry2: 28\n",
       " ....class: subtype, props: name: expression, value: -->,\n",
       " class: relation, props: entry1: 22, type: PPrel, entry2: 15\n",
       " ....class: subtype, props: name: binding/association, value: ---,\n",
       " class: relation, props: entry1: 42, type: PPrel, entry2: 10\n",
       " ....class: subtype, props: name: binding/association, value: ---,\n",
       " class: relation, props: entry1: 12, type: PPrel, entry2: 42\n",
       " ....class: subtype, props: name: inhibition, value: --|,\n",
       " class: relation, props: entry1: 23, type: PPrel, entry2: 42\n",
       " ....class: subtype, props: name: inhibition, value: --|\n",
       " ....class: subtype, props: name: dephosphorylation, value: -p,\n",
       " class: relation, props: entry1: 37, type: PPrel, entry2: 15\n",
       " ....class: subtype, props: name: inhibition, value: --|\n",
       " ....class: subtype, props: name: dephosphorylation, value: -p,\n",
       " class: relation, props: entry1: 13, type: PPrel, entry2: 15\n",
       " ....class: subtype, props: name: inhibition, value: --|\n",
       " ....class: subtype, props: name: dephosphorylation, value: -p,\n",
       " class: relation, props: entry1: 19, type: PPrel, entry2: 42\n",
       " ....class: subtype, props: name: ubiquitination, value: +u,\n",
       " class: relation, props: entry1: 6, type: PPrel, entry2: 11\n",
       " ....class: subtype, props: name: inhibition, value: --|,\n",
       " class: relation, props: entry1: 8, type: PPrel, entry2: 15\n",
       " ....class: subtype, props: name: inhibition, value: --|,\n",
       " class: relation, props: entry1: 14, type: PPrel, entry2: 15\n",
       " ....class: subtype, props: name: activation, value: -->]"
      ]
     },
     "execution_count": 11,
     "metadata": {},
     "output_type": "execute_result"
    }
   ],
   "source": [
    "# element method get_element_by_class\n",
    "path.get_element_by_class(\"relation\")"
   ]
  },
  {
   "cell_type": "code",
   "execution_count": 12,
   "metadata": {
    "collapsed": false,
    "scrolled": true
   },
   "outputs": [
    {
     "data": {
      "text/plain": [
       "[class: entry, name: hsa:4609, type: gene, id: 1, KO: ['K04377'],\n",
       " class: entry, name: hsa:10000 hsa:207 hsa:208, type: gene, id: 2, KO: ['K04456'],\n",
       " class: entry, name: hsa:5290 hsa:5291 hsa:5293 hsa:5295 hsa:5296 hsa:8503, type: gene, id: 3, KO: ['K00922', 'K02649'],\n",
       " class: entry, name: hsa:6654 hsa:6655, type: gene, id: 4, KO: ['K03099'],\n",
       " class: entry, name: hsa:2885, type: gene, id: 5, KO: ['K04364'],\n",
       " class: entry, name: hsa:1154, type: gene, id: 6, KO: ['K04701'],\n",
       " class: entry, name: hsa:596, type: gene, id: 7, KO: ['K02161'],\n",
       " class: entry, name: hsa:122809 hsa:30837 hsa:8651 hsa:8835 hsa:9021 hsa:9306 hsa:9655, type: gene, id: 8, KO: ['K04694', 'K04695', 'K04696', 'K04697', 'K04698', 'K04699'],\n",
       " class: entry, name: hsa:1387 hsa:2033, type: gene, id: 9, KO: ['K04498'],\n",
       " class: entry, name: hsa:10379, type: gene, id: 10, KO: ['K04693'],\n",
       " class: entry, name: hsa:6772 hsa:6773 hsa:6774 hsa:6775 hsa:6776 hsa:6777 hsa:6778, type: gene, id: 11, KO: ['K11220', 'K11221', 'K04692', 'K11222', 'K11223', 'K11224', 'K11225'],\n",
       " class: entry, name: hsa:10401 hsa:51588 hsa:8554 hsa:9063, type: gene, id: 12, KO: ['K04706', 'K16063', 'K16064', 'K16065'],\n",
       " class: entry, name: hsa:5777, type: gene, id: 13, KO: ['K05697'],\n",
       " class: entry, name: hsa:10254 hsa:8027, type: gene, id: 14, KO: ['K04705'],\n",
       " class: entry, name: hsa:3716 hsa:3717 hsa:3718 hsa:7297, type: gene, id: 15, KO: ['K11217', 'K04447', 'K11218', 'K11219'],\n",
       " class: entry, name: hsa:2273, type: gene, id: 19, KO: ['K14365'],\n",
       " class: entry, name: hsa:116379 hsa:1271 hsa:1438 hsa:1439 hsa:1441 hsa:149233 hsa:163702 hsa:2057 hsa:2690 hsa:3454 hsa:3455 hsa:3459 hsa:3460 hsa:3559 hsa:3560 hsa:3561 hsa:3563 hsa:3566 hsa:3568 hsa:3570 hsa:3572 hsa:3575 hsa:3581 hsa:3587 hsa:3588 hsa:3590 hsa:3594 hsa:3595 hsa:3597 hsa:3598 hsa:3601 hsa:3953 hsa:3977 hsa:4352 hsa:50615 hsa:53832 hsa:53833 hsa:5618 hsa:58985 hsa:64109 hsa:9180 hsa:9466, type: gene, id: 22, KO: ['K05068', 'K05069', 'K05070', 'K04737', 'K05071', 'K05067', 'K05055', 'K05072', 'K05073', 'K05134', 'K05135', 'K05056', 'K05063', 'K05064', 'K05076', 'K05077', 'K05074', 'K05136', 'K05137', 'K05075', 'K05138', 'K05139', 'K05065', 'K19598', 'K05060', 'K05130', 'K05131', 'K05132', 'K05133', 'K05140', 'K05057', 'K05058', 'K05078', 'K05059', 'K05066', 'K04738', 'K05061', 'K05079', 'K05080', 'K05062', 'K05082', 'K05081', 'K19599'],\n",
       " class: entry, name: hsa:5771, type: gene, id: 23, KO: ['K18026'],\n",
       " class: entry, name: hsa:4170, type: gene, id: 24, KO: ['K02539'],\n",
       " class: entry, name: hsa:5292, type: gene, id: 27, KO: ['K04702'],\n",
       " class: entry, name: hsa:595 hsa:894 hsa:896, type: gene, id: 28, KO: ['K04503', 'K10151', 'K10152'],\n",
       " class: entry, name: hsa:5781, type: gene, id: 29, KO: ['K07293'],\n",
       " class: entry, name: hsa:1026, type: gene, id: 30, KO: ['K06625'],\n",
       " class: entry, name: hsa:598, type: gene, id: 31, KO: ['K04570'],\n",
       " class: entry, name: hsa:3265, type: gene, id: 32, KO: ['K02833'],\n",
       " class: entry, name: hsa:5894, type: gene, id: 33, KO: ['K04366'],\n",
       " class: entry, name: hsa:316, type: gene, id: 34, KO: ['K00157'],\n",
       " class: entry, name: hsa:2475, type: gene, id: 35, KO: ['K07203'],\n",
       " class: entry, name: hsa:2670, type: gene, id: 36, KO: ['K05640'],\n",
       " class: entry, name: hsa:5771, type: gene, id: 37, KO: ['K18026'],\n",
       " class: entry, name: hsa:11009 hsa:1437 hsa:1489 hsa:282616 hsa:282617 hsa:282618 hsa:29949 hsa:338376 hsa:3439 hsa:3440 hsa:3441 hsa:3442 hsa:3443 hsa:3444 hsa:3445 hsa:3446 hsa:3447 hsa:3448 hsa:3449 hsa:3451 hsa:3452 hsa:3456 hsa:3458 hsa:3467 hsa:3558 hsa:3562 hsa:3565 hsa:3567 hsa:3569 hsa:3574 hsa:3578 hsa:3586 hsa:3589 hsa:3592 hsa:3593 hsa:3596 hsa:3600 hsa:3976 hsa:5008 hsa:50604 hsa:50616 hsa:51561 hsa:53342 hsa:56832 hsa:59067 hsa:85480, type: gene, id: 38, KO: ['K05429', 'K04736', 'K05430', 'K05428', 'K05405', 'K05431', 'K05432', 'K05443', 'K05417', 'K05406', 'K05425', 'K05435', 'K05433', 'K05444', 'K05434', 'K05445', 'K05426', 'K05492', 'K05414', 'K05415', 'K04687', 'K05442', 'K05441', 'K05447', 'K05440', 'K05418', 'K05419', 'K05436', 'K05422', 'K05427', 'K16689'],\n",
       " class: entry, name: hsa:1270 hsa:1440 hsa:1442 hsa:1443 hsa:2056 hsa:2688 hsa:2689 hsa:3952 hsa:5617 hsa:7066, type: gene, id: 39, KO: ['K05420', 'K05423', 'K05437', 'K05438', 'K05424', 'K06854', 'K05439'],\n",
       " class: entry, name: hsa:6772 hsa:6773 hsa:6774 hsa:6775 hsa:6776 hsa:6777 hsa:6778, type: gene, id: 40, KO: ['K11220', 'K11221', 'K04692', 'K11222', 'K11223', 'K11224', 'K11225'],\n",
       " class: entry, name: hsa:6772 hsa:6773 hsa:6774 hsa:6775 hsa:6776 hsa:6777 hsa:6778, type: gene, id: 41, KO: ['K11220', 'K11221', 'K04692', 'K11222', 'K11223', 'K11224', 'K11225']]"
      ]
     },
     "execution_count": 12,
     "metadata": {},
     "output_type": "execute_result"
    }
   ],
   "source": [
    "# element method get_element_by_type(e.g if class is entry, type may be gene)\n",
    "path.get_element_by_type(\"gene\")"
   ]
  },
  {
   "cell_type": "code",
   "execution_count": 13,
   "metadata": {
    "collapsed": false
   },
   "outputs": [
    {
     "data": {
      "text/plain": [
       "[class: entry, name: hsa:6772 hsa:6773 hsa:6774 hsa:6775 hsa:6776 hsa:6777 hsa:6778, type: gene, id: 11, KO: ['K11220', 'K11221', 'K04692', 'K11222', 'K11223', 'K11224', 'K11225']]"
      ]
     },
     "execution_count": 13,
     "metadata": {},
     "output_type": "execute_result"
    }
   ],
   "source": [
    "# element method get_element_by_id(note that the ID is GRAPHIC ID in KGML file)\n",
    "path.get_element_by_id(\"11\")"
   ]
  },
  {
   "cell_type": "code",
   "execution_count": 14,
   "metadata": {
    "collapsed": false
   },
   "outputs": [
    {
     "data": {
      "text/plain": [
       "[class: subtype, props: name: activation, value: -->,\n",
       " class: subtype, props: name: activation, value: -->,\n",
       " class: subtype, props: name: activation, value: -->,\n",
       " class: subtype, props: name: activation, value: -->,\n",
       " class: subtype, props: name: activation, value: -->,\n",
       " class: subtype, props: name: activation, value: -->,\n",
       " class: subtype, props: name: activation, value: -->,\n",
       " class: subtype, props: name: activation, value: -->,\n",
       " class: subtype, props: name: activation, value: -->,\n",
       " class: subtype, props: name: activation, value: -->,\n",
       " class: subtype, props: name: activation, value: -->,\n",
       " class: subtype, props: name: activation, value: -->]"
      ]
     },
     "execution_count": 14,
     "metadata": {},
     "output_type": "execute_result"
    }
   ],
   "source": [
    "# element method get_element_by_name\n",
    "path.get_element_by_name(\"activation\")"
   ]
  },
  {
   "cell_type": "code",
   "execution_count": 15,
   "metadata": {
    "collapsed": false,
    "scrolled": true
   },
   "outputs": [
    {
     "data": {
      "text/plain": [
       "[class: entry, name: hsa:4609, type: gene, id: 1, KO: ['K04377'],\n",
       " class: entry, name: hsa:10000 hsa:207 hsa:208, type: gene, id: 2, KO: ['K04456'],\n",
       " class: entry, name: hsa:5290 hsa:5291 hsa:5293 hsa:5295 hsa:5296 hsa:8503, type: gene, id: 3, KO: ['K00922', 'K02649'],\n",
       " class: entry, name: hsa:6654 hsa:6655, type: gene, id: 4, KO: ['K03099'],\n",
       " class: entry, name: hsa:2885, type: gene, id: 5, KO: ['K04364'],\n",
       " class: entry, name: hsa:1154, type: gene, id: 6, KO: ['K04701'],\n",
       " class: entry, name: hsa:596, type: gene, id: 7, KO: ['K02161'],\n",
       " class: entry, name: hsa:122809 hsa:30837 hsa:8651 hsa:8835 hsa:9021 hsa:9306 hsa:9655, type: gene, id: 8, KO: ['K04694', 'K04695', 'K04696', 'K04697', 'K04698', 'K04699'],\n",
       " class: entry, name: hsa:1387 hsa:2033, type: gene, id: 9, KO: ['K04498'],\n",
       " class: entry, name: hsa:10379, type: gene, id: 10, KO: ['K04693'],\n",
       " class: entry, name: hsa:6772 hsa:6773 hsa:6774 hsa:6775 hsa:6776 hsa:6777 hsa:6778, type: gene, id: 11, KO: ['K11220', 'K11221', 'K04692', 'K11222', 'K11223', 'K11224', 'K11225'],\n",
       " class: entry, name: hsa:10401 hsa:51588 hsa:8554 hsa:9063, type: gene, id: 12, KO: ['K04706', 'K16063', 'K16064', 'K16065'],\n",
       " class: entry, name: hsa:5777, type: gene, id: 13, KO: ['K05697'],\n",
       " class: entry, name: hsa:10254 hsa:8027, type: gene, id: 14, KO: ['K04705'],\n",
       " class: entry, name: hsa:3716 hsa:3717 hsa:3718 hsa:7297, type: gene, id: 15, KO: ['K11217', 'K04447', 'K11218', 'K11219'],\n",
       " class: entry, name: path:hsa04120, type: map, id: 16, KO: ['map04120'],\n",
       " class: entry, name: path:hsa04010, type: map, id: 17, KO: ['map04010'],\n",
       " class: entry, name: path:hsa04151, type: map, id: 18, KO: ['map04151'],\n",
       " class: entry, name: hsa:2273, type: gene, id: 19, KO: ['K14365'],\n",
       " class: entry, name: path:hsa04060, type: map, id: 20, KO: ['map04060'],\n",
       " class: entry, name: path:hsa04630, type: map, id: 21, KO: ['map04630'],\n",
       " class: entry, name: hsa:116379 hsa:1271 hsa:1438 hsa:1439 hsa:1441 hsa:149233 hsa:163702 hsa:2057 hsa:2690 hsa:3454 hsa:3455 hsa:3459 hsa:3460 hsa:3559 hsa:3560 hsa:3561 hsa:3563 hsa:3566 hsa:3568 hsa:3570 hsa:3572 hsa:3575 hsa:3581 hsa:3587 hsa:3588 hsa:3590 hsa:3594 hsa:3595 hsa:3597 hsa:3598 hsa:3601 hsa:3953 hsa:3977 hsa:4352 hsa:50615 hsa:53832 hsa:53833 hsa:5618 hsa:58985 hsa:64109 hsa:9180 hsa:9466, type: gene, id: 22, KO: ['K05068', 'K05069', 'K05070', 'K04737', 'K05071', 'K05067', 'K05055', 'K05072', 'K05073', 'K05134', 'K05135', 'K05056', 'K05063', 'K05064', 'K05076', 'K05077', 'K05074', 'K05136', 'K05137', 'K05075', 'K05138', 'K05139', 'K05065', 'K19598', 'K05060', 'K05130', 'K05131', 'K05132', 'K05133', 'K05140', 'K05057', 'K05058', 'K05078', 'K05059', 'K05066', 'K04738', 'K05061', 'K05079', 'K05080', 'K05062', 'K05082', 'K05081', 'K19599'],\n",
       " class: entry, name: hsa:5771, type: gene, id: 23, KO: ['K18026'],\n",
       " class: entry, name: hsa:4170, type: gene, id: 24, KO: ['K02539'],\n",
       " class: entry, name: path:hsa04210, type: map, id: 25, KO: ['map04210'],\n",
       " class: entry, name: path:hsa04110, type: map, id: 26, KO: ['map04110'],\n",
       " class: entry, name: hsa:5292, type: gene, id: 27, KO: ['K04702'],\n",
       " class: entry, name: hsa:595 hsa:894 hsa:896, type: gene, id: 28, KO: ['K04503', 'K10151', 'K10152'],\n",
       " class: entry, name: hsa:5781, type: gene, id: 29, KO: ['K07293'],\n",
       " class: entry, name: hsa:1026, type: gene, id: 30, KO: ['K06625'],\n",
       " class: entry, name: hsa:598, type: gene, id: 31, KO: ['K04570'],\n",
       " class: entry, name: hsa:3265, type: gene, id: 32, KO: ['K02833'],\n",
       " class: entry, name: hsa:5894, type: gene, id: 33, KO: ['K04366'],\n",
       " class: entry, name: hsa:316, type: gene, id: 34, KO: ['K00157'],\n",
       " class: entry, name: hsa:2475, type: gene, id: 35, KO: ['K07203'],\n",
       " class: entry, name: hsa:2670, type: gene, id: 36, KO: ['K05640'],\n",
       " class: entry, name: hsa:5771, type: gene, id: 37, KO: ['K18026'],\n",
       " class: entry, name: hsa:11009 hsa:1437 hsa:1489 hsa:282616 hsa:282617 hsa:282618 hsa:29949 hsa:338376 hsa:3439 hsa:3440 hsa:3441 hsa:3442 hsa:3443 hsa:3444 hsa:3445 hsa:3446 hsa:3447 hsa:3448 hsa:3449 hsa:3451 hsa:3452 hsa:3456 hsa:3458 hsa:3467 hsa:3558 hsa:3562 hsa:3565 hsa:3567 hsa:3569 hsa:3574 hsa:3578 hsa:3586 hsa:3589 hsa:3592 hsa:3593 hsa:3596 hsa:3600 hsa:3976 hsa:5008 hsa:50604 hsa:50616 hsa:51561 hsa:53342 hsa:56832 hsa:59067 hsa:85480, type: gene, id: 38, KO: ['K05429', 'K04736', 'K05430', 'K05428', 'K05405', 'K05431', 'K05432', 'K05443', 'K05417', 'K05406', 'K05425', 'K05435', 'K05433', 'K05444', 'K05434', 'K05445', 'K05426', 'K05492', 'K05414', 'K05415', 'K04687', 'K05442', 'K05441', 'K05447', 'K05440', 'K05418', 'K05419', 'K05436', 'K05422', 'K05427', 'K16689'],\n",
       " class: entry, name: hsa:1270 hsa:1440 hsa:1442 hsa:1443 hsa:2056 hsa:2688 hsa:2689 hsa:3952 hsa:5617 hsa:7066, type: gene, id: 39, KO: ['K05420', 'K05423', 'K05437', 'K05438', 'K05424', 'K06854', 'K05439'],\n",
       " class: entry, name: hsa:6772 hsa:6773 hsa:6774 hsa:6775 hsa:6776 hsa:6777 hsa:6778, type: gene, id: 40, KO: ['K11220', 'K11221', 'K04692', 'K11222', 'K11223', 'K11224', 'K11225'],\n",
       " class: entry, name: hsa:6772 hsa:6773 hsa:6774 hsa:6775 hsa:6776 hsa:6777 hsa:6778, type: gene, id: 41, KO: ['K11220', 'K11221', 'K04692', 'K11222', 'K11223', 'K11224', 'K11225'],\n",
       " class: entry, name: undefined, type: group, id: 42, KO: [],\n",
       " class: entry, name: undefined, type: group, id: 43, KO: []]"
      ]
     },
     "execution_count": 15,
     "metadata": {},
     "output_type": "execute_result"
    }
   ],
   "source": [
    "# quick property entities (aka get_element_by_class(\"entry\"))\n",
    "path.entities"
   ]
  },
  {
   "cell_type": "code",
   "execution_count": 16,
   "metadata": {
    "collapsed": false,
    "scrolled": true
   },
   "outputs": [
    {
     "data": {
      "text/plain": [
       "[class: entry, name: hsa:4609, type: gene, id: 1, KO: ['K04377'],\n",
       " class: entry, name: hsa:10000 hsa:207 hsa:208, type: gene, id: 2, KO: ['K04456'],\n",
       " class: entry, name: hsa:5290 hsa:5291 hsa:5293 hsa:5295 hsa:5296 hsa:8503, type: gene, id: 3, KO: ['K00922', 'K02649'],\n",
       " class: entry, name: hsa:6654 hsa:6655, type: gene, id: 4, KO: ['K03099'],\n",
       " class: entry, name: hsa:2885, type: gene, id: 5, KO: ['K04364'],\n",
       " class: entry, name: hsa:1154, type: gene, id: 6, KO: ['K04701'],\n",
       " class: entry, name: hsa:596, type: gene, id: 7, KO: ['K02161'],\n",
       " class: entry, name: hsa:122809 hsa:30837 hsa:8651 hsa:8835 hsa:9021 hsa:9306 hsa:9655, type: gene, id: 8, KO: ['K04694', 'K04695', 'K04696', 'K04697', 'K04698', 'K04699'],\n",
       " class: entry, name: hsa:1387 hsa:2033, type: gene, id: 9, KO: ['K04498'],\n",
       " class: entry, name: hsa:10379, type: gene, id: 10, KO: ['K04693'],\n",
       " class: entry, name: hsa:6772 hsa:6773 hsa:6774 hsa:6775 hsa:6776 hsa:6777 hsa:6778, type: gene, id: 11, KO: ['K11220', 'K11221', 'K04692', 'K11222', 'K11223', 'K11224', 'K11225'],\n",
       " class: entry, name: hsa:10401 hsa:51588 hsa:8554 hsa:9063, type: gene, id: 12, KO: ['K04706', 'K16063', 'K16064', 'K16065'],\n",
       " class: entry, name: hsa:5777, type: gene, id: 13, KO: ['K05697'],\n",
       " class: entry, name: hsa:10254 hsa:8027, type: gene, id: 14, KO: ['K04705'],\n",
       " class: entry, name: hsa:3716 hsa:3717 hsa:3718 hsa:7297, type: gene, id: 15, KO: ['K11217', 'K04447', 'K11218', 'K11219'],\n",
       " class: entry, name: hsa:2273, type: gene, id: 19, KO: ['K14365'],\n",
       " class: entry, name: hsa:116379 hsa:1271 hsa:1438 hsa:1439 hsa:1441 hsa:149233 hsa:163702 hsa:2057 hsa:2690 hsa:3454 hsa:3455 hsa:3459 hsa:3460 hsa:3559 hsa:3560 hsa:3561 hsa:3563 hsa:3566 hsa:3568 hsa:3570 hsa:3572 hsa:3575 hsa:3581 hsa:3587 hsa:3588 hsa:3590 hsa:3594 hsa:3595 hsa:3597 hsa:3598 hsa:3601 hsa:3953 hsa:3977 hsa:4352 hsa:50615 hsa:53832 hsa:53833 hsa:5618 hsa:58985 hsa:64109 hsa:9180 hsa:9466, type: gene, id: 22, KO: ['K05068', 'K05069', 'K05070', 'K04737', 'K05071', 'K05067', 'K05055', 'K05072', 'K05073', 'K05134', 'K05135', 'K05056', 'K05063', 'K05064', 'K05076', 'K05077', 'K05074', 'K05136', 'K05137', 'K05075', 'K05138', 'K05139', 'K05065', 'K19598', 'K05060', 'K05130', 'K05131', 'K05132', 'K05133', 'K05140', 'K05057', 'K05058', 'K05078', 'K05059', 'K05066', 'K04738', 'K05061', 'K05079', 'K05080', 'K05062', 'K05082', 'K05081', 'K19599'],\n",
       " class: entry, name: hsa:5771, type: gene, id: 23, KO: ['K18026'],\n",
       " class: entry, name: hsa:4170, type: gene, id: 24, KO: ['K02539'],\n",
       " class: entry, name: hsa:5292, type: gene, id: 27, KO: ['K04702'],\n",
       " class: entry, name: hsa:595 hsa:894 hsa:896, type: gene, id: 28, KO: ['K04503', 'K10151', 'K10152'],\n",
       " class: entry, name: hsa:5781, type: gene, id: 29, KO: ['K07293'],\n",
       " class: entry, name: hsa:1026, type: gene, id: 30, KO: ['K06625'],\n",
       " class: entry, name: hsa:598, type: gene, id: 31, KO: ['K04570'],\n",
       " class: entry, name: hsa:3265, type: gene, id: 32, KO: ['K02833'],\n",
       " class: entry, name: hsa:5894, type: gene, id: 33, KO: ['K04366'],\n",
       " class: entry, name: hsa:316, type: gene, id: 34, KO: ['K00157'],\n",
       " class: entry, name: hsa:2475, type: gene, id: 35, KO: ['K07203'],\n",
       " class: entry, name: hsa:2670, type: gene, id: 36, KO: ['K05640'],\n",
       " class: entry, name: hsa:5771, type: gene, id: 37, KO: ['K18026'],\n",
       " class: entry, name: hsa:11009 hsa:1437 hsa:1489 hsa:282616 hsa:282617 hsa:282618 hsa:29949 hsa:338376 hsa:3439 hsa:3440 hsa:3441 hsa:3442 hsa:3443 hsa:3444 hsa:3445 hsa:3446 hsa:3447 hsa:3448 hsa:3449 hsa:3451 hsa:3452 hsa:3456 hsa:3458 hsa:3467 hsa:3558 hsa:3562 hsa:3565 hsa:3567 hsa:3569 hsa:3574 hsa:3578 hsa:3586 hsa:3589 hsa:3592 hsa:3593 hsa:3596 hsa:3600 hsa:3976 hsa:5008 hsa:50604 hsa:50616 hsa:51561 hsa:53342 hsa:56832 hsa:59067 hsa:85480, type: gene, id: 38, KO: ['K05429', 'K04736', 'K05430', 'K05428', 'K05405', 'K05431', 'K05432', 'K05443', 'K05417', 'K05406', 'K05425', 'K05435', 'K05433', 'K05444', 'K05434', 'K05445', 'K05426', 'K05492', 'K05414', 'K05415', 'K04687', 'K05442', 'K05441', 'K05447', 'K05440', 'K05418', 'K05419', 'K05436', 'K05422', 'K05427', 'K16689'],\n",
       " class: entry, name: hsa:1270 hsa:1440 hsa:1442 hsa:1443 hsa:2056 hsa:2688 hsa:2689 hsa:3952 hsa:5617 hsa:7066, type: gene, id: 39, KO: ['K05420', 'K05423', 'K05437', 'K05438', 'K05424', 'K06854', 'K05439'],\n",
       " class: entry, name: hsa:6772 hsa:6773 hsa:6774 hsa:6775 hsa:6776 hsa:6777 hsa:6778, type: gene, id: 40, KO: ['K11220', 'K11221', 'K04692', 'K11222', 'K11223', 'K11224', 'K11225'],\n",
       " class: entry, name: hsa:6772 hsa:6773 hsa:6774 hsa:6775 hsa:6776 hsa:6777 hsa:6778, type: gene, id: 41, KO: ['K11220', 'K11221', 'K04692', 'K11222', 'K11223', 'K11224', 'K11225']]"
      ]
     },
     "execution_count": 16,
     "metadata": {},
     "output_type": "execute_result"
    }
   ],
   "source": [
    "# quick property gene (aka. get_element_by_name(\"gene\"))\n",
    "path.genes"
   ]
  },
  {
   "cell_type": "code",
   "execution_count": 17,
   "metadata": {
    "collapsed": false,
    "scrolled": true
   },
   "outputs": [
    {
     "data": {
      "text/plain": [
       "[class: relation, props: entry1: 38, type: PPrel, entry2: 22\n",
       " ....class: subtype, props: name: activation, value: -->,\n",
       " class: relation, props: entry1: 39, type: PPrel, entry2: 22\n",
       " ....class: subtype, props: name: activation, value: -->,\n",
       " class: relation, props: entry1: 9, type: PPrel, entry2: 42\n",
       " ....class: subtype, props: name: activation, value: -->,\n",
       " class: relation, props: entry1: 43, type: PPrel, entry2: 4\n",
       " ....class: subtype, props: name: activation, value: -->,\n",
       " class: relation, props: entry1: 4, type: PPrel, entry2: 32\n",
       " ....class: subtype, props: name: activation, value: -->,\n",
       " class: relation, props: entry1: 32, type: PPrel, entry2: 33\n",
       " ....class: subtype, props: name: activation, value: -->,\n",
       " class: relation, props: entry1: 15, type: PPrel, entry2: 11\n",
       " ....class: subtype, props: name: activation, value: -->\n",
       " ....class: subtype, props: name: phosphorylation, value: +p,\n",
       " class: relation, props: entry1: 15, type: PPrel, entry2: 29\n",
       " ....class: subtype, props: name: activation, value: -->\n",
       " ....class: subtype, props: name: phosphorylation, value: +p,\n",
       " class: relation, props: entry1: 15, type: PPrel, entry2: 3\n",
       " ....class: subtype, props: name: activation, value: -->\n",
       " ....class: subtype, props: name: phosphorylation, value: +p,\n",
       " class: relation, props: entry1: 3, type: PPrel, entry2: 2\n",
       " ....class: subtype, props: name: activation, value: -->\n",
       " ....class: subtype, props: name: indirect effect, value: ..>,\n",
       " class: relation, props: entry1: 2, type: PPrel, entry2: 35\n",
       " ....class: subtype, props: name: activation, value: -->\n",
       " ....class: subtype, props: name: indirect effect, value: ..>,\n",
       " class: relation, props: entry1: 11, type: PPrel, entry2: 42\n",
       " ....class: subtype, props: name: state change, value: ...,\n",
       " class: relation, props: entry1: 42, type: GErel, entry2: 6\n",
       " ....class: subtype, props: name: expression, value: -->,\n",
       " class: relation, props: entry1: 42, type: GErel, entry2: 7\n",
       " ....class: subtype, props: name: expression, value: -->,\n",
       " class: relation, props: entry1: 42, type: GErel, entry2: 31\n",
       " ....class: subtype, props: name: expression, value: -->,\n",
       " class: relation, props: entry1: 42, type: GErel, entry2: 1\n",
       " ....class: subtype, props: name: expression, value: -->,\n",
       " class: relation, props: entry1: 42, type: GErel, entry2: 30\n",
       " ....class: subtype, props: name: expression, value: -->,\n",
       " class: relation, props: entry1: 42, type: GErel, entry2: 34\n",
       " ....class: subtype, props: name: expression, value: -->,\n",
       " class: relation, props: entry1: 42, type: GErel, entry2: 36\n",
       " ....class: subtype, props: name: expression, value: -->,\n",
       " class: relation, props: entry1: 42, type: GErel, entry2: 8\n",
       " ....class: subtype, props: name: expression, value: -->,\n",
       " class: relation, props: entry1: 42, type: GErel, entry2: 24\n",
       " ....class: subtype, props: name: expression, value: -->,\n",
       " class: relation, props: entry1: 42, type: GErel, entry2: 27\n",
       " ....class: subtype, props: name: expression, value: -->,\n",
       " class: relation, props: entry1: 42, type: GErel, entry2: 28\n",
       " ....class: subtype, props: name: expression, value: -->,\n",
       " class: relation, props: entry1: 22, type: PPrel, entry2: 15\n",
       " ....class: subtype, props: name: binding/association, value: ---,\n",
       " class: relation, props: entry1: 42, type: PPrel, entry2: 10\n",
       " ....class: subtype, props: name: binding/association, value: ---,\n",
       " class: relation, props: entry1: 12, type: PPrel, entry2: 42\n",
       " ....class: subtype, props: name: inhibition, value: --|,\n",
       " class: relation, props: entry1: 23, type: PPrel, entry2: 42\n",
       " ....class: subtype, props: name: inhibition, value: --|\n",
       " ....class: subtype, props: name: dephosphorylation, value: -p,\n",
       " class: relation, props: entry1: 37, type: PPrel, entry2: 15\n",
       " ....class: subtype, props: name: inhibition, value: --|\n",
       " ....class: subtype, props: name: dephosphorylation, value: -p,\n",
       " class: relation, props: entry1: 13, type: PPrel, entry2: 15\n",
       " ....class: subtype, props: name: inhibition, value: --|\n",
       " ....class: subtype, props: name: dephosphorylation, value: -p,\n",
       " class: relation, props: entry1: 19, type: PPrel, entry2: 42\n",
       " ....class: subtype, props: name: ubiquitination, value: +u,\n",
       " class: relation, props: entry1: 6, type: PPrel, entry2: 11\n",
       " ....class: subtype, props: name: inhibition, value: --|,\n",
       " class: relation, props: entry1: 8, type: PPrel, entry2: 15\n",
       " ....class: subtype, props: name: inhibition, value: --|,\n",
       " class: relation, props: entry1: 14, type: PPrel, entry2: 15\n",
       " ....class: subtype, props: name: activation, value: -->]"
      ]
     },
     "execution_count": 17,
     "metadata": {},
     "output_type": "execute_result"
    }
   ],
   "source": [
    "# quick method reactions (aka. get_element_by_class(\"relation\"))\n",
    "path.reactions"
   ]
  }
 ],
 "metadata": {
  "kernelspec": {
   "display_name": "Python 3",
   "language": "python",
   "name": "python3"
  },
  "language_info": {
   "codemirror_mode": {
    "name": "ipython",
    "version": 3
   },
   "file_extension": ".py",
   "mimetype": "text/x-python",
   "name": "python",
   "nbconvert_exporter": "python",
   "pygments_lexer": "ipython3",
   "version": "3.5.2"
  }
 },
 "nbformat": 4,
 "nbformat_minor": 1
}
