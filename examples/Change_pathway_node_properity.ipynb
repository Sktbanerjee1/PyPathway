{
 "cells": [
  {
   "cell_type": "code",
   "execution_count": 1,
   "metadata": {
    "collapsed": true
   },
   "outputs": [],
   "source": [
    "from pypathway import *"
   ]
  },
  {
   "cell_type": "code",
   "execution_count": 12,
   "metadata": {
    "collapsed": false
   },
   "outputs": [
    {
     "data": {
      "text/html": [
       "<div id=\"box1477121374641283\" style=\"width: 100%; height: 0px;background-color: #ffffff\">\n",
       "    <script>\n",
       "        var box = $(\"#box1477121374641283\");\n",
       "        var father = box.parent();\n",
       "//        var grandfather = father.parent();\n",
       "        var thirdfather = father.parent().parent().parent();\n",
       "        thirdfather.children(\".prompt\").remove();\n",
       "        father.parent().children(\".prompt\").remove();\n",
       "        father.css(\"max-width\", \"100%\");\n",
       "        box.css(\"margin-left\", \"5px\");\n",
       "//        box.css(\"margin-top\", \"10px\");\n",
       "        var target = document.getElementById(\"box1477121374641283\");\n",
       "//        var w = target.offsetWidth;\n",
       "        var w = thirdfather.outerWidth();\n",
       "        console.log(w);\n",
       "        target.style.height = w * 0.7 + \"px\";\n",
       "        box.append($(\"<iframe width='\" + (parseInt(w) - 15).toString() + \"'\" +\n",
       "                \" height='\" + w * 0.7 + \"' src='assets/GPML/gpml_1477121374641283.html' \" +\n",
       "                \"frameborder='0'></iframe>\"))\n",
       "    </script>\n",
       "</div>"
      ],
      "text/plain": [
       "<IPython.core.display.HTML object>"
      ]
     },
     "execution_count": 12,
     "metadata": {},
     "output_type": "execute_result"
    }
   ],
   "source": [
    "path = PublicDatabase.search_wp(\"jak\")[3].load()\n",
    "# draw with default\n",
    "path.draw()"
   ]
  },
  {
   "cell_type": "code",
   "execution_count": 29,
   "metadata": {
    "collapsed": false,
    "scrolled": false
   },
   "outputs": [
    {
     "data": {
      "text/html": [
       "<div id=\"box1477121662172158\" style=\"width: 100%; height: 0px;background-color: #ffffff\">\n",
       "    <script>\n",
       "        var box = $(\"#box1477121662172158\");\n",
       "        var father = box.parent();\n",
       "//        var grandfather = father.parent();\n",
       "        var thirdfather = father.parent().parent().parent();\n",
       "        thirdfather.children(\".prompt\").remove();\n",
       "        father.parent().children(\".prompt\").remove();\n",
       "        father.css(\"max-width\", \"100%\");\n",
       "        box.css(\"margin-left\", \"5px\");\n",
       "//        box.css(\"margin-top\", \"10px\");\n",
       "        var target = document.getElementById(\"box1477121662172158\");\n",
       "//        var w = target.offsetWidth;\n",
       "        var w = thirdfather.outerWidth();\n",
       "        console.log(w);\n",
       "        target.style.height = w * 0.7 + \"px\";\n",
       "        box.append($(\"<iframe width='\" + (parseInt(w) - 15).toString() + \"'\" +\n",
       "                \" height='\" + w * 0.7 + \"' src='assets/GPML/gpml_1477121662172158.html' \" +\n",
       "                \"frameborder='0'></iframe>\"))\n",
       "    </script>\n",
       "</div>"
      ],
      "text/plain": [
       "<IPython.core.display.HTML object>"
      ]
     },
     "execution_count": 29,
     "metadata": {},
     "output_type": "execute_result"
    }
   ],
   "source": [
    "# now lets change all node's color to red\n",
    "vo = VisualizationOption(default_value=[ValueChanged({NP.BG_COLOR: \"red\"})])\n",
    "path.integrate([x.props[\"GraphId\"] for x in path.nodes], [vo for _ in path.entities])\n",
    "path.draw()"
   ]
  },
  {
   "cell_type": "code",
   "execution_count": 41,
   "metadata": {
    "collapsed": false
   },
   "outputs": [
    {
     "data": {
      "text/html": [
       "<div id=\"box1477121864475364\" style=\"width: 100%; height: 0px;background-color: #ffffff\">\n",
       "    <script>\n",
       "        var box = $(\"#box1477121864475364\");\n",
       "        var father = box.parent();\n",
       "//        var grandfather = father.parent();\n",
       "        var thirdfather = father.parent().parent().parent();\n",
       "        thirdfather.children(\".prompt\").remove();\n",
       "        father.parent().children(\".prompt\").remove();\n",
       "        father.css(\"max-width\", \"100%\");\n",
       "        box.css(\"margin-left\", \"5px\");\n",
       "//        box.css(\"margin-top\", \"10px\");\n",
       "        var target = document.getElementById(\"box1477121864475364\");\n",
       "//        var w = target.offsetWidth;\n",
       "        var w = thirdfather.outerWidth();\n",
       "        console.log(w);\n",
       "        target.style.height = w * 0.7 + \"px\";\n",
       "        box.append($(\"<iframe width='\" + (parseInt(w) - 15).toString() + \"'\" +\n",
       "                \" height='\" + w * 0.7 + \"' src='assets/GPML/gpml_1477121864475364.html' \" +\n",
       "                \"frameborder='0'></iframe>\"))\n",
       "    </script>\n",
       "</div>"
      ],
      "text/plain": [
       "<IPython.core.display.HTML object>"
      ]
     },
     "execution_count": 41,
     "metadata": {},
     "output_type": "execute_result"
    }
   ],
   "source": [
    "# change opacity and text / border color\n",
    "vo = VisualizationOption(default_value=[ValueChanged({NP.COLOR: \"Blue\", NP.OPACITY: 0.2})])\n",
    "path.integrate([x.props[\"GraphId\"] for x in path.nodes], [vo for _ in path.entities])\n",
    "path.draw()"
   ]
  }
 ],
 "metadata": {
  "kernelspec": {
   "display_name": "Python 3",
   "language": "python",
   "name": "python3"
  },
  "language_info": {
   "codemirror_mode": {
    "name": "ipython",
    "version": 3
   },
   "file_extension": ".py",
   "mimetype": "text/x-python",
   "name": "python",
   "nbconvert_exporter": "python",
   "pygments_lexer": "ipython3",
   "version": "3.5.1"
  }
 },
 "nbformat": 4,
 "nbformat_minor": 1
}
