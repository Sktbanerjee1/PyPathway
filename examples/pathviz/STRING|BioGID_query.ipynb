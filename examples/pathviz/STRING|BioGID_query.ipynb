{
 "cells": [
  {
   "cell_type": "markdown",
   "metadata": {},
   "source": [
    "# STRING and BioGRID APIs"
   ]
  },
  {
   "cell_type": "code",
   "execution_count": 1,
   "metadata": {
    "collapsed": true
   },
   "outputs": [],
   "source": [
    "from pypathway import STRING, BioGRID"
   ]
  },
  {
   "cell_type": "markdown",
   "metadata": {},
   "source": [
    "## Search molecualr"
   ]
  },
  {
   "cell_type": "code",
   "execution_count": 2,
   "metadata": {
    "scrolled": false
   },
   "outputs": [],
   "source": [
    "# the search api return a list of result and could be retrieve using load() method\n",
    "G = STRING.search(\"CD4\")[35].load()"
   ]
  },
  {
   "cell_type": "code",
   "execution_count": 3,
   "metadata": {},
   "outputs": [
    {
     "data": {
      "text/plain": [
       "{'string:9606.ENSP00000011653': {'Symbol': 'CD4'},\n",
       " 'string:9606.ENSP00000264972': {'Symbol': 'ZAP70'},\n",
       " 'string:9606.ENSP00000283635': {'Symbol': 'CD8A'},\n",
       " 'string:9606.ENSP00000337825': {'Symbol': 'LCK'},\n",
       " 'string:9606.ENSP00000353099': {'Symbol': 'HLA-DRB1'},\n",
       " 'string:9606.ENSP00000353224': {'Symbol': 'TFRC'},\n",
       " 'string:9606.ENSP00000356346': {'Symbol': 'PTPRC'},\n",
       " 'string:9606.ENSP00000364076': {'Symbol': 'HLA-DQA2'},\n",
       " 'string:9606.ENSP00000364114': {'Symbol': 'HLA-DRB5'},\n",
       " 'string:9606.ENSP00000364898': {'Symbol': 'SYK'},\n",
       " 'string:9606.ENSP00000378786': {'Symbol': 'HLA-DRA'}}"
      ]
     },
     "execution_count": 3,
     "metadata": {},
     "output_type": "execute_result"
    }
   ],
   "source": [
    "G.node"
   ]
  },
  {
   "cell_type": "code",
   "execution_count": 4,
   "metadata": {},
   "outputs": [
    {
     "data": {
      "text/plain": [
       "networkx.classes.graph.Graph"
      ]
     },
     "execution_count": 4,
     "metadata": {},
     "output_type": "execute_result"
    }
   ],
   "source": [
    "# the result is a networkx.Graph object\n",
    "type(G)"
   ]
  },
  {
   "cell_type": "code",
   "execution_count": 5,
   "metadata": {},
   "outputs": [],
   "source": [
    "# due to the difference of RESTful API design, the BioGRID database API accomplish search and retrieve in one step\n",
    "G2 = BioGRID.search(\"CD4\")"
   ]
  },
  {
   "cell_type": "code",
   "execution_count": 6,
   "metadata": {},
   "outputs": [
    {
     "data": {
      "text/html": [
       "<div id=\"box1505096745\" style=\"width: 100%; height: 0px;background-color: #ffffff\">\n",
       "    <script>\n",
       "        var box = $(\"#box1505096745\");\n",
       "        var father = box.parent();\n",
       "        var thirdfather = father.parent().parent().parent();\n",
       "        thirdfather.children(\".prompt\").remove();\n",
       "        father.parent().children(\".prompt\").remove();\n",
       "        father.css(\"max-width\", \"100%\");\n",
       "        box.css(\"margin-left\", \"5px\");\n",
       "        box.css(\"margin-top\", \"3px\");\n",
       "        var target = document.getElementById(\"box1505096745\");\n",
       "        var w = thirdfather.outerWidth();\n",
       "        console.log(w);\n",
       "        target.style.height = w * 0.625 + \"px\";\n",
       "        box.append($(\"<iframe id='inner-iframe' width='\" + (parseInt(w) - 15).toString() + \"'\" +\n",
       "                \" height='\" + w * 0.625 + \"' src=files/caches/nx_plot/index.html \" +\n",
       "                \"frameborder='0'></iframe>\"));\n",
       "        window.onresize = function () {\n",
       "            console.log(\"resize\", thirdfather.outerWidth());\n",
       "            var inner_frame = $(\"#inner-iframe\");\n",
       "            inner_frame.css(\"width\", thirdfather.outerWidth() - 15 + \"px\");\n",
       "            inner_frame.css(\"height\", thirdfather.outerWidth() * 0.625 + \"px\");\n",
       "            father.css(\"height\", thirdfather.outerWidth() * 0.625 + 8 + \"px\");\n",
       "            thirdfather.css(\"height\", thirdfather.outerWidth() * 0.625 + 8 + \"px\");\n",
       "            father.parent().css(\"height\", thirdfather.outerWidth() * 0.625 + 8 + \"px\");\n",
       "        }\n",
       "    </script>\n",
       "</div>"
      ],
      "text/plain": [
       "<IPython.core.display.HTML object>"
      ]
     },
     "execution_count": 6,
     "metadata": {},
     "output_type": "execute_result"
    }
   ],
   "source": [
    "G.plot()"
   ]
  },
  {
   "cell_type": "markdown",
   "metadata": {},
   "source": [
    "## Overall Graph\n",
    "load the overall graph for certain organsim, the network might be pretty large a the whole process will take minuates to finish"
   ]
  },
  {
   "cell_type": "code",
   "execution_count": 8,
   "metadata": {
    "scrolled": false
   },
   "outputs": [
    {
     "name": "stdout",
     "output_type": "stream",
     "text": [
      "Download 9606 network from STRING, it may take several minutes\n"
     ]
    }
   ],
   "source": [
    "G = STRING.overall_graph(\"hsa\")"
   ]
  },
  {
   "cell_type": "code",
   "execution_count": null,
   "metadata": {
    "collapsed": true
   },
   "outputs": [],
   "source": [
    "# graph informations, nodes and edges\n",
    "len(G), len(G.edges())"
   ]
  },
  {
   "cell_type": "code",
   "execution_count": 11,
   "metadata": {},
   "outputs": [
    {
     "name": "stdout",
     "output_type": "stream",
     "text": [
      "Download network sets from BioGRID, it will take several minutes\n",
      "Homo_sapiens\n"
     ]
    }
   ],
   "source": [
    "G = BioGRID.overall_graph('hsa')"
   ]
  },
  {
   "cell_type": "code",
   "execution_count": 13,
   "metadata": {},
   "outputs": [
    {
     "data": {
      "text/plain": [
       "(20831, 290268)"
      ]
     },
     "execution_count": 13,
     "metadata": {},
     "output_type": "execute_result"
    }
   ],
   "source": [
    "# graph informations, nodes and edges\n",
    "len(G), len(G.edges())"
   ]
  }
 ],
 "metadata": {
  "kernelspec": {
   "display_name": "Python 3",
   "language": "python",
   "name": "python3"
  },
  "language_info": {
   "codemirror_mode": {
    "name": "ipython",
    "version": 3
   },
   "file_extension": ".py",
   "mimetype": "text/x-python",
   "name": "python",
   "nbconvert_exporter": "python",
   "pygments_lexer": "ipython3",
   "version": "3.5.2"
  }
 },
 "nbformat": 4,
 "nbformat_minor": 2
}
