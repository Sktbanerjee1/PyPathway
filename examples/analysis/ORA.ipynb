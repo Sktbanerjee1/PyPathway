{
 "cells": [
  {
   "cell_type": "markdown",
   "metadata": {},
   "source": [
    "# ORA\n",
    "the general and specfic for KEGG, REACTOME and GO"
   ]
  },
  {
   "cell_type": "code",
   "execution_count": 1,
   "metadata": {
    "collapsed": true
   },
   "outputs": [],
   "source": [
    "import sys\n",
    "sys.path.insert(0, \"/Users/yangxu/PyPathway\")"
   ]
  },
  {
   "cell_type": "code",
   "execution_count": 2,
   "metadata": {
    "collapsed": true
   },
   "outputs": [],
   "source": [
    "import pandas as pd\n",
    "from pypathway import Reactome, GO, KEGG, ORA\n",
    "from pypathway import ColorectalCancer, IdMapping, GMTUtils\n",
    "from pypathway import EnrichmentExport\n",
    "import os"
   ]
  },
  {
   "cell_type": "code",
   "execution_count": 3,
   "metadata": {
    "collapsed": true
   },
   "outputs": [],
   "source": [
    "# load a gmt file.\n",
    "gmt = GMTUtils.parse_gmt_file(\"../../pypathway/tests/gmt_file/h.all.v6.0.entrez.gmt\")"
   ]
  },
  {
   "cell_type": "code",
   "execution_count": 4,
   "metadata": {
    "collapsed": true
   },
   "outputs": [],
   "source": [
    "# load the example\n",
    "c = ColorectalCancer()"
   ]
  },
  {
   "cell_type": "code",
   "execution_count": 5,
   "metadata": {},
   "outputs": [
    {
     "data": {
      "text/plain": [
       "(5320, 17216)"
      ]
     },
     "execution_count": 5,
     "metadata": {},
     "output_type": "execute_result"
    }
   ],
   "source": [
    "# infomation of datasets\n",
    "len(c.deg_list), len(c.background)"
   ]
  },
  {
   "cell_type": "code",
   "execution_count": 6,
   "metadata": {
    "collapsed": true,
    "scrolled": false
   },
   "outputs": [],
   "source": [
    "res_h = ORA.run(c.deg_list, c.background, gmt)"
   ]
  },
  {
   "cell_type": "code",
   "execution_count": 7,
   "metadata": {},
   "outputs": [
    {
     "data": {
      "text/html": [
       "<div>\n",
       "<style>\n",
       "    .dataframe thead tr:only-child th {\n",
       "        text-align: right;\n",
       "    }\n",
       "\n",
       "    .dataframe thead th {\n",
       "        text-align: left;\n",
       "    }\n",
       "\n",
       "    .dataframe tbody tr th {\n",
       "        vertical-align: top;\n",
       "    }\n",
       "</style>\n",
       "<table border=\"1\" class=\"dataframe\">\n",
       "  <thead>\n",
       "    <tr style=\"text-align: right;\">\n",
       "      <th></th>\n",
       "      <th>name</th>\n",
       "      <th>mapped</th>\n",
       "      <th>number in study</th>\n",
       "      <th>p-value</th>\n",
       "      <th>fdr</th>\n",
       "    </tr>\n",
       "  </thead>\n",
       "  <tbody>\n",
       "    <tr>\n",
       "      <th>0</th>\n",
       "      <td>HALLMARK_MITOTIC_SPINDLE</td>\n",
       "      <td>182</td>\n",
       "      <td>77</td>\n",
       "      <td>7.125914e-04</td>\n",
       "      <td>1.370368e-03</td>\n",
       "    </tr>\n",
       "    <tr>\n",
       "      <th>1</th>\n",
       "      <td>HALLMARK_ESTROGEN_RESPONSE_LATE</td>\n",
       "      <td>191</td>\n",
       "      <td>100</td>\n",
       "      <td>4.735396e-10</td>\n",
       "      <td>2.630776e-09</td>\n",
       "    </tr>\n",
       "    <tr>\n",
       "      <th>2</th>\n",
       "      <td>HALLMARK_UV_RESPONSE_UP</td>\n",
       "      <td>152</td>\n",
       "      <td>63</td>\n",
       "      <td>3.682014e-03</td>\n",
       "      <td>5.753147e-03</td>\n",
       "    </tr>\n",
       "    <tr>\n",
       "      <th>3</th>\n",
       "      <td>HALLMARK_INFLAMMATORY_RESPONSE</td>\n",
       "      <td>184</td>\n",
       "      <td>68</td>\n",
       "      <td>4.550977e-02</td>\n",
       "      <td>6.692613e-02</td>\n",
       "    </tr>\n",
       "    <tr>\n",
       "      <th>4</th>\n",
       "      <td>HALLMARK_GLYCOLYSIS</td>\n",
       "      <td>184</td>\n",
       "      <td>91</td>\n",
       "      <td>9.956407e-08</td>\n",
       "      <td>3.555860e-07</td>\n",
       "    </tr>\n",
       "  </tbody>\n",
       "</table>\n",
       "</div>"
      ],
      "text/plain": [
       "                              name  mapped  number in study       p-value  \\\n",
       "0         HALLMARK_MITOTIC_SPINDLE     182               77  7.125914e-04   \n",
       "1  HALLMARK_ESTROGEN_RESPONSE_LATE     191              100  4.735396e-10   \n",
       "2          HALLMARK_UV_RESPONSE_UP     152               63  3.682014e-03   \n",
       "3   HALLMARK_INFLAMMATORY_RESPONSE     184               68  4.550977e-02   \n",
       "4              HALLMARK_GLYCOLYSIS     184               91  9.956407e-08   \n",
       "\n",
       "            fdr  \n",
       "0  1.370368e-03  \n",
       "1  2.630776e-09  \n",
       "2  5.753147e-03  \n",
       "3  6.692613e-02  \n",
       "4  3.555860e-07  "
      ]
     },
     "execution_count": 7,
     "metadata": {},
     "output_type": "execute_result"
    }
   ],
   "source": [
    "res_h.table.head()"
   ]
  },
  {
   "cell_type": "code",
   "execution_count": 8,
   "metadata": {},
   "outputs": [
    {
     "data": {
      "text/html": [
       "<div id=\"box1510799314762662\" style=\"width: 100%; height: 0px;background-color: #ffffff\">\n",
       "    <script>\n",
       "        var box = $(\"#box1510799314762662\");\n",
       "        var father = box.parent();\n",
       "        var thirdfather = father.parent().parent().parent();\n",
       "        thirdfather.children(\".prompt\").remove();\n",
       "        father.parent().children(\".prompt\").remove();\n",
       "        father.css(\"max-width\", \"100%\");\n",
       "        box.css(\"margin-left\", \"5px\");\n",
       "        var target = document.getElementById(\"box1510799314762662\");\n",
       "        var w = thirdfather.outerWidth();\n",
       "        console.log(w);\n",
       "        target.style.height = w * 0.6 + \"px\";\n",
       "        box.append($(\"<iframe width='\" + (parseInt(w) - 15).toString() + \"'\" +\n",
       "                \" height='\" + (w * 0.6 - 5) + \"' src='assets/plot/plot_1510799314762662.html' \" +\n",
       "                \"frameborder='0'></iframe>\"))\n",
       "    </script>\n",
       "</div>"
      ],
      "text/plain": [
       "<IPython.core.display.HTML object>"
      ]
     },
     "execution_count": 8,
     "metadata": {},
     "output_type": "execute_result"
    }
   ],
   "source": [
    "# inline bar plot.\n",
    "res_h.plot()"
   ]
  },
  {
   "cell_type": "markdown",
   "metadata": {},
   "source": [
    "## KEGG"
   ]
  },
  {
   "cell_type": "code",
   "execution_count": 9,
   "metadata": {
    "collapsed": true,
    "scrolled": false
   },
   "outputs": [],
   "source": [
    "# kegg enrichment for certain organism\n",
    "r_kg = KEGG.run(c.deg_list, c.background, 'hsa')"
   ]
  },
  {
   "cell_type": "code",
   "execution_count": 10,
   "metadata": {},
   "outputs": [
    {
     "data": {
      "text/html": [
       "<div>\n",
       "<style>\n",
       "    .dataframe thead tr:only-child th {\n",
       "        text-align: right;\n",
       "    }\n",
       "\n",
       "    .dataframe thead th {\n",
       "        text-align: left;\n",
       "    }\n",
       "\n",
       "    .dataframe tbody tr th {\n",
       "        vertical-align: top;\n",
       "    }\n",
       "</style>\n",
       "<table border=\"1\" class=\"dataframe\">\n",
       "  <thead>\n",
       "    <tr style=\"text-align: right;\">\n",
       "      <th></th>\n",
       "      <th>ID</th>\n",
       "      <th>Name</th>\n",
       "      <th>mapped</th>\n",
       "      <th>deg</th>\n",
       "      <th>p-value</th>\n",
       "      <th>fdr</th>\n",
       "    </tr>\n",
       "  </thead>\n",
       "  <tbody>\n",
       "    <tr>\n",
       "      <th>0</th>\n",
       "      <td>hsa00310</td>\n",
       "      <td>Lysine degradation - Homo sapiens (human)</td>\n",
       "      <td>53</td>\n",
       "      <td>22</td>\n",
       "      <td>0.066158</td>\n",
       "      <td>0.154538</td>\n",
       "    </tr>\n",
       "    <tr>\n",
       "      <th>1</th>\n",
       "      <td>hsa04810</td>\n",
       "      <td>Regulation of actin cytoskeleton - Homo sapien...</td>\n",
       "      <td>188</td>\n",
       "      <td>84</td>\n",
       "      <td>0.000045</td>\n",
       "      <td>0.000628</td>\n",
       "    </tr>\n",
       "    <tr>\n",
       "      <th>2</th>\n",
       "      <td>hsa00051</td>\n",
       "      <td>Fructose and mannose metabolism - Homo sapiens...</td>\n",
       "      <td>31</td>\n",
       "      <td>14</td>\n",
       "      <td>0.066710</td>\n",
       "      <td>0.154538</td>\n",
       "    </tr>\n",
       "    <tr>\n",
       "      <th>3</th>\n",
       "      <td>hsa00220</td>\n",
       "      <td>Arginine biosynthesis - Homo sapiens (human)</td>\n",
       "      <td>18</td>\n",
       "      <td>5</td>\n",
       "      <td>0.697038</td>\n",
       "      <td>0.815440</td>\n",
       "    </tr>\n",
       "    <tr>\n",
       "      <th>4</th>\n",
       "      <td>hsa04151</td>\n",
       "      <td>PI3K-Akt signaling pathway - Homo sapiens (human)</td>\n",
       "      <td>311</td>\n",
       "      <td>111</td>\n",
       "      <td>0.038540</td>\n",
       "      <td>0.105415</td>\n",
       "    </tr>\n",
       "  </tbody>\n",
       "</table>\n",
       "</div>"
      ],
      "text/plain": [
       "         ID                                               Name  mapped  deg  \\\n",
       "0  hsa00310          Lysine degradation - Homo sapiens (human)      53   22   \n",
       "1  hsa04810  Regulation of actin cytoskeleton - Homo sapien...     188   84   \n",
       "2  hsa00051  Fructose and mannose metabolism - Homo sapiens...      31   14   \n",
       "3  hsa00220       Arginine biosynthesis - Homo sapiens (human)      18    5   \n",
       "4  hsa04151  PI3K-Akt signaling pathway - Homo sapiens (human)     311  111   \n",
       "\n",
       "    p-value       fdr  \n",
       "0  0.066158  0.154538  \n",
       "1  0.000045  0.000628  \n",
       "2  0.066710  0.154538  \n",
       "3  0.697038  0.815440  \n",
       "4  0.038540  0.105415  "
      ]
     },
     "execution_count": 10,
     "metadata": {},
     "output_type": "execute_result"
    }
   ],
   "source": [
    "r_kg.table.head()"
   ]
  },
  {
   "cell_type": "code",
   "execution_count": 11,
   "metadata": {},
   "outputs": [
    {
     "data": {
      "text/html": [
       "<div id=\"box151079932440201\" style=\"width: 100%; height: 0px;background-color: #ffffff\">\n",
       "    <script>\n",
       "        var box = $(\"#box151079932440201\");\n",
       "        var father = box.parent();\n",
       "        var thirdfather = father.parent().parent().parent();\n",
       "        thirdfather.children(\".prompt\").remove();\n",
       "        father.parent().children(\".prompt\").remove();\n",
       "        father.css(\"max-width\", \"100%\");\n",
       "        box.css(\"margin-left\", \"5px\");\n",
       "        var target = document.getElementById(\"box151079932440201\");\n",
       "        var w = thirdfather.outerWidth();\n",
       "        console.log(w);\n",
       "        target.style.height = w * 0.6 + \"px\";\n",
       "        box.append($(\"<iframe width='\" + (parseInt(w) - 15).toString() + \"'\" +\n",
       "                \" height='\" + (w * 0.6 - 5) + \"' src='assets/plot/plot_151079932440201.html' \" +\n",
       "                \"frameborder='0'></iframe>\"))\n",
       "    </script>\n",
       "</div>"
      ],
      "text/plain": [
       "<IPython.core.display.HTML object>"
      ]
     },
     "execution_count": 11,
     "metadata": {},
     "output_type": "execute_result"
    }
   ],
   "source": [
    "r_kg.plot()"
   ]
  },
  {
   "cell_type": "markdown",
   "metadata": {},
   "source": [
    "## Reactome"
   ]
  },
  {
   "cell_type": "code",
   "execution_count": 12,
   "metadata": {
    "collapsed": true
   },
   "outputs": [],
   "source": [
    "# the Example of using the warpper of Reactome gene set enrichment analysis"
   ]
  },
  {
   "cell_type": "code",
   "execution_count": 7,
   "metadata": {},
   "outputs": [],
   "source": [
    "sybs = [x[1][0] for x in IdMapping.convert(input_id=c.deg_list, species='hsa', source='ENTREZID', target='SYMBOL') if x[1]]"
   ]
  },
  {
   "cell_type": "code",
   "execution_count": 8,
   "metadata": {},
   "outputs": [
    {
     "data": {
      "text/plain": [
       "['A2M',\n",
       " 'MKKS',\n",
       " 'S100A3',\n",
       " 'ANKRD29',\n",
       " 'TMEM250',\n",
       " 'NAT1',\n",
       " 'NAT2',\n",
       " 'SERPINA3',\n",
       " 'AAMP',\n",
       " 'AARS']"
      ]
     },
     "execution_count": 8,
     "metadata": {},
     "output_type": "execute_result"
    }
   ],
   "source": [
    "sybs[:10]"
   ]
  },
  {
   "cell_type": "code",
   "execution_count": 9,
   "metadata": {
    "scrolled": false
   },
   "outputs": [],
   "source": [
    "# the input is a list of symbol\n",
    "r = Reactome.run(sybs[:10], organism='Homo sapiens')"
   ]
  },
  {
   "cell_type": "code",
   "execution_count": 10,
   "metadata": {
    "scrolled": true
   },
   "outputs": [
    {
     "data": {
      "text/html": [
       "<div>\n",
       "<style>\n",
       "    .dataframe thead tr:only-child th {\n",
       "        text-align: right;\n",
       "    }\n",
       "\n",
       "    .dataframe thead th {\n",
       "        text-align: left;\n",
       "    }\n",
       "\n",
       "    .dataframe tbody tr th {\n",
       "        vertical-align: top;\n",
       "    }\n",
       "</style>\n",
       "<table border=\"1\" class=\"dataframe\">\n",
       "  <thead>\n",
       "    <tr style=\"text-align: right;\">\n",
       "      <th></th>\n",
       "      <th>name</th>\n",
       "      <th>dbId</th>\n",
       "      <th>found</th>\n",
       "      <th>p-value</th>\n",
       "      <th>fdr</th>\n",
       "      <th>species</th>\n",
       "    </tr>\n",
       "  </thead>\n",
       "  <tbody>\n",
       "    <tr>\n",
       "      <th>0</th>\n",
       "      <td>Acetylation</td>\n",
       "      <td>156582</td>\n",
       "      <td>2</td>\n",
       "      <td>0.000557</td>\n",
       "      <td>0.023960</td>\n",
       "      <td>Homo sapiens</td>\n",
       "    </tr>\n",
       "    <tr>\n",
       "      <th>1</th>\n",
       "      <td>Defective SLC6A2 causes orthostatic intoleranc...</td>\n",
       "      <td>5619109</td>\n",
       "      <td>1</td>\n",
       "      <td>0.006418</td>\n",
       "      <td>0.131517</td>\n",
       "      <td>Homo sapiens</td>\n",
       "    </tr>\n",
       "    <tr>\n",
       "      <th>2</th>\n",
       "      <td>Amino acid transport across the plasma membrane</td>\n",
       "      <td>352230</td>\n",
       "      <td>2</td>\n",
       "      <td>0.009394</td>\n",
       "      <td>0.131517</td>\n",
       "      <td>Homo sapiens</td>\n",
       "    </tr>\n",
       "    <tr>\n",
       "      <th>3</th>\n",
       "      <td>Neurotransmitter uptake and metabolism In glia...</td>\n",
       "      <td>112313</td>\n",
       "      <td>1</td>\n",
       "      <td>0.021240</td>\n",
       "      <td>0.162962</td>\n",
       "      <td>Homo sapiens</td>\n",
       "    </tr>\n",
       "    <tr>\n",
       "      <th>4</th>\n",
       "      <td>Astrocytic Glutamate-Glutamine Uptake And Meta...</td>\n",
       "      <td>210455</td>\n",
       "      <td>1</td>\n",
       "      <td>0.021240</td>\n",
       "      <td>0.162962</td>\n",
       "      <td>Homo sapiens</td>\n",
       "    </tr>\n",
       "  </tbody>\n",
       "</table>\n",
       "</div>"
      ],
      "text/plain": [
       "                                                name     dbId  found  \\\n",
       "0                                        Acetylation   156582      2   \n",
       "1  Defective SLC6A2 causes orthostatic intoleranc...  5619109      1   \n",
       "2    Amino acid transport across the plasma membrane   352230      2   \n",
       "3  Neurotransmitter uptake and metabolism In glia...   112313      1   \n",
       "4  Astrocytic Glutamate-Glutamine Uptake And Meta...   210455      1   \n",
       "\n",
       "    p-value       fdr       species  \n",
       "0  0.000557  0.023960  Homo sapiens  \n",
       "1  0.006418  0.131517  Homo sapiens  \n",
       "2  0.009394  0.131517  Homo sapiens  \n",
       "3  0.021240  0.162962  Homo sapiens  \n",
       "4  0.021240  0.162962  Homo sapiens  "
      ]
     },
     "execution_count": 10,
     "metadata": {},
     "output_type": "execute_result"
    }
   ],
   "source": [
    "# the result\n",
    "r.table.head()"
   ]
  },
  {
   "cell_type": "markdown",
   "metadata": {},
   "source": [
    "## Gene ontology"
   ]
  },
  {
   "cell_type": "code",
   "execution_count": 18,
   "metadata": {
    "collapsed": true
   },
   "outputs": [],
   "source": [
    "# make the association file using the id_mapping function\n",
    "# detail using will be shown in the utils section\n",
    "r = IdMapping.convert_to_dict(input_id=c.background, source='ENTREZID', target=\"GO\", organism='hsa')"
   ]
  },
  {
   "cell_type": "code",
   "execution_count": 19,
   "metadata": {
    "scrolled": true
   },
   "outputs": [
    {
     "name": "stdout",
     "output_type": "stream",
     "text": [
      "load obo file /Users/yangxu/PyPathway/examples/analysis/go.obo\n",
      "/Users/yangxu/PyPathway/examples/analysis/go.obo: fmt(1.2) rel(2017-04-28) 48,589 GO Terms\n",
      "fisher module not installed.  Falling back on scipy.stats.fisher_exact\n"
     ]
    },
    {
     "name": "stderr",
     "output_type": "stream",
     "text": [
      "Propagating term counts to parents ..\n",
      "goids not found: {'GO:0140069', 'GO:0102752', 'GO:0103066', 'GO:0102113', 'GO:0106046', 'GO:0102389', 'GO:0140052', 'GO:0102486', 'GO:0120092', 'GO:0120103', 'GO:0102158', 'GO:0102966', 'GO:0140080', 'GO:0061896', 'GO:0102491', 'GO:0120094', 'GO:0061890', 'GO:0140059', 'GO:0102499', 'GO:0140078', 'GO:0140065', 'GO:0102250', 'GO:0140067', 'GO:0120058', 'GO:0102485', 'GO:0061931', 'GO:0120072', 'GO:0102102', 'GO:0140031', 'GO:0061899', 'GO:0102500', 'GO:0140068', 'GO:0102200', 'GO:0102524', 'GO:0120108', 'GO:0102756', 'GO:0120053', 'GO:0061921', 'GO:0102567', 'GO:0110053', 'GO:0102769', 'GO:0106030', 'GO:0102797', 'GO:0102488', 'GO:0102420', 'GO:0102751', 'GO:0102148', 'GO:0103067', 'GO:0102487', 'GO:0102568', 'GO:0102707', 'GO:0106028', 'GO:0140036', 'GO:0061920', 'GO:0140066', 'GO:0102489', 'GO:0106044', 'GO:0061885', 'GO:0102294', 'GO:0140058', 'GO:0061897', 'GO:0110026', 'GO:0106022', 'GO:0102953', 'GO:0103045', 'GO:0102773', 'GO:0102798', 'GO:0140030', 'GO:0061944', 'GO:0061881', 'GO:0061898', 'GO:0106045', 'GO:0110024', 'GO:0102965'}\n"
     ]
    },
    {
     "name": "stdout",
     "output_type": "stream",
     "text": [
      "15,292 out of 17,216 population items found in association\n",
      "Calculating uncorrected p-values using fisher_scipy_stats\n",
      " 5,114 out of  5,320 study items found in association\n",
      "Running multitest correction: local bonferroni\n",
      "Running multitest correction: local sidak\n",
      "Running multitest correction: local holm\n",
      "  15,947 GO terms are associated with 5,114 of 5,320 study items\n",
      "  21,008 GO terms are associated with 15,292 of 17,216 population items\n"
     ]
    }
   ],
   "source": [
    "# run go enrichment analysis via goatools \n",
    "# the inputs of study, pop, and assoc is list, list,  dict.\n",
    "# the path is the folder of go obo file\n",
    "# the path should be a valid filesystem path\n",
    "path = os.getcwd() + \"/go.obo\"\n",
    "rg = GO.run([str(x) for x in c.deg_list], [str(x) for x in c.background], r, obo=path)"
   ]
  },
  {
   "cell_type": "code",
   "execution_count": 22,
   "metadata": {
    "scrolled": true
   },
   "outputs": [
    {
     "name": "stdout",
     "output_type": "stream",
     "text": [
      "load obo file /Users/yangxu/goatools/go-basic.obo\n",
      "/Users/yangxu/goatools/go-basic.obo: fmt(1.2) rel(2017-04-28) 48,589 GO Terms\n",
      "fisher module not installed.  Falling back on scipy.stats.fisher_exact\n"
     ]
    },
    {
     "name": "stderr",
     "output_type": "stream",
     "text": [
      "Propagating term counts to parents ..\n",
      "goids not found: {'GO:0022625', 'GO:0022627'}\n"
     ]
    },
    {
     "name": "stdout",
     "output_type": "stream",
     "text": [
      "31,855 out of 33,239 population items found in association\n",
      "Calculating uncorrected p-values using fisher_scipy_stats\n",
      "   269 out of    276 study items found in association\n",
      "Running multitest correction: local bonferroni\n",
      "Running multitest correction: local sidak\n",
      "Running multitest correction: local holm\n",
      "  797 GO terms are associated with 269 of 276 study items\n",
      "  6,122 GO terms are associated with 31,855 of 33,239 population items\n"
     ]
    }
   ],
   "source": [
    "# the file input of study, pop and assoc\n",
    "# this function is the warpper of the Goatools\n",
    "# Github: https://github.com/tanghaibao/goatools\n",
    "# cite: Haibao Tang et al. (2015). GOATOOLS: Tools for Gene Ontology. Zenodo. 10.5281/zenodo.31628.\n",
    "\n",
    "path = \"/Users/yangxu/goatools/\"\n",
    "rg = GO.run(path + 'data/study', path + 'data/population', path + 'data/association',\n",
    "        obo=path + 'go-basic.obo')"
   ]
  },
  {
   "cell_type": "code",
   "execution_count": 23,
   "metadata": {},
   "outputs": [
    {
     "data": {
      "text/html": [
       "<div>\n",
       "<style>\n",
       "    .dataframe thead tr:only-child th {\n",
       "        text-align: right;\n",
       "    }\n",
       "\n",
       "    .dataframe thead th {\n",
       "        text-align: left;\n",
       "    }\n",
       "\n",
       "    .dataframe tbody tr th {\n",
       "        vertical-align: top;\n",
       "    }\n",
       "</style>\n",
       "<table border=\"1\" class=\"dataframe\">\n",
       "  <thead>\n",
       "    <tr style=\"text-align: right;\">\n",
       "      <th></th>\n",
       "      <th>GO</th>\n",
       "      <th>NS</th>\n",
       "      <th>enrichment</th>\n",
       "      <th>name</th>\n",
       "      <th>ratio_in_study</th>\n",
       "      <th>ratio_in_pop</th>\n",
       "      <th>p_uncorrected</th>\n",
       "      <th>depth</th>\n",
       "      <th>study_count</th>\n",
       "      <th>p_bonferroni</th>\n",
       "      <th>p_sidak</th>\n",
       "      <th>p_holm</th>\n",
       "      <th>hit</th>\n",
       "    </tr>\n",
       "  </thead>\n",
       "  <tbody>\n",
       "    <tr>\n",
       "      <th>0</th>\n",
       "      <td>GO:0006464</td>\n",
       "      <td>BP</td>\n",
       "      <td>e</td>\n",
       "      <td>cellular protein modification process</td>\n",
       "      <td>33/276</td>\n",
       "      <td>1727/33239</td>\n",
       "      <td>0.000008</td>\n",
       "      <td>n.a.</td>\n",
       "      <td>33</td>\n",
       "      <td>0.0505</td>\n",
       "      <td>0.0492</td>\n",
       "      <td>0.0505</td>\n",
       "      <td>AT1G13580, AT1G66610, AT1G66860, AT1G66980, AT...</td>\n",
       "    </tr>\n",
       "    <tr>\n",
       "      <th>1</th>\n",
       "      <td>GO:0036211</td>\n",
       "      <td>BP</td>\n",
       "      <td>e</td>\n",
       "      <td>protein modification process</td>\n",
       "      <td>33/276</td>\n",
       "      <td>1727/33239</td>\n",
       "      <td>0.000008</td>\n",
       "      <td>n.a.</td>\n",
       "      <td>33</td>\n",
       "      <td>0.0505</td>\n",
       "      <td>0.0492</td>\n",
       "      <td>0.0505</td>\n",
       "      <td>AT1G13580, AT1G66610, AT1G66860, AT1G66980, AT...</td>\n",
       "    </tr>\n",
       "    <tr>\n",
       "      <th>2</th>\n",
       "      <td>GO:0006468</td>\n",
       "      <td>BP</td>\n",
       "      <td>e</td>\n",
       "      <td>protein phosphorylation</td>\n",
       "      <td>22/276</td>\n",
       "      <td>922/33239</td>\n",
       "      <td>0.000011</td>\n",
       "      <td>n.a.</td>\n",
       "      <td>22</td>\n",
       "      <td>0.0660</td>\n",
       "      <td>0.0643</td>\n",
       "      <td>0.0660</td>\n",
       "      <td>AT1G66980, AT2G29220, AT2G41140, AT2G41970, AT...</td>\n",
       "    </tr>\n",
       "    <tr>\n",
       "      <th>3</th>\n",
       "      <td>GO:0016310</td>\n",
       "      <td>BP</td>\n",
       "      <td>e</td>\n",
       "      <td>phosphorylation</td>\n",
       "      <td>22/276</td>\n",
       "      <td>996/33239</td>\n",
       "      <td>0.000035</td>\n",
       "      <td>n.a.</td>\n",
       "      <td>22</td>\n",
       "      <td>0.2130</td>\n",
       "      <td>0.2070</td>\n",
       "      <td>0.2120</td>\n",
       "      <td>AT1G66980, AT2G29220, AT2G41140, AT2G41970, AT...</td>\n",
       "    </tr>\n",
       "    <tr>\n",
       "      <th>4</th>\n",
       "      <td>GO:0043412</td>\n",
       "      <td>BP</td>\n",
       "      <td>e</td>\n",
       "      <td>macromolecule modification</td>\n",
       "      <td>33/276</td>\n",
       "      <td>1877/33239</td>\n",
       "      <td>0.000057</td>\n",
       "      <td>n.a.</td>\n",
       "      <td>33</td>\n",
       "      <td>0.3510</td>\n",
       "      <td>0.3420</td>\n",
       "      <td>0.3510</td>\n",
       "      <td>AT1G13580, AT1G66610, AT1G66860, AT1G66980, AT...</td>\n",
       "    </tr>\n",
       "  </tbody>\n",
       "</table>\n",
       "</div>"
      ],
      "text/plain": [
       "           GO  NS enrichment                                   name  \\\n",
       "0  GO:0006464  BP          e  cellular protein modification process   \n",
       "1  GO:0036211  BP          e         protein modification process     \n",
       "2  GO:0006468  BP          e         protein phosphorylation          \n",
       "3  GO:0016310  BP          e         phosphorylation                  \n",
       "4  GO:0043412  BP          e         macromolecule modification       \n",
       "\n",
       "  ratio_in_study ratio_in_pop  p_uncorrected depth  study_count  p_bonferroni  \\\n",
       "0         33/276   1727/33239       0.000008  n.a.           33        0.0505   \n",
       "1         33/276   1727/33239       0.000008  n.a.           33        0.0505   \n",
       "2         22/276    922/33239       0.000011  n.a.           22        0.0660   \n",
       "3         22/276    996/33239       0.000035  n.a.           22        0.2130   \n",
       "4         33/276   1877/33239       0.000057  n.a.           33        0.3510   \n",
       "\n",
       "   p_sidak  p_holm                                                hit  \n",
       "0   0.0492  0.0505  AT1G13580, AT1G66610, AT1G66860, AT1G66980, AT...  \n",
       "1   0.0492  0.0505  AT1G13580, AT1G66610, AT1G66860, AT1G66980, AT...  \n",
       "2   0.0643  0.0660  AT1G66980, AT2G29220, AT2G41140, AT2G41970, AT...  \n",
       "3   0.2070  0.2120  AT1G66980, AT2G29220, AT2G41140, AT2G41970, AT...  \n",
       "4   0.3420  0.3510  AT1G13580, AT1G66610, AT1G66860, AT1G66980, AT...  "
      ]
     },
     "execution_count": 23,
     "metadata": {},
     "output_type": "execute_result"
    }
   ],
   "source": [
    "rg.table.head()"
   ]
  },
  {
   "cell_type": "code",
   "execution_count": 24,
   "metadata": {},
   "outputs": [
    {
     "data": {
      "text/html": [
       "<div id=\"box1510799633\" style=\"width: 100%; height: 0px;background-color: #ffffff\">\n",
       "    <script>\n",
       "        var box = $(\"#box1510799633\");\n",
       "        var father = box.parent();\n",
       "        var thirdfather = father.parent().parent().parent();\n",
       "        thirdfather.children(\".prompt\").remove();\n",
       "        father.parent().children(\".prompt\").remove();\n",
       "        father.css(\"max-width\", \"100%\");\n",
       "        box.css(\"margin-left\", \"5px\");\n",
       "        box.css(\"margin-top\", \"3px\");\n",
       "        var target = document.getElementById(\"box1510799633\");\n",
       "        var w = thirdfather.outerWidth();\n",
       "        console.log(w);\n",
       "        target.style.height = w * 0.625 + \"px\";\n",
       "        box.append($(\"<iframe id='inner-iframe' width='\" + (parseInt(w) - 15).toString() + \"'\" +\n",
       "                \" height='\" + w * 0.625 + \"' src=files/caches/cy_plot/index.html \" +\n",
       "                \"frameborder='0'></iframe>\"));\n",
       "        window.onresize = function () {\n",
       "            console.log(\"resize\", thirdfather.outerWidth());\n",
       "            var inner_frame = $(\"#inner-iframe\");\n",
       "            inner_frame.css(\"width\", thirdfather.outerWidth() - 15 + \"px\");\n",
       "            inner_frame.css(\"height\", thirdfather.outerWidth() * 0.625 + \"px\");\n",
       "            father.css(\"height\", thirdfather.outerWidth() * 0.625 + 8 + \"px\");\n",
       "            thirdfather.css(\"height\", thirdfather.outerWidth() * 0.625 + 8 + \"px\");\n",
       "            father.parent().css(\"height\", thirdfather.outerWidth() * 0.625 + 8 + \"px\");\n",
       "        }\n",
       "    </script>\n",
       "</div>"
      ],
      "text/plain": [
       "<IPython.core.display.HTML object>"
      ]
     },
     "execution_count": 24,
     "metadata": {},
     "output_type": "execute_result"
    }
   ],
   "source": [
    "# the interactive graph display the significance of the result by color\n",
    "rg.graph()"
   ]
  },
  {
   "cell_type": "code",
   "execution_count": 25,
   "metadata": {
    "collapsed": true
   },
   "outputs": [],
   "source": [
    "# test export\n",
    "c = EnrichmentExport.export([rg, rg])"
   ]
  }
 ],
 "metadata": {
  "kernelspec": {
   "display_name": "Python 3",
   "language": "python",
   "name": "python3"
  },
  "language_info": {
   "codemirror_mode": {
    "name": "ipython",
    "version": 3
   },
   "file_extension": ".py",
   "mimetype": "text/x-python",
   "name": "python",
   "nbconvert_exporter": "python",
   "pygments_lexer": "ipython3",
   "version": "3.5.2"
  }
 },
 "nbformat": 4,
 "nbformat_minor": 2
}
