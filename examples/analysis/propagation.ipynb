{
 "cells": [
  {
   "cell_type": "markdown",
   "metadata": {
    "collapsed": true
   },
   "source": [
    "## The network propagation algorithm: random walk, random walk with restart, diffusion kernel\n",
    "the algorithm is describle in review:\n",
    "> Network propagation: a universal amplifier of genetic associations"
   ]
  },
  {
   "cell_type": "code",
   "execution_count": 1,
   "metadata": {
    "collapsed": true
   },
   "outputs": [],
   "source": [
    "import sys\n",
    "import networkx as nx\n",
    "import numpy as np"
   ]
  },
  {
   "cell_type": "code",
   "execution_count": 2,
   "metadata": {
    "collapsed": true
   },
   "outputs": [],
   "source": [
    "sys.path.append(\"/Users/yangxu/PyPathway\")"
   ]
  },
  {
   "cell_type": "code",
   "execution_count": 3,
   "metadata": {
    "collapsed": true
   },
   "outputs": [],
   "source": [
    "from pynet.utils import load_hint_hi12012_network\n",
    "from pynet.analysis.propagation import random_walk, random_walk_with_restart, diffusion_kernel\n",
    "from pynet import FromNetworkX"
   ]
  },
  {
   "cell_type": "code",
   "execution_count": 4,
   "metadata": {
    "collapsed": true
   },
   "outputs": [],
   "source": [
    "# init a graph\n",
    "G = nx.Graph([[1, 2], [2, 3], [3, 5], [2, 5], [1, 4], [4, 5]])"
   ]
  },
  {
   "cell_type": "code",
   "execution_count": 5,
   "metadata": {
    "collapsed": true
   },
   "outputs": [],
   "source": [
    "# heats\n",
    "h = np.array([0, 1, 0, 1, 0])"
   ]
  },
  {
   "cell_type": "code",
   "execution_count": 6,
   "metadata": {},
   "outputs": [
    {
     "data": {
      "text/plain": [
       "{1: {'heat': 0.33333342635070995},\n",
       " 2: {'heat': 0.49999990698262176},\n",
       " 3: {'heat': 0.3333333333333327},\n",
       " 4: {'heat': 0.3333332403159554},\n",
       " 5: {'heat': 0.50000009301737625}}"
      ]
     },
     "execution_count": 6,
     "metadata": {},
     "output_type": "execute_result"
    }
   ],
   "source": [
    "# random walk\n",
    "random_walk(G, h).node"
   ]
  },
  {
   "cell_type": "code",
   "execution_count": 7,
   "metadata": {},
   "outputs": [
    {
     "data": {
      "text/plain": [
       "{1: {'heat': 0.18859903381642515},\n",
       " 2: {'heat': 0.76309178743961337},\n",
       " 3: {'heat': 0.096618357487922704},\n",
       " 4: {'heat': 0.74859903381642512},\n",
       " 5: {'heat': 0.20309178743961354}}"
      ]
     },
     "execution_count": 7,
     "metadata": {},
     "output_type": "execute_result"
    }
   ],
   "source": [
    "# random walk with restart\n",
    "random_walk_with_restart(G, h, rp=0.7, n=-1).node"
   ]
  },
  {
   "cell_type": "code",
   "execution_count": 8,
   "metadata": {},
   "outputs": [
    {
     "data": {
      "text/plain": [
       "{1: {'heat': 0.42138736822730222},\n",
       " 2: {'heat': 0.38934416321338194},\n",
       " 3: {'heat': 0.32359870881215813},\n",
       " 4: {'heat': 0.47852257848932078},\n",
       " 5: {'heat': 0.38714718125782877}}"
      ]
     },
     "execution_count": 8,
     "metadata": {},
     "output_type": "execute_result"
    }
   ],
   "source": [
    "# heat kernel\n",
    "diffusion_kernel(G, h, rp=0.8, n=100).node"
   ]
  }
 ],
 "metadata": {
  "kernelspec": {
   "display_name": "Python 3",
   "language": "python",
   "name": "python3"
  },
  "language_info": {
   "codemirror_mode": {
    "name": "ipython",
    "version": 3
   },
   "file_extension": ".py",
   "mimetype": "text/x-python",
   "name": "python",
   "nbconvert_exporter": "python",
   "pygments_lexer": "ipython3",
   "version": "3.5.2"
  }
 },
 "nbformat": 4,
 "nbformat_minor": 2
}
