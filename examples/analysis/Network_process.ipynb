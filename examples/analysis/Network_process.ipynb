{
 "cells": [
  {
   "cell_type": "code",
   "execution_count": 1,
   "metadata": {
    "collapsed": true
   },
   "outputs": [],
   "source": [
    "%load_ext autoreload\n",
    "%autoreload 2"
   ]
  },
  {
   "cell_type": "code",
   "execution_count": 2,
   "metadata": {
    "collapsed": true
   },
   "outputs": [],
   "source": [
    "import sys\n",
    "sys.path.append(\"/Users/sheep/PyPathway\")"
   ]
  },
  {
   "cell_type": "code",
   "execution_count": 3,
   "metadata": {
    "collapsed": true
   },
   "outputs": [],
   "source": [
    "from pypathway.pathviz.query import *\n",
    "from pypathway.netviz import *"
   ]
  },
  {
   "cell_type": "code",
   "execution_count": 4,
   "metadata": {
    "collapsed": false
   },
   "outputs": [
    {
     "data": {
      "text/plain": [
       "ResultIndex: 0\n",
       "ncbiTaxonId: 9606\n",
       "taxonName: Homo sapiens\n",
       "annotation: CD22 molecule; Mediates B-cell B-cell interactions. May be involved in the localization of B-cells in lymphoid tissues. Binds sialylated glycoproteins; one of which is CD45. Preferentially binds to alpha-2,6-linked sialic acid. The sialic acid recognition site can be masked by cis interactions with sialic acids on the same cell surface. Upon ligand induced tyrosine phosphorylation in the immune response seems to be involved in regulation of B-cell antigen receptor signaling. Plays a role in positive regulation through interaction with Src family tyrosine kinases and may also act as an  [...] \n",
       "stringId: 9606.ENSP00000085219\n",
       "preferredName: CD22"
      ]
     },
     "execution_count": 4,
     "metadata": {},
     "output_type": "execute_result"
    }
   ],
   "source": [
    "STRING.search(\"CD22\")"
   ]
  },
  {
   "cell_type": "code",
   "execution_count": 5,
   "metadata": {
    "collapsed": false
   },
   "outputs": [
    {
     "data": {
      "text/plain": [
       "<networkx.classes.graph.Graph at 0x10bfc66d8>"
      ]
     },
     "execution_count": 5,
     "metadata": {},
     "output_type": "execute_result"
    }
   ],
   "source": [
    "_.results[0].load()"
   ]
  },
  {
   "cell_type": "code",
   "execution_count": 8,
   "metadata": {
    "collapsed": true
   },
   "outputs": [],
   "source": [
    "# _.plot()"
   ]
  },
  {
   "cell_type": "code",
   "execution_count": 24,
   "metadata": {
    "collapsed": false
   },
   "outputs": [
    {
     "data": {
      "text/plain": [
       "<networkx.classes.graph.Graph at 0x10cd2cf60>"
      ]
     },
     "execution_count": 24,
     "metadata": {},
     "output_type": "execute_result"
    }
   ],
   "source": [
    "BioGRID.search('CD22', idtype='symbol››')"
   ]
  },
  {
   "cell_type": "code",
   "execution_count": 22,
   "metadata": {
    "collapsed": false
   },
   "outputs": [
    {
     "data": {
      "text/html": [
       "<div id=\"box1\" style=\"width: 100%; height: 0px;background-color: #ffffff\">\n",
       "    <script>\n",
       "        var box = $(\"#box1\");\n",
       "        var father = box.parent();\n",
       "        var thirdfather = father.parent().parent().parent();\n",
       "        thirdfather.children(\".prompt\").remove();\n",
       "        father.parent().children(\".prompt\").remove();\n",
       "        father.css(\"max-width\", \"100%\");\n",
       "        box.css(\"margin-left\", \"5px\");\n",
       "        box.css(\"margin-top\", \"3px\");\n",
       "        var target = document.getElementById(\"box1\");\n",
       "        var w = thirdfather.outerWidth();\n",
       "        console.log(w);\n",
       "        target.style.height = w * 0.625 + \"px\";\n",
       "        box.append($(\"<iframe id='inner-iframe' width='\" + (parseInt(w) - 15).toString() + \"'\" +\n",
       "                \" height='\" + w * 0.625 + \"' src=files/caches/nx_plot/index.html \" +\n",
       "                \"frameborder='0'></iframe>\"));\n",
       "        window.onresize = function () {\n",
       "            console.log(\"resize\", thirdfather.outerWidth());\n",
       "            var inner_frame = $(\"#inner-iframe\");\n",
       "            inner_frame.css(\"width\", thirdfather.outerWidth() - 15 + \"px\");\n",
       "            inner_frame.css(\"height\", thirdfather.outerWidth() * 0.625 + \"px\");\n",
       "            father.css(\"height\", thirdfather.outerWidth() * 0.625 + 8 + \"px\");\n",
       "            thirdfather.css(\"height\", thirdfather.outerWidth() * 0.625 + 8 + \"px\");\n",
       "            father.parent().css(\"height\", thirdfather.outerWidth() * 0.625 + 8 + \"px\");\n",
       "        }\n",
       "    </script>\n",
       "</div>"
      ],
      "text/plain": [
       "<IPython.core.display.HTML object>"
      ]
     },
     "execution_count": 22,
     "metadata": {},
     "output_type": "execute_result"
    }
   ],
   "source": [
    "_.plot()"
   ]
  },
  {
   "cell_type": "code",
   "execution_count": null,
   "metadata": {
    "collapsed": true
   },
   "outputs": [],
   "source": []
  }
 ],
 "metadata": {
  "kernelspec": {
   "display_name": "Python 3",
   "language": "python",
   "name": "python3"
  },
  "language_info": {
   "codemirror_mode": {
    "name": "ipython",
    "version": 3
   },
   "file_extension": ".py",
   "mimetype": "text/x-python",
   "name": "python",
   "nbconvert_exporter": "python",
   "pygments_lexer": "ipython3",
   "version": "3.5.2"
  }
 },
 "nbformat": 4,
 "nbformat_minor": 1
}
