{
 "cells": [
  {
   "cell_type": "markdown",
   "metadata": {},
   "source": [
    "# GSEA\n",
    "Implemented via GSEApy\n",
    "> Github: https://github.com/BioNinja/GSEApy\n",
    "\n",
    "the cls file and expression table are required, for detailed information, please refer to the docs."
   ]
  },
  {
   "cell_type": "code",
   "execution_count": 1,
   "metadata": {},
   "outputs": [],
   "source": [
    "from pypathway import GSEA\n",
    "import pandas as pd"
   ]
  },
  {
   "cell_type": "code",
   "execution_count": 2,
   "metadata": {},
   "outputs": [],
   "source": [
    "# load the cls file\n",
    "phenoA, phenoB, class_vector = GSEA.parse_class_vector(\"./data/GSE4107.cls\")"
   ]
  },
  {
   "cell_type": "code",
   "execution_count": 3,
   "metadata": {
    "scrolled": true
   },
   "outputs": [],
   "source": [
    "# load the table\n",
    "gene_exp = pd.read_excel(\"./data/GSE4107.xlsx\")"
   ]
  },
  {
   "cell_type": "code",
   "execution_count": 4,
   "metadata": {},
   "outputs": [],
   "source": [
    "r = GSEA.run(data=gene_exp[:1000], gmt=\"KEGG_2016\", cls=class_vector)"
   ]
  },
  {
   "cell_type": "code",
   "execution_count": 5,
   "metadata": {
    "scrolled": false
   },
   "outputs": [
    {
     "data": {
      "text/html": [
       "<div>\n",
       "<style scoped>\n",
       "    .dataframe tbody tr th:only-of-type {\n",
       "        vertical-align: middle;\n",
       "    }\n",
       "\n",
       "    .dataframe tbody tr th {\n",
       "        vertical-align: top;\n",
       "    }\n",
       "\n",
       "    .dataframe thead th {\n",
       "        text-align: right;\n",
       "    }\n",
       "</style>\n",
       "<table border=\"1\" class=\"dataframe\">\n",
       "  <thead>\n",
       "    <tr style=\"text-align: right;\">\n",
       "      <th></th>\n",
       "      <th>es</th>\n",
       "      <th>nes</th>\n",
       "      <th>pval</th>\n",
       "      <th>fdr</th>\n",
       "      <th>geneset_size</th>\n",
       "      <th>matched_size</th>\n",
       "      <th>genes</th>\n",
       "    </tr>\n",
       "    <tr>\n",
       "      <th>Term</th>\n",
       "      <th></th>\n",
       "      <th></th>\n",
       "      <th></th>\n",
       "      <th></th>\n",
       "      <th></th>\n",
       "      <th></th>\n",
       "      <th></th>\n",
       "    </tr>\n",
       "  </thead>\n",
       "  <tbody>\n",
       "    <tr>\n",
       "      <th>Valine, leucine and isoleucine degradation_Homo sapiens_hsa00280</th>\n",
       "      <td>-0.836357</td>\n",
       "      <td>-1.800048</td>\n",
       "      <td>0.000000</td>\n",
       "      <td>0.012839</td>\n",
       "      <td>48</td>\n",
       "      <td>18</td>\n",
       "      <td>AAMDC,AKAP8,ANKRD34C,AKAP9,AMACR,ADH1A,ADAM18,...</td>\n",
       "    </tr>\n",
       "    <tr>\n",
       "      <th>Glycerolipid metabolism_Homo sapiens_hsa00561</th>\n",
       "      <td>-0.674108</td>\n",
       "      <td>-1.848475</td>\n",
       "      <td>0.003717</td>\n",
       "      <td>0.014444</td>\n",
       "      <td>59</td>\n",
       "      <td>16</td>\n",
       "      <td>ACTG2,ANKRD34A,AADAT,AAMDC,AK054988,ABCB5,AJ01...</td>\n",
       "    </tr>\n",
       "    <tr>\n",
       "      <th>Peroxisome_Homo sapiens_hsa04146</th>\n",
       "      <td>-0.672286</td>\n",
       "      <td>-1.633694</td>\n",
       "      <td>0.013384</td>\n",
       "      <td>0.040123</td>\n",
       "      <td>83</td>\n",
       "      <td>17</td>\n",
       "      <td>AADACL2,AC087501.1,ADAMTS15,ALDH1B1,ACVRL1,AF5...</td>\n",
       "    </tr>\n",
       "    <tr>\n",
       "      <th>Fatty acid degradation_Homo sapiens_hsa00071</th>\n",
       "      <td>-0.659410</td>\n",
       "      <td>-1.781249</td>\n",
       "      <td>0.003976</td>\n",
       "      <td>0.010699</td>\n",
       "      <td>44</td>\n",
       "      <td>30</td>\n",
       "      <td>AHNAK2,AADACL2,ALOX5,ANXA2R,AK054708,ADAMTS15,...</td>\n",
       "    </tr>\n",
       "    <tr>\n",
       "      <th>Fatty acid metabolism_Homo sapiens_hsa01212</th>\n",
       "      <td>-0.631014</td>\n",
       "      <td>-1.580897</td>\n",
       "      <td>0.035363</td>\n",
       "      <td>0.045510</td>\n",
       "      <td>48</td>\n",
       "      <td>19</td>\n",
       "      <td>AADACL2,ALOX5,ANXA2R,ADAMTS15,ACVRL1,ADRA1A,AN...</td>\n",
       "    </tr>\n",
       "  </tbody>\n",
       "</table>\n",
       "</div>"
      ],
      "text/plain": [
       "                                                          es       nes  \\\n",
       "Term                                                                     \n",
       "Valine, leucine and isoleucine degradation_Homo... -0.836357 -1.800048   \n",
       "Glycerolipid metabolism_Homo sapiens_hsa00561      -0.674108 -1.848475   \n",
       "Peroxisome_Homo sapiens_hsa04146                   -0.672286 -1.633694   \n",
       "Fatty acid degradation_Homo sapiens_hsa00071       -0.659410 -1.781249   \n",
       "Fatty acid metabolism_Homo sapiens_hsa01212        -0.631014 -1.580897   \n",
       "\n",
       "                                                        pval       fdr  \\\n",
       "Term                                                                     \n",
       "Valine, leucine and isoleucine degradation_Homo...  0.000000  0.012839   \n",
       "Glycerolipid metabolism_Homo sapiens_hsa00561       0.003717  0.014444   \n",
       "Peroxisome_Homo sapiens_hsa04146                    0.013384  0.040123   \n",
       "Fatty acid degradation_Homo sapiens_hsa00071        0.003976  0.010699   \n",
       "Fatty acid metabolism_Homo sapiens_hsa01212         0.035363  0.045510   \n",
       "\n",
       "                                                    geneset_size  \\\n",
       "Term                                                               \n",
       "Valine, leucine and isoleucine degradation_Homo...            48   \n",
       "Glycerolipid metabolism_Homo sapiens_hsa00561                 59   \n",
       "Peroxisome_Homo sapiens_hsa04146                              83   \n",
       "Fatty acid degradation_Homo sapiens_hsa00071                  44   \n",
       "Fatty acid metabolism_Homo sapiens_hsa01212                   48   \n",
       "\n",
       "                                                    matched_size  \\\n",
       "Term                                                               \n",
       "Valine, leucine and isoleucine degradation_Homo...            18   \n",
       "Glycerolipid metabolism_Homo sapiens_hsa00561                 16   \n",
       "Peroxisome_Homo sapiens_hsa04146                              17   \n",
       "Fatty acid degradation_Homo sapiens_hsa00071                  30   \n",
       "Fatty acid metabolism_Homo sapiens_hsa01212                   19   \n",
       "\n",
       "                                                                                                genes  \n",
       "Term                                                                                                   \n",
       "Valine, leucine and isoleucine degradation_Homo...  AAMDC,AKAP8,ANKRD34C,AKAP9,AMACR,ADH1A,ADAM18,...  \n",
       "Glycerolipid metabolism_Homo sapiens_hsa00561       ACTG2,ANKRD34A,AADAT,AAMDC,AK054988,ABCB5,AJ01...  \n",
       "Peroxisome_Homo sapiens_hsa04146                    AADACL2,AC087501.1,ADAMTS15,ALDH1B1,ACVRL1,AF5...  \n",
       "Fatty acid degradation_Homo sapiens_hsa00071        AHNAK2,AADACL2,ALOX5,ANXA2R,AK054708,ADAMTS15,...  \n",
       "Fatty acid metabolism_Homo sapiens_hsa01212         AADACL2,ALOX5,ANXA2R,ADAMTS15,ACVRL1,ADRA1A,AN...  "
      ]
     },
     "execution_count": 5,
     "metadata": {},
     "output_type": "execute_result"
    }
   ],
   "source": [
    "r.table.sort_values(\"es\").head()"
   ]
  },
  {
   "cell_type": "code",
   "execution_count": 6,
   "metadata": {},
   "outputs": [
    {
     "data": {
      "text/html": [
       "<div id=\"box1514792042813544\" style=\"width: 100%; height: 0px;background-color: #ffffff\">\n",
       "    <script>\n",
       "        var box = $(\"#box1514792042813544\");\n",
       "        var father = box.parent();\n",
       "        var thirdfather = father.parent().parent().parent();\n",
       "        thirdfather.children(\".prompt\").remove();\n",
       "        father.parent().children(\".prompt\").remove();\n",
       "        father.css(\"max-width\", \"100%\");\n",
       "        box.css(\"margin-left\", \"5px\");\n",
       "        var target = document.getElementById(\"box1514792042813544\");\n",
       "        var w = thirdfather.outerWidth();\n",
       "        console.log(w);\n",
       "        target.style.height = w * 0.6 + \"px\";\n",
       "        box.append($(\"<iframe width='\" + (parseInt(w) - 15).toString() + \"'\" +\n",
       "                \" height='\" + (w * 0.6 - 5) + \"' src='assets/plot/plot_1514792042813544.html' \" +\n",
       "                \"frameborder='0'></iframe>\"))\n",
       "    </script>\n",
       "</div>"
      ],
      "text/plain": [
       "<IPython.core.display.HTML object>"
      ]
     },
     "execution_count": 6,
     "metadata": {},
     "output_type": "execute_result"
    }
   ],
   "source": [
    "r.plot()"
   ]
  }
 ],
 "metadata": {
  "kernelspec": {
   "display_name": "Python 3",
   "language": "python",
   "name": "python3"
  },
  "language_info": {
   "codemirror_mode": {
    "name": "ipython",
    "version": 3
   },
   "file_extension": ".py",
   "mimetype": "text/x-python",
   "name": "python",
   "nbconvert_exporter": "python",
   "pygments_lexer": "ipython3",
   "version": "3.5.0"
  }
 },
 "nbformat": 4,
 "nbformat_minor": 2
}
