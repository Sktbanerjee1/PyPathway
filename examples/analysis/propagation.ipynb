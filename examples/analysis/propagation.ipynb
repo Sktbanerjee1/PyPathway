{
 "cells": [
  {
   "cell_type": "code",
   "execution_count": 1,
   "metadata": {
    "collapsed": true
   },
   "outputs": [],
   "source": [
    "%load_ext autoreload\n",
    "%autoreload 2"
   ]
  },
  {
   "cell_type": "code",
   "execution_count": 2,
   "metadata": {
    "collapsed": true
   },
   "outputs": [],
   "source": [
    "# The network propagation algorithm: random walk, random walk with restart, diffusion kernel\n",
    "# the algorithm is describle in review:\n",
    "# Network propagation: a universal amplifier of genetic associations"
   ]
  },
  {
   "cell_type": "code",
   "execution_count": 3,
   "metadata": {
    "collapsed": true
   },
   "outputs": [],
   "source": [
    "# load a test graph"
   ]
  },
  {
   "cell_type": "code",
   "execution_count": 4,
   "metadata": {
    "collapsed": true
   },
   "outputs": [],
   "source": [
    "import sys\n",
    "import numpy\n",
    "import networkx as nx\n",
    "import numpy as np"
   ]
  },
  {
   "cell_type": "code",
   "execution_count": 5,
   "metadata": {
    "collapsed": true
   },
   "outputs": [],
   "source": [
    "sys.path.append(\"/Users/yangxu/PyPathway\")"
   ]
  },
  {
   "cell_type": "code",
   "execution_count": 6,
   "metadata": {
    "collapsed": true
   },
   "outputs": [],
   "source": [
    "from pynet.utils import load_hint_hi12012_network\n",
    "from pynet.analysis.propagation import random_walk, random_walk_with_restart, diffusion_kernel\n",
    "from pynet import FromNetworkX"
   ]
  },
  {
   "cell_type": "code",
   "execution_count": 7,
   "metadata": {
    "collapsed": true
   },
   "outputs": [],
   "source": [
    "G = nx.Graph([[1, 2], [2, 3], [3, 5], [2, 5], [1, 4], [4, 5]])"
   ]
  },
  {
   "cell_type": "code",
   "execution_count": 8,
   "metadata": {},
   "outputs": [],
   "source": [
    "# heats\n",
    "h = np.array([0, 1, 0, 1, 0])"
   ]
  },
  {
   "cell_type": "code",
   "execution_count": 9,
   "metadata": {},
   "outputs": [
    {
     "data": {
      "text/plain": [
       "{1: {'heat': 0.33333342635070995},\n",
       " 2: {'heat': 0.49999990698262176},\n",
       " 3: {'heat': 0.3333333333333327},\n",
       " 4: {'heat': 0.3333332403159554},\n",
       " 5: {'heat': 0.50000009301737625}}"
      ]
     },
     "execution_count": 9,
     "metadata": {},
     "output_type": "execute_result"
    }
   ],
   "source": [
    "random_walk(G, h).node"
   ]
  },
  {
   "cell_type": "code",
   "execution_count": 81,
   "metadata": {},
   "outputs": [
    {
     "data": {
      "text/plain": [
       "{1: {'heat': 0.18859903381642515},\n",
       " 2: {'heat': 0.76309178743961337},\n",
       " 3: {'heat': 0.096618357487922704},\n",
       " 4: {'heat': 0.74859903381642512},\n",
       " 5: {'heat': 0.20309178743961354}}"
      ]
     },
     "execution_count": 81,
     "metadata": {},
     "output_type": "execute_result"
    }
   ],
   "source": [
    "random_walk_with_restart(G, h, rp=0.7, n=-1).node"
   ]
  },
  {
   "cell_type": "code",
   "execution_count": 80,
   "metadata": {},
   "outputs": [
    {
     "data": {
      "text/plain": [
       "{1: {'heat': 0.42138736822730222},\n",
       " 2: {'heat': 0.38934416321338194},\n",
       " 3: {'heat': 0.32359870881215813},\n",
       " 4: {'heat': 0.47852257848932078},\n",
       " 5: {'heat': 0.38714718125782877}}"
      ]
     },
     "execution_count": 80,
     "metadata": {},
     "output_type": "execute_result"
    }
   ],
   "source": [
    "diffusion_kernel(G, h, rp=0.8, n=100).node"
   ]
  }
 ],
 "metadata": {
  "kernelspec": {
   "display_name": "Python 3",
   "language": "python",
   "name": "python3"
  },
  "language_info": {
   "codemirror_mode": {
    "name": "ipython",
    "version": 3
   },
   "file_extension": ".py",
   "mimetype": "text/x-python",
   "name": "python",
   "nbconvert_exporter": "python",
   "pygments_lexer": "ipython3",
   "version": "3.5.2"
  }
 },
 "nbformat": 4,
 "nbformat_minor": 2
}
