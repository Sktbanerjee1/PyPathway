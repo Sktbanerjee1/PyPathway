{
 "cells": [
  {
   "cell_type": "markdown",
   "metadata": {},
   "source": [
    "# ORA\n",
    "the general and specfic for KEGG, REACTOME and GO"
   ]
  },
  {
   "cell_type": "code",
   "execution_count": 1,
   "metadata": {},
   "outputs": [],
   "source": [
    "import pandas as pd\n",
    "from pypathway import Reactome, GO, KEGG, ORA\n",
    "from pypathway import ColorectalCancer, IdMapping, GMTUtils\n",
    "from pypathway import EnrichmentExport\n",
    "import os\n",
    "import sys"
   ]
  },
  {
   "cell_type": "code",
   "execution_count": 3,
   "metadata": {},
   "outputs": [],
   "source": [
    "# load a gmt file.\n",
    "gmt = GMTUtils.parse_gmt_file(\"../../tests/assets/gmt_file/h.all.v6.0.entrez.gmt\")"
   ]
  },
  {
   "cell_type": "code",
   "execution_count": 4,
   "metadata": {},
   "outputs": [],
   "source": [
    "# load the example\n",
    "c = ColorectalCancer()"
   ]
  },
  {
   "cell_type": "code",
   "execution_count": 5,
   "metadata": {},
   "outputs": [
    {
     "data": {
      "text/plain": [
       "(5320, 17216)"
      ]
     },
     "execution_count": 5,
     "metadata": {},
     "output_type": "execute_result"
    }
   ],
   "source": [
    "# infomation of datasets\n",
    "len(c.deg_list), len(c.background)"
   ]
  },
  {
   "cell_type": "code",
   "execution_count": 6,
   "metadata": {
    "scrolled": false
   },
   "outputs": [],
   "source": [
    "res_h = ORA.run(c.deg_list, c.background, gmt)"
   ]
  },
  {
   "cell_type": "code",
   "execution_count": 7,
   "metadata": {},
   "outputs": [
    {
     "data": {
      "text/html": [
       "<div>\n",
       "<style scoped>\n",
       "    .dataframe tbody tr th:only-of-type {\n",
       "        vertical-align: middle;\n",
       "    }\n",
       "\n",
       "    .dataframe tbody tr th {\n",
       "        vertical-align: top;\n",
       "    }\n",
       "\n",
       "    .dataframe thead th {\n",
       "        text-align: right;\n",
       "    }\n",
       "</style>\n",
       "<table border=\"1\" class=\"dataframe\">\n",
       "  <thead>\n",
       "    <tr style=\"text-align: right;\">\n",
       "      <th></th>\n",
       "      <th>name</th>\n",
       "      <th>mapped</th>\n",
       "      <th>number in study</th>\n",
       "      <th>p-value</th>\n",
       "      <th>fdr</th>\n",
       "    </tr>\n",
       "  </thead>\n",
       "  <tbody>\n",
       "    <tr>\n",
       "      <th>0</th>\n",
       "      <td>HALLMARK_APICAL_JUNCTION</td>\n",
       "      <td>185</td>\n",
       "      <td>97</td>\n",
       "      <td>7.750142e-10</td>\n",
       "      <td>3.748583e-09</td>\n",
       "    </tr>\n",
       "    <tr>\n",
       "      <th>1</th>\n",
       "      <td>HALLMARK_P53_PATHWAY</td>\n",
       "      <td>181</td>\n",
       "      <td>76</td>\n",
       "      <td>9.962456e-04</td>\n",
       "      <td>1.779010e-03</td>\n",
       "    </tr>\n",
       "    <tr>\n",
       "      <th>2</th>\n",
       "      <td>HALLMARK_EPITHELIAL_MESENCHYMAL_TRANSITION</td>\n",
       "      <td>186</td>\n",
       "      <td>123</td>\n",
       "      <td>3.256061e-23</td>\n",
       "      <td>5.426768e-22</td>\n",
       "    </tr>\n",
       "    <tr>\n",
       "      <th>3</th>\n",
       "      <td>HALLMARK_IL2_STAT5_SIGNALING</td>\n",
       "      <td>188</td>\n",
       "      <td>84</td>\n",
       "      <td>4.488864e-05</td>\n",
       "      <td>1.068777e-04</td>\n",
       "    </tr>\n",
       "    <tr>\n",
       "      <th>4</th>\n",
       "      <td>HALLMARK_APICAL_SURFACE</td>\n",
       "      <td>42</td>\n",
       "      <td>19</td>\n",
       "      <td>3.534302e-02</td>\n",
       "      <td>5.355003e-02</td>\n",
       "    </tr>\n",
       "  </tbody>\n",
       "</table>\n",
       "</div>"
      ],
      "text/plain": [
       "                                         name  mapped  number in study  \\\n",
       "0                    HALLMARK_APICAL_JUNCTION     185               97   \n",
       "1                        HALLMARK_P53_PATHWAY     181               76   \n",
       "2  HALLMARK_EPITHELIAL_MESENCHYMAL_TRANSITION     186              123   \n",
       "3                HALLMARK_IL2_STAT5_SIGNALING     188               84   \n",
       "4                     HALLMARK_APICAL_SURFACE      42               19   \n",
       "\n",
       "        p-value           fdr  \n",
       "0  7.750142e-10  3.748583e-09  \n",
       "1  9.962456e-04  1.779010e-03  \n",
       "2  3.256061e-23  5.426768e-22  \n",
       "3  4.488864e-05  1.068777e-04  \n",
       "4  3.534302e-02  5.355003e-02  "
      ]
     },
     "execution_count": 7,
     "metadata": {},
     "output_type": "execute_result"
    }
   ],
   "source": [
    "res_h.table.head()"
   ]
  },
  {
   "cell_type": "code",
   "execution_count": 8,
   "metadata": {},
   "outputs": [
    {
     "data": {
      "text/html": [
       "<div id=\"box1514187809856628\" style=\"width: 100%; height: 0px;background-color: #ffffff\">\n",
       "    <script>\n",
       "        var box = $(\"#box1514187809856628\");\n",
       "        var father = box.parent();\n",
       "        var thirdfather = father.parent().parent().parent();\n",
       "        thirdfather.children(\".prompt\").remove();\n",
       "        father.parent().children(\".prompt\").remove();\n",
       "        father.css(\"max-width\", \"100%\");\n",
       "        box.css(\"margin-left\", \"5px\");\n",
       "        var target = document.getElementById(\"box1514187809856628\");\n",
       "        var w = thirdfather.outerWidth();\n",
       "        console.log(w);\n",
       "        target.style.height = w * 0.6 + \"px\";\n",
       "        box.append($(\"<iframe width='\" + (parseInt(w) - 15).toString() + \"'\" +\n",
       "                \" height='\" + (w * 0.6 - 5) + \"' src='assets/plot/plot_1514187809856628.html' \" +\n",
       "                \"frameborder='0'></iframe>\"))\n",
       "    </script>\n",
       "</div>"
      ],
      "text/plain": [
       "<IPython.core.display.HTML object>"
      ]
     },
     "execution_count": 8,
     "metadata": {},
     "output_type": "execute_result"
    }
   ],
   "source": [
    "# inline bar plot.\n",
    "res_h.plot()"
   ]
  },
  {
   "cell_type": "markdown",
   "metadata": {},
   "source": [
    "## KEGG"
   ]
  },
  {
   "cell_type": "code",
   "execution_count": 9,
   "metadata": {
    "scrolled": false
   },
   "outputs": [],
   "source": [
    "# kegg enrichment for certain organism\n",
    "r_kg = KEGG.run(c.deg_list, c.background, 'hsa')"
   ]
  },
  {
   "cell_type": "code",
   "execution_count": 10,
   "metadata": {},
   "outputs": [
    {
     "data": {
      "text/html": [
       "<div>\n",
       "<style scoped>\n",
       "    .dataframe tbody tr th:only-of-type {\n",
       "        vertical-align: middle;\n",
       "    }\n",
       "\n",
       "    .dataframe tbody tr th {\n",
       "        vertical-align: top;\n",
       "    }\n",
       "\n",
       "    .dataframe thead th {\n",
       "        text-align: right;\n",
       "    }\n",
       "</style>\n",
       "<table border=\"1\" class=\"dataframe\">\n",
       "  <thead>\n",
       "    <tr style=\"text-align: right;\">\n",
       "      <th></th>\n",
       "      <th>ID</th>\n",
       "      <th>Name</th>\n",
       "      <th>mapped</th>\n",
       "      <th>deg</th>\n",
       "      <th>p-value</th>\n",
       "      <th>fdr</th>\n",
       "    </tr>\n",
       "  </thead>\n",
       "  <tbody>\n",
       "    <tr>\n",
       "      <th>0</th>\n",
       "      <td>hsa04972</td>\n",
       "      <td>Pancreatic secretion - Homo sapiens (human)</td>\n",
       "      <td>81</td>\n",
       "      <td>33</td>\n",
       "      <td>0.038154</td>\n",
       "      <td>0.106398</td>\n",
       "    </tr>\n",
       "    <tr>\n",
       "      <th>1</th>\n",
       "      <td>hsa00590</td>\n",
       "      <td>Arachidonic acid metabolism - Homo sapiens (hu...</td>\n",
       "      <td>49</td>\n",
       "      <td>20</td>\n",
       "      <td>0.090692</td>\n",
       "      <td>0.188991</td>\n",
       "    </tr>\n",
       "    <tr>\n",
       "      <th>2</th>\n",
       "      <td>hsa03015</td>\n",
       "      <td>mRNA surveillance pathway - Homo sapiens (human)</td>\n",
       "      <td>74</td>\n",
       "      <td>20</td>\n",
       "      <td>0.800729</td>\n",
       "      <td>0.904320</td>\n",
       "    </tr>\n",
       "    <tr>\n",
       "      <th>3</th>\n",
       "      <td>hsa04915</td>\n",
       "      <td>Estrogen signaling pathway - Homo sapiens (human)</td>\n",
       "      <td>83</td>\n",
       "      <td>35</td>\n",
       "      <td>0.019395</td>\n",
       "      <td>0.063924</td>\n",
       "    </tr>\n",
       "    <tr>\n",
       "      <th>4</th>\n",
       "      <td>hsa00514</td>\n",
       "      <td>Other types of O-glycan biosynthesis - Homo sa...</td>\n",
       "      <td>20</td>\n",
       "      <td>3</td>\n",
       "      <td>0.970549</td>\n",
       "      <td>1.000000</td>\n",
       "    </tr>\n",
       "  </tbody>\n",
       "</table>\n",
       "</div>"
      ],
      "text/plain": [
       "         ID                                               Name  mapped  deg  \\\n",
       "0  hsa04972        Pancreatic secretion - Homo sapiens (human)      81   33   \n",
       "1  hsa00590  Arachidonic acid metabolism - Homo sapiens (hu...      49   20   \n",
       "2  hsa03015   mRNA surveillance pathway - Homo sapiens (human)      74   20   \n",
       "3  hsa04915  Estrogen signaling pathway - Homo sapiens (human)      83   35   \n",
       "4  hsa00514  Other types of O-glycan biosynthesis - Homo sa...      20    3   \n",
       "\n",
       "    p-value       fdr  \n",
       "0  0.038154  0.106398  \n",
       "1  0.090692  0.188991  \n",
       "2  0.800729  0.904320  \n",
       "3  0.019395  0.063924  \n",
       "4  0.970549  1.000000  "
      ]
     },
     "execution_count": 10,
     "metadata": {},
     "output_type": "execute_result"
    }
   ],
   "source": [
    "r_kg.table.head()"
   ]
  },
  {
   "cell_type": "code",
   "execution_count": 11,
   "metadata": {},
   "outputs": [
    {
     "data": {
      "text/html": [
       "<div id=\"box1514187838952144\" style=\"width: 100%; height: 0px;background-color: #ffffff\">\n",
       "    <script>\n",
       "        var box = $(\"#box1514187838952144\");\n",
       "        var father = box.parent();\n",
       "        var thirdfather = father.parent().parent().parent();\n",
       "        thirdfather.children(\".prompt\").remove();\n",
       "        father.parent().children(\".prompt\").remove();\n",
       "        father.css(\"max-width\", \"100%\");\n",
       "        box.css(\"margin-left\", \"5px\");\n",
       "        var target = document.getElementById(\"box1514187838952144\");\n",
       "        var w = thirdfather.outerWidth();\n",
       "        console.log(w);\n",
       "        target.style.height = w * 0.6 + \"px\";\n",
       "        box.append($(\"<iframe width='\" + (parseInt(w) - 15).toString() + \"'\" +\n",
       "                \" height='\" + (w * 0.6 - 5) + \"' src='assets/plot/plot_1514187838952144.html' \" +\n",
       "                \"frameborder='0'></iframe>\"))\n",
       "    </script>\n",
       "</div>"
      ],
      "text/plain": [
       "<IPython.core.display.HTML object>"
      ]
     },
     "execution_count": 11,
     "metadata": {},
     "output_type": "execute_result"
    }
   ],
   "source": [
    "r_kg.plot()"
   ]
  },
  {
   "cell_type": "markdown",
   "metadata": {},
   "source": [
    "## Reactome"
   ]
  },
  {
   "cell_type": "code",
   "execution_count": 12,
   "metadata": {
    "collapsed": true
   },
   "outputs": [],
   "source": [
    "# the Example of using the warpper of Reactome gene set enrichment analysis"
   ]
  },
  {
   "cell_type": "code",
   "execution_count": 12,
   "metadata": {},
   "outputs": [
    {
     "name": "stdout",
     "output_type": "stream",
     "text": [
      "Database org.Hs.eg.db not found, will be downloaded from bioconductor\n"
     ]
    }
   ],
   "source": [
    "sybs = [x[1][0] for x in IdMapping.convert(input_id=c.deg_list, species='hsa', source='ENTREZID', target='SYMBOL') if x[1]]"
   ]
  },
  {
   "cell_type": "code",
   "execution_count": 12,
   "metadata": {
    "scrolled": true
   },
   "outputs": [
    {
     "data": {
      "text/plain": [
       "['A2M',\n",
       " 'MKKS',\n",
       " 'S100A3',\n",
       " 'ANKRD29',\n",
       " 'TMEM250',\n",
       " 'NAT1',\n",
       " 'NAT2',\n",
       " 'SERPINA3',\n",
       " 'AAMP',\n",
       " 'AARS']"
      ]
     },
     "execution_count": 12,
     "metadata": {},
     "output_type": "execute_result"
    }
   ],
   "source": [
    "sybs[:10]"
   ]
  },
  {
   "cell_type": "code",
   "execution_count": 13,
   "metadata": {
    "scrolled": false
   },
   "outputs": [],
   "source": [
    "# the input is a list of symbol\n",
    "r = Reactome.run(sybs[:10], organism='Homo sapiens')"
   ]
  },
  {
   "cell_type": "code",
   "execution_count": 14,
   "metadata": {
    "scrolled": true
   },
   "outputs": [
    {
     "data": {
      "text/html": [
       "<div>\n",
       "<style scoped>\n",
       "    .dataframe tbody tr th:only-of-type {\n",
       "        vertical-align: middle;\n",
       "    }\n",
       "\n",
       "    .dataframe tbody tr th {\n",
       "        vertical-align: top;\n",
       "    }\n",
       "\n",
       "    .dataframe thead th {\n",
       "        text-align: right;\n",
       "    }\n",
       "</style>\n",
       "<table border=\"1\" class=\"dataframe\">\n",
       "  <thead>\n",
       "    <tr style=\"text-align: right;\">\n",
       "      <th></th>\n",
       "      <th>name</th>\n",
       "      <th>dbId</th>\n",
       "      <th>found</th>\n",
       "      <th>p-value</th>\n",
       "      <th>fdr</th>\n",
       "      <th>species</th>\n",
       "    </tr>\n",
       "  </thead>\n",
       "  <tbody>\n",
       "    <tr>\n",
       "      <th>0</th>\n",
       "      <td>Acetylation</td>\n",
       "      <td>156582</td>\n",
       "      <td>2</td>\n",
       "      <td>0.000593</td>\n",
       "      <td>0.025498</td>\n",
       "      <td>Homo sapiens</td>\n",
       "    </tr>\n",
       "    <tr>\n",
       "      <th>1</th>\n",
       "      <td>Defective SLC6A2 causes orthostatic intoleranc...</td>\n",
       "      <td>5619109</td>\n",
       "      <td>1</td>\n",
       "      <td>0.006619</td>\n",
       "      <td>0.138996</td>\n",
       "      <td>Homo sapiens</td>\n",
       "    </tr>\n",
       "    <tr>\n",
       "      <th>2</th>\n",
       "      <td>Amino acid transport across the plasma membrane</td>\n",
       "      <td>352230</td>\n",
       "      <td>2</td>\n",
       "      <td>0.009974</td>\n",
       "      <td>0.139634</td>\n",
       "      <td>Homo sapiens</td>\n",
       "    </tr>\n",
       "    <tr>\n",
       "      <th>3</th>\n",
       "      <td>Astrocytic Glutamate-Glutamine Uptake And Meta...</td>\n",
       "      <td>210455</td>\n",
       "      <td>1</td>\n",
       "      <td>0.021899</td>\n",
       "      <td>0.167926</td>\n",
       "      <td>Homo sapiens</td>\n",
       "    </tr>\n",
       "    <tr>\n",
       "      <th>4</th>\n",
       "      <td>Neurotransmitter uptake and metabolism In glia...</td>\n",
       "      <td>112313</td>\n",
       "      <td>1</td>\n",
       "      <td>0.021899</td>\n",
       "      <td>0.167926</td>\n",
       "      <td>Homo sapiens</td>\n",
       "    </tr>\n",
       "  </tbody>\n",
       "</table>\n",
       "</div>"
      ],
      "text/plain": [
       "                                                name     dbId  found  \\\n",
       "0                                        Acetylation   156582      2   \n",
       "1  Defective SLC6A2 causes orthostatic intoleranc...  5619109      1   \n",
       "2    Amino acid transport across the plasma membrane   352230      2   \n",
       "3  Astrocytic Glutamate-Glutamine Uptake And Meta...   210455      1   \n",
       "4  Neurotransmitter uptake and metabolism In glia...   112313      1   \n",
       "\n",
       "    p-value       fdr       species  \n",
       "0  0.000593  0.025498  Homo sapiens  \n",
       "1  0.006619  0.138996  Homo sapiens  \n",
       "2  0.009974  0.139634  Homo sapiens  \n",
       "3  0.021899  0.167926  Homo sapiens  \n",
       "4  0.021899  0.167926  Homo sapiens  "
      ]
     },
     "execution_count": 14,
     "metadata": {},
     "output_type": "execute_result"
    }
   ],
   "source": [
    "# the result\n",
    "r.table.head()"
   ]
  },
  {
   "cell_type": "markdown",
   "metadata": {},
   "source": [
    "## Gene ontology"
   ]
  },
  {
   "cell_type": "code",
   "execution_count": 15,
   "metadata": {},
   "outputs": [],
   "source": [
    "# make the association file using the id_mapping function\n",
    "# detail using will be shown in the utils section\n",
    "r = IdMapping.convert_to_dict(input_id=c.background, source='ENTREZID', target=\"GO\", species='hsa')"
   ]
  },
  {
   "cell_type": "code",
   "execution_count": 16,
   "metadata": {
    "scrolled": true
   },
   "outputs": [
    {
     "name": "stdout",
     "output_type": "stream",
     "text": [
      "load obo file /Users/yangxu/PyPathway/examples/analysis/go.obo\n",
      "/Users/yangxu/PyPathway/examples/analysis/go.obo: fmt(1.2) rel(2017-12-12) 47,063 GO Terms\n",
      "fisher module not installed.  Falling back on scipy.stats.fisher_exact\n"
     ]
    },
    {
     "name": "stderr",
     "output_type": "stream",
     "text": [
      "Propagating term counts to parents ..\n"
     ]
    },
    {
     "name": "stdout",
     "output_type": "stream",
     "text": [
      "15,292 out of 17,216 population items found in association\n",
      "Calculating uncorrected p-values using fisher_scipy_stats\n",
      " 5,114 out of  5,320 study items found in association\n",
      "Running multitest correction: local bonferroni\n",
      "Running multitest correction: local sidak\n",
      "Running multitest correction: local holm\n",
      "  15,988 GO terms are associated with 5,114 of 5,320 study items\n",
      "  21,081 GO terms are associated with 15,292 of 17,216 population items\n"
     ]
    }
   ],
   "source": [
    "# run go enrichment analysis via goatools \n",
    "# the inputs of study, pop, and assoc is list, list,  dict.\n",
    "# the path is the folder of go obo file\n",
    "# the path should be a valid filesystem path\n",
    "path = os.getcwd() + \"/go.obo\"\n",
    "rg = GO.run([str(x) for x in c.deg_list], [str(x) for x in c.background], r, obo=path)"
   ]
  },
  {
   "cell_type": "code",
   "execution_count": 16,
   "metadata": {},
   "outputs": [
    {
     "data": {
      "text/html": [
       "<div>\n",
       "<style scoped>\n",
       "    .dataframe tbody tr th:only-of-type {\n",
       "        vertical-align: middle;\n",
       "    }\n",
       "\n",
       "    .dataframe tbody tr th {\n",
       "        vertical-align: top;\n",
       "    }\n",
       "\n",
       "    .dataframe thead th {\n",
       "        text-align: right;\n",
       "    }\n",
       "</style>\n",
       "<table border=\"1\" class=\"dataframe\">\n",
       "  <thead>\n",
       "    <tr style=\"text-align: right;\">\n",
       "      <th></th>\n",
       "      <th>GO</th>\n",
       "      <th>NS</th>\n",
       "      <th>enrichment</th>\n",
       "      <th>name</th>\n",
       "      <th>ratio_in_study</th>\n",
       "      <th>ratio_in_pop</th>\n",
       "      <th>p_uncorrected</th>\n",
       "      <th>depth</th>\n",
       "      <th>study_count</th>\n",
       "      <th>p_bonferroni</th>\n",
       "      <th>p_sidak</th>\n",
       "      <th>p_holm</th>\n",
       "      <th>hit</th>\n",
       "    </tr>\n",
       "  </thead>\n",
       "  <tbody>\n",
       "    <tr>\n",
       "      <th>0</th>\n",
       "      <td>GO:0008150</td>\n",
       "      <td>BP</td>\n",
       "      <td>e</td>\n",
       "      <td>biological_process</td>\n",
       "      <td>4755/5320</td>\n",
       "      <td>14017/17216</td>\n",
       "      <td>5.100000e-78</td>\n",
       "      <td>n.a.</td>\n",
       "      <td>4755</td>\n",
       "      <td>1.070000e-73</td>\n",
       "      <td>1.050000e-73</td>\n",
       "      <td>1.070000e-73</td>\n",
       "      <td>10, 1000, 10000, 10005, 10006, 10008, 10013, 1...</td>\n",
       "    </tr>\n",
       "    <tr>\n",
       "      <th>1</th>\n",
       "      <td>GO:0009987</td>\n",
       "      <td>BP</td>\n",
       "      <td>e</td>\n",
       "      <td>cellular process</td>\n",
       "      <td>4194/5320</td>\n",
       "      <td>12161/17216</td>\n",
       "      <td>3.650000e-58</td>\n",
       "      <td>n.a.</td>\n",
       "      <td>4194</td>\n",
       "      <td>7.690000e-54</td>\n",
       "      <td>7.500000e-54</td>\n",
       "      <td>7.690000e-54</td>\n",
       "      <td>10, 1000, 10000, 10005, 10006, 10008, 10013, 1...</td>\n",
       "    </tr>\n",
       "    <tr>\n",
       "      <th>2</th>\n",
       "      <td>GO:0044281</td>\n",
       "      <td>BP</td>\n",
       "      <td>e</td>\n",
       "      <td>small molecule metabolic process</td>\n",
       "      <td>684/5320</td>\n",
       "      <td>1502/17216</td>\n",
       "      <td>1.130000e-35</td>\n",
       "      <td>n.a.</td>\n",
       "      <td>684</td>\n",
       "      <td>2.390000e-31</td>\n",
       "      <td>2.330000e-31</td>\n",
       "      <td>2.390000e-31</td>\n",
       "      <td>10005, 10057, 10090, 10111, 10135, 10165, 1017...</td>\n",
       "    </tr>\n",
       "    <tr>\n",
       "      <th>3</th>\n",
       "      <td>GO:0006082</td>\n",
       "      <td>BP</td>\n",
       "      <td>e</td>\n",
       "      <td>organic acid metabolic process</td>\n",
       "      <td>409/5320</td>\n",
       "      <td>837/17216</td>\n",
       "      <td>1.120000e-28</td>\n",
       "      <td>n.a.</td>\n",
       "      <td>409</td>\n",
       "      <td>2.370000e-24</td>\n",
       "      <td>2.310000e-24</td>\n",
       "      <td>2.360000e-24</td>\n",
       "      <td>10005, 10057, 10090, 10170, 10327, 10352, 1036...</td>\n",
       "    </tr>\n",
       "    <tr>\n",
       "      <th>4</th>\n",
       "      <td>GO:0043436</td>\n",
       "      <td>BP</td>\n",
       "      <td>e</td>\n",
       "      <td>oxoacid metabolic process</td>\n",
       "      <td>400/5320</td>\n",
       "      <td>821/17216</td>\n",
       "      <td>1.180000e-27</td>\n",
       "      <td>n.a.</td>\n",
       "      <td>400</td>\n",
       "      <td>2.500000e-23</td>\n",
       "      <td>2.430000e-23</td>\n",
       "      <td>2.490000e-23</td>\n",
       "      <td>10005, 10057, 10090, 10170, 10327, 10352, 1036...</td>\n",
       "    </tr>\n",
       "  </tbody>\n",
       "</table>\n",
       "</div>"
      ],
      "text/plain": [
       "           GO  NS enrichment                              name ratio_in_study  \\\n",
       "0  GO:0008150  BP          e    biological_process                  4755/5320   \n",
       "1  GO:0009987  BP          e    cellular process                    4194/5320   \n",
       "2  GO:0044281  BP          e  small molecule metabolic process       684/5320   \n",
       "3  GO:0006082  BP          e    organic acid metabolic process       409/5320   \n",
       "4  GO:0043436  BP          e    oxoacid metabolic process            400/5320   \n",
       "\n",
       "  ratio_in_pop  p_uncorrected depth  study_count  p_bonferroni       p_sidak  \\\n",
       "0  14017/17216   5.100000e-78  n.a.         4755  1.070000e-73  1.050000e-73   \n",
       "1  12161/17216   3.650000e-58  n.a.         4194  7.690000e-54  7.500000e-54   \n",
       "2   1502/17216   1.130000e-35  n.a.          684  2.390000e-31  2.330000e-31   \n",
       "3    837/17216   1.120000e-28  n.a.          409  2.370000e-24  2.310000e-24   \n",
       "4    821/17216   1.180000e-27  n.a.          400  2.500000e-23  2.430000e-23   \n",
       "\n",
       "         p_holm                                                hit  \n",
       "0  1.070000e-73  10, 1000, 10000, 10005, 10006, 10008, 10013, 1...  \n",
       "1  7.690000e-54  10, 1000, 10000, 10005, 10006, 10008, 10013, 1...  \n",
       "2  2.390000e-31  10005, 10057, 10090, 10111, 10135, 10165, 1017...  \n",
       "3  2.360000e-24  10005, 10057, 10090, 10170, 10327, 10352, 1036...  \n",
       "4  2.490000e-23  10005, 10057, 10090, 10170, 10327, 10352, 1036...  "
      ]
     },
     "execution_count": 16,
     "metadata": {},
     "output_type": "execute_result"
    }
   ],
   "source": [
    "rg.table.head()"
   ]
  },
  {
   "cell_type": "code",
   "execution_count": 18,
   "metadata": {
    "scrolled": false
   },
   "outputs": [
    {
     "name": "stdout",
     "output_type": "stream",
     "text": [
      "obo file not found, start to download\n",
      "load obo file /Users/yangxu/PyPathway/examples/analysisgo-basic.obo\n",
      "/Users/yangxu/PyPathway/examples/analysisgo-basic.obo: fmt(1.2) rel(2017-12-24) 47,104 GO Terms\n",
      "fisher module not installed.  Falling back on scipy.stats.fisher_exact\n"
     ]
    },
    {
     "name": "stderr",
     "output_type": "stream",
     "text": [
      "Propagating term counts to parents ..\n",
      "goids not found: {'GO:0004221', 'GO:0000300', 'GO:0010149', 'GO:0003702', 'GO:0004428', 'GO:0046909', 'GO:0035300', 'GO:0019204', 'GO:0017163', 'GO:0016563', 'GO:0033903', 'GO:0006800', 'GO:0000059', 'GO:0042156', 'GO:0022625', 'GO:0005624', 'GO:0016564', 'GO:0000739', 'GO:0004437', 'GO:0004086', 'GO:0000299', 'GO:0008159', 'GO:0005625', 'GO:0007108', 'GO:0016944', 'GO:0006496', 'GO:0003840', 'GO:0003711', 'GO:0046853', 'GO:0005678', 'GO:0048196', 'GO:0003701', 'GO:0005792', 'GO:0008943', 'GO:0003715', 'GO:0016566', 'GO:0016585', 'GO:0000072', 'GO:0045750', 'GO:0030528', 'GO:0016251', 'GO:0016986', 'GO:0022627', 'GO:0008471', 'GO:0019575'}\n"
     ]
    },
    {
     "name": "stdout",
     "output_type": "stream",
     "text": [
      "31,855 out of 33,239 population items found in association\n",
      "Calculating uncorrected p-values using fisher_scipy_stats\n",
      "   269 out of    276 study items found in association\n",
      "Running multitest correction: local bonferroni\n",
      "Running multitest correction: local sidak\n",
      "Running multitest correction: local holm\n",
      "  787 GO terms are associated with 269 of 276 study items\n",
      "  6,084 GO terms are associated with 31,847 of 33,239 population items\n"
     ]
    }
   ],
   "source": [
    "# the file input of study, pop and assoc\n",
    "# this function is the warpper of the Goatools\n",
    "# Github: https://github.com/tanghaibao/goatools\n",
    "# cite: Haibao Tang et al. (2015). GOATOOLS: Tools for Gene Ontology. Zenodo. 10.5281/zenodo.31628.\n",
    "path = \"../../tests/assets/data/\"\n",
    "rg = GO.run(path + 'study', path + 'population', path + 'association',\n",
    "        obo=os.getcwd() + \"/go.obo\")"
   ]
  },
  {
   "cell_type": "code",
   "execution_count": 18,
   "metadata": {},
   "outputs": [
    {
     "data": {
      "text/html": [
       "<div>\n",
       "<style scoped>\n",
       "    .dataframe tbody tr th:only-of-type {\n",
       "        vertical-align: middle;\n",
       "    }\n",
       "\n",
       "    .dataframe tbody tr th {\n",
       "        vertical-align: top;\n",
       "    }\n",
       "\n",
       "    .dataframe thead th {\n",
       "        text-align: right;\n",
       "    }\n",
       "</style>\n",
       "<table border=\"1\" class=\"dataframe\">\n",
       "  <thead>\n",
       "    <tr style=\"text-align: right;\">\n",
       "      <th></th>\n",
       "      <th>GO</th>\n",
       "      <th>NS</th>\n",
       "      <th>enrichment</th>\n",
       "      <th>name</th>\n",
       "      <th>ratio_in_study</th>\n",
       "      <th>ratio_in_pop</th>\n",
       "      <th>p_uncorrected</th>\n",
       "      <th>depth</th>\n",
       "      <th>study_count</th>\n",
       "      <th>p_bonferroni</th>\n",
       "      <th>p_sidak</th>\n",
       "      <th>p_holm</th>\n",
       "      <th>hit</th>\n",
       "    </tr>\n",
       "  </thead>\n",
       "  <tbody>\n",
       "    <tr>\n",
       "      <th>0</th>\n",
       "      <td>GO:0006464</td>\n",
       "      <td>BP</td>\n",
       "      <td>e</td>\n",
       "      <td>cellular protein modification process</td>\n",
       "      <td>33/276</td>\n",
       "      <td>1727/33239</td>\n",
       "      <td>0.000008</td>\n",
       "      <td>n.a.</td>\n",
       "      <td>33</td>\n",
       "      <td>0.0506</td>\n",
       "      <td>0.0493</td>\n",
       "      <td>0.0505</td>\n",
       "      <td>AT1G13580, AT1G66610, AT1G66860, AT1G66980, AT...</td>\n",
       "    </tr>\n",
       "    <tr>\n",
       "      <th>1</th>\n",
       "      <td>GO:0036211</td>\n",
       "      <td>BP</td>\n",
       "      <td>e</td>\n",
       "      <td>protein modification process</td>\n",
       "      <td>33/276</td>\n",
       "      <td>1727/33239</td>\n",
       "      <td>0.000008</td>\n",
       "      <td>n.a.</td>\n",
       "      <td>33</td>\n",
       "      <td>0.0506</td>\n",
       "      <td>0.0493</td>\n",
       "      <td>0.0505</td>\n",
       "      <td>AT1G13580, AT1G66610, AT1G66860, AT1G66980, AT...</td>\n",
       "    </tr>\n",
       "    <tr>\n",
       "      <th>2</th>\n",
       "      <td>GO:0006468</td>\n",
       "      <td>BP</td>\n",
       "      <td>e</td>\n",
       "      <td>protein phosphorylation</td>\n",
       "      <td>22/276</td>\n",
       "      <td>922/33239</td>\n",
       "      <td>0.000011</td>\n",
       "      <td>n.a.</td>\n",
       "      <td>22</td>\n",
       "      <td>0.0661</td>\n",
       "      <td>0.0644</td>\n",
       "      <td>0.0660</td>\n",
       "      <td>AT1G66980, AT2G29220, AT2G41140, AT2G41970, AT...</td>\n",
       "    </tr>\n",
       "    <tr>\n",
       "      <th>3</th>\n",
       "      <td>GO:0016310</td>\n",
       "      <td>BP</td>\n",
       "      <td>e</td>\n",
       "      <td>phosphorylation</td>\n",
       "      <td>22/276</td>\n",
       "      <td>996/33239</td>\n",
       "      <td>0.000035</td>\n",
       "      <td>n.a.</td>\n",
       "      <td>22</td>\n",
       "      <td>0.2130</td>\n",
       "      <td>0.2070</td>\n",
       "      <td>0.2130</td>\n",
       "      <td>AT1G66980, AT2G29220, AT2G41140, AT2G41970, AT...</td>\n",
       "    </tr>\n",
       "    <tr>\n",
       "      <th>4</th>\n",
       "      <td>GO:0043412</td>\n",
       "      <td>BP</td>\n",
       "      <td>e</td>\n",
       "      <td>macromolecule modification</td>\n",
       "      <td>33/276</td>\n",
       "      <td>1877/33239</td>\n",
       "      <td>0.000057</td>\n",
       "      <td>n.a.</td>\n",
       "      <td>33</td>\n",
       "      <td>0.3520</td>\n",
       "      <td>0.3430</td>\n",
       "      <td>0.3510</td>\n",
       "      <td>AT1G13580, AT1G66610, AT1G66860, AT1G66980, AT...</td>\n",
       "    </tr>\n",
       "  </tbody>\n",
       "</table>\n",
       "</div>"
      ],
      "text/plain": [
       "           GO  NS enrichment                                   name  \\\n",
       "0  GO:0006464  BP          e  cellular protein modification process   \n",
       "1  GO:0036211  BP          e         protein modification process     \n",
       "2  GO:0006468  BP          e         protein phosphorylation          \n",
       "3  GO:0016310  BP          e         phosphorylation                  \n",
       "4  GO:0043412  BP          e         macromolecule modification       \n",
       "\n",
       "  ratio_in_study ratio_in_pop  p_uncorrected depth  study_count  p_bonferroni  \\\n",
       "0         33/276   1727/33239       0.000008  n.a.           33        0.0506   \n",
       "1         33/276   1727/33239       0.000008  n.a.           33        0.0506   \n",
       "2         22/276    922/33239       0.000011  n.a.           22        0.0661   \n",
       "3         22/276    996/33239       0.000035  n.a.           22        0.2130   \n",
       "4         33/276   1877/33239       0.000057  n.a.           33        0.3520   \n",
       "\n",
       "   p_sidak  p_holm                                                hit  \n",
       "0   0.0493  0.0505  AT1G13580, AT1G66610, AT1G66860, AT1G66980, AT...  \n",
       "1   0.0493  0.0505  AT1G13580, AT1G66610, AT1G66860, AT1G66980, AT...  \n",
       "2   0.0644  0.0660  AT1G66980, AT2G29220, AT2G41140, AT2G41970, AT...  \n",
       "3   0.2070  0.2130  AT1G66980, AT2G29220, AT2G41140, AT2G41970, AT...  \n",
       "4   0.3430  0.3510  AT1G13580, AT1G66610, AT1G66860, AT1G66980, AT...  "
      ]
     },
     "execution_count": 18,
     "metadata": {},
     "output_type": "execute_result"
    }
   ],
   "source": [
    "rg.table.head()"
   ]
  },
  {
   "cell_type": "code",
   "execution_count": 19,
   "metadata": {},
   "outputs": [
    {
     "data": {
      "text/html": [
       "<div id=\"box1513492554\" style=\"width: 100%; height: 0px;background-color: #ffffff\">\n",
       "    <script>\n",
       "        var box = $(\"#box1513492554\");\n",
       "        var father = box.parent();\n",
       "        var thirdfather = father.parent().parent().parent();\n",
       "        thirdfather.children(\".prompt\").remove();\n",
       "        father.parent().children(\".prompt\").remove();\n",
       "        father.css(\"max-width\", \"100%\");\n",
       "        box.css(\"margin-left\", \"5px\");\n",
       "        box.css(\"margin-top\", \"3px\");\n",
       "        var target = document.getElementById(\"box1513492554\");\n",
       "        var w = thirdfather.outerWidth();\n",
       "        console.log(w);\n",
       "        target.style.height = w * 0.625 + \"px\";\n",
       "        box.append($(\"<iframe id='inner-iframe' width='\" + (parseInt(w) - 15).toString() + \"'\" +\n",
       "                \" height='\" + w * 0.625 + \"' src=files/caches/cy_plot/index.html \" +\n",
       "                \"frameborder='0'></iframe>\"));\n",
       "        window.onresize = function () {\n",
       "            console.log(\"resize\", thirdfather.outerWidth());\n",
       "            var inner_frame = $(\"#inner-iframe\");\n",
       "            inner_frame.css(\"width\", thirdfather.outerWidth() - 15 + \"px\");\n",
       "            inner_frame.css(\"height\", thirdfather.outerWidth() * 0.625 + \"px\");\n",
       "            father.css(\"height\", thirdfather.outerWidth() * 0.625 + 8 + \"px\");\n",
       "            thirdfather.css(\"height\", thirdfather.outerWidth() * 0.625 + 8 + \"px\");\n",
       "            father.parent().css(\"height\", thirdfather.outerWidth() * 0.625 + 8 + \"px\");\n",
       "        }\n",
       "    </script>\n",
       "</div>"
      ],
      "text/plain": [
       "<IPython.core.display.HTML object>"
      ]
     },
     "execution_count": 19,
     "metadata": {},
     "output_type": "execute_result"
    }
   ],
   "source": [
    "# the interactive graph display the significance of the result by color\n",
    "rg.graph()"
   ]
  },
  {
   "cell_type": "code",
   "execution_count": 20,
   "metadata": {
    "collapsed": true
   },
   "outputs": [],
   "source": [
    "# test export\n",
    "c = EnrichmentExport.export([rg, rg])"
   ]
  }
 ],
 "metadata": {
  "kernelspec": {
   "display_name": "Python 3",
   "language": "python",
   "name": "python3"
  },
  "language_info": {
   "codemirror_mode": {
    "name": "ipython",
    "version": 3
   },
   "file_extension": ".py",
   "mimetype": "text/x-python",
   "name": "python",
   "nbconvert_exporter": "python",
   "pygments_lexer": "ipython3",
   "version": "3.5.0"
  }
 },
 "nbformat": 4,
 "nbformat_minor": 2
}
