{
 "cells": [
  {
   "cell_type": "markdown",
   "metadata": {},
   "source": [
    "## SPIA\n",
    "This example demonstrate the usage of the SPIA"
   ]
  },
  {
   "cell_type": "code",
   "execution_count": 1,
   "metadata": {},
   "outputs": [],
   "source": [
    "from pypathway import SPIA, Enrichnet, ColorectalCancer, IdMapping"
   ]
  },
  {
   "cell_type": "code",
   "execution_count": 2,
   "metadata": {},
   "outputs": [],
   "source": [
    "c = ColorectalCancer()"
   ]
  },
  {
   "cell_type": "code",
   "execution_count": 3,
   "metadata": {},
   "outputs": [],
   "source": [
    "# all: python list of background genes\n",
    "# de: python dict, key: gene id, value: fold-change \n",
    "r = SPIA.run(all=c.background, de=c.deg, organism='hsa')"
   ]
  },
  {
   "cell_type": "code",
   "execution_count": 4,
   "metadata": {},
   "outputs": [
    {
     "data": {
      "text/html": [
       "<div>\n",
       "<style scoped>\n",
       "    .dataframe tbody tr th:only-of-type {\n",
       "        vertical-align: middle;\n",
       "    }\n",
       "\n",
       "    .dataframe tbody tr th {\n",
       "        vertical-align: top;\n",
       "    }\n",
       "\n",
       "    .dataframe thead th {\n",
       "        text-align: right;\n",
       "    }\n",
       "</style>\n",
       "<table border=\"1\" class=\"dataframe\">\n",
       "  <thead>\n",
       "    <tr style=\"text-align: right;\">\n",
       "      <th></th>\n",
       "      <th>name</th>\n",
       "      <th>pNDE</th>\n",
       "      <th>pPERT</th>\n",
       "      <th>pG</th>\n",
       "      <th>pGfdr</th>\n",
       "      <th>pGFWER</th>\n",
       "      <th>status</th>\n",
       "    </tr>\n",
       "  </thead>\n",
       "  <tbody>\n",
       "    <tr>\n",
       "      <th>04510</th>\n",
       "      <td>Focal adhesion</td>\n",
       "      <td>1.00919e-07</td>\n",
       "      <td>5e-06</td>\n",
       "      <td>1.47922e-11</td>\n",
       "      <td>2.02653e-09</td>\n",
       "      <td>2.02653e-09</td>\n",
       "      <td>Activated</td>\n",
       "    </tr>\n",
       "    <tr>\n",
       "      <th>05010</th>\n",
       "      <td>Alzheimer's disease</td>\n",
       "      <td>2.50371e-11</td>\n",
       "      <td>0.229</td>\n",
       "      <td>1.54144e-10</td>\n",
       "      <td>1.05588e-08</td>\n",
       "      <td>2.11177e-08</td>\n",
       "      <td>Inhibited</td>\n",
       "    </tr>\n",
       "    <tr>\n",
       "      <th>04512</th>\n",
       "      <td>ECM-receptor interaction</td>\n",
       "      <td>4.05857e-06</td>\n",
       "      <td>5e-06</td>\n",
       "      <td>5.19918e-10</td>\n",
       "      <td>2.37429e-08</td>\n",
       "      <td>7.12288e-08</td>\n",
       "      <td>Activated</td>\n",
       "    </tr>\n",
       "    <tr>\n",
       "      <th>05012</th>\n",
       "      <td>Parkinson's disease</td>\n",
       "      <td>6.43572e-10</td>\n",
       "      <td>0.061</td>\n",
       "      <td>9.79911e-10</td>\n",
       "      <td>3.3562e-08</td>\n",
       "      <td>1.34248e-07</td>\n",
       "      <td>Inhibited</td>\n",
       "    </tr>\n",
       "    <tr>\n",
       "      <th>03320</th>\n",
       "      <td>PPAR signaling pathway</td>\n",
       "      <td>7.34632e-06</td>\n",
       "      <td>0.057</td>\n",
       "      <td>6.56837e-06</td>\n",
       "      <td>0.0001502</td>\n",
       "      <td>0.000899866</td>\n",
       "      <td>Inhibited</td>\n",
       "    </tr>\n",
       "  </tbody>\n",
       "</table>\n",
       "</div>"
      ],
      "text/plain": [
       "                           name         pNDE  pPERT           pG        pGfdr  \\\n",
       "04510            Focal adhesion  1.00919e-07  5e-06  1.47922e-11  2.02653e-09   \n",
       "05010       Alzheimer's disease  2.50371e-11  0.229  1.54144e-10  1.05588e-08   \n",
       "04512  ECM-receptor interaction  4.05857e-06  5e-06  5.19918e-10  2.37429e-08   \n",
       "05012       Parkinson's disease  6.43572e-10  0.061  9.79911e-10   3.3562e-08   \n",
       "03320    PPAR signaling pathway  7.34632e-06  0.057  6.56837e-06    0.0001502   \n",
       "\n",
       "            pGFWER     status  \n",
       "04510  2.02653e-09  Activated  \n",
       "05010  2.11177e-08  Inhibited  \n",
       "04512  7.12288e-08  Activated  \n",
       "05012  1.34248e-07  Inhibited  \n",
       "03320  0.000899866  Inhibited  "
      ]
     },
     "execution_count": 4,
     "metadata": {},
     "output_type": "execute_result"
    }
   ],
   "source": [
    "r.table.head()"
   ]
  },
  {
   "cell_type": "code",
   "execution_count": 5,
   "metadata": {},
   "outputs": [
    {
     "data": {
      "text/html": [
       "<div id=\"box1514792669340777\" style=\"width: 100%; height: 0px;background-color: #ffffff\">\n",
       "    <script>\n",
       "        var box = $(\"#box1514792669340777\");\n",
       "        var father = box.parent();\n",
       "        var thirdfather = father.parent().parent().parent();\n",
       "        thirdfather.children(\".prompt\").remove();\n",
       "        father.parent().children(\".prompt\").remove();\n",
       "        father.css(\"max-width\", \"100%\");\n",
       "        box.css(\"margin-left\", \"5px\");\n",
       "        var target = document.getElementById(\"box1514792669340777\");\n",
       "        var w = thirdfather.outerWidth();\n",
       "        console.log(w);\n",
       "        target.style.height = w * 0.6 + \"px\";\n",
       "        box.append($(\"<iframe width='\" + (parseInt(w) - 15).toString() + \"'\" +\n",
       "                \" height='\" + (w * 0.6 - 5) + \"' src='assets/plot/plot_1514792669340777.html' \" +\n",
       "                \"frameborder='0'></iframe>\"))\n",
       "    </script>\n",
       "</div>"
      ],
      "text/plain": [
       "<IPython.core.display.HTML object>"
      ]
     },
     "execution_count": 5,
     "metadata": {},
     "output_type": "execute_result"
    }
   ],
   "source": [
    "r.plot()"
   ]
  }
 ],
 "metadata": {
  "kernelspec": {
   "display_name": "Python 3",
   "language": "python",
   "name": "python3"
  },
  "language_info": {
   "codemirror_mode": {
    "name": "ipython",
    "version": 3
   },
   "file_extension": ".py",
   "mimetype": "text/x-python",
   "name": "python",
   "nbconvert_exporter": "python",
   "pygments_lexer": "ipython3",
   "version": "3.5.0"
  }
 },
 "nbformat": 4,
 "nbformat_minor": 2
}
