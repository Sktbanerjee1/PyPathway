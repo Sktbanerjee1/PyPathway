{
 "cells": [
  {
   "cell_type": "markdown",
   "metadata": {},
   "source": [
    "# STRING and BioGRID APIs\n",
    "This notebook demonstrate the usage of STRING and BioGRID python API."
   ]
  },
  {
   "cell_type": "code",
   "execution_count": 1,
   "metadata": {},
   "outputs": [],
   "source": [
    "from pypathway import STRING, BioGRID"
   ]
  },
  {
   "cell_type": "markdown",
   "metadata": {},
   "source": [
    "## Search molecualr"
   ]
  },
  {
   "cell_type": "code",
   "execution_count": 2,
   "metadata": {
    "scrolled": false
   },
   "outputs": [],
   "source": [
    "# the search api return a list of result and could be retrieve using load() method\n",
    "G = STRING.search(\"CD4\")[35].load()"
   ]
  },
  {
   "cell_type": "code",
   "execution_count": 9,
   "metadata": {},
   "outputs": [
    {
     "data": {
      "text/plain": [
       "['string:9606.ENSP00000011653',\n",
       " 'string:9606.ENSP00000264972',\n",
       " 'string:9606.ENSP00000283635',\n",
       " 'string:9606.ENSP00000337825',\n",
       " 'string:9606.ENSP00000353099',\n",
       " 'string:9606.ENSP00000353224',\n",
       " 'string:9606.ENSP00000356346',\n",
       " 'string:9606.ENSP00000364076',\n",
       " 'string:9606.ENSP00000364114',\n",
       " 'string:9606.ENSP00000364898',\n",
       " 'string:9606.ENSP00000378786']"
      ]
     },
     "execution_count": 9,
     "metadata": {},
     "output_type": "execute_result"
    }
   ],
   "source": [
    "# the result is a networkx.Graph object\n",
    "sorted(list(G.nodes))"
   ]
  },
  {
   "cell_type": "code",
   "execution_count": 11,
   "metadata": {},
   "outputs": [],
   "source": [
    "# due to the difference of the RESTful API design, the BioGRID database API done search and retrieve in one step\n",
    "G2 = BioGRID.search(\"CD4\")"
   ]
  },
  {
   "cell_type": "code",
   "execution_count": 12,
   "metadata": {},
   "outputs": [
    {
     "data": {
      "text/plain": [
       "[106663,\n",
       " 106798,\n",
       " 106799,\n",
       " 106806,\n",
       " 106987,\n",
       " 107018,\n",
       " 107358,\n",
       " 107413,\n",
       " 107639,\n",
       " 107819,\n",
       " 108020,\n",
       " 108021,\n",
       " 108253,\n",
       " 108290,\n",
       " 108338,\n",
       " 108374,\n",
       " 108868,\n",
       " 109033,\n",
       " 109165,\n",
       " 109420,\n",
       " 109422,\n",
       " 109425,\n",
       " 109428,\n",
       " 109544,\n",
       " 109552,\n",
       " 109558,\n",
       " 109561,\n",
       " 109816,\n",
       " 109848,\n",
       " 109935,\n",
       " 110035,\n",
       " 110040,\n",
       " 110115,\n",
       " 110124,\n",
       " 110147,\n",
       " 110455,\n",
       " 110771,\n",
       " 110929,\n",
       " 111262,\n",
       " 111264,\n",
       " 111321,\n",
       " 111752,\n",
       " 112049,\n",
       " 112061,\n",
       " 112066,\n",
       " 112094,\n",
       " 112095,\n",
       " 112117,\n",
       " 112118,\n",
       " 112120,\n",
       " 112137,\n",
       " 112627,\n",
       " 112717,\n",
       " 113258,\n",
       " 113259,\n",
       " 113260,\n",
       " 113262,\n",
       " 113272,\n",
       " 113367,\n",
       " 113607,\n",
       " 114211,\n",
       " 114212,\n",
       " 114213,\n",
       " 114217,\n",
       " 114361,\n",
       " 114407,\n",
       " 114408,\n",
       " 114548,\n",
       " 114593,\n",
       " 114747,\n",
       " 115359,\n",
       " 115367,\n",
       " 115432,\n",
       " 115497,\n",
       " 115563,\n",
       " 115823,\n",
       " 115871,\n",
       " 116745,\n",
       " 117089,\n",
       " 119444,\n",
       " 119474,\n",
       " 122307,\n",
       " 123007,\n",
       " 124418,\n",
       " 125228,\n",
       " 128444,\n",
       " 130463,\n",
       " 1205543,\n",
       " 1205544,\n",
       " 1205545]"
      ]
     },
     "execution_count": 12,
     "metadata": {},
     "output_type": "execute_result"
    }
   ],
   "source": [
    "sorted(list(G2.nodes))"
   ]
  },
  {
   "cell_type": "markdown",
   "metadata": {},
   "source": [
    "## Overall Graph\n",
    "Load the overall graph for certain organsim, the network might be pretty large a the whole process will take minuates to finish"
   ]
  },
  {
   "cell_type": "code",
   "execution_count": 13,
   "metadata": {
    "scrolled": false
   },
   "outputs": [],
   "source": [
    "G = STRING.overall_graph(\"hsa\")"
   ]
  },
  {
   "cell_type": "code",
   "execution_count": 14,
   "metadata": {},
   "outputs": [
    {
     "data": {
      "text/plain": [
       "(19576, 5676528)"
      ]
     },
     "execution_count": 14,
     "metadata": {},
     "output_type": "execute_result"
    }
   ],
   "source": [
    "# graph informations, nodes and edges\n",
    "len(G), len(G.edges())"
   ]
  },
  {
   "cell_type": "code",
   "execution_count": 15,
   "metadata": {},
   "outputs": [
    {
     "name": "stdout",
     "output_type": "stream",
     "text": [
      "Homo_sapiens\n"
     ]
    }
   ],
   "source": [
    "G = BioGRID.overall_graph('hsa')"
   ]
  },
  {
   "cell_type": "code",
   "execution_count": 16,
   "metadata": {},
   "outputs": [
    {
     "data": {
      "text/plain": [
       "(20831, 289088)"
      ]
     },
     "execution_count": 16,
     "metadata": {},
     "output_type": "execute_result"
    }
   ],
   "source": [
    "# graph informations, nodes and edges\n",
    "len(G), len(G.edges())"
   ]
  }
 ],
 "metadata": {
  "kernelspec": {
   "display_name": "Python 3",
   "language": "python",
   "name": "python3"
  },
  "language_info": {
   "codemirror_mode": {
    "name": "ipython",
    "version": 3
   },
   "file_extension": ".py",
   "mimetype": "text/x-python",
   "name": "python",
   "nbconvert_exporter": "python",
   "pygments_lexer": "ipython3",
   "version": "3.5.0"
  }
 },
 "nbformat": 4,
 "nbformat_minor": 1
}
