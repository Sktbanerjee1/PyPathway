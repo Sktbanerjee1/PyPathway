{
 "cells": [
  {
   "cell_type": "markdown",
   "metadata": {},
   "source": [
    "## SPIA\n",
    "This example demonstrate the usage of the SPIA"
   ]
  },
  {
   "cell_type": "code",
   "execution_count": 1,
   "metadata": {
    "collapsed": true
   },
   "outputs": [],
   "source": [
    "%load_ext autoreload\n",
    "%autoreload 2"
   ]
  },
  {
   "cell_type": "code",
   "execution_count": 2,
   "metadata": {
    "collapsed": true
   },
   "outputs": [],
   "source": [
    "import sys\n",
    "sys.path.insert(0, \"/Users/yangxu/PyPathway\")"
   ]
  },
  {
   "cell_type": "code",
   "execution_count": 3,
   "metadata": {
    "collapsed": true
   },
   "outputs": [],
   "source": [
    "from pypathway import SPIA, Enrichnet, ColorectalCancer, IdMapping"
   ]
  },
  {
   "cell_type": "code",
   "execution_count": 4,
   "metadata": {
    "collapsed": true
   },
   "outputs": [],
   "source": [
    "c = ColorectalCancer()"
   ]
  },
  {
   "cell_type": "code",
   "execution_count": 5,
   "metadata": {
    "collapsed": true
   },
   "outputs": [],
   "source": [
    "r = SPIA.run(all=c.background, de=c.deg, organism='hsa')"
   ]
  },
  {
   "cell_type": "code",
   "execution_count": 6,
   "metadata": {},
   "outputs": [
    {
     "data": {
      "text/html": [
       "<div>\n",
       "<style>\n",
       "    .dataframe thead tr:only-child th {\n",
       "        text-align: right;\n",
       "    }\n",
       "\n",
       "    .dataframe thead th {\n",
       "        text-align: left;\n",
       "    }\n",
       "\n",
       "    .dataframe tbody tr th {\n",
       "        vertical-align: top;\n",
       "    }\n",
       "</style>\n",
       "<table border=\"1\" class=\"dataframe\">\n",
       "  <thead>\n",
       "    <tr style=\"text-align: right;\">\n",
       "      <th></th>\n",
       "      <th>name</th>\n",
       "      <th>pNDE</th>\n",
       "      <th>pPERT</th>\n",
       "      <th>pG</th>\n",
       "      <th>pGfdr</th>\n",
       "      <th>pNDEfdr</th>\n",
       "      <th>pGbf</th>\n",
       "      <th>status</th>\n",
       "    </tr>\n",
       "  </thead>\n",
       "  <tbody>\n",
       "    <tr>\n",
       "      <th>04510</th>\n",
       "      <td>Focal adhesion</td>\n",
       "      <td>1.00919e-07</td>\n",
       "      <td>5e-06</td>\n",
       "      <td>1.47922e-11</td>\n",
       "      <td>2.02653e-09</td>\n",
       "      <td>4.67589e-06</td>\n",
       "      <td>2.02653e-09</td>\n",
       "      <td>Activated</td>\n",
       "    </tr>\n",
       "    <tr>\n",
       "      <th>05010</th>\n",
       "      <td>Alzheimer's disease</td>\n",
       "      <td>2.50371e-11</td>\n",
       "      <td>0.217</td>\n",
       "      <td>1.46359e-10</td>\n",
       "      <td>1.00256e-08</td>\n",
       "      <td>3.48016e-09</td>\n",
       "      <td>2.00511e-08</td>\n",
       "      <td>Inhibited</td>\n",
       "    </tr>\n",
       "    <tr>\n",
       "      <th>04512</th>\n",
       "      <td>ECM-receptor interaction</td>\n",
       "      <td>4.05857e-06</td>\n",
       "      <td>5e-06</td>\n",
       "      <td>5.19918e-10</td>\n",
       "      <td>2.37429e-08</td>\n",
       "      <td>0.000141035</td>\n",
       "      <td>7.12288e-08</td>\n",
       "      <td>Activated</td>\n",
       "    </tr>\n",
       "    <tr>\n",
       "      <th>05012</th>\n",
       "      <td>Parkinson's disease</td>\n",
       "      <td>6.43572e-10</td>\n",
       "      <td>0.067</td>\n",
       "      <td>1.07225e-09</td>\n",
       "      <td>3.67246e-08</td>\n",
       "      <td>4.47283e-08</td>\n",
       "      <td>1.46898e-07</td>\n",
       "      <td>Inhibited</td>\n",
       "    </tr>\n",
       "    <tr>\n",
       "      <th>05200</th>\n",
       "      <td>Pathways in cancer</td>\n",
       "      <td>4.19405e-05</td>\n",
       "      <td>0.005</td>\n",
       "      <td>3.43442e-06</td>\n",
       "      <td>9.4103e-05</td>\n",
       "      <td>0.00063581</td>\n",
       "      <td>0.000470515</td>\n",
       "      <td>Activated</td>\n",
       "    </tr>\n",
       "  </tbody>\n",
       "</table>\n",
       "</div>"
      ],
      "text/plain": [
       "                           name         pNDE  pPERT           pG        pGfdr  \\\n",
       "04510            Focal adhesion  1.00919e-07  5e-06  1.47922e-11  2.02653e-09   \n",
       "05010       Alzheimer's disease  2.50371e-11  0.217  1.46359e-10  1.00256e-08   \n",
       "04512  ECM-receptor interaction  4.05857e-06  5e-06  5.19918e-10  2.37429e-08   \n",
       "05012       Parkinson's disease  6.43572e-10  0.067  1.07225e-09  3.67246e-08   \n",
       "05200        Pathways in cancer  4.19405e-05  0.005  3.43442e-06   9.4103e-05   \n",
       "\n",
       "           pNDEfdr         pGbf     status  \n",
       "04510  4.67589e-06  2.02653e-09  Activated  \n",
       "05010  3.48016e-09  2.00511e-08  Inhibited  \n",
       "04512  0.000141035  7.12288e-08  Activated  \n",
       "05012  4.47283e-08  1.46898e-07  Inhibited  \n",
       "05200   0.00063581  0.000470515  Activated  "
      ]
     },
     "execution_count": 6,
     "metadata": {},
     "output_type": "execute_result"
    }
   ],
   "source": [
    "r.table.head()"
   ]
  },
  {
   "cell_type": "code",
   "execution_count": 7,
   "metadata": {},
   "outputs": [
    {
     "data": {
      "text/html": [
       "<div id=\"box1510799999095484\" style=\"width: 100%; height: 0px;background-color: #ffffff\">\n",
       "    <script>\n",
       "        var box = $(\"#box1510799999095484\");\n",
       "        var father = box.parent();\n",
       "        var thirdfather = father.parent().parent().parent();\n",
       "        thirdfather.children(\".prompt\").remove();\n",
       "        father.parent().children(\".prompt\").remove();\n",
       "        father.css(\"max-width\", \"100%\");\n",
       "        box.css(\"margin-left\", \"5px\");\n",
       "        var target = document.getElementById(\"box1510799999095484\");\n",
       "        var w = thirdfather.outerWidth();\n",
       "        console.log(w);\n",
       "        target.style.height = w * 0.6 + \"px\";\n",
       "        box.append($(\"<iframe width='\" + (parseInt(w) - 15).toString() + \"'\" +\n",
       "                \" height='\" + (w * 0.6 - 5) + \"' src='assets/plot/plot_1510799999095484.html' \" +\n",
       "                \"frameborder='0'></iframe>\"))\n",
       "    </script>\n",
       "</div>"
      ],
      "text/plain": [
       "<IPython.core.display.HTML object>"
      ]
     },
     "execution_count": 7,
     "metadata": {},
     "output_type": "execute_result"
    }
   ],
   "source": [
    "r.plot()"
   ]
  },
  {
   "cell_type": "markdown",
   "metadata": {},
   "source": [
    "# Enrichnet\n",
    "The Python API of enrichnet.org network enrichment"
   ]
  },
  {
   "cell_type": "code",
   "execution_count": 8,
   "metadata": {
    "collapsed": true
   },
   "outputs": [],
   "source": [
    "# convert ENTREZID to SYMBOL\n",
    "sym = IdMapping.convert(input_id=c.deg_list, source='ENTREZID', target=\"SYMBOL\", organism='hsa')\n",
    "sym = [x[1][0] for x in sym if x[1]]"
   ]
  },
  {
   "cell_type": "code",
   "execution_count": 9,
   "metadata": {
    "collapsed": true,
    "scrolled": false
   },
   "outputs": [],
   "source": [
    "en = Enrichnet.run(genesets=sym, graph='string')"
   ]
  },
  {
   "cell_type": "code",
   "execution_count": 10,
   "metadata": {},
   "outputs": [
    {
     "data": {
      "text/html": [
       "<div>\n",
       "<style>\n",
       "    .dataframe thead tr:only-child th {\n",
       "        text-align: right;\n",
       "    }\n",
       "\n",
       "    .dataframe thead th {\n",
       "        text-align: left;\n",
       "    }\n",
       "\n",
       "    .dataframe tbody tr th {\n",
       "        vertical-align: top;\n",
       "    }\n",
       "</style>\n",
       "<table border=\"1\" class=\"dataframe\">\n",
       "  <thead>\n",
       "    <tr style=\"text-align: right;\">\n",
       "      <th></th>\n",
       "      <th>Annotation (pathway/process)</th>\n",
       "      <th>XD-score</th>\n",
       "      <th>Fisher q-value</th>\n",
       "      <th>Gene set size</th>\n",
       "      <th>Pathway size</th>\n",
       "      <th>Overlap size</th>\n",
       "    </tr>\n",
       "  </thead>\n",
       "  <tbody>\n",
       "    <tr>\n",
       "      <th>0</th>\n",
       "      <td>hsa00280:Valine, leucine and isoleucine degrad...</td>\n",
       "      <td>4.334854</td>\n",
       "      <td>4.772740e-09</td>\n",
       "      <td>4342</td>\n",
       "      <td>44</td>\n",
       "      <td>35</td>\n",
       "    </tr>\n",
       "    <tr>\n",
       "      <th>1</th>\n",
       "      <td>hsa00603:Glycosphingolipid biosynthesis - glob...</td>\n",
       "      <td>3.895005</td>\n",
       "      <td>2.245753e-02</td>\n",
       "      <td>4342</td>\n",
       "      <td>14</td>\n",
       "      <td>10</td>\n",
       "    </tr>\n",
       "    <tr>\n",
       "      <th>2</th>\n",
       "      <td>hsa00640:Propanoate metabolism</td>\n",
       "      <td>3.673330</td>\n",
       "      <td>8.447069e-05</td>\n",
       "      <td>4342</td>\n",
       "      <td>32</td>\n",
       "      <td>23</td>\n",
       "    </tr>\n",
       "    <tr>\n",
       "      <th>3</th>\n",
       "      <td>hsa00410:beta-Alanine metabolism</td>\n",
       "      <td>3.316433</td>\n",
       "      <td>4.982290e-03</td>\n",
       "      <td>4342</td>\n",
       "      <td>22</td>\n",
       "      <td>15</td>\n",
       "    </tr>\n",
       "    <tr>\n",
       "      <th>4</th>\n",
       "      <td>hsa00900:Terpenoid backbone biosynthesis</td>\n",
       "      <td>3.252147</td>\n",
       "      <td>3.759063e-02</td>\n",
       "      <td>4342</td>\n",
       "      <td>15</td>\n",
       "      <td>10</td>\n",
       "    </tr>\n",
       "  </tbody>\n",
       "</table>\n",
       "</div>"
      ],
      "text/plain": [
       "                        Annotation (pathway/process)  XD-score  \\\n",
       "0  hsa00280:Valine, leucine and isoleucine degrad...  4.334854   \n",
       "1  hsa00603:Glycosphingolipid biosynthesis - glob...  3.895005   \n",
       "2                     hsa00640:Propanoate metabolism  3.673330   \n",
       "3                   hsa00410:beta-Alanine metabolism  3.316433   \n",
       "4           hsa00900:Terpenoid backbone biosynthesis  3.252147   \n",
       "\n",
       "   Fisher q-value  Gene set size  Pathway size  Overlap size  \n",
       "0    4.772740e-09           4342            44            35  \n",
       "1    2.245753e-02           4342            14            10  \n",
       "2    8.447069e-05           4342            32            23  \n",
       "3    4.982290e-03           4342            22            15  \n",
       "4    3.759063e-02           4342            15            10  "
      ]
     },
     "execution_count": 10,
     "metadata": {},
     "output_type": "execute_result"
    }
   ],
   "source": [
    "en.table.head()"
   ]
  },
  {
   "cell_type": "code",
   "execution_count": 11,
   "metadata": {},
   "outputs": [
    {
     "data": {
      "text/html": [
       "<div id=\"box151080006152228\" style=\"width: 100%; height: 0px;background-color: #ffffff\">\n",
       "    <script>\n",
       "        var box = $(\"#box151080006152228\");\n",
       "        var father = box.parent();\n",
       "        var thirdfather = father.parent().parent().parent();\n",
       "        thirdfather.children(\".prompt\").remove();\n",
       "        father.parent().children(\".prompt\").remove();\n",
       "        father.css(\"max-width\", \"100%\");\n",
       "        box.css(\"margin-left\", \"5px\");\n",
       "        var target = document.getElementById(\"box151080006152228\");\n",
       "        var w = thirdfather.outerWidth();\n",
       "        console.log(w);\n",
       "        target.style.height = w * 0.6 + \"px\";\n",
       "        box.append($(\"<iframe width='\" + (parseInt(w) - 15).toString() + \"'\" +\n",
       "                \" height='\" + (w * 0.6 - 5) + \"' src='assets/plot/plot_151080006152228.html' \" +\n",
       "                \"frameborder='0'></iframe>\"))\n",
       "    </script>\n",
       "</div>"
      ],
      "text/plain": [
       "<IPython.core.display.HTML object>"
      ]
     },
     "execution_count": 11,
     "metadata": {},
     "output_type": "execute_result"
    }
   ],
   "source": [
    "en.plot()"
   ]
  }
 ],
 "metadata": {
  "kernelspec": {
   "display_name": "Python 3",
   "language": "python",
   "name": "python3"
  },
  "language_info": {
   "codemirror_mode": {
    "name": "ipython",
    "version": 3
   },
   "file_extension": ".py",
   "mimetype": "text/x-python",
   "name": "python",
   "nbconvert_exporter": "python",
   "pygments_lexer": "ipython3",
   "version": "3.5.2"
  }
 },
 "nbformat": 4,
 "nbformat_minor": 2
}
