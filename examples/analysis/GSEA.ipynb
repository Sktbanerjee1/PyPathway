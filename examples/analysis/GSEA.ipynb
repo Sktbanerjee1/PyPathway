{
 "cells": [
  {
   "cell_type": "markdown",
   "metadata": {},
   "source": [
    "# GSEA\n",
    "Implemented in GSEApy\n",
    "> Github: https://github.com/BioNinja/GSEApy"
   ]
  },
  {
   "cell_type": "code",
   "execution_count": 1,
   "metadata": {
    "collapsed": true
   },
   "outputs": [],
   "source": [
    "from pypathway import GSEA\n",
    "import pandas as pd"
   ]
  },
  {
   "cell_type": "code",
   "execution_count": 2,
   "metadata": {
    "collapsed": true
   },
   "outputs": [],
   "source": [
    "# load the cls file\n",
    "phenoA, phenoB, class_vector = GSEA.parse_class_vector(\"data/GSE4107.cls\")"
   ]
  },
  {
   "cell_type": "code",
   "execution_count": 3,
   "metadata": {
    "collapsed": true,
    "scrolled": true
   },
   "outputs": [],
   "source": [
    "# load the table\n",
    "gene_exp = pd.read_excel(\"data/GSE4107.xlsx\")"
   ]
  },
  {
   "cell_type": "code",
   "execution_count": 4,
   "metadata": {},
   "outputs": [
    {
     "data": {
      "text/plain": [
       "(1000, 23)"
      ]
     },
     "execution_count": 4,
     "metadata": {},
     "output_type": "execute_result"
    }
   ],
   "source": [
    "gene_exp.iloc[:1000].shape"
   ]
  },
  {
   "cell_type": "code",
   "execution_count": 5,
   "metadata": {
    "collapsed": true
   },
   "outputs": [],
   "source": [
    "r = GSEA.run(data=gene_exp.iloc[:1000], gmt=\"KEGG_2016\", cls=class_vector)"
   ]
  },
  {
   "cell_type": "code",
   "execution_count": 6,
   "metadata": {},
   "outputs": [
    {
     "data": {
      "text/html": [
       "<div>\n",
       "<table border=\"1\" class=\"dataframe\">\n",
       "  <thead>\n",
       "    <tr style=\"text-align: right;\">\n",
       "      <th></th>\n",
       "      <th>es</th>\n",
       "      <th>nes</th>\n",
       "      <th>pval</th>\n",
       "      <th>fdr</th>\n",
       "      <th>gene_set_size</th>\n",
       "      <th>matched_size</th>\n",
       "      <th>genes</th>\n",
       "    </tr>\n",
       "    <tr>\n",
       "      <th>Term</th>\n",
       "      <th></th>\n",
       "      <th></th>\n",
       "      <th></th>\n",
       "      <th></th>\n",
       "      <th></th>\n",
       "      <th></th>\n",
       "      <th></th>\n",
       "    </tr>\n",
       "  </thead>\n",
       "  <tbody>\n",
       "    <tr>\n",
       "      <th>Fatty acid degradation_Homo sapiens_hsa00071</th>\n",
       "      <td>-0.659732</td>\n",
       "      <td>-1.814744</td>\n",
       "      <td>0.006452</td>\n",
       "      <td>0.010406</td>\n",
       "      <td>44</td>\n",
       "      <td>30</td>\n",
       "      <td>ADH1B,ACSL6,ACSBG1,ACADL,ADH5,ACSL4,ALDH1B1,AD...</td>\n",
       "    </tr>\n",
       "    <tr>\n",
       "      <th>Glycerolipid metabolism_Homo sapiens_hsa00561</th>\n",
       "      <td>-0.674209</td>\n",
       "      <td>-1.836906</td>\n",
       "      <td>0.000000</td>\n",
       "      <td>0.011206</td>\n",
       "      <td>59</td>\n",
       "      <td>16</td>\n",
       "      <td>AKR1B1,AGPAT4,AGPAT1,ALDH1B1,AGPAT6,AGK,AKR1A1...</td>\n",
       "    </tr>\n",
       "    <tr>\n",
       "      <th>Valine, leucine and isoleucine degradation_Homo sapiens_hsa00280</th>\n",
       "      <td>-0.836409</td>\n",
       "      <td>-1.840353</td>\n",
       "      <td>0.002070</td>\n",
       "      <td>0.020011</td>\n",
       "      <td>48</td>\n",
       "      <td>18</td>\n",
       "      <td>ALDH1B1,AGXT2,ACAT1,ACSF3,ALDH7A1,ACAA2,ALDH9A...</td>\n",
       "    </tr>\n",
       "    <tr>\n",
       "      <th>Peroxisome_Homo sapiens_hsa04146</th>\n",
       "      <td>-0.672436</td>\n",
       "      <td>-1.666705</td>\n",
       "      <td>0.014199</td>\n",
       "      <td>0.034218</td>\n",
       "      <td>83</td>\n",
       "      <td>17</td>\n",
       "      <td>ACSL6,ABCD1,ACSL4,ABCD2,ACSL1,AGXT,ACOX2,ACSL3...</td>\n",
       "    </tr>\n",
       "    <tr>\n",
       "      <th>Fatty acid metabolism_Homo sapiens_hsa01212</th>\n",
       "      <td>-0.631173</td>\n",
       "      <td>-1.614633</td>\n",
       "      <td>0.039666</td>\n",
       "      <td>0.043703</td>\n",
       "      <td>48</td>\n",
       "      <td>19</td>\n",
       "      <td>ACSL6,ACSBG1,ACADL,ACSL4,ACSL1,ACADVL,ACAT1,AC...</td>\n",
       "    </tr>\n",
       "  </tbody>\n",
       "</table>\n",
       "</div>"
      ],
      "text/plain": [
       "                                                          es       nes  \\\n",
       "Term                                                                     \n",
       "Fatty acid degradation_Homo sapiens_hsa00071       -0.659732 -1.814744   \n",
       "Glycerolipid metabolism_Homo sapiens_hsa00561      -0.674209 -1.836906   \n",
       "Valine, leucine and isoleucine degradation_Homo... -0.836409 -1.840353   \n",
       "Peroxisome_Homo sapiens_hsa04146                   -0.672436 -1.666705   \n",
       "Fatty acid metabolism_Homo sapiens_hsa01212        -0.631173 -1.614633   \n",
       "\n",
       "                                                        pval       fdr  \\\n",
       "Term                                                                     \n",
       "Fatty acid degradation_Homo sapiens_hsa00071        0.006452  0.010406   \n",
       "Glycerolipid metabolism_Homo sapiens_hsa00561       0.000000  0.011206   \n",
       "Valine, leucine and isoleucine degradation_Homo...  0.002070  0.020011   \n",
       "Peroxisome_Homo sapiens_hsa04146                    0.014199  0.034218   \n",
       "Fatty acid metabolism_Homo sapiens_hsa01212         0.039666  0.043703   \n",
       "\n",
       "                                                    gene_set_size  \\\n",
       "Term                                                                \n",
       "Fatty acid degradation_Homo sapiens_hsa00071                   44   \n",
       "Glycerolipid metabolism_Homo sapiens_hsa00561                  59   \n",
       "Valine, leucine and isoleucine degradation_Homo...             48   \n",
       "Peroxisome_Homo sapiens_hsa04146                               83   \n",
       "Fatty acid metabolism_Homo sapiens_hsa01212                    48   \n",
       "\n",
       "                                                    matched_size  \\\n",
       "Term                                                               \n",
       "Fatty acid degradation_Homo sapiens_hsa00071                  30   \n",
       "Glycerolipid metabolism_Homo sapiens_hsa00561                 16   \n",
       "Valine, leucine and isoleucine degradation_Homo...            18   \n",
       "Peroxisome_Homo sapiens_hsa04146                              17   \n",
       "Fatty acid metabolism_Homo sapiens_hsa01212                   19   \n",
       "\n",
       "                                                                                                genes  \n",
       "Term                                                                                                   \n",
       "Fatty acid degradation_Homo sapiens_hsa00071        ADH1B,ACSL6,ACSBG1,ACADL,ADH5,ACSL4,ALDH1B1,AD...  \n",
       "Glycerolipid metabolism_Homo sapiens_hsa00561       AKR1B1,AGPAT4,AGPAT1,ALDH1B1,AGPAT6,AGK,AKR1A1...  \n",
       "Valine, leucine and isoleucine degradation_Homo...  ALDH1B1,AGXT2,ACAT1,ACSF3,ALDH7A1,ACAA2,ALDH9A...  \n",
       "Peroxisome_Homo sapiens_hsa04146                    ACSL6,ABCD1,ACSL4,ABCD2,ACSL1,AGXT,ACOX2,ACSL3...  \n",
       "Fatty acid metabolism_Homo sapiens_hsa01212         ACSL6,ACSBG1,ACADL,ACSL4,ACSL1,ACADVL,ACAT1,AC...  "
      ]
     },
     "execution_count": 6,
     "metadata": {},
     "output_type": "execute_result"
    }
   ],
   "source": [
    "r.table.head()"
   ]
  },
  {
   "cell_type": "code",
   "execution_count": 7,
   "metadata": {},
   "outputs": [
    {
     "data": {
      "text/html": [
       "<div id=\"box1505178557448786\" style=\"width: 100%; height: 0px;background-color: #ffffff\">\n",
       "    <script>\n",
       "        var box = $(\"#box1505178557448786\");\n",
       "        var father = box.parent();\n",
       "        var thirdfather = father.parent().parent().parent();\n",
       "        thirdfather.children(\".prompt\").remove();\n",
       "        father.parent().children(\".prompt\").remove();\n",
       "        father.css(\"max-width\", \"100%\");\n",
       "        box.css(\"margin-left\", \"5px\");\n",
       "        var target = document.getElementById(\"box1505178557448786\");\n",
       "        var w = thirdfather.outerWidth();\n",
       "        console.log(w);\n",
       "        target.style.height = w * 0.6 + \"px\";\n",
       "        box.append($(\"<iframe width='\" + (parseInt(w) - 15).toString() + \"'\" +\n",
       "                \" height='\" + (w * 0.6 - 5) + \"' src='assets/plot/plot_1505178557448786.html' \" +\n",
       "                \"frameborder='0'></iframe>\"))\n",
       "    </script>\n",
       "</div>"
      ],
      "text/plain": [
       "<IPython.core.display.HTML object>"
      ]
     },
     "execution_count": 7,
     "metadata": {},
     "output_type": "execute_result"
    }
   ],
   "source": [
    "r.plot()"
   ]
  }
 ],
 "metadata": {
  "kernelspec": {
   "display_name": "Python 3",
   "language": "python",
   "name": "python3"
  },
  "language_info": {
   "codemirror_mode": {
    "name": "ipython",
    "version": 3
   },
   "file_extension": ".py",
   "mimetype": "text/x-python",
   "name": "python",
   "nbconvert_exporter": "python",
   "pygments_lexer": "ipython3",
   "version": "3.5.2"
  }
 },
 "nbformat": 4,
 "nbformat_minor": 2
}
