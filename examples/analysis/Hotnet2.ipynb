{
 "cells": [
  {
   "cell_type": "code",
   "execution_count": 1,
   "metadata": {
    "collapsed": true
   },
   "outputs": [],
   "source": [
    "%load_ext autoreload\n",
    "%autoreload 2"
   ]
  },
  {
   "cell_type": "code",
   "execution_count": 2,
   "metadata": {
    "collapsed": true
   },
   "outputs": [],
   "source": [
    "import sys"
   ]
  },
  {
   "cell_type": "code",
   "execution_count": 3,
   "metadata": {
    "collapsed": true
   },
   "outputs": [],
   "source": [
    "sys.path.append(\"/Users/yangxu/PyPathway\")"
   ]
  },
  {
   "cell_type": "code",
   "execution_count": 4,
   "metadata": {
    "collapsed": true
   },
   "outputs": [],
   "source": [
    "from pypathway import Hotnet2"
   ]
  },
  {
   "cell_type": "code",
   "execution_count": 5,
   "metadata": {
    "collapsed": true
   },
   "outputs": [],
   "source": [
    "path = \"/Volumes/Data/hotnet2/paper/\""
   ]
  },
  {
   "cell_type": "code",
   "execution_count": 6,
   "metadata": {
    "scrolled": false
   },
   "outputs": [
    {
     "name": "stdout",
     "output_type": "stream",
     "text": [
      "fast_scc\n",
      "fast_scc\n",
      "fast node swap\n",
      "{'edgelist_file': '/Volumes/Data/hotnet2/paper/data/networks/hint+hi2012/hint+hi2012_edge_list', 'gene_index_file': '/Volumes/Data/hotnet2/paper/data/networks/hint+hi2012/hint+hi2012_index_gene', 'prefix': 'hint+hi2012', 'network_name': 'hint+hi2012', 'beta': 0.4, 'num_permutations': 1, 'permutation_start_index': 1, 'cores': -1, 'output_dir': 'data/networks/hint+hi2012_2', 'index_file_start_index': 1, 'Q': 115, 'only_permutations': False}\n",
      "\n",
      "Creating PPR matrix for real network\n",
      "--------------------------------------\n",
      "\n",
      "Creating edge lists for permuted networks\n",
      "-------------------------------------------\n",
      "* Loading edge list..\n",
      "\t- 40705 edges among 9859 nodes.\n",
      "\t- No. swaps to attempt = 4681075.0\n",
      "* Creating permuted networks...\n",
      "fast node swap\n",
      "1/1\n",
      "* Avg. No. Swaps Made: 4681075\n",
      "\n",
      "Creating PPR matrices for permuted networks\n",
      "---------------------------------------------\n",
      "1/1"
     ]
    }
   ],
   "source": [
    "Hotnet2.make_network(edgelist_file=path + \"data/networks/hint+hi2012/hint+hi2012_edge_list\",\n",
    "                     gene_index_file=path + \"data/networks/hint+hi2012/hint+hi2012_index_gene\",\n",
    "                     network_name='hint+hi2012', prefix='hint+hi2012', beta=0.4,\n",
    "                     output_dir='data/networks/hint+hi2012_2', num_permutations=1)"
   ]
  },
  {
   "cell_type": "code",
   "execution_count": 7,
   "metadata": {
    "collapsed": true
   },
   "outputs": [],
   "source": [
    "# make heat"
   ]
  },
  {
   "cell_type": "code",
   "execution_count": 11,
   "metadata": {},
   "outputs": [
    {
     "name": "stdout",
     "output_type": "stream",
     "text": [
      "* Loading heat scores for 11565 genes\n"
     ]
    }
   ],
   "source": [
    "Hotnet2.make_heat(type='scores', heat_file=path + 'data/heats/pan12.gene2freq.txt',\n",
    "                  output_file='data/heats/pan12.gene2freq.json', name='pan12.freq')"
   ]
  },
  {
   "cell_type": "code",
   "execution_count": 8,
   "metadata": {},
   "outputs": [
    {
     "data": {
      "text/plain": [
       "['',\n",
       " '/usr/local/Cellar/python3/3.5.2_3/Frameworks/Python.framework/Versions/3.5/lib/python35.zip',\n",
       " '/usr/local/Cellar/python3/3.5.2_3/Frameworks/Python.framework/Versions/3.5/lib/python3.5',\n",
       " '/usr/local/Cellar/python3/3.5.2_3/Frameworks/Python.framework/Versions/3.5/lib/python3.5/plat-darwin',\n",
       " '/usr/local/Cellar/python3/3.5.2_3/Frameworks/Python.framework/Versions/3.5/lib/python3.5/lib-dynload',\n",
       " '/usr/local/lib/python3.5/site-packages',\n",
       " '/usr/local/lib/python3.5/site-packages/snp_pipeline-0.7.0-py3.5.egg',\n",
       " '/usr/local/lib/python3.5/site-packages/jucell-0.1.5-py3.5.egg',\n",
       " '/usr/local/lib/python3.5/site-packages/goatools-0.6.10-py3.5.egg',\n",
       " '/usr/local/lib/python3.5/site-packages/pysam-0.11.1-py3.5-macosx-10.12-x86_64.egg',\n",
       " '/usr/local/lib/python3.5/site-packages/HTSeq-0.7.2-py3.5-macosx-10.12-x86_64.egg',\n",
       " '/usr/local/lib/python3.5/site-packages/IPython/extensions',\n",
       " '/Users/yangxu/.ipython',\n",
       " '/Users/yangxu/PyPathway']"
      ]
     },
     "execution_count": 8,
     "metadata": {},
     "output_type": "execute_result"
    }
   ],
   "source": [
    "import sys\n",
    "sys.path"
   ]
  },
  {
   "cell_type": "code",
   "execution_count": 10,
   "metadata": {
    "scrolled": false
   },
   "outputs": [
    {
     "name": "stdout",
     "output_type": "stream",
     "text": [
      "fast_scc\n",
      "{'min_cc_size': 2, 'consensus_permutations': 0, 'network_permutations': 100, 'permuted_network_paths': ['/Volumes/Data/hotnet2/paper/data/networks/hint+hi2012/permuted/hint+hi2012_ppr_0.4_##NUM##.h5'], 'display_name_file': None, 'output_directory': 'result', 'output_hierarchy': False, 'deltas': None, 'display_score_file': None, 'network_files': ['/Volumes/Data/hotnet2/paper/data/networks/hint+hi2012/hint+hi2012_ppr_0.4.h5'], 'verbose': 1, 'heat_files': ['/Volumes/Data/hotnet2/paper/data/heats/pan12.gene2freq.json'], 'num_cores': 8, 'heat_permutations': 100, 'display_score_fil': None}\n",
      "* Running HotNet2 in consensus mode...\n",
      "\t- hint+hi2012 pan12.freq\n",
      "* Outputting results to file...\n",
      "* Generating and outputting visualization data...\n"
     ]
    }
   ],
   "source": [
    "# run hotnet2\n",
    "Hotnet2.run_hotnet2(network_files=[path + 'data/networks/hint+hi2012/hint+hi2012_ppr_0.4.h5'],\n",
    "                   permuted_network_paths=[path + 'data/networks/hint+hi2012/permuted/hint+hi2012_ppr_0.4_##NUM##.h5'],\n",
    "                   heat_files=[path + 'data/heats/pan12.gene2freq.json'],\n",
    "                   output_directory='result', num_cores=8)"
   ]
  },
  {
   "cell_type": "code",
   "execution_count": 28,
   "metadata": {
    "collapsed": true
   },
   "outputs": [],
   "source": [
    "import numpy as np"
   ]
  },
  {
   "cell_type": "code",
   "execution_count": 29,
   "metadata": {},
   "outputs": [
    {
     "data": {
      "text/plain": [
       "str"
      ]
     },
     "execution_count": 29,
     "metadata": {},
     "output_type": "execute_result"
    }
   ],
   "source": [
    "a = '123'\n",
    "type(a)"
   ]
  },
  {
   "cell_type": "code",
   "execution_count": 32,
   "metadata": {
    "collapsed": true
   },
   "outputs": [],
   "source": [
    "b = a.encode(\"utf8\")"
   ]
  },
  {
   "cell_type": "code",
   "execution_count": 36,
   "metadata": {
    "collapsed": true
   },
   "outputs": [],
   "source": [
    "c = np.ndarray(shape=(2,2), dtype=float, order='F')"
   ]
  }
 ],
 "metadata": {
  "kernelspec": {
   "display_name": "Python 3",
   "language": "python",
   "name": "python3"
  },
  "language_info": {
   "codemirror_mode": {
    "name": "ipython",
    "version": 3
   },
   "file_extension": ".py",
   "mimetype": "text/x-python",
   "name": "python",
   "nbconvert_exporter": "python",
   "pygments_lexer": "ipython3",
   "version": "3.5.2"
  }
 },
 "nbformat": 4,
 "nbformat_minor": 2
}
