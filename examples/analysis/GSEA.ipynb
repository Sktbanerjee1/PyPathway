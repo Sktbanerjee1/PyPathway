{
 "cells": [
  {
   "cell_type": "markdown",
   "metadata": {},
   "source": [
    "# GSEA\n",
    "Implemented in GSEApy\n",
    "> Github: https://github.com/BioNinja/GSEApy"
   ]
  },
  {
   "cell_type": "code",
   "execution_count": 1,
   "metadata": {
    "collapsed": true
   },
   "outputs": [],
   "source": [
    "%load_ext autoreload\n",
    "%autoreload 2"
   ]
  },
  {
   "cell_type": "code",
   "execution_count": 2,
   "metadata": {
    "collapsed": true
   },
   "outputs": [],
   "source": [
    "import sys\n",
    "sys.path.append('/Users/yangxu/PyPathway')\n",
    "from pypathway import GSEA\n",
    "import pandas as pd"
   ]
  },
  {
   "cell_type": "code",
   "execution_count": 3,
   "metadata": {
    "collapsed": true
   },
   "outputs": [],
   "source": [
    "# load the cls file\n",
    "phenoA, phenoB, class_vector = GSEA.parse_class_vector(\"data/GSE4107.cls\")"
   ]
  },
  {
   "cell_type": "code",
   "execution_count": 4,
   "metadata": {
    "collapsed": true,
    "scrolled": true
   },
   "outputs": [],
   "source": [
    "# load the table\n",
    "gene_exp = pd.read_excel(\"data/GSE4107.xlsx\")"
   ]
  },
  {
   "cell_type": "code",
   "execution_count": 11,
   "metadata": {},
   "outputs": [
    {
     "data": {
      "text/plain": [
       "(1000, 23)"
      ]
     },
     "execution_count": 11,
     "metadata": {},
     "output_type": "execute_result"
    }
   ],
   "source": [
    "gene_exp.iloc[:1000].shape"
   ]
  },
  {
   "cell_type": "code",
   "execution_count": 12,
   "metadata": {
    "collapsed": true
   },
   "outputs": [],
   "source": [
    "r = GSEA.run(data=gene_exp.iloc[:1000], gmt=\"KEGG_2016\", cls=class_vector)"
   ]
  },
  {
   "cell_type": "code",
   "execution_count": 13,
   "metadata": {},
   "outputs": [
    {
     "data": {
      "text/html": [
       "<div>\n",
       "<table border=\"1\" class=\"dataframe\">\n",
       "  <thead>\n",
       "    <tr style=\"text-align: right;\">\n",
       "      <th></th>\n",
       "      <th>es</th>\n",
       "      <th>nes</th>\n",
       "      <th>pval</th>\n",
       "      <th>fdr</th>\n",
       "      <th>gene_set_size</th>\n",
       "      <th>matched_size</th>\n",
       "      <th>genes</th>\n",
       "    </tr>\n",
       "    <tr>\n",
       "      <th>Term</th>\n",
       "      <th></th>\n",
       "      <th></th>\n",
       "      <th></th>\n",
       "      <th></th>\n",
       "      <th></th>\n",
       "      <th></th>\n",
       "      <th></th>\n",
       "    </tr>\n",
       "  </thead>\n",
       "  <tbody>\n",
       "    <tr>\n",
       "      <th>Nitrogen metabolism_Homo sapiens_hsa00910</th>\n",
       "      <td>-0.667032</td>\n",
       "      <td>-1.913471</td>\n",
       "      <td>0.000000</td>\n",
       "      <td>0.039522</td>\n",
       "      <td>17</td>\n",
       "      <td>17</td>\n",
       "      <td>CA5A,CA6,GLUL,CA3,CA8,CA14,CPS1,CA5B,GLUD2,CA1...</td>\n",
       "    </tr>\n",
       "    <tr>\n",
       "      <th>Pyruvate metabolism_Homo sapiens_hsa00620</th>\n",
       "      <td>-0.663138</td>\n",
       "      <td>-1.889082</td>\n",
       "      <td>0.001953</td>\n",
       "      <td>0.042380</td>\n",
       "      <td>40</td>\n",
       "      <td>40</td>\n",
       "      <td>LDHB,HAGHL,ACACB,ACSS1,GLO1,ALDH1B1,LDHAL6A,GR...</td>\n",
       "    </tr>\n",
       "    <tr>\n",
       "      <th>Fatty acid degradation_Homo sapiens_hsa00071</th>\n",
       "      <td>-0.737933</td>\n",
       "      <td>-1.936425</td>\n",
       "      <td>0.000000</td>\n",
       "      <td>0.045564</td>\n",
       "      <td>44</td>\n",
       "      <td>42</td>\n",
       "      <td>ADH1B,CPT1C,ACSL6,ACSBG1,ACADL,ADH5,ACSL4,ALDH...</td>\n",
       "    </tr>\n",
       "    <tr>\n",
       "      <th>Drug metabolism - cytochrome P450_Homo sapiens_hsa00982</th>\n",
       "      <td>-0.514185</td>\n",
       "      <td>-1.722919</td>\n",
       "      <td>0.011650</td>\n",
       "      <td>0.050860</td>\n",
       "      <td>69</td>\n",
       "      <td>55</td>\n",
       "      <td>ADH1B,GSTM5,FMO1,GSTM3,FMO2,AOX1,ADH5,MAOB,GST...</td>\n",
       "    </tr>\n",
       "    <tr>\n",
       "      <th>Terpenoid backbone biosynthesis_Homo sapiens_hsa00900</th>\n",
       "      <td>-0.692235</td>\n",
       "      <td>-1.733176</td>\n",
       "      <td>0.003937</td>\n",
       "      <td>0.051572</td>\n",
       "      <td>22</td>\n",
       "      <td>21</td>\n",
       "      <td>GGPS1,PMVK,ICMT,RCE1,NUS1,PCYOX1,ACAT1,FNTA,MV...</td>\n",
       "    </tr>\n",
       "  </tbody>\n",
       "</table>\n",
       "</div>"
      ],
      "text/plain": [
       "                                                          es       nes  \\\n",
       "Term                                                                     \n",
       "Nitrogen metabolism_Homo sapiens_hsa00910          -0.667032 -1.913471   \n",
       "Pyruvate metabolism_Homo sapiens_hsa00620          -0.663138 -1.889082   \n",
       "Fatty acid degradation_Homo sapiens_hsa00071       -0.737933 -1.936425   \n",
       "Drug metabolism - cytochrome P450_Homo sapiens_... -0.514185 -1.722919   \n",
       "Terpenoid backbone biosynthesis_Homo sapiens_hs... -0.692235 -1.733176   \n",
       "\n",
       "                                                        pval       fdr  \\\n",
       "Term                                                                     \n",
       "Nitrogen metabolism_Homo sapiens_hsa00910           0.000000  0.039522   \n",
       "Pyruvate metabolism_Homo sapiens_hsa00620           0.001953  0.042380   \n",
       "Fatty acid degradation_Homo sapiens_hsa00071        0.000000  0.045564   \n",
       "Drug metabolism - cytochrome P450_Homo sapiens_...  0.011650  0.050860   \n",
       "Terpenoid backbone biosynthesis_Homo sapiens_hs...  0.003937  0.051572   \n",
       "\n",
       "                                                    gene_set_size  \\\n",
       "Term                                                                \n",
       "Nitrogen metabolism_Homo sapiens_hsa00910                      17   \n",
       "Pyruvate metabolism_Homo sapiens_hsa00620                      40   \n",
       "Fatty acid degradation_Homo sapiens_hsa00071                   44   \n",
       "Drug metabolism - cytochrome P450_Homo sapiens_...             69   \n",
       "Terpenoid backbone biosynthesis_Homo sapiens_hs...             22   \n",
       "\n",
       "                                                    matched_size  \\\n",
       "Term                                                               \n",
       "Nitrogen metabolism_Homo sapiens_hsa00910                     17   \n",
       "Pyruvate metabolism_Homo sapiens_hsa00620                     40   \n",
       "Fatty acid degradation_Homo sapiens_hsa00071                  42   \n",
       "Drug metabolism - cytochrome P450_Homo sapiens_...            55   \n",
       "Terpenoid backbone biosynthesis_Homo sapiens_hs...            21   \n",
       "\n",
       "                                                                                                genes  \n",
       "Term                                                                                                   \n",
       "Nitrogen metabolism_Homo sapiens_hsa00910           CA5A,CA6,GLUL,CA3,CA8,CA14,CPS1,CA5B,GLUD2,CA1...  \n",
       "Pyruvate metabolism_Homo sapiens_hsa00620           LDHB,HAGHL,ACACB,ACSS1,GLO1,ALDH1B1,LDHAL6A,GR...  \n",
       "Fatty acid degradation_Homo sapiens_hsa00071        ADH1B,CPT1C,ACSL6,ACSBG1,ACADL,ADH5,ACSL4,ALDH...  \n",
       "Drug metabolism - cytochrome P450_Homo sapiens_...  ADH1B,GSTM5,FMO1,GSTM3,FMO2,AOX1,ADH5,MAOB,GST...  \n",
       "Terpenoid backbone biosynthesis_Homo sapiens_hs...  GGPS1,PMVK,ICMT,RCE1,NUS1,PCYOX1,ACAT1,FNTA,MV...  "
      ]
     },
     "execution_count": 13,
     "metadata": {},
     "output_type": "execute_result"
    }
   ],
   "source": [
    "r.table.head()"
   ]
  },
  {
   "cell_type": "code",
   "execution_count": 14,
   "metadata": {},
   "outputs": [
    {
     "data": {
      "text/html": [
       "<div id=\"box1503990707385898\" style=\"width: 100%; height: 0px;background-color: #ffffff\">\n",
       "    <script>\n",
       "        var box = $(\"#box1503990707385898\");\n",
       "        var father = box.parent();\n",
       "//        var grandfather = father.parent();\n",
       "        var thirdfather = father.parent().parent().parent();\n",
       "        thirdfather.children(\".prompt\").remove();\n",
       "        father.parent().children(\".prompt\").remove();\n",
       "        father.css(\"max-width\", \"100%\");\n",
       "        box.css(\"margin-left\", \"5px\");\n",
       "        var target = document.getElementById(\"box1503990707385898\");\n",
       "//        var w = target.offsetWidth;\n",
       "        var w = thirdfather.outerWidth();\n",
       "        console.log(w);\n",
       "        target.style.height = w * 0.6 + \"px\";\n",
       "        box.append($(\"<iframe width='\" + (parseInt(w) - 15).toString() + \"'\" +\n",
       "                \" height='\" + w * 0.6 + \"' src='assets/plot/plot_1503990707385898.html' \" +\n",
       "                \"frameborder='0'></iframe>\"))\n",
       "    </script>\n",
       "</div>"
      ],
      "text/plain": [
       "<IPython.core.display.HTML object>"
      ]
     },
     "execution_count": 14,
     "metadata": {},
     "output_type": "execute_result"
    }
   ],
   "source": [
    "r.plot()"
   ]
  }
 ],
 "metadata": {
  "kernelspec": {
   "display_name": "Python 3",
   "language": "python",
   "name": "python3"
  },
  "language_info": {
   "codemirror_mode": {
    "name": "ipython",
    "version": 3
   },
   "file_extension": ".py",
   "mimetype": "text/x-python",
   "name": "python",
   "nbconvert_exporter": "python",
   "pygments_lexer": "ipython3",
   "version": "3.5.2"
  }
 },
 "nbformat": 4,
 "nbformat_minor": 2
}
