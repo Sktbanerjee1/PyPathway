{
 "cells": [
  {
   "cell_type": "code",
   "execution_count": 1,
   "metadata": {
    "collapsed": false
   },
   "outputs": [],
   "source": [
    "%load_ext autoreload\n",
    "%autoreload 2"
   ]
  },
  {
   "cell_type": "code",
   "execution_count": 2,
   "metadata": {
    "collapsed": false
   },
   "outputs": [],
   "source": [
    "import sys\n",
    "import pandas as pd\n",
    "sys.path.append('/Users/sheep/PyPathway/')\n",
    "from pypathway.analysis.ora import Reactome, GO, KEGG, ORA\n",
    "from pypathway.utils import ColorectalCancer, IdMapping, GMTUtils\n",
    "from IPython.display import HTML\n",
    "import json"
   ]
  },
  {
   "cell_type": "code",
   "execution_count": 3,
   "metadata": {
    "collapsed": false
   },
   "outputs": [],
   "source": [
    "# load a gmt file.\n",
    "gmt = GMTUtils.parse_gmt_file(\"../../tests/gmt_file/h.all.v6.0.entrez.gmt\")"
   ]
  },
  {
   "cell_type": "code",
   "execution_count": 5,
   "metadata": {
    "collapsed": true
   },
   "outputs": [],
   "source": [
    "# load the example\n",
    "c = ColorectalCancer()"
   ]
  },
  {
   "cell_type": "code",
   "execution_count": 6,
   "metadata": {
    "collapsed": false
   },
   "outputs": [
    {
     "data": {
      "text/plain": [
       "(5320, 17216)"
      ]
     },
     "execution_count": 6,
     "metadata": {},
     "output_type": "execute_result"
    }
   ],
   "source": [
    "len(c.deg_list), len(c.background)"
   ]
  },
  {
   "cell_type": "code",
   "execution_count": 10,
   "metadata": {
    "collapsed": false,
    "scrolled": false
   },
   "outputs": [],
   "source": [
    "res_h = ORA.run(c.deg_list, c.background, gmt)"
   ]
  },
  {
   "cell_type": "code",
   "execution_count": 11,
   "metadata": {
    "collapsed": false
   },
   "outputs": [
    {
     "data": {
      "text/html": [
       "<div>\n",
       "<style>\n",
       "    .dataframe thead tr:only-child th {\n",
       "        text-align: right;\n",
       "    }\n",
       "\n",
       "    .dataframe thead th {\n",
       "        text-align: left;\n",
       "    }\n",
       "\n",
       "    .dataframe tbody tr th {\n",
       "        vertical-align: top;\n",
       "    }\n",
       "</style>\n",
       "<table border=\"1\" class=\"dataframe\">\n",
       "  <thead>\n",
       "    <tr style=\"text-align: right;\">\n",
       "      <th></th>\n",
       "      <th>name</th>\n",
       "      <th>mapped</th>\n",
       "      <th>number in study</th>\n",
       "      <th>p-value</th>\n",
       "      <th>fdr</th>\n",
       "    </tr>\n",
       "  </thead>\n",
       "  <tbody>\n",
       "    <tr>\n",
       "      <th>0</th>\n",
       "      <td>HALLMARK_BILE_ACID_METABOLISM</td>\n",
       "      <td>104</td>\n",
       "      <td>46</td>\n",
       "      <td>2.793934e-03</td>\n",
       "      <td>4.656557e-03</td>\n",
       "    </tr>\n",
       "    <tr>\n",
       "      <th>1</th>\n",
       "      <td>HALLMARK_MYC_TARGETS_V1</td>\n",
       "      <td>173</td>\n",
       "      <td>48</td>\n",
       "      <td>8.377692e-01</td>\n",
       "      <td>9.106187e-01</td>\n",
       "    </tr>\n",
       "    <tr>\n",
       "      <th>2</th>\n",
       "      <td>HALLMARK_INFLAMMATORY_RESPONSE</td>\n",
       "      <td>184</td>\n",
       "      <td>68</td>\n",
       "      <td>4.550977e-02</td>\n",
       "      <td>6.692613e-02</td>\n",
       "    </tr>\n",
       "    <tr>\n",
       "      <th>3</th>\n",
       "      <td>HALLMARK_ESTROGEN_RESPONSE_LATE</td>\n",
       "      <td>191</td>\n",
       "      <td>100</td>\n",
       "      <td>4.735396e-10</td>\n",
       "      <td>2.630776e-09</td>\n",
       "    </tr>\n",
       "    <tr>\n",
       "      <th>4</th>\n",
       "      <td>HALLMARK_KRAS_SIGNALING_DN</td>\n",
       "      <td>184</td>\n",
       "      <td>43</td>\n",
       "      <td>9.907251e-01</td>\n",
       "      <td>9.992615e-01</td>\n",
       "    </tr>\n",
       "  </tbody>\n",
       "</table>\n",
       "</div>"
      ],
      "text/plain": [
       "                              name  mapped  number in study       p-value  \\\n",
       "0    HALLMARK_BILE_ACID_METABOLISM     104               46  2.793934e-03   \n",
       "1          HALLMARK_MYC_TARGETS_V1     173               48  8.377692e-01   \n",
       "2   HALLMARK_INFLAMMATORY_RESPONSE     184               68  4.550977e-02   \n",
       "3  HALLMARK_ESTROGEN_RESPONSE_LATE     191              100  4.735396e-10   \n",
       "4       HALLMARK_KRAS_SIGNALING_DN     184               43  9.907251e-01   \n",
       "\n",
       "            fdr  \n",
       "0  4.656557e-03  \n",
       "1  9.106187e-01  \n",
       "2  6.692613e-02  \n",
       "3  2.630776e-09  \n",
       "4  9.992615e-01  "
      ]
     },
     "execution_count": 11,
     "metadata": {},
     "output_type": "execute_result"
    }
   ],
   "source": [
    "res.table.head()"
   ]
  },
  {
   "cell_type": "code",
   "execution_count": 12,
   "metadata": {
    "collapsed": false
   },
   "outputs": [
    {
     "data": {
      "text/html": [
       "<div id=\"box1502676944881323\" style=\"width: 100%; height: 0px;background-color: #ffffff\">\n",
       "    <script>\n",
       "        var box = $(\"#box1502676944881323\");\n",
       "        var father = box.parent();\n",
       "//        var grandfather = father.parent();\n",
       "        var thirdfather = father.parent().parent().parent();\n",
       "        thirdfather.children(\".prompt\").remove();\n",
       "        father.parent().children(\".prompt\").remove();\n",
       "        father.css(\"max-width\", \"100%\");\n",
       "        box.css(\"margin-left\", \"5px\");\n",
       "        var target = document.getElementById(\"box1502676944881323\");\n",
       "//        var w = target.offsetWidth;\n",
       "        var w = thirdfather.outerWidth();\n",
       "        console.log(w);\n",
       "        target.style.height = w * 0.6 + \"px\";\n",
       "        box.append($(\"<iframe width='\" + (parseInt(w) - 15).toString() + \"'\" +\n",
       "                \" height='\" + w * 0.6 + \"' src='assets/plot/plot_1502676944881323.html' \" +\n",
       "                \"frameborder='0'></iframe>\"))\n",
       "    </script>\n",
       "</div>"
      ],
      "text/plain": [
       "<IPython.core.display.HTML object>"
      ]
     },
     "execution_count": 12,
     "metadata": {},
     "output_type": "execute_result"
    }
   ],
   "source": [
    "res.plot()"
   ]
  },
  {
   "cell_type": "code",
   "execution_count": 10,
   "metadata": {
    "collapsed": true
   },
   "outputs": [],
   "source": [
    "# use kegg enrichment toward certain "
   ]
  },
  {
   "cell_type": "code",
   "execution_count": 13,
   "metadata": {
    "collapsed": false,
    "scrolled": false
   },
   "outputs": [],
   "source": [
    "r_kg = KEGG.run(c.deg_list, c.background, 'hsa')"
   ]
  },
  {
   "cell_type": "code",
   "execution_count": 15,
   "metadata": {
    "collapsed": false
   },
   "outputs": [
    {
     "data": {
      "text/html": [
       "<div id=\"box1502676974400107\" style=\"width: 100%; height: 0px;background-color: #ffffff\">\n",
       "    <script>\n",
       "        var box = $(\"#box1502676974400107\");\n",
       "        var father = box.parent();\n",
       "//        var grandfather = father.parent();\n",
       "        var thirdfather = father.parent().parent().parent();\n",
       "        thirdfather.children(\".prompt\").remove();\n",
       "        father.parent().children(\".prompt\").remove();\n",
       "        father.css(\"max-width\", \"100%\");\n",
       "        box.css(\"margin-left\", \"5px\");\n",
       "        var target = document.getElementById(\"box1502676974400107\");\n",
       "//        var w = target.offsetWidth;\n",
       "        var w = thirdfather.outerWidth();\n",
       "        console.log(w);\n",
       "        target.style.height = w * 0.6 + \"px\";\n",
       "        box.append($(\"<iframe width='\" + (parseInt(w) - 15).toString() + \"'\" +\n",
       "                \" height='\" + w * 0.6 + \"' src='assets/plot/plot_1502676974400107.html' \" +\n",
       "                \"frameborder='0'></iframe>\"))\n",
       "    </script>\n",
       "</div>"
      ],
      "text/plain": [
       "<IPython.core.display.HTML object>"
      ]
     },
     "execution_count": 15,
     "metadata": {},
     "output_type": "execute_result"
    }
   ],
   "source": [
    "r_kg.plot()"
   ]
  },
  {
   "cell_type": "code",
   "execution_count": 14,
   "metadata": {
    "collapsed": true
   },
   "outputs": [],
   "source": [
    "# the Example of using the warpper of Reactome gene set enrichment analysis"
   ]
  },
  {
   "cell_type": "code",
   "execution_count": 16,
   "metadata": {
    "collapsed": false
   },
   "outputs": [],
   "source": [
    "sybs = [x[1][0] for x in IdMapping.convert(input_id=c.deg_list, organism='hsa', source='ENTREZID', target='SYMBOL') if x[1]]"
   ]
  },
  {
   "cell_type": "code",
   "execution_count": 17,
   "metadata": {
    "collapsed": false
   },
   "outputs": [
    {
     "data": {
      "text/plain": [
       "5320"
      ]
     },
     "execution_count": 17,
     "metadata": {},
     "output_type": "execute_result"
    }
   ],
   "source": [
    "len(sybs)"
   ]
  },
  {
   "cell_type": "code",
   "execution_count": 18,
   "metadata": {
    "collapsed": false,
    "scrolled": false
   },
   "outputs": [
    {
     "name": "stdout",
     "output_type": "stream",
     "text": [
      "4\n"
     ]
    }
   ],
   "source": [
    "# the input is a list of symbol\n",
    "r = Reactome.run(sybs[:10], organism='Homo sapiens')"
   ]
  },
  {
   "cell_type": "code",
   "execution_count": 19,
   "metadata": {
    "collapsed": false,
    "scrolled": true
   },
   "outputs": [
    {
     "data": {
      "text/html": [
       "<div>\n",
       "<style>\n",
       "    .dataframe thead tr:only-child th {\n",
       "        text-align: right;\n",
       "    }\n",
       "\n",
       "    .dataframe thead th {\n",
       "        text-align: left;\n",
       "    }\n",
       "\n",
       "    .dataframe tbody tr th {\n",
       "        vertical-align: top;\n",
       "    }\n",
       "</style>\n",
       "<table border=\"1\" class=\"dataframe\">\n",
       "  <thead>\n",
       "    <tr style=\"text-align: right;\">\n",
       "      <th></th>\n",
       "      <th>name</th>\n",
       "      <th>dbId</th>\n",
       "      <th>found</th>\n",
       "      <th>p-value</th>\n",
       "      <th>fdr</th>\n",
       "      <th>species</th>\n",
       "    </tr>\n",
       "  </thead>\n",
       "  <tbody>\n",
       "    <tr>\n",
       "      <th>0</th>\n",
       "      <td>Acetylation</td>\n",
       "      <td>156582</td>\n",
       "      <td>2</td>\n",
       "      <td>0.000722</td>\n",
       "      <td>0.031066</td>\n",
       "      <td>Homo sapiens</td>\n",
       "    </tr>\n",
       "    <tr>\n",
       "      <th>1</th>\n",
       "      <td>Defective SLC6A2 causes orthostatic intoleranc...</td>\n",
       "      <td>5619109</td>\n",
       "      <td>1</td>\n",
       "      <td>0.007301</td>\n",
       "      <td>0.153318</td>\n",
       "      <td>Homo sapiens</td>\n",
       "    </tr>\n",
       "    <tr>\n",
       "      <th>2</th>\n",
       "      <td>Amino acid transport across the plasma membrane</td>\n",
       "      <td>352230</td>\n",
       "      <td>2</td>\n",
       "      <td>0.012057</td>\n",
       "      <td>0.168804</td>\n",
       "      <td>Homo sapiens</td>\n",
       "    </tr>\n",
       "    <tr>\n",
       "      <th>3</th>\n",
       "      <td>Neurotransmitter uptake and metabolism In glia...</td>\n",
       "      <td>112313</td>\n",
       "      <td>1</td>\n",
       "      <td>0.024136</td>\n",
       "      <td>0.184060</td>\n",
       "      <td>Homo sapiens</td>\n",
       "    </tr>\n",
       "    <tr>\n",
       "      <th>4</th>\n",
       "      <td>Astrocytic Glutamate-Glutamine Uptake And Meta...</td>\n",
       "      <td>210455</td>\n",
       "      <td>1</td>\n",
       "      <td>0.024136</td>\n",
       "      <td>0.184060</td>\n",
       "      <td>Homo sapiens</td>\n",
       "    </tr>\n",
       "    <tr>\n",
       "      <th>5</th>\n",
       "      <td>BBSome-mediated cargo-targeting to cilium</td>\n",
       "      <td>5620922</td>\n",
       "      <td>1</td>\n",
       "      <td>0.056979</td>\n",
       "      <td>0.184060</td>\n",
       "      <td>Homo sapiens</td>\n",
       "    </tr>\n",
       "    <tr>\n",
       "      <th>6</th>\n",
       "      <td>HDL assembly</td>\n",
       "      <td>8963896</td>\n",
       "      <td>1</td>\n",
       "      <td>0.043037</td>\n",
       "      <td>0.184060</td>\n",
       "      <td>Homo sapiens</td>\n",
       "    </tr>\n",
       "    <tr>\n",
       "      <th>7</th>\n",
       "      <td>Platelet degranulation</td>\n",
       "      <td>114608</td>\n",
       "      <td>2</td>\n",
       "      <td>0.044107</td>\n",
       "      <td>0.184060</td>\n",
       "      <td>Homo sapiens</td>\n",
       "    </tr>\n",
       "    <tr>\n",
       "      <th>8</th>\n",
       "      <td>Response to elevated platelet cytosolic Ca2+</td>\n",
       "      <td>76005</td>\n",
       "      <td>2</td>\n",
       "      <td>0.048221</td>\n",
       "      <td>0.184060</td>\n",
       "      <td>Homo sapiens</td>\n",
       "    </tr>\n",
       "    <tr>\n",
       "      <th>9</th>\n",
       "      <td>Intrinsic Pathway of Fibrin Clot Formation</td>\n",
       "      <td>140837</td>\n",
       "      <td>1</td>\n",
       "      <td>0.056979</td>\n",
       "      <td>0.184060</td>\n",
       "      <td>Homo sapiens</td>\n",
       "    </tr>\n",
       "    <tr>\n",
       "      <th>10</th>\n",
       "      <td>Transport of inorganic cations/anions and amin...</td>\n",
       "      <td>425393</td>\n",
       "      <td>2</td>\n",
       "      <td>0.061353</td>\n",
       "      <td>0.184060</td>\n",
       "      <td>Homo sapiens</td>\n",
       "    </tr>\n",
       "    <tr>\n",
       "      <th>11</th>\n",
       "      <td>Plasma lipoprotein assembly</td>\n",
       "      <td>8963898</td>\n",
       "      <td>1</td>\n",
       "      <td>0.068447</td>\n",
       "      <td>0.205341</td>\n",
       "      <td>Homo sapiens</td>\n",
       "    </tr>\n",
       "    <tr>\n",
       "      <th>12</th>\n",
       "      <td>Na+/Cl- dependent neurotransmitter transporters</td>\n",
       "      <td>442660</td>\n",
       "      <td>1</td>\n",
       "      <td>0.115153</td>\n",
       "      <td>0.230305</td>\n",
       "      <td>Homo sapiens</td>\n",
       "    </tr>\n",
       "    <tr>\n",
       "      <th>13</th>\n",
       "      <td>Formation of Fibrin Clot (Clotting Cascade)</td>\n",
       "      <td>140877</td>\n",
       "      <td>1</td>\n",
       "      <td>0.097634</td>\n",
       "      <td>0.230305</td>\n",
       "      <td>Homo sapiens</td>\n",
       "    </tr>\n",
       "    <tr>\n",
       "      <th>14</th>\n",
       "      <td>SLC-mediated transmembrane transport</td>\n",
       "      <td>425407</td>\n",
       "      <td>3</td>\n",
       "      <td>0.079009</td>\n",
       "      <td>0.230305</td>\n",
       "      <td>Homo sapiens</td>\n",
       "    </tr>\n",
       "    <tr>\n",
       "      <th>15</th>\n",
       "      <td>Phase II - Conjugation of compounds</td>\n",
       "      <td>156580</td>\n",
       "      <td>2</td>\n",
       "      <td>0.130692</td>\n",
       "      <td>0.230769</td>\n",
       "      <td>Homo sapiens</td>\n",
       "    </tr>\n",
       "    <tr>\n",
       "      <th>16</th>\n",
       "      <td>Cytosolic tRNA aminoacylation</td>\n",
       "      <td>379716</td>\n",
       "      <td>1</td>\n",
       "      <td>0.195940</td>\n",
       "      <td>0.230769</td>\n",
       "      <td>Homo sapiens</td>\n",
       "    </tr>\n",
       "    <tr>\n",
       "      <th>17</th>\n",
       "      <td>Cargo trafficking to the periciliary membrane</td>\n",
       "      <td>5620920</td>\n",
       "      <td>1</td>\n",
       "      <td>0.125934</td>\n",
       "      <td>0.230769</td>\n",
       "      <td>Homo sapiens</td>\n",
       "    </tr>\n",
       "    <tr>\n",
       "      <th>18</th>\n",
       "      <td>tRNA Aminoacylation</td>\n",
       "      <td>379724</td>\n",
       "      <td>1</td>\n",
       "      <td>0.230769</td>\n",
       "      <td>0.230769</td>\n",
       "      <td>Homo sapiens</td>\n",
       "    </tr>\n",
       "    <tr>\n",
       "      <th>19</th>\n",
       "      <td>Plasma lipoprotein assembly, remodeling, and c...</td>\n",
       "      <td>174824</td>\n",
       "      <td>1</td>\n",
       "      <td>0.209662</td>\n",
       "      <td>0.230769</td>\n",
       "      <td>Homo sapiens</td>\n",
       "    </tr>\n",
       "    <tr>\n",
       "      <th>20</th>\n",
       "      <td>Transport of small molecules</td>\n",
       "      <td>382551</td>\n",
       "      <td>4</td>\n",
       "      <td>0.218585</td>\n",
       "      <td>0.230769</td>\n",
       "      <td>Homo sapiens</td>\n",
       "    </tr>\n",
       "    <tr>\n",
       "      <th>21</th>\n",
       "      <td>Platelet activation, signaling and aggregation</td>\n",
       "      <td>76002</td>\n",
       "      <td>2</td>\n",
       "      <td>0.170494</td>\n",
       "      <td>0.230769</td>\n",
       "      <td>Homo sapiens</td>\n",
       "    </tr>\n",
       "    <tr>\n",
       "      <th>22</th>\n",
       "      <td>Rho GTPase cycle</td>\n",
       "      <td>194840</td>\n",
       "      <td>1</td>\n",
       "      <td>0.297827</td>\n",
       "      <td>0.297827</td>\n",
       "      <td>Homo sapiens</td>\n",
       "    </tr>\n",
       "    <tr>\n",
       "      <th>23</th>\n",
       "      <td>Degradation of the extracellular matrix</td>\n",
       "      <td>1474228</td>\n",
       "      <td>1</td>\n",
       "      <td>0.304727</td>\n",
       "      <td>0.304727</td>\n",
       "      <td>Homo sapiens</td>\n",
       "    </tr>\n",
       "    <tr>\n",
       "      <th>24</th>\n",
       "      <td>SLC transporter disorders</td>\n",
       "      <td>5619102</td>\n",
       "      <td>1</td>\n",
       "      <td>0.306442</td>\n",
       "      <td>0.306442</td>\n",
       "      <td>Homo sapiens</td>\n",
       "    </tr>\n",
       "    <tr>\n",
       "      <th>25</th>\n",
       "      <td>Transport of bile salts and organic acids, met...</td>\n",
       "      <td>425366</td>\n",
       "      <td>1</td>\n",
       "      <td>0.334973</td>\n",
       "      <td>0.334973</td>\n",
       "      <td>Homo sapiens</td>\n",
       "    </tr>\n",
       "    <tr>\n",
       "      <th>26</th>\n",
       "      <td>Biological oxidations</td>\n",
       "      <td>211859</td>\n",
       "      <td>2</td>\n",
       "      <td>0.389150</td>\n",
       "      <td>0.389150</td>\n",
       "      <td>Homo sapiens</td>\n",
       "    </tr>\n",
       "    <tr>\n",
       "      <th>27</th>\n",
       "      <td>Cilium Assembly</td>\n",
       "      <td>5617833</td>\n",
       "      <td>1</td>\n",
       "      <td>0.399182</td>\n",
       "      <td>0.399182</td>\n",
       "      <td>Homo sapiens</td>\n",
       "    </tr>\n",
       "    <tr>\n",
       "      <th>28</th>\n",
       "      <td>Disorders of transmembrane transporters</td>\n",
       "      <td>5619115</td>\n",
       "      <td>1</td>\n",
       "      <td>0.453296</td>\n",
       "      <td>0.453296</td>\n",
       "      <td>Homo sapiens</td>\n",
       "    </tr>\n",
       "    <tr>\n",
       "      <th>29</th>\n",
       "      <td>Transmission across Chemical Synapses</td>\n",
       "      <td>112315</td>\n",
       "      <td>1</td>\n",
       "      <td>0.496431</td>\n",
       "      <td>0.496431</td>\n",
       "      <td>Homo sapiens</td>\n",
       "    </tr>\n",
       "    <tr>\n",
       "      <th>30</th>\n",
       "      <td>Extracellular matrix organization</td>\n",
       "      <td>1474244</td>\n",
       "      <td>1</td>\n",
       "      <td>0.556675</td>\n",
       "      <td>0.556675</td>\n",
       "      <td>Homo sapiens</td>\n",
       "    </tr>\n",
       "    <tr>\n",
       "      <th>31</th>\n",
       "      <td>Organelle biogenesis and maintenance</td>\n",
       "      <td>1852241</td>\n",
       "      <td>1</td>\n",
       "      <td>0.562190</td>\n",
       "      <td>0.562190</td>\n",
       "      <td>Homo sapiens</td>\n",
       "    </tr>\n",
       "    <tr>\n",
       "      <th>32</th>\n",
       "      <td>Hemostasis</td>\n",
       "      <td>109582</td>\n",
       "      <td>2</td>\n",
       "      <td>0.588015</td>\n",
       "      <td>0.588015</td>\n",
       "      <td>Homo sapiens</td>\n",
       "    </tr>\n",
       "    <tr>\n",
       "      <th>33</th>\n",
       "      <td>Translation</td>\n",
       "      <td>72766</td>\n",
       "      <td>1</td>\n",
       "      <td>0.610884</td>\n",
       "      <td>0.610884</td>\n",
       "      <td>Homo sapiens</td>\n",
       "    </tr>\n",
       "    <tr>\n",
       "      <th>34</th>\n",
       "      <td>Neuronal System</td>\n",
       "      <td>112316</td>\n",
       "      <td>1</td>\n",
       "      <td>0.651682</td>\n",
       "      <td>0.651682</td>\n",
       "      <td>Homo sapiens</td>\n",
       "    </tr>\n",
       "    <tr>\n",
       "      <th>35</th>\n",
       "      <td>Signaling by Rho GTPases</td>\n",
       "      <td>194315</td>\n",
       "      <td>1</td>\n",
       "      <td>0.668826</td>\n",
       "      <td>0.668826</td>\n",
       "      <td>Homo sapiens</td>\n",
       "    </tr>\n",
       "    <tr>\n",
       "      <th>36</th>\n",
       "      <td>Neutrophil degranulation</td>\n",
       "      <td>6798695</td>\n",
       "      <td>1</td>\n",
       "      <td>0.696878</td>\n",
       "      <td>0.696878</td>\n",
       "      <td>Homo sapiens</td>\n",
       "    </tr>\n",
       "    <tr>\n",
       "      <th>37</th>\n",
       "      <td>Disease</td>\n",
       "      <td>1643685</td>\n",
       "      <td>1</td>\n",
       "      <td>0.979187</td>\n",
       "      <td>0.979187</td>\n",
       "      <td>Homo sapiens</td>\n",
       "    </tr>\n",
       "    <tr>\n",
       "      <th>38</th>\n",
       "      <td>Innate Immune System</td>\n",
       "      <td>168249</td>\n",
       "      <td>1</td>\n",
       "      <td>0.985705</td>\n",
       "      <td>0.985705</td>\n",
       "      <td>Homo sapiens</td>\n",
       "    </tr>\n",
       "    <tr>\n",
       "      <th>39</th>\n",
       "      <td>Metabolism of proteins</td>\n",
       "      <td>392499</td>\n",
       "      <td>1</td>\n",
       "      <td>0.998293</td>\n",
       "      <td>0.998293</td>\n",
       "      <td>Homo sapiens</td>\n",
       "    </tr>\n",
       "    <tr>\n",
       "      <th>40</th>\n",
       "      <td>Metabolism</td>\n",
       "      <td>1430728</td>\n",
       "      <td>2</td>\n",
       "      <td>0.999290</td>\n",
       "      <td>0.999290</td>\n",
       "      <td>Homo sapiens</td>\n",
       "    </tr>\n",
       "    <tr>\n",
       "      <th>41</th>\n",
       "      <td>Immune System</td>\n",
       "      <td>168256</td>\n",
       "      <td>1</td>\n",
       "      <td>0.999477</td>\n",
       "      <td>0.999477</td>\n",
       "      <td>Homo sapiens</td>\n",
       "    </tr>\n",
       "    <tr>\n",
       "      <th>42</th>\n",
       "      <td>Signal Transduction</td>\n",
       "      <td>162582</td>\n",
       "      <td>1</td>\n",
       "      <td>0.999749</td>\n",
       "      <td>0.999749</td>\n",
       "      <td>Homo sapiens</td>\n",
       "    </tr>\n",
       "  </tbody>\n",
       "</table>\n",
       "</div>"
      ],
      "text/plain": [
       "                                                 name     dbId  found  \\\n",
       "0                                         Acetylation   156582      2   \n",
       "1   Defective SLC6A2 causes orthostatic intoleranc...  5619109      1   \n",
       "2     Amino acid transport across the plasma membrane   352230      2   \n",
       "3   Neurotransmitter uptake and metabolism In glia...   112313      1   \n",
       "4   Astrocytic Glutamate-Glutamine Uptake And Meta...   210455      1   \n",
       "5           BBSome-mediated cargo-targeting to cilium  5620922      1   \n",
       "6                                        HDL assembly  8963896      1   \n",
       "7                             Platelet degranulation    114608      2   \n",
       "8        Response to elevated platelet cytosolic Ca2+    76005      2   \n",
       "9          Intrinsic Pathway of Fibrin Clot Formation   140837      1   \n",
       "10  Transport of inorganic cations/anions and amin...   425393      2   \n",
       "11                        Plasma lipoprotein assembly  8963898      1   \n",
       "12    Na+/Cl- dependent neurotransmitter transporters   442660      1   \n",
       "13        Formation of Fibrin Clot (Clotting Cascade)   140877      1   \n",
       "14               SLC-mediated transmembrane transport   425407      3   \n",
       "15                Phase II - Conjugation of compounds   156580      2   \n",
       "16                      Cytosolic tRNA aminoacylation   379716      1   \n",
       "17      Cargo trafficking to the periciliary membrane  5620920      1   \n",
       "18                                tRNA Aminoacylation   379724      1   \n",
       "19  Plasma lipoprotein assembly, remodeling, and c...   174824      1   \n",
       "20                       Transport of small molecules   382551      4   \n",
       "21     Platelet activation, signaling and aggregation    76002      2   \n",
       "22                                   Rho GTPase cycle   194840      1   \n",
       "23            Degradation of the extracellular matrix  1474228      1   \n",
       "24                          SLC transporter disorders  5619102      1   \n",
       "25  Transport of bile salts and organic acids, met...   425366      1   \n",
       "26                              Biological oxidations   211859      2   \n",
       "27                                    Cilium Assembly  5617833      1   \n",
       "28            Disorders of transmembrane transporters  5619115      1   \n",
       "29              Transmission across Chemical Synapses   112315      1   \n",
       "30                  Extracellular matrix organization  1474244      1   \n",
       "31               Organelle biogenesis and maintenance  1852241      1   \n",
       "32                                         Hemostasis   109582      2   \n",
       "33                                        Translation    72766      1   \n",
       "34                                    Neuronal System   112316      1   \n",
       "35                           Signaling by Rho GTPases   194315      1   \n",
       "36                           Neutrophil degranulation  6798695      1   \n",
       "37                                            Disease  1643685      1   \n",
       "38                               Innate Immune System   168249      1   \n",
       "39                             Metabolism of proteins   392499      1   \n",
       "40                                         Metabolism  1430728      2   \n",
       "41                                      Immune System   168256      1   \n",
       "42                                Signal Transduction   162582      1   \n",
       "\n",
       "     p-value       fdr       species  \n",
       "0   0.000722  0.031066  Homo sapiens  \n",
       "1   0.007301  0.153318  Homo sapiens  \n",
       "2   0.012057  0.168804  Homo sapiens  \n",
       "3   0.024136  0.184060  Homo sapiens  \n",
       "4   0.024136  0.184060  Homo sapiens  \n",
       "5   0.056979  0.184060  Homo sapiens  \n",
       "6   0.043037  0.184060  Homo sapiens  \n",
       "7   0.044107  0.184060  Homo sapiens  \n",
       "8   0.048221  0.184060  Homo sapiens  \n",
       "9   0.056979  0.184060  Homo sapiens  \n",
       "10  0.061353  0.184060  Homo sapiens  \n",
       "11  0.068447  0.205341  Homo sapiens  \n",
       "12  0.115153  0.230305  Homo sapiens  \n",
       "13  0.097634  0.230305  Homo sapiens  \n",
       "14  0.079009  0.230305  Homo sapiens  \n",
       "15  0.130692  0.230769  Homo sapiens  \n",
       "16  0.195940  0.230769  Homo sapiens  \n",
       "17  0.125934  0.230769  Homo sapiens  \n",
       "18  0.230769  0.230769  Homo sapiens  \n",
       "19  0.209662  0.230769  Homo sapiens  \n",
       "20  0.218585  0.230769  Homo sapiens  \n",
       "21  0.170494  0.230769  Homo sapiens  \n",
       "22  0.297827  0.297827  Homo sapiens  \n",
       "23  0.304727  0.304727  Homo sapiens  \n",
       "24  0.306442  0.306442  Homo sapiens  \n",
       "25  0.334973  0.334973  Homo sapiens  \n",
       "26  0.389150  0.389150  Homo sapiens  \n",
       "27  0.399182  0.399182  Homo sapiens  \n",
       "28  0.453296  0.453296  Homo sapiens  \n",
       "29  0.496431  0.496431  Homo sapiens  \n",
       "30  0.556675  0.556675  Homo sapiens  \n",
       "31  0.562190  0.562190  Homo sapiens  \n",
       "32  0.588015  0.588015  Homo sapiens  \n",
       "33  0.610884  0.610884  Homo sapiens  \n",
       "34  0.651682  0.651682  Homo sapiens  \n",
       "35  0.668826  0.668826  Homo sapiens  \n",
       "36  0.696878  0.696878  Homo sapiens  \n",
       "37  0.979187  0.979187  Homo sapiens  \n",
       "38  0.985705  0.985705  Homo sapiens  \n",
       "39  0.998293  0.998293  Homo sapiens  \n",
       "40  0.999290  0.999290  Homo sapiens  \n",
       "41  0.999477  0.999477  Homo sapiens  \n",
       "42  0.999749  0.999749  Homo sapiens  "
      ]
     },
     "execution_count": 19,
     "metadata": {},
     "output_type": "execute_result"
    }
   ],
   "source": [
    "# the result\n",
    "r.table"
   ]
  },
  {
   "cell_type": "code",
   "execution_count": 20,
   "metadata": {
    "collapsed": false
   },
   "outputs": [
    {
     "data": {
      "text/html": [
       "<div id=\"box1502676998160979\" style=\"width: 100%; height: 0px;background-color: #ffffff\">\n",
       "    <script>\n",
       "        var box = $(\"#box1502676998160979\");\n",
       "        var father = box.parent();\n",
       "//        var grandfather = father.parent();\n",
       "        var thirdfather = father.parent().parent().parent();\n",
       "        thirdfather.children(\".prompt\").remove();\n",
       "        father.parent().children(\".prompt\").remove();\n",
       "        father.css(\"max-width\", \"100%\");\n",
       "        box.css(\"margin-left\", \"5px\");\n",
       "        var target = document.getElementById(\"box1502676998160979\");\n",
       "//        var w = target.offsetWidth;\n",
       "        var w = thirdfather.outerWidth();\n",
       "        console.log(w);\n",
       "        target.style.height = w * 0.6 + \"px\";\n",
       "        box.append($(\"<iframe width='\" + (parseInt(w) - 15).toString() + \"'\" +\n",
       "                \" height='\" + w * 0.6 + \"' src='assets/plot/plot_1502676998160979.html' \" +\n",
       "                \"frameborder='0'></iframe>\"))\n",
       "    </script>\n",
       "</div>"
      ],
      "text/plain": [
       "<IPython.core.display.HTML object>"
      ]
     },
     "execution_count": 20,
     "metadata": {},
     "output_type": "execute_result"
    }
   ],
   "source": [
    "# the overview\n",
    "r.plot()"
   ]
  },
  {
   "cell_type": "code",
   "execution_count": 21,
   "metadata": {
    "collapsed": true
   },
   "outputs": [],
   "source": [
    "# make the assoc file using the id_mapping function"
   ]
  },
  {
   "cell_type": "code",
   "execution_count": 22,
   "metadata": {
    "collapsed": true
   },
   "outputs": [],
   "source": [
    "from pypathway.utils import IdMapping"
   ]
  },
  {
   "cell_type": "code",
   "execution_count": 23,
   "metadata": {
    "collapsed": false
   },
   "outputs": [],
   "source": [
    "r = IdMapping.convert_to_dict(input_id=c.background, source='ENTREZID', target=\"GO\", organism='hsa')"
   ]
  },
  {
   "cell_type": "code",
   "execution_count": 25,
   "metadata": {
    "collapsed": false,
    "scrolled": false
   },
   "outputs": [
    {
     "name": "stdout",
     "output_type": "stream",
     "text": [
      "load obo file /Users/sheep/goatools/go-basic.obo\n",
      "/Users/sheep/goatools/go-basic.obo: fmt(1.2) rel(2017-04-21) 48,571 GO Terms\n",
      "fisher module not installed.  Falling back on scipy.stats.fisher_exact\n"
     ]
    },
    {
     "name": "stderr",
     "output_type": "stream",
     "text": [
      "Propagating term counts to parents ..\n"
     ]
    },
    {
     "name": "stdout",
     "output_type": "stream",
     "text": [
      "15,253 out of 17,216 population items found in association\n",
      "Calculating uncorrected p-values using fisher_scipy_stats\n",
      " 5,104 out of  5,320 study items found in association\n",
      "Running multitest correction: local bonferroni\n",
      "Running multitest correction: local sidak\n",
      "Running multitest correction: local holm\n",
      "  15,732 GO terms are associated with 5,104 of 5,320 study items\n",
      "  20,700 GO terms are associated with 15,253 of 17,216 population items\n"
     ]
    }
   ],
   "source": [
    "#run\n",
    "path = '/Users/sheep/goatools/'\n",
    "rg = GO.run([str(x) for x in c.deg_list], [str(x) for x in c.background], r, obo=path + 'go-basic.obo')"
   ]
  },
  {
   "cell_type": "code",
   "execution_count": 26,
   "metadata": {
    "collapsed": false
   },
   "outputs": [
    {
     "data": {
      "text/html": [
       "<div id=\"box1502677137682926\" style=\"width: 100%; height: 0px;background-color: #ffffff\">\n",
       "    <script>\n",
       "        var box = $(\"#box1502677137682926\");\n",
       "        var father = box.parent();\n",
       "//        var grandfather = father.parent();\n",
       "        var thirdfather = father.parent().parent().parent();\n",
       "        thirdfather.children(\".prompt\").remove();\n",
       "        father.parent().children(\".prompt\").remove();\n",
       "        father.css(\"max-width\", \"100%\");\n",
       "        box.css(\"margin-left\", \"5px\");\n",
       "        var target = document.getElementById(\"box1502677137682926\");\n",
       "//        var w = target.offsetWidth;\n",
       "        var w = thirdfather.outerWidth();\n",
       "        console.log(w);\n",
       "        target.style.height = w * 0.6 + \"px\";\n",
       "        box.append($(\"<iframe width='\" + (parseInt(w) - 15).toString() + \"'\" +\n",
       "                \" height='\" + w * 0.6 + \"' src='assets/plot/plot_1502677137682926.html' \" +\n",
       "                \"frameborder='0'></iframe>\"))\n",
       "    </script>\n",
       "</div>"
      ],
      "text/plain": [
       "<IPython.core.display.HTML object>"
      ]
     },
     "execution_count": 26,
     "metadata": {},
     "output_type": "execute_result"
    }
   ],
   "source": [
    "rg.plot()"
   ]
  },
  {
   "cell_type": "raw",
   "metadata": {
    "collapsed": true
   },
   "source": [
    "# simple test of Gene Ontology\n",
    "# this function is the warpper of the Goatools\n",
    "# Github: https://github.com/tanghaibao/goatools\n",
    "# Haibao Tang et al. (2015). GOATOOLS: Tools for Gene Ontology. Zenodo. 10.5281/zenodo.31628."
   ]
  },
  {
   "cell_type": "code",
   "execution_count": 45,
   "metadata": {
    "collapsed": false,
    "scrolled": true
   },
   "outputs": [
    {
     "name": "stdout",
     "output_type": "stream",
     "text": [
      "load obo file /Users/sheep/goatools/go-basic.obo\n",
      "/Users/sheep/goatools/go-basic.obo: fmt(1.2) rel(2017-04-21) 48,571 GO Terms\n",
      "fisher module not installed.  Falling back on scipy.stats.fisher_exact\n"
     ]
    },
    {
     "name": "stderr",
     "output_type": "stream",
     "text": [
      "Propagating term counts to parents ..\n",
      "terms not found: {'GO:0022627', 'GO:0022625'}\n"
     ]
    },
    {
     "name": "stdout",
     "output_type": "stream",
     "text": [
      "31,855 out of 33,239 population items found in association\n",
      "Calculating uncorrected p-values using fisher_scipy_stats\n",
      "   269 out of    276 study items found in association\n",
      "Running multitest correction: local bonferroni\n",
      "Running multitest correction: local sidak\n",
      "Running multitest correction: local holm\n",
      "  797 GO terms are associated with 269 of 276 study items\n",
      "  6,120 GO terms are associated with 31,855 of 33,239 population items\n"
     ]
    }
   ],
   "source": [
    "rg = GO.run(path + 'data/study', path + 'data/population', path + 'data/association',\n",
    "        obo=path + 'go-basic.obo')"
   ]
  },
  {
   "cell_type": "code",
   "execution_count": 48,
   "metadata": {
    "collapsed": false
   },
   "outputs": [
    {
     "data": {
      "text/html": [
       "<div id=\"box1\" style=\"width: 100%; height: 0px;background-color: #ffffff\">\n",
       "    <script>\n",
       "        var box = $(\"#box1\");\n",
       "        var father = box.parent();\n",
       "        var thirdfather = father.parent().parent().parent();\n",
       "        thirdfather.children(\".prompt\").remove();\n",
       "        father.parent().children(\".prompt\").remove();\n",
       "        father.css(\"max-width\", \"100%\");\n",
       "        box.css(\"margin-left\", \"5px\");\n",
       "        box.css(\"margin-top\", \"3px\");\n",
       "        var target = document.getElementById(\"box1\");\n",
       "        var w = thirdfather.outerWidth();\n",
       "        console.log(w);\n",
       "        target.style.height = w * 0.625 + \"px\";\n",
       "        box.append($(\"<iframe id='inner-iframe' width='\" + (parseInt(w) - 15).toString() + \"'\" +\n",
       "                \" height='\" + w * 0.625 + \"' src=files/caches/cy_plot/index.html \" +\n",
       "                \"frameborder='0'></iframe>\"));\n",
       "        window.onresize = function () {\n",
       "            console.log(\"resize\", thirdfather.outerWidth());\n",
       "            var inner_frame = $(\"#inner-iframe\");\n",
       "            inner_frame.css(\"width\", thirdfather.outerWidth() - 15 + \"px\");\n",
       "            inner_frame.css(\"height\", thirdfather.outerWidth() * 0.625 + \"px\");\n",
       "            father.css(\"height\", thirdfather.outerWidth() * 0.625 + 8 + \"px\");\n",
       "            thirdfather.css(\"height\", thirdfather.outerWidth() * 0.625 + 8 + \"px\");\n",
       "            father.parent().css(\"height\", thirdfather.outerWidth() * 0.625 + 8 + \"px\");\n",
       "        }\n",
       "    </script>\n",
       "</div>"
      ],
      "text/plain": [
       "<IPython.core.display.HTML object>"
      ]
     },
     "execution_count": 48,
     "metadata": {},
     "output_type": "execute_result"
    }
   ],
   "source": [
    "rg.graph()"
   ]
  },
  {
   "cell_type": "code",
   "execution_count": 31,
   "metadata": {
    "collapsed": true
   },
   "outputs": [],
   "source": [
    "from pypathway.exportion import EnrichmentExport"
   ]
  },
  {
   "cell_type": "code",
   "execution_count": 57,
   "metadata": {
    "collapsed": false
   },
   "outputs": [],
   "source": [
    "c = EnrichmentExport.export([rg, rg])"
   ]
  },
  {
   "cell_type": "code",
   "execution_count": 52,
   "metadata": {
    "collapsed": false
   },
   "outputs": [
    {
     "data": {
      "text/plain": [
       "'/Users/sheep/PyPathway/examples/analysis'"
      ]
     },
     "execution_count": 52,
     "metadata": {},
     "output_type": "execute_result"
    }
   ],
   "source": [
    "pwd"
   ]
  },
  {
   "cell_type": "code",
   "execution_count": 120,
   "metadata": {
    "collapsed": true
   },
   "outputs": [],
   "source": [
    "def enrichment_export(result_list, devide_dataset=False):\n",
    "    layout = {}\n",
    "    snapshot = []\n",
    "    detail = []\n",
    "    if devide_dataset:\n",
    "        # devide dataset here\n",
    "        pass\n",
    "    else:\n",
    "        layout = {'layer': 1, 'display': 'card'}\n",
    "    for i, x in enumerate(result_list):\n",
    "        detail.append({'bar': x.plot(data=True), 'overview': rg.graph()})\n",
    "        snapshot.append({'snap': x.snapshot(), 'id': 'plot{}'.format(i), 'tags': x.overview()})\n",
    "    return {\"layout\": layout, 'snapshot': snapshot, 'detail': detail}\n",
    "\n",
    "def generate_page_by_config(config):\n",
    "    # first generate the card page\n",
    "    tmp_card = '/Users/sheep/WebstormProjects/jinja_template/card.html'\n",
    "    tmp_detail = '/Users/sheep/WebstormProjects/jinja_template/enrichment_display.html'\n",
    "    with open(tmp_card) as fp:\n",
    "        con = fp.read()\n",
    "    t = Template(con)\n",
    "    items = []\n",
    "    # generate the card layout\n",
    "    for i, x in enumerate(config['snapshot']):\n",
    "        if i % 2 == 0:\n",
    "            current = {'has1': True, 'has2': False}\n",
    "            current['F'] = {'id': x['id'], 'tags': x['tags']}\n",
    "            if i == len(config['snapshot']) - 1:\n",
    "                items.append(current)\n",
    "        else:\n",
    "            current['has2'] = True\n",
    "            current['S'] = {'id': x['id'], 'tags': x['tags']}\n",
    "            items.append(current)\n",
    "    with open('/Users/sheep/WebstormProjects/jinja_template/cd1.html', 'w') as fp:\n",
    "        fp.write(t.render(items=items))\n",
    "    # generate the snapshot config\n",
    "    snapshot_config = {}\n",
    "    snapshot_config_path = \"/Users/sheep/WebstormProjects/jinja_template/data/card.json\"\n",
    "    for x in config['snapshot']:\n",
    "        snapshot_config[x['id']] = {'type': 'chart', 'snap': x['snap'], 'detail': {\"method\": \"ORA\"}}\n",
    "    print(snapshot_config)\n",
    "    with open(snapshot_config_path, 'w') as fp:\n",
    "        json.dump(snapshot_config, fp)"
   ]
  },
  {
   "cell_type": "code",
   "execution_count": 124,
   "metadata": {
    "collapsed": false
   },
   "outputs": [
    {
     "name": "stdout",
     "output_type": "stream",
     "text": [
      "{'plot0': {'snap': {'yAxis': {'splitLine': {'show': False}, 'data': ['cytoplasmic part', 'cellular_component', 'intracellular part', 'cell part', 'molecular_function', 'biological_process', 'organelle', 'single-organism process'], 'type': 'category'}, 'series': [{'data': [322.17044167570776, 316.2821667582666, 277.49105930589093, 261.1753088778956, 232.213038547228, 231.38440696554, 197.55866244673427, 195.24529636535036], 'name': '-lg(p_bonferroni)', 'type': 'bar'}], 'color': ['#F2F2F2'], 'xAxis': {'lineColor': 'transparent', 'splitLine': {'show': False}, 'type': 'value', 'boundaryGap': [0, 0.01], 'name': '-lg(p_bonferroni)'}, 'tooltip': {'trigger': 'axis', 'axisPointer': {'type': 'shadow'}}, 'grid': {'bottom': '3%', 'top': '5%', 'containLabel': True, 'left': '3%', 'right': '12%'}}, 'detail': {'method': 'ORA'}, 'type': 'chart'}, 'plot1': {'snap': {'yAxis': {'splitLine': {'show': False}, 'data': ['cytoplasmic part', 'cellular_component', 'intracellular part', 'cell part', 'molecular_function', 'biological_process', 'organelle', 'single-organism process'], 'type': 'category'}, 'series': [{'data': [322.17044167570776, 316.2821667582666, 277.49105930589093, 261.1753088778956, 232.213038547228, 231.38440696554, 197.55866244673427, 195.24529636535036], 'name': '-lg(p_bonferroni)', 'type': 'bar'}], 'color': ['#F2F2F2'], 'xAxis': {'lineColor': 'transparent', 'splitLine': {'show': False}, 'type': 'value', 'boundaryGap': [0, 0.01], 'name': '-lg(p_bonferroni)'}, 'tooltip': {'trigger': 'axis', 'axisPointer': {'type': 'shadow'}}, 'grid': {'bottom': '3%', 'top': '5%', 'containLabel': True, 'left': '3%', 'right': '12%'}}, 'detail': {'method': 'ORA'}, 'type': 'chart'}, 'plot2': {'snap': {'yAxis': {'splitLine': {'show': False}, 'data': ['cytoplasmic part', 'cellular_component', 'intracellular part', 'cell part', 'molecular_function', 'biological_process', 'organelle', 'single-organism process'], 'type': 'category'}, 'series': [{'data': [322.17044167570776, 316.2821667582666, 277.49105930589093, 261.1753088778956, 232.213038547228, 231.38440696554, 197.55866244673427, 195.24529636535036], 'name': '-lg(p_bonferroni)', 'type': 'bar'}], 'color': ['#F2F2F2'], 'xAxis': {'lineColor': 'transparent', 'splitLine': {'show': False}, 'type': 'value', 'boundaryGap': [0, 0.01], 'name': '-lg(p_bonferroni)'}, 'tooltip': {'trigger': 'axis', 'axisPointer': {'type': 'shadow'}}, 'grid': {'bottom': '3%', 'top': '5%', 'containLabel': True, 'left': '3%', 'right': '12%'}}, 'detail': {'method': 'ORA'}, 'type': 'chart'}}\n"
     ]
    }
   ],
   "source": [
    "r = enrichment_export([rg, rg, rg])\n",
    "generate_page_by_config(r)"
   ]
  },
  {
   "cell_type": "code",
   "execution_count": 97,
   "metadata": {
    "collapsed": true
   },
   "outputs": [],
   "source": [
    "from pypathway.pathviz.utils import plot_json"
   ]
  },
  {
   "cell_type": "code",
   "execution_count": 114,
   "metadata": {
    "collapsed": false
   },
   "outputs": [
    {
     "data": {
      "text/html": [
       "<div id=\"box1502510974635089\" style=\"width: 100%; height: 0px;background-color: #ffffff\">\n",
       "    <script>\n",
       "        var box = $(\"#box1502510974635089\");\n",
       "        var father = box.parent();\n",
       "//        var grandfather = father.parent();\n",
       "        var thirdfather = father.parent().parent().parent();\n",
       "        thirdfather.children(\".prompt\").remove();\n",
       "        father.parent().children(\".prompt\").remove();\n",
       "        father.css(\"max-width\", \"100%\");\n",
       "        box.css(\"margin-left\", \"5px\");\n",
       "        var target = document.getElementById(\"box1502510974635089\");\n",
       "//        var w = target.offsetWidth;\n",
       "        var w = thirdfather.outerWidth();\n",
       "        console.log(w);\n",
       "        target.style.height = w * 0.6 + \"px\";\n",
       "        box.append($(\"<iframe width='\" + (parseInt(w) - 15).toString() + \"'\" +\n",
       "                \" height='\" + w * 0.6 + \"' src='assets/plot/plot_1502510974635089.html' \" +\n",
       "                \"frameborder='0'></iframe>\"))\n",
       "    </script>\n",
       "</div>"
      ],
      "text/plain": [
       "<IPython.core.display.HTML object>"
      ]
     },
     "execution_count": 114,
     "metadata": {},
     "output_type": "execute_result"
    }
   ],
   "source": [
    "plot_json(rg.snapshot())"
   ]
  },
  {
   "cell_type": "code",
   "execution_count": 71,
   "metadata": {
    "collapsed": true
   },
   "outputs": [],
   "source": [
    "def write_data(template_path, out_put_path, json_path):\n",
    "    with open(template_path) as fp:\n",
    "        con = fp.read()\n",
    "    t = Template(con)\n",
    "    with open(out_put_path, 'w') as fp:\n",
    "        fp.write(t.render(table=tb, title=\"Gene ontology enrichment\"))\n",
    "    with open(json_path, 'w') as fp:\n",
    "        json.dump({'bar': bar, 'overview': overview}, fp)"
   ]
  },
  {
   "cell_type": "code",
   "execution_count": 79,
   "metadata": {
    "collapsed": false
   },
   "outputs": [],
   "source": [
    "write_data(\"/Users/sheep/WebstormProjects/jinja_template/enrichment_display.html\",\n",
    "          \"/Users/sheep/WebstormProjects/jinja_template/enrichment_display2.html\",\n",
    "          \"/Users/sheep/WebstormProjects/jinja_template/data/data.json\")"
   ]
  },
  {
   "cell_type": "code",
   "execution_count": 64,
   "metadata": {
    "collapsed": false
   },
   "outputs": [
    {
     "data": {
      "text/html": [
       "<div>\n",
       "<table border=\"1\" class=\"dataframe\">\n",
       "  <thead>\n",
       "    <tr style=\"text-align: right;\">\n",
       "      <th></th>\n",
       "      <th>GO</th>\n",
       "      <th>NS</th>\n",
       "      <th>enrichment</th>\n",
       "      <th>name</th>\n",
       "      <th>ratio_in_study</th>\n",
       "      <th>ratio_in_pop</th>\n",
       "      <th>p_uncorrected</th>\n",
       "      <th>depth</th>\n",
       "      <th>study_count</th>\n",
       "      <th>p_bonferroni</th>\n",
       "      <th>p_sidak</th>\n",
       "      <th>p_holm</th>\n",
       "    </tr>\n",
       "  </thead>\n",
       "  <tbody>\n",
       "    <tr>\n",
       "      <th>0</th>\n",
       "      <td>GO:0006464</td>\n",
       "      <td>BP</td>\n",
       "      <td>e</td>\n",
       "      <td>cellular protein modification process</td>\n",
       "      <td>33/276</td>\n",
       "      <td>1727/33239</td>\n",
       "      <td>0.000008</td>\n",
       "      <td>n.a.</td>\n",
       "      <td>33</td>\n",
       "      <td>0.0505</td>\n",
       "      <td>0.0492</td>\n",
       "      <td>0.0505</td>\n",
       "    </tr>\n",
       "    <tr>\n",
       "      <th>1</th>\n",
       "      <td>GO:0036211</td>\n",
       "      <td>BP</td>\n",
       "      <td>e</td>\n",
       "      <td>protein modification process</td>\n",
       "      <td>33/276</td>\n",
       "      <td>1727/33239</td>\n",
       "      <td>0.000008</td>\n",
       "      <td>n.a.</td>\n",
       "      <td>33</td>\n",
       "      <td>0.0505</td>\n",
       "      <td>0.0492</td>\n",
       "      <td>0.0505</td>\n",
       "    </tr>\n",
       "    <tr>\n",
       "      <th>2</th>\n",
       "      <td>GO:0006468</td>\n",
       "      <td>BP</td>\n",
       "      <td>e</td>\n",
       "      <td>protein phosphorylation</td>\n",
       "      <td>22/276</td>\n",
       "      <td>922/33239</td>\n",
       "      <td>0.000011</td>\n",
       "      <td>n.a.</td>\n",
       "      <td>22</td>\n",
       "      <td>0.0660</td>\n",
       "      <td>0.0643</td>\n",
       "      <td>0.0659</td>\n",
       "    </tr>\n",
       "    <tr>\n",
       "      <th>3</th>\n",
       "      <td>GO:0016310</td>\n",
       "      <td>BP</td>\n",
       "      <td>e</td>\n",
       "      <td>phosphorylation</td>\n",
       "      <td>22/276</td>\n",
       "      <td>996/33239</td>\n",
       "      <td>0.000035</td>\n",
       "      <td>n.a.</td>\n",
       "      <td>22</td>\n",
       "      <td>0.2120</td>\n",
       "      <td>0.2070</td>\n",
       "      <td>0.2120</td>\n",
       "    </tr>\n",
       "    <tr>\n",
       "      <th>4</th>\n",
       "      <td>GO:0043412</td>\n",
       "      <td>BP</td>\n",
       "      <td>e</td>\n",
       "      <td>macromolecule modification</td>\n",
       "      <td>33/276</td>\n",
       "      <td>1877/33239</td>\n",
       "      <td>0.000057</td>\n",
       "      <td>n.a.</td>\n",
       "      <td>33</td>\n",
       "      <td>0.3510</td>\n",
       "      <td>0.3420</td>\n",
       "      <td>0.3510</td>\n",
       "    </tr>\n",
       "  </tbody>\n",
       "</table>\n",
       "</div>"
      ],
      "text/plain": [
       "           GO  NS enrichment                                   name  \\\n",
       "0  GO:0006464  BP          e  cellular protein modification process   \n",
       "1  GO:0036211  BP          e           protein modification process   \n",
       "2  GO:0006468  BP          e                protein phosphorylation   \n",
       "3  GO:0016310  BP          e                        phosphorylation   \n",
       "4  GO:0043412  BP          e             macromolecule modification   \n",
       "\n",
       "  ratio_in_study ratio_in_pop  p_uncorrected depth  study_count  p_bonferroni  \\\n",
       "0         33/276   1727/33239       0.000008  n.a.           33        0.0505   \n",
       "1         33/276   1727/33239       0.000008  n.a.           33        0.0505   \n",
       "2         22/276    922/33239       0.000011  n.a.           22        0.0660   \n",
       "3         22/276    996/33239       0.000035  n.a.           22        0.2120   \n",
       "4         33/276   1877/33239       0.000057  n.a.           33        0.3510   \n",
       "\n",
       "   p_sidak  p_holm  \n",
       "0   0.0492  0.0505  \n",
       "1   0.0492  0.0505  \n",
       "2   0.0643  0.0659  \n",
       "3   0.2070  0.2120  \n",
       "4   0.3420  0.3510  "
      ]
     },
     "execution_count": 64,
     "metadata": {},
     "output_type": "execute_result"
    }
   ],
   "source": [
    "rg.table.head()"
   ]
  },
  {
   "cell_type": "code",
   "execution_count": 20,
   "metadata": {
    "collapsed": false,
    "scrolled": true
   },
   "outputs": [
    {
     "name": "stdout",
     "output_type": "stream",
     "text": [
      "<table border=\"1\" class=\"dataframe\">\n",
      "  <thead>\n",
      "    <tr style=\"text-align: right;\">\n",
      "      <th></th>\n",
      "      <th>GO</th>\n",
      "      <th>NS</th>\n",
      "      <th>enrichment</th>\n",
      "      <th>name</th>\n",
      "      <th>ratio_in_study</th>\n",
      "      <th>ratio_in_pop</th>\n",
      "      <th>p_uncorrected</th>\n",
      "      <th>depth</th>\n",
      "      <th>study_count</th>\n",
      "      <th>p_bonferroni</th>\n",
      "      <th>p_sidak</th>\n",
      "      <th>p_holm</th>\n",
      "    </tr>\n",
      "  </thead>\n",
      "  <tbody>\n",
      "    <tr>\n",
      "      <th>4067</th>\n",
      "      <td>GO:0003824</td>\n",
      "      <td>MF</td>\n",
      "      <td>e</td>\n",
      "      <td>catalytic activity</td>\n",
      "      <td>106/276</td>\n",
      "      <td>7723/33239</td>\n",
      "      <td>1.600000e-08</td>\n",
      "      <td>n.a.</td>\n",
      "      <td>106</td>\n",
      "      <td>0.000098</td>\n",
      "      <td>0.000095</td>\n",
      "      <td>0.000098</td>\n",
      "    </tr>\n",
      "    <tr>\n",
      "      <th>4068</th>\n",
      "      <td>GO:0016740</td>\n",
      "      <td>MF</td>\n",
      "      <td>e</td>\n",
      "      <td>transferase activity</td>\n",
      "      <td>54/276</td>\n",
      "      <td>2976/33239</td>\n",
      "      <td>5.430000e-08</td>\n",
      "      <td>n.a.</td>\n",
      "      <td>54</td>\n",
      "      <td>0.000332</td>\n",
      "      <td>0.000324</td>\n",
      "      <td>0.000332</td>\n",
      "    </tr>\n",
      "    <tr>\n",
      "      <th>0</th>\n",
      "      <td>GO:0006464</td>\n",
      "      <td>BP</td>\n",
      "      <td>e</td>\n",
      "      <td>cellular protein modification process</td>\n",
      "      <td>33/276</td>\n",
      "      <td>1727/33239</td>\n",
      "      <td>8.250000e-06</td>\n",
      "      <td>n.a.</td>\n",
      "      <td>33</td>\n",
      "      <td>0.050500</td>\n",
      "      <td>0.049200</td>\n",
      "      <td>0.050500</td>\n",
      "    </tr>\n",
      "    <tr>\n",
      "      <th>1</th>\n",
      "      <td>GO:0036211</td>\n",
      "      <td>BP</td>\n",
      "      <td>e</td>\n",
      "      <td>protein modification process</td>\n",
      "      <td>33/276</td>\n",
      "      <td>1727/33239</td>\n",
      "      <td>8.250000e-06</td>\n",
      "      <td>n.a.</td>\n",
      "      <td>33</td>\n",
      "      <td>0.050500</td>\n",
      "      <td>0.049200</td>\n",
      "      <td>0.050500</td>\n",
      "    </tr>\n",
      "    <tr>\n",
      "      <th>2</th>\n",
      "      <td>GO:0006468</td>\n",
      "      <td>BP</td>\n",
      "      <td>e</td>\n",
      "      <td>protein phosphorylation</td>\n",
      "      <td>22/276</td>\n",
      "      <td>922/33239</td>\n",
      "      <td>1.080000e-05</td>\n",
      "      <td>n.a.</td>\n",
      "      <td>22</td>\n",
      "      <td>0.066000</td>\n",
      "      <td>0.064300</td>\n",
      "      <td>0.065900</td>\n",
      "    </tr>\n",
      "    <tr>\n",
      "      <th>4069</th>\n",
      "      <td>GO:0008474</td>\n",
      "      <td>MF</td>\n",
      "      <td>e</td>\n",
      "      <td>palmitoyl-(protein) hydrolase activity</td>\n",
      "      <td>3/276</td>\n",
      "      <td>7/33239</td>\n",
      "      <td>1.930000e-05</td>\n",
      "      <td>n.a.</td>\n",
      "      <td>3</td>\n",
      "      <td>0.118000</td>\n",
      "      <td>0.115000</td>\n",
      "      <td>0.118000</td>\n",
      "    </tr>\n",
      "    <tr>\n",
      "      <th>4070</th>\n",
      "      <td>GO:0098599</td>\n",
      "      <td>MF</td>\n",
      "      <td>e</td>\n",
      "      <td>palmitoyl hydrolase activity</td>\n",
      "      <td>3/276</td>\n",
      "      <td>7/33239</td>\n",
      "      <td>1.930000e-05</td>\n",
      "      <td>n.a.</td>\n",
      "      <td>3</td>\n",
      "      <td>0.118000</td>\n",
      "      <td>0.115000</td>\n",
      "      <td>0.118000</td>\n",
      "    </tr>\n",
      "    <tr>\n",
      "      <th>3</th>\n",
      "      <td>GO:0016310</td>\n",
      "      <td>BP</td>\n",
      "      <td>e</td>\n",
      "      <td>phosphorylation</td>\n",
      "      <td>22/276</td>\n",
      "      <td>996/33239</td>\n",
      "      <td>3.470000e-05</td>\n",
      "      <td>n.a.</td>\n",
      "      <td>22</td>\n",
      "      <td>0.212000</td>\n",
      "      <td>0.207000</td>\n",
      "      <td>0.212000</td>\n",
      "    </tr>\n",
      "    <tr>\n",
      "      <th>3494</th>\n",
      "      <td>GO:0005839</td>\n",
      "      <td>CC</td>\n",
      "      <td>e</td>\n",
      "      <td>proteasome core complex</td>\n",
      "      <td>4/276</td>\n",
      "      <td>23/33239</td>\n",
      "      <td>3.640000e-05</td>\n",
      "      <td>n.a.</td>\n",
      "      <td>4</td>\n",
      "      <td>0.223000</td>\n",
      "      <td>0.217000</td>\n",
      "      <td>0.222000</td>\n",
      "    </tr>\n",
      "    <tr>\n",
      "      <th>4</th>\n",
      "      <td>GO:0043412</td>\n",
      "      <td>BP</td>\n",
      "      <td>e</td>\n",
      "      <td>macromolecule modification</td>\n",
      "      <td>33/276</td>\n",
      "      <td>1877/33239</td>\n",
      "      <td>5.740000e-05</td>\n",
      "      <td>n.a.</td>\n",
      "      <td>33</td>\n",
      "      <td>0.351000</td>\n",
      "      <td>0.342000</td>\n",
      "      <td>0.351000</td>\n",
      "    </tr>\n",
      "    <tr>\n",
      "      <th>5</th>\n",
      "      <td>GO:0019748</td>\n",
      "      <td>BP</td>\n",
      "      <td>e</td>\n",
      "      <td>secondary metabolic process</td>\n",
      "      <td>9/276</td>\n",
      "      <td>208/33239</td>\n",
      "      <td>6.590000e-05</td>\n",
      "      <td>n.a.</td>\n",
      "      <td>9</td>\n",
      "      <td>0.404000</td>\n",
      "      <td>0.393000</td>\n",
      "      <td>0.403000</td>\n",
      "    </tr>\n",
      "    <tr>\n",
      "      <th>4071</th>\n",
      "      <td>GO:0008444</td>\n",
      "      <td>MF</td>\n",
      "      <td>e</td>\n",
      "      <td>CDP-diacylglycerol-glycerol-3-phosphate 3-phos...</td>\n",
      "      <td>2/276</td>\n",
      "      <td>2/33239</td>\n",
      "      <td>6.870000e-05</td>\n",
      "      <td>n.a.</td>\n",
      "      <td>2</td>\n",
      "      <td>0.420000</td>\n",
      "      <td>0.410000</td>\n",
      "      <td>0.420000</td>\n",
      "    </tr>\n",
      "    <tr>\n",
      "      <th>6</th>\n",
      "      <td>GO:1901564</td>\n",
      "      <td>BP</td>\n",
      "      <td>e</td>\n",
      "      <td>organonitrogen compound metabolic process</td>\n",
      "      <td>52/276</td>\n",
      "      <td>3612/33239</td>\n",
      "      <td>8.520000e-05</td>\n",
      "      <td>n.a.</td>\n",
      "      <td>52</td>\n",
      "      <td>0.521000</td>\n",
      "      <td>0.508000</td>\n",
      "      <td>0.520000</td>\n",
      "    </tr>\n",
      "    <tr>\n",
      "      <th>7</th>\n",
      "      <td>GO:0009404</td>\n",
      "      <td>BP</td>\n",
      "      <td>e</td>\n",
      "      <td>toxin metabolic process</td>\n",
      "      <td>5/276</td>\n",
      "      <td>56/33239</td>\n",
      "      <td>1.030000e-04</td>\n",
      "      <td>n.a.</td>\n",
      "      <td>5</td>\n",
      "      <td>0.630000</td>\n",
      "      <td>0.614000</td>\n",
      "      <td>0.628000</td>\n",
      "    </tr>\n",
      "    <tr>\n",
      "      <th>4072</th>\n",
      "      <td>GO:0016301</td>\n",
      "      <td>MF</td>\n",
      "      <td>e</td>\n",
      "      <td>kinase activity</td>\n",
      "      <td>25/276</td>\n",
      "      <td>1311/33239</td>\n",
      "      <td>1.230000e-04</td>\n",
      "      <td>n.a.</td>\n",
      "      <td>25</td>\n",
      "      <td>0.753000</td>\n",
      "      <td>0.734000</td>\n",
      "      <td>0.751000</td>\n",
      "    </tr>\n",
      "  </tbody>\n",
      "</table>\n"
     ]
    }
   ],
   "source": [
    "print()"
   ]
  },
  {
   "cell_type": "code",
   "execution_count": 48,
   "metadata": {
    "collapsed": false,
    "scrolled": false
   },
   "outputs": [
    {
     "data": {
      "text/html": [
       "<div id=\"box1502077853404133\" style=\"width: 100%; height: 0px;background-color: #ffffff\">\n",
       "    <script>\n",
       "        var box = $(\"#box1502077853404133\");\n",
       "        var father = box.parent();\n",
       "//        var grandfather = father.parent();\n",
       "        var thirdfather = father.parent().parent().parent();\n",
       "        thirdfather.children(\".prompt\").remove();\n",
       "        father.parent().children(\".prompt\").remove();\n",
       "        father.css(\"max-width\", \"100%\");\n",
       "        box.css(\"margin-left\", \"5px\");\n",
       "        var target = document.getElementById(\"box1502077853404133\");\n",
       "//        var w = target.offsetWidth;\n",
       "        var w = thirdfather.outerWidth();\n",
       "        console.log(w);\n",
       "        target.style.height = w * 0.6 + \"px\";\n",
       "        box.append($(\"<iframe width='\" + (parseInt(w) - 15).toString() + \"'\" +\n",
       "                \" height='\" + w * 0.6 + \"' src='assets/plot/plot_1502077853404133.html' \" +\n",
       "                \"frameborder='0'></iframe>\"))\n",
       "    </script>\n",
       "</div>"
      ],
      "text/plain": [
       "<IPython.core.display.HTML object>"
      ]
     },
     "execution_count": 48,
     "metadata": {},
     "output_type": "execute_result"
    }
   ],
   "source": [
    "rg.plot"
   ]
  },
  {
   "cell_type": "code",
   "execution_count": 10,
   "metadata": {
    "collapsed": false
   },
   "outputs": [
    {
     "data": {
      "text/html": [
       "<div id=\"box1\" style=\"width: 100%; height: 0px;background-color: #ffffff\">\n",
       "    <script>\n",
       "        var box = $(\"#box1\");\n",
       "        var father = box.parent();\n",
       "        var thirdfather = father.parent().parent().parent();\n",
       "        thirdfather.children(\".prompt\").remove();\n",
       "        father.parent().children(\".prompt\").remove();\n",
       "        father.css(\"max-width\", \"100%\");\n",
       "        box.css(\"margin-left\", \"5px\");\n",
       "        box.css(\"margin-top\", \"3px\");\n",
       "        var target = document.getElementById(\"box1\");\n",
       "        var w = thirdfather.outerWidth();\n",
       "        console.log(w);\n",
       "        target.style.height = w * 0.625 + \"px\";\n",
       "        box.append($(\"<iframe id='inner-iframe' width='\" + (parseInt(w) - 15).toString() + \"'\" +\n",
       "                \" height='\" + w * 0.625 + \"' src=files/caches/cy_plot/index.html \" +\n",
       "                \"frameborder='0'></iframe>\"));\n",
       "        window.onresize = function () {\n",
       "            console.log(\"resize\", thirdfather.outerWidth());\n",
       "            var inner_frame = $(\"#inner-iframe\");\n",
       "            inner_frame.css(\"width\", thirdfather.outerWidth() - 15 + \"px\");\n",
       "            inner_frame.css(\"height\", thirdfather.outerWidth() * 0.625 + \"px\");\n",
       "            father.css(\"height\", thirdfather.outerWidth() * 0.625 + 8 + \"px\");\n",
       "            thirdfather.css(\"height\", thirdfather.outerWidth() * 0.625 + 8 + \"px\");\n",
       "            father.parent().css(\"height\", thirdfather.outerWidth() * 0.625 + 8 + \"px\");\n",
       "        }\n",
       "    </script>\n",
       "</div>"
      ],
      "text/plain": [
       "<IPython.core.display.HTML object>"
      ]
     },
     "execution_count": 10,
     "metadata": {},
     "output_type": "execute_result"
    }
   ],
   "source": [
    "# view the significant gene set in the network view\n",
    "rg.overview()"
   ]
  }
 ],
 "metadata": {
  "kernelspec": {
   "display_name": "Python 3",
   "language": "python",
   "name": "python3"
  },
  "language_info": {
   "codemirror_mode": {
    "name": "ipython",
    "version": 3
   },
   "file_extension": ".py",
   "mimetype": "text/x-python",
   "name": "python",
   "nbconvert_exporter": "python",
   "pygments_lexer": "ipython3",
   "version": "3.5.2"
  }
 },
 "nbformat": 4,
 "nbformat_minor": 2
}
