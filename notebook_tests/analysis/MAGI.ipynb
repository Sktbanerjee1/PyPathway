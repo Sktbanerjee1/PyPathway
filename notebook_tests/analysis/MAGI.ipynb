{
 "cells": [
  {
   "cell_type": "markdown",
   "metadata": {},
   "source": [
    "## MAGI\n",
    "The interface, the multithreading and the visualizer\n",
    "\n",
    "Here we demonstrate the usage of magi, for the information of parameters and file inputs, please refer to [docs](http://ooxx.cloud/PyPathway/modelling/)"
   ]
  },
  {
   "cell_type": "code",
   "execution_count": 1,
   "metadata": {},
   "outputs": [],
   "source": [
    "from pypathway import MAGI, MAGIExport"
   ]
  },
  {
   "cell_type": "code",
   "execution_count": 2,
   "metadata": {},
   "outputs": [],
   "source": [
    "# the path to the official example folder, this file should exist after the cloning of the repo\n",
    "path = \"../../tests/assets/smaller_magi/\""
   ]
  },
  {
   "cell_type": "code",
   "execution_count": 3,
   "metadata": {
    "scrolled": false
   },
   "outputs": [],
   "source": [
    "MAGI.select_pathway(\n",
    "    path + 'StringNew_HPRD.txt', \n",
    "    path + 'ID_2_Autism_4_Severe_Missense.Clean_WithNew.txt', \n",
    "    path + 'GeneCoExpresion_ID.txt', path + 'adj1.csv.Tab.BinaryFormat', \n",
    "    path + 'New_ESP_Sereve.txt',\n",
    "    path + 'Gene_Name_Length.txt',\n",
    "    rand_seed = 10\n",
    ")"
   ]
  },
  {
   "cell_type": "code",
   "execution_count": 4,
   "metadata": {
    "scrolled": true
   },
   "outputs": [],
   "source": [
    "r = MAGI.cluster(\n",
    "    path + 'StringNew_HPRD.txt', path + 'GeneCoExpresion_ID.txt', \n",
    "    path + 'adj1.csv.Tab.BinaryFormat', 10, 5, 15, 0.3\n",
    ")"
   ]
  },
  {
   "cell_type": "code",
   "execution_count": 15,
   "metadata": {},
   "outputs": [
    {
     "data": {
      "text/plain": [
       "65033"
      ]
     },
     "execution_count": 15,
     "metadata": {},
     "output_type": "execute_result"
    }
   ],
   "source": [
    "round(float(r[0].genes['CTNNB1']['weightCases']) * 10000)"
   ]
  }
 ],
 "metadata": {
  "kernelspec": {
   "display_name": "Python 3",
   "language": "python",
   "name": "python3"
  },
  "language_info": {
   "codemirror_mode": {
    "name": "ipython",
    "version": 3
   },
   "file_extension": ".py",
   "mimetype": "text/x-python",
   "name": "python",
   "nbconvert_exporter": "python",
   "pygments_lexer": "ipython3",
   "version": "3.5.0"
  }
 },
 "nbformat": 4,
 "nbformat_minor": 1
}
