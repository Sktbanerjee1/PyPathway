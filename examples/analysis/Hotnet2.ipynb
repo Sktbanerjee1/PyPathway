{
 "cells": [
  {
   "cell_type": "code",
   "execution_count": 1,
   "metadata": {
    "collapsed": true
   },
   "outputs": [],
   "source": [
    "%load_ext autoreload\n",
    "%autoreload 2"
   ]
  },
  {
   "cell_type": "code",
   "execution_count": 2,
   "metadata": {
    "collapsed": true
   },
   "outputs": [],
   "source": [
    "import sys"
   ]
  },
  {
   "cell_type": "code",
   "execution_count": 3,
   "metadata": {
    "collapsed": true
   },
   "outputs": [],
   "source": [
    "sys.path.append(\"/Users/yangxu/PyPathway\")"
   ]
  },
  {
   "cell_type": "code",
   "execution_count": 4,
   "metadata": {
    "collapsed": true
   },
   "outputs": [],
   "source": [
    "from pypathway import Hotnet2"
   ]
  },
  {
   "cell_type": "code",
   "execution_count": 5,
   "metadata": {
    "collapsed": true
   },
   "outputs": [],
   "source": [
    "path = \"/Volumes/Data/hotnet2/paper/\""
   ]
  },
  {
   "cell_type": "code",
   "execution_count": 6,
   "metadata": {
    "scrolled": false
   },
   "outputs": [
    {
     "name": "stdout",
     "output_type": "stream",
     "text": [
      "WARNING: Could not import either C module; falling back to NumPy for similarity matrix creation.\n",
      "WARNING: Could not import either C module; falling back to NumPy for similarity matrix creation.\n",
      "fast node swap\n",
      "{'num_permutations': 8, 'output_dir': 'data/networks/hint+hi2012_2', 'Q': 115, 'beta': 0.4, 'prefix': 'hint+hi2012', 'gene_index_file': '/Volumes/Data/hotnet2/paper/data/networks/hint+hi2012/hint+hi2012_index_gene', 'network_name': 'hint+hi2012', 'cores': -1, 'edgelist_file': '/Volumes/Data/hotnet2/paper/data/networks/hint+hi2012/hint+hi2012_edge_list', 'index_file_start_index': 1, 'only_permutations': False, 'permutation_start_index': 1}\n",
      "WARNING: Output directory is not empty. Any conflicting files will be overwritten. (Ctrl-c to cancel).\n",
      "\n",
      "Creating PPR matrix for real network\n",
      "--------------------------------------\n",
      "dict_keys([b'nodes', b'network_name', b'PPR', b'edges', b'beta'])\n",
      "type of key <class 'bytes'>\n",
      "type of key <class 'bytes'>\n",
      "type of key <class 'bytes'>\n",
      "type of key <class 'bytes'>\n",
      "type of key <class 'bytes'>\n",
      "\n",
      "Creating edge lists for permuted networks\n",
      "-------------------------------------------\n",
      "* Loading edge list..\n",
      "\t- 40705 edges among 9859 nodes.\n",
      "\t- No. swaps to attempt = 4681075.0\n",
      "* Creating permuted networks...\n",
      "fast node swap\n",
      "fast node swap\n",
      "fast node swap\n",
      "fast node swap\n",
      "fast node swap\n",
      "fast node swap\n",
      "fast node swap\n",
      "fast node swap\n",
      "1/8\n",
      "* Avg. No. Swaps Made: 4681075\n",
      "\n",
      "Creating PPR matrices for permuted networks\n",
      "---------------------------------------------\n",
      "1/8dict_keys([b'nodes', b'network_name', b'PPR', b'edges', b'beta'])\n",
      "type of key <class 'bytes'>\n",
      "type of key <class 'bytes'>\n",
      "type of key <class 'bytes'>\n",
      "type of key <class 'bytes'>\n",
      "type of key <class 'bytes'>\n",
      "2/8dict_keys([b'nodes', b'network_name', b'PPR', b'edges', b'beta'])\n",
      "type of key <class 'bytes'>\n",
      "type of key <class 'bytes'>\n",
      "type of key <class 'bytes'>\n",
      "type of key <class 'bytes'>\n",
      "type of key <class 'bytes'>\n",
      "3/8dict_keys([b'nodes', b'network_name', b'PPR', b'edges', b'beta'])\n",
      "type of key <class 'bytes'>\n",
      "type of key <class 'bytes'>\n",
      "type of key <class 'bytes'>\n",
      "type of key <class 'bytes'>\n",
      "type of key <class 'bytes'>\n",
      "4/8dict_keys([b'nodes', b'network_name', b'PPR', b'edges', b'beta'])\n",
      "type of key <class 'bytes'>\n",
      "type of key <class 'bytes'>\n",
      "type of key <class 'bytes'>\n",
      "type of key <class 'bytes'>\n",
      "type of key <class 'bytes'>\n",
      "5/8dict_keys([b'nodes', b'network_name', b'PPR', b'edges', b'beta'])\n",
      "type of key <class 'bytes'>\n",
      "type of key <class 'bytes'>\n",
      "type of key <class 'bytes'>\n",
      "type of key <class 'bytes'>\n",
      "type of key <class 'bytes'>\n",
      "6/8dict_keys([b'nodes', b'network_name', b'PPR', b'edges', b'beta'])\n",
      "type of key <class 'bytes'>\n",
      "type of key <class 'bytes'>\n",
      "type of key <class 'bytes'>\n",
      "type of key <class 'bytes'>\n",
      "type of key <class 'bytes'>\n",
      "7/8dict_keys([b'nodes', b'network_name', b'PPR', b'edges', b'beta'])\n",
      "type of key <class 'bytes'>\n",
      "type of key <class 'bytes'>\n",
      "type of key <class 'bytes'>\n",
      "type of key <class 'bytes'>\n",
      "type of key <class 'bytes'>\n",
      "8/8dict_keys([b'nodes', b'network_name', b'PPR', b'edges', b'beta'])\n",
      "type of key <class 'bytes'>\n",
      "type of key <class 'bytes'>\n",
      "type of key <class 'bytes'>\n",
      "type of key <class 'bytes'>\n",
      "type of key <class 'bytes'>\n"
     ]
    }
   ],
   "source": [
    "Hotnet2.make_network(edgelist_file=path + \"data/networks/hint+hi2012/hint+hi2012_edge_list\",\n",
    "                     gene_index_file=path + \"data/networks/hint+hi2012/hint+hi2012_index_gene\",\n",
    "                     network_name='hint+hi2012', prefix='hint+hi2012', beta=0.4,\n",
    "                     output_dir='data/networks/hint+hi2012_2', num_permutations=8)"
   ]
  },
  {
   "cell_type": "code",
   "execution_count": 7,
   "metadata": {
    "collapsed": true
   },
   "outputs": [],
   "source": [
    "# make heat"
   ]
  },
  {
   "cell_type": "code",
   "execution_count": 11,
   "metadata": {},
   "outputs": [
    {
     "name": "stdout",
     "output_type": "stream",
     "text": [
      "* Loading heat scores for 11565 genes\n"
     ]
    }
   ],
   "source": [
    "Hotnet2.make_heat(type='scores', heat_file=path + 'data/heats/pan12.gene2freq.txt',\n",
    "                  output_file='data/heats/pan12.gene2freq.json', name='pan12.freq')"
   ]
  },
  {
   "cell_type": "code",
   "execution_count": null,
   "metadata": {
    "scrolled": false
   },
   "outputs": [
    {
     "name": "stdout",
     "output_type": "stream",
     "text": [
      "{'display_name_file': None, 'output_directory': 'result', 'network_files': ['/Volumes/Data/hotnet2/paper/data/networks/hint+hi2012/hint+hi2012_ppr_0.4.h5', '/Volumes/Data/hotnet2/paper/data/networks/irefindex9/irefindex9_ppr_0.45.h5', '/Volumes/Data/hotnet2/paper/data/networks/multinet/multinet_ppr_0.5.h5'], 'consensus_permutations': 0, 'permuted_network_paths': ['/Volumes/Data/hotnet2/paper/data/networks/hint+hi2012/permuted/hint+hi2012_ppr_0.4_##NUM##.h5', '/Volumes/Data/hotnet2/paper/data/networks/irefindex9/permuted/irefindex9_ppr_0.45_##NUM##.h5', '/Volumes/Data/hotnet2/paper/data/networks/multinet/permuted/multinet_ppr_0.5_##NUM##.h5'], 'heat_files': ['/Volumes/Data/hotnet2/paper/data/heats/pan12.gene2freq.json', '/Volumes/Data/hotnet2/paper/data/heats/pan12.gene2mutsig.json'], 'output_hierarchy': False, 'num_cores': -1, 'heat_permutations': 100, 'display_score_file': None, 'verbose': 1, 'deltas': None, 'min_cc_size': 2, 'display_score_fil': None, 'network_permutations': 100}\n",
      "* Running HotNet2 in consensus mode...\n",
      "\t- hint+hi2012 pan12.freq\n"
     ]
    }
   ],
   "source": [
    "# run hotnet2\n",
    "Hotnet2.run_hotnet2(network_files=[path + 'data/networks/hint+hi2012/hint+hi2012_ppr_0.4.h5',\n",
    "                                  path + 'data/networks/irefindex9/irefindex9_ppr_0.45.h5',\n",
    "                                  path + 'data/networks/multinet/multinet_ppr_0.5.h5'],\n",
    "                   permuted_network_paths=[path + 'data/networks/hint+hi2012/permuted/hint+hi2012_ppr_0.4_##NUM##.h5',\n",
    "                                          path + 'data/networks/irefindex9/permuted/irefindex9_ppr_0.45_##NUM##.h5',\n",
    "                                          path + 'data/networks/multinet/permuted/multinet_ppr_0.5_##NUM##.h5'],\n",
    "                   heat_files=[path + 'data/heats/pan12.gene2freq.json',\n",
    "                              path + 'data/heats/pan12.gene2mutsig.json'],\n",
    "                   output_directory='result')"
   ]
  },
  {
   "cell_type": "code",
   "execution_count": 28,
   "metadata": {
    "collapsed": true
   },
   "outputs": [],
   "source": [
    "import numpy as np"
   ]
  },
  {
   "cell_type": "code",
   "execution_count": 29,
   "metadata": {},
   "outputs": [
    {
     "data": {
      "text/plain": [
       "str"
      ]
     },
     "execution_count": 29,
     "metadata": {},
     "output_type": "execute_result"
    }
   ],
   "source": [
    "a = '123'\n",
    "type(a)"
   ]
  },
  {
   "cell_type": "code",
   "execution_count": 32,
   "metadata": {
    "collapsed": true
   },
   "outputs": [],
   "source": [
    "b = a.encode(\"utf8\")"
   ]
  },
  {
   "cell_type": "code",
   "execution_count": 36,
   "metadata": {
    "collapsed": true
   },
   "outputs": [],
   "source": [
    "c = np.ndarray(shape=(2,2), dtype=float, order='F')"
   ]
  },
  {
   "cell_type": "code",
   "execution_count": null,
   "metadata": {
    "collapsed": true
   },
   "outputs": [],
   "source": []
  }
 ],
 "metadata": {
  "kernelspec": {
   "display_name": "Python 3",
   "language": "python",
   "name": "python3"
  },
  "language_info": {
   "codemirror_mode": {
    "name": "ipython",
    "version": 3
   },
   "file_extension": ".py",
   "mimetype": "text/x-python",
   "name": "python",
   "nbconvert_exporter": "python",
   "pygments_lexer": "ipython3",
   "version": "3.5.2"
  }
 },
 "nbformat": 4,
 "nbformat_minor": 2
}
