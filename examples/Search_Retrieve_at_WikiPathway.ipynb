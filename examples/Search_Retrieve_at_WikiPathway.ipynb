{
 "cells": [
  {
   "cell_type": "code",
   "execution_count": 1,
   "metadata": {
    "collapsed": true
   },
   "outputs": [],
   "source": [
    "# Note: Use this example while your have stable internet connection to WikiPathway. \n",
    "\n",
    "from pypathway import PublicDatabase as PB"
   ]
  },
  {
   "cell_type": "code",
   "execution_count": 9,
   "metadata": {
    "collapsed": false,
    "scrolled": false
   },
   "outputs": [
    {
     "data": {
      "text/plain": [
       "[\n",
       " id: WP2593\n",
       " name: JAK/STAT\n",
       " species: Homo sapiens\n",
       " revision: 86961\n",
       " hasData: False\n",
       " score: {u'0': u'1.3057919'}, \n",
       " id: WP2532\n",
       " name: JAK-STAT pathway\n",
       " species: Anopheles gambiae\n",
       " revision: 86960\n",
       " hasData: False\n",
       " score: {u'0': u'0.95219934'}, \n",
       " id: WP3856\n",
       " name: Toll, IMD, JAK/STAT Pathways for Immune Response to Pathogens\n",
       " species: Anopheles gambiae\n",
       " revision: 90118\n",
       " hasData: False\n",
       " score: {u'0': u'0.58384734'}, \n",
       " id: WP3830\n",
       " name: Toll, IMD, JAK/STAT Pathways for Immune Response to Pathogens\n",
       " species: Drosophila melanogaster\n",
       " revision: 90119\n",
       " hasData: False\n",
       " score: {u'0': u'0.55598325'}, \n",
       " id: WP3200\n",
       " name: PDGF Pathway\n",
       " species: Bos taurus\n",
       " revision: 80787\n",
       " hasData: False\n",
       " score: {u'0': u'0.23108545'}, \n",
       " id: WP2526\n",
       " name: PDGF Pathway\n",
       " species: Homo sapiens\n",
       " revision: 82681\n",
       " hasData: False\n",
       " score: {u'0': u'0.23108545'}, \n",
       " id: WP585\n",
       " name: Interferon type I signaling pathways\n",
       " species: Homo sapiens\n",
       " revision: 85198\n",
       " hasData: False\n",
       " score: {u'0': u'0.19807324'}, \n",
       " id: WP3213\n",
       " name: Interferon type I signaling pathways\n",
       " species: Bos taurus\n",
       " revision: 85346\n",
       " hasData: False\n",
       " score: {u'0': u'0.19807324'}, \n",
       " id: WP619\n",
       " name: Type II interferon signaling (IFNG)\n",
       " species: Homo sapiens\n",
       " revision: 71168\n",
       " hasData: False\n",
       " score: {u'0': u'0.16506104'}, \n",
       " id: WP1017\n",
       " name: Type II interferon signaling (IFNG)\n",
       " species: Bos taurus\n",
       " revision: 86918\n",
       " hasData: False\n",
       " score: {u'0': u'0.16506104'}, \n",
       " id: WP2203\n",
       " name: Thymic Stromal LymphoPoietin (TSLP) Signaling Pathway\n",
       " species: Homo sapiens\n",
       " revision: 86071\n",
       " hasData: False\n",
       " score: {u'0': u'0.13204883'}, \n",
       " id: WP2113\n",
       " name: Type III interferon signaling\n",
       " species: Homo sapiens\n",
       " revision: 86876\n",
       " hasData: False\n",
       " score: {u'0': u'0.13204883'}, \n",
       " id: WP3173\n",
       " name: Type III interferon signaling\n",
       " species: Bos taurus\n",
       " revision: 86896\n",
       " hasData: False\n",
       " score: {u'0': u'0.13204883'}, \n",
       " id: WP3191\n",
       " name: TSLP Signaling Pathway\n",
       " species: Bos taurus\n",
       " revision: 85045\n",
       " hasData: False\n",
       " score: {u'0': u'0.13204883'}, \n",
       " id: WP3660\n",
       " name: Humoral Immune Response to Fungal and Bacterial Pathogens\n",
       " species: Drosophila melanogaster\n",
       " revision: 90080\n",
       " hasData: False\n",
       " score: {u'0': u'0.05630581'}, \n",
       " id: WP1271\n",
       " name: Toll-like receptor signaling pathway\n",
       " species: Mus musculus\n",
       " revision: 87795\n",
       " hasData: False\n",
       " score: {u'0': u'0.028152905'}, \n",
       " id: WP75\n",
       " name: Toll-like Receptor Signaling Pathway\n",
       " species: Homo sapiens\n",
       " revision: 83867\n",
       " hasData: False\n",
       " score: {u'0': u'0.028152905'}, \n",
       " id: WP949\n",
       " name: Toll-like receptor signaling pathway\n",
       " species: Pan troglodytes\n",
       " revision: 87798\n",
       " hasData: False\n",
       " score: {u'0': u'0.028152905'}, \n",
       " id: WP1183\n",
       " name: Toll-like receptor signaling pathway\n",
       " species: Canis familiaris\n",
       " revision: 87794\n",
       " hasData: False\n",
       " score: {u'0': u'0.028152905'}, \n",
       " id: WP1309\n",
       " name: Toll-like receptor signaling pathway\n",
       " species: Rattus norvegicus\n",
       " revision: 72183\n",
       " hasData: False\n",
       " score: {u'0': u'0.028152905'}, \n",
       " id: WP1067\n",
       " name: Toll-like receptor signaling pathway\n",
       " species: Bos taurus\n",
       " revision: 80730\n",
       " hasData: False\n",
       " score: {u'0': u'0.028152905'}, \n",
       " id: WP1384\n",
       " name: Toll-like receptor signaling pathway\n",
       " species: Danio rerio\n",
       " revision: 87796\n",
       " hasData: False\n",
       " score: {u'0': u'0.028152905'}, \n",
       " id: WP1449\n",
       " name: Regulation of toll-like receptor signaling pathway\n",
       " species: Homo sapiens\n",
       " revision: 81172\n",
       " hasData: False\n",
       " score: {u'0': u'0.024131063'}, \n",
       " id: WP2841\n",
       " name: Focal Adhesion-PI3K-Akt-mTOR-signaling pathway\n",
       " species: Mus musculus\n",
       " revision: 89989\n",
       " hasData: False\n",
       " score: {u'0': u'0.024131063'}, \n",
       " id: WP3132\n",
       " name: Regulation of toll-like receptor signaling pathway\n",
       " species: Bos taurus\n",
       " revision: 80689\n",
       " hasData: False\n",
       " score: {u'0': u'0.024131063'}, \n",
       " id: WP2292\n",
       " name: Chemokine signaling pathway\n",
       " species: Mus musculus\n",
       " revision: 89521\n",
       " hasData: False\n",
       " score: {u'0': u'0.02010922'}]"
      ]
     },
     "execution_count": 9,
     "metadata": {},
     "output_type": "execute_result"
    }
   ],
   "source": [
    "# search in WikiPathway\n",
    "res = PB.search_wp(\"jak\")\n",
    "res"
   ]
  },
  {
   "cell_type": "code",
   "execution_count": 10,
   "metadata": {
    "collapsed": false
   },
   "outputs": [
    {
     "data": {
      "text/plain": [
       "class: Pathway, props: [xmlns: http://pathvisio.org/GPML/2013a ,Organism: Homo sapiens ,Name: JAK/STAT ,Author: PRAKAMYA GUPTA ], value: None, database ID: {}"
      ]
     },
     "execution_count": 10,
     "metadata": {},
     "output_type": "execute_result"
    }
   ],
   "source": [
    "# retrieve and parse the pathway data.\n",
    "path = res[0].load()\n",
    "path"
   ]
  },
  {
   "cell_type": "code",
   "execution_count": 11,
   "metadata": {
    "collapsed": false
   },
   "outputs": [
    {
     "data": {
      "text/html": [
       "<div id=\"box147703846604\" style=\"width: 100%; height: 0px;background-color: #ffffff\">\n",
       "    <script>\n",
       "        var box = $(\"#box147703846604\");\n",
       "        var father = box.parent();\n",
       "//        var grandfather = father.parent();\n",
       "        var thirdfather = father.parent().parent().parent();\n",
       "        thirdfather.children(\".prompt\").remove();\n",
       "        father.parent().children(\".prompt\").remove();\n",
       "        father.css(\"max-width\", \"100%\");\n",
       "        box.css(\"margin-left\", \"5px\");\n",
       "//        box.css(\"margin-top\", \"10px\");\n",
       "        var target = document.getElementById(\"box147703846604\");\n",
       "//        var w = target.offsetWidth;\n",
       "        var w = thirdfather.outerWidth();\n",
       "        console.log(w);\n",
       "        target.style.height = w * 0.7 + \"px\";\n",
       "        box.append($(\"<iframe width='\" + (parseInt(w) - 15).toString() + \"'\" +\n",
       "                \" height='\" + w * 0.7 + \"' src='assets/GPML/gpml_147703846604.html' \" +\n",
       "                \"frameborder='0'></iframe>\"))\n",
       "    </script>\n",
       "</div>"
      ],
      "text/plain": [
       "<IPython.core.display.HTML object>"
      ]
     },
     "execution_count": 11,
     "metadata": {},
     "output_type": "execute_result"
    }
   ],
   "source": [
    "# draw it\n",
    "path.draw()"
   ]
  },
  {
   "cell_type": "code",
   "execution_count": 12,
   "metadata": {
    "collapsed": false
   },
   "outputs": [
    {
     "data": {
      "text/html": [
       "<div id=\"box147703849184\" style=\"width: 100%; height: 0px;background-color: #ffffff\">\n",
       "    <script>\n",
       "        var box = $(\"#box147703849184\");\n",
       "        var father = box.parent();\n",
       "//        var grandfather = father.parent();\n",
       "        var thirdfather = father.parent().parent().parent();\n",
       "        thirdfather.children(\".prompt\").remove();\n",
       "        father.parent().children(\".prompt\").remove();\n",
       "        father.css(\"max-width\", \"100%\");\n",
       "        box.css(\"margin-left\", \"5px\");\n",
       "//        box.css(\"margin-top\", \"10px\");\n",
       "        var target = document.getElementById(\"box147703849184\");\n",
       "//        var w = target.offsetWidth;\n",
       "        var w = thirdfather.outerWidth();\n",
       "        console.log(w);\n",
       "        target.style.height = w * 0.7 + \"px\";\n",
       "        box.append($(\"<iframe width='\" + (parseInt(w) - 15).toString() + \"'\" +\n",
       "                \" height='\" + w * 0.7 + \"' src='assets/GPML/gpml_147703849184.html' \" +\n",
       "                \"frameborder='0'></iframe>\"))\n",
       "    </script>\n",
       "</div>"
      ],
      "text/plain": [
       "<IPython.core.display.HTML object>"
      ]
     },
     "execution_count": 12,
     "metadata": {},
     "output_type": "execute_result"
    }
   ],
   "source": [
    "# quicker way\n",
    "PB.search_wp(\"jak\")[0].load().draw()"
   ]
  }
 ],
 "metadata": {
  "kernelspec": {
   "display_name": "Python 2",
   "language": "python",
   "name": "python2"
  },
  "language_info": {
   "codemirror_mode": {
    "name": "ipython",
    "version": 2
   },
   "file_extension": ".py",
   "mimetype": "text/x-python",
   "name": "python",
   "nbconvert_exporter": "python",
   "pygments_lexer": "ipython2",
   "version": "2.7.10"
  }
 },
 "nbformat": 4,
 "nbformat_minor": 1
}
