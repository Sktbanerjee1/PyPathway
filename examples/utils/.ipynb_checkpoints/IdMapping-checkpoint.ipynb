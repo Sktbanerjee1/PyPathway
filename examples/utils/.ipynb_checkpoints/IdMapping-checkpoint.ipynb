{
 "cells": [
  {
   "cell_type": "markdown",
   "metadata": {},
   "source": [
    "## IdMapping\n",
    "the id convertor between different database"
   ]
  },
  {
   "cell_type": "code",
   "execution_count": 1,
   "metadata": {
    "collapsed": true
   },
   "outputs": [],
   "source": [
    "import sys\n",
    "sys.path.append(\"/Users/yangxu/PyPathway\")"
   ]
  },
  {
   "cell_type": "code",
   "execution_count": 2,
   "metadata": {
    "collapsed": true
   },
   "outputs": [],
   "source": [
    "from pynet import IdMapping, ColorectalCancer"
   ]
  },
  {
   "cell_type": "markdown",
   "metadata": {},
   "source": [
    "### Species and Database support\n",
    "* In the table below, every element in a list(species) stand for same species (e.m Hs == hsa == 9606)\n",
    "* The database is downloaded from www.bioconductor.org\n",
    "* every database takes 80~200M disk space."
   ]
  },
  {
   "cell_type": "code",
   "execution_count": 4,
   "metadata": {},
   "outputs": [
    {
     "data": {
      "text/plain": [
       "[['anopheles', 'Anopheles gambiae', 'Ag', 'aga', 'anoGam', '7165'],\n",
       " ['bovine', 'Bos taurus', 'Bt', 'bta', 'bosTau', '9913'],\n",
       " ['canine', 'Canis familiaris', 'Cf', 'cfa', 'canFam', '9615'],\n",
       " ['chicken', 'Gallus gallus', 'Gg', 'gga', 'galGal', '9031'],\n",
       " ['chimp', 'Pan troglodytes', 'Pt', 'ptr', 'PanTro', '9598'],\n",
       " ['ecoliK12',\n",
       "  'Escherichia coli K12',\n",
       "  'EcK12',\n",
       "  'eco',\n",
       "  None,\n",
       "  '562,83333,511145'],\n",
       " ['ecoliSakai', 'Escherichia coli Sakai', 'EcSakai', 'ecs', None, '83334'],\n",
       " ['fly', 'Drosophila melanogaster', 'Dm', 'dme', 'dm', '7227'],\n",
       " ['human', 'Homo sapiens', 'Hs', 'hsa', 'hg', '9606'],\n",
       " ['mouse', 'Mus musculus', 'Mm', 'mmu', 'mm', '10090'],\n",
       " ['pig', 'Sus scrofa', 'Ss', 'ssc', 'susScr', '9823'],\n",
       " ['rat', 'Rattus norvegicus', 'Rn', 'rno', 'rn', '10116'],\n",
       " ['rhesus', 'Macaca mulatta', 'Mmu', 'mcc', 'rheMac', '9544'],\n",
       " ['worm', 'Caenorhabditis elegans', 'Ce', 'cel', 'ce', '6239'],\n",
       " ['xenopus', 'Xenopus laevis', 'Xl', 'xla', 'NA', '8355'],\n",
       " ['yeast', 'Saccharomyces cerevisiae', 'Sc', 'sce', 'sacCer', '4932,559292'],\n",
       " ['zebrafish', 'Danio rerio', 'Dr', 'dre', 'danRer', '7955']]"
      ]
     },
     "execution_count": 4,
     "metadata": {},
     "output_type": "execute_result"
    }
   ],
   "source": [
    "IdMapping.SPECIES"
   ]
  },
  {
   "cell_type": "markdown",
   "metadata": {},
   "source": [
    "### Idtypes\n",
    "The idtype supports"
   ]
  },
  {
   "cell_type": "code",
   "execution_count": 7,
   "metadata": {},
   "outputs": [
    {
     "data": {
      "text/plain": [
       "['ENSEMBLTRANS',\n",
       " 'ONTOLOGY',\n",
       " 'MAP',\n",
       " 'CHR',\n",
       " 'PFAM',\n",
       " 'ALIAS2PROBE',\n",
       " 'CHRLOCEND',\n",
       " 'GO',\n",
       " 'IPI',\n",
       " 'SYMBOL',\n",
       " 'ACCNUM',\n",
       " 'REFSEQ',\n",
       " 'GENENAME',\n",
       " 'ALIAS2EG',\n",
       " 'PMID',\n",
       " 'ONTOLOGYALL',\n",
       " 'ENZYME',\n",
       " 'GOALL',\n",
       " 'EVIDENCEALL',\n",
       " 'EVIDENCE',\n",
       " 'CHRLOCCHR',\n",
       " 'UNIPROT',\n",
       " 'PROSITE',\n",
       " 'CHRLOC',\n",
       " 'PATH',\n",
       " 'ENSEMBLPROT',\n",
       " 'ENTREZID',\n",
       " 'UNIGENE',\n",
       " 'ALIAS',\n",
       " 'ENSEMBL']"
      ]
     },
     "execution_count": 7,
     "metadata": {},
     "output_type": "execute_result"
    }
   ],
   "source": [
    "list(IdMapping.POSSIBLE_KEY.keys())"
   ]
  },
  {
   "cell_type": "markdown",
   "metadata": {},
   "source": [
    "### Example\n",
    "convert `ENTREZID` to `SYMBOL`"
   ]
  },
  {
   "cell_type": "code",
   "execution_count": 9,
   "metadata": {
    "collapsed": true
   },
   "outputs": [],
   "source": [
    "# list entreid from dataset\n",
    "c = ColorectalCancer()"
   ]
  },
  {
   "cell_type": "code",
   "execution_count": 10,
   "metadata": {},
   "outputs": [
    {
     "data": {
      "text/plain": [
       "[2, 8195, 6274, 147463, 90120, 9, 10, 12, 14, 16]"
      ]
     },
     "execution_count": 10,
     "metadata": {},
     "output_type": "execute_result"
    }
   ],
   "source": [
    "c.deg_list[:10]"
   ]
  },
  {
   "cell_type": "code",
   "execution_count": 11,
   "metadata": {},
   "outputs": [
    {
     "data": {
      "text/plain": [
       "[[2, ['A2M']],\n",
       " [8195, ['MKKS']],\n",
       " [6274, ['S100A3']],\n",
       " [147463, ['ANKRD29']],\n",
       " [90120, ['TMEM250']],\n",
       " [9, ['NAT1']],\n",
       " [10, ['NAT2']],\n",
       " [12, ['SERPINA3']],\n",
       " [14, ['AAMP']],\n",
       " [16, ['AARS']]]"
      ]
     },
     "execution_count": 11,
     "metadata": {},
     "output_type": "execute_result"
    }
   ],
   "source": [
    "IdMapping.convert(c.deg_list[:10], source=\"ENTREZID\", target=\"SYMBOL\", organism='hsa')"
   ]
  },
  {
   "cell_type": "markdown",
   "metadata": {},
   "source": [
    "### Note\n",
    "if there are many corresponding target id, the second element in return list will have several element.\n",
    "\n",
    "for example: \n",
    "* if source A, target B, C: [[A, [B, C]]...]\n",
    "* if source A, and no corresponding target: [[A, [None]]]"
   ]
  },
  {
   "cell_type": "markdown",
   "metadata": {},
   "source": [
    "### convert to dict\n",
    "same as convert, but returns a dict object. if source id has not coresponding target id, this source id will not exist in dict"
   ]
  },
  {
   "cell_type": "code",
   "execution_count": 12,
   "metadata": {},
   "outputs": [
    {
     "data": {
      "text/plain": [
       "{2: ['A2M'],\n",
       " 9: ['NAT1'],\n",
       " 10: ['NAT2'],\n",
       " 12: ['SERPINA3'],\n",
       " 14: ['AAMP'],\n",
       " 16: ['AARS'],\n",
       " 6274: ['S100A3'],\n",
       " 8195: ['MKKS'],\n",
       " 90120: ['TMEM250'],\n",
       " 147463: ['ANKRD29']}"
      ]
     },
     "execution_count": 12,
     "metadata": {},
     "output_type": "execute_result"
    }
   ],
   "source": [
    "IdMapping.convert_to_dict(c.deg_list[:10], source=\"ENTREZID\", target=\"SYMBOL\", organism='hsa')"
   ]
  }
 ],
 "metadata": {
  "kernelspec": {
   "display_name": "Python 3",
   "language": "python",
   "name": "python3"
  },
  "language_info": {
   "codemirror_mode": {
    "name": "ipython",
    "version": 3
   },
   "file_extension": ".py",
   "mimetype": "text/x-python",
   "name": "python",
   "nbconvert_exporter": "python",
   "pygments_lexer": "ipython3",
   "version": "3.5.2"
  }
 },
 "nbformat": 4,
 "nbformat_minor": 2
}
