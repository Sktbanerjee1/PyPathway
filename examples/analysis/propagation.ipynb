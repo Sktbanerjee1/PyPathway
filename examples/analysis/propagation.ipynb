{
 "cells": [
  {
   "cell_type": "markdown",
   "metadata": {
    "collapsed": true
   },
   "source": [
    "## The network propagation algorithm: random walk, random walk with restart, diffusion kernel\n",
    "the algorithm is describle in review:\n",
    "> Network propagation: a universal amplifier of genetic associations"
   ]
  },
  {
   "cell_type": "code",
   "execution_count": 1,
   "metadata": {},
   "outputs": [],
   "source": [
    "import numpy as np\n",
    "import networkx as nx\n",
    "from pypathway import random_walk, random_walk_with_restart, diffusion_kernel"
   ]
  },
  {
   "cell_type": "code",
   "execution_count": 2,
   "metadata": {},
   "outputs": [],
   "source": [
    "# init a graph\n",
    "G = nx.Graph([[1, 2], [2, 3], [3, 5], [2, 5], [1, 4], [4, 5]])"
   ]
  },
  {
   "cell_type": "code",
   "execution_count": 3,
   "metadata": {},
   "outputs": [],
   "source": [
    "# heats\n",
    "h = {1: 0, 2: 1, 3: 0, 4: 1, 5: 0}"
   ]
  },
  {
   "cell_type": "code",
   "execution_count": 4,
   "metadata": {},
   "outputs": [
    {
     "data": {
      "text/plain": [
       "{1: {'heat': 0.33333342635070995},\n",
       " 2: {'heat': 0.49999990698262153},\n",
       " 3: {'heat': 0.33333333333333254},\n",
       " 4: {'heat': 0.33333324031595524},\n",
       " 5: {'heat': 0.50000009301737625}}"
      ]
     },
     "execution_count": 4,
     "metadata": {},
     "output_type": "execute_result"
    }
   ],
   "source": [
    "# random walk\n",
    "dict(random_walk(G, h).node)"
   ]
  },
  {
   "cell_type": "code",
   "execution_count": 5,
   "metadata": {},
   "outputs": [
    {
     "data": {
      "text/plain": [
       "{1: {'heat': 0.18859903381642515},\n",
       " 2: {'heat': 0.76309178743961337},\n",
       " 3: {'heat': 0.096618357487922746},\n",
       " 4: {'heat': 0.74859903381642512},\n",
       " 5: {'heat': 0.20309178743961354}}"
      ]
     },
     "execution_count": 5,
     "metadata": {},
     "output_type": "execute_result"
    }
   ],
   "source": [
    "# random walk with restart\n",
    "dict(random_walk_with_restart(G, h, rp=0.7, n=-1).node)"
   ]
  },
  {
   "cell_type": "code",
   "execution_count": 6,
   "metadata": {},
   "outputs": [
    {
     "data": {
      "text/plain": [
       "{1: {'heat': 0.41720485133090229},\n",
       " 2: {'heat': 0.39506307105908461},\n",
       " 3: {'heat': 0.30896131580088937},\n",
       " 4: {'heat': 0.49570801546581067},\n",
       " 5: {'heat': 0.38306274634331094}}"
      ]
     },
     "execution_count": 6,
     "metadata": {},
     "output_type": "execute_result"
    }
   ],
   "source": [
    "# heat kernel\n",
    "dict(diffusion_kernel(G, h, rp=0.7, n=100).node)"
   ]
  }
 ],
 "metadata": {
  "kernelspec": {
   "display_name": "Python 3",
   "language": "python",
   "name": "python3"
  },
  "language_info": {
   "codemirror_mode": {
    "name": "ipython",
    "version": 3
   },
   "file_extension": ".py",
   "mimetype": "text/x-python",
   "name": "python",
   "nbconvert_exporter": "python",
   "pygments_lexer": "ipython3",
   "version": "3.5.0"
  }
 },
 "nbformat": 4,
 "nbformat_minor": 2
}
