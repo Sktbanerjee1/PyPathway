{
 "cells": [
  {
   "cell_type": "markdown",
   "metadata": {},
   "source": [
    "# GSEA\n",
    "Implemented in GSEApy\n",
    "> Github: https://github.com/BioNinja/GSEApy"
   ]
  },
  {
   "cell_type": "code",
   "execution_count": 1,
   "metadata": {
    "collapsed": true
   },
   "outputs": [],
   "source": [
    "%load_ext autoreload\n",
    "%autoreload 2"
   ]
  },
  {
   "cell_type": "code",
   "execution_count": 2,
   "metadata": {
    "collapsed": true
   },
   "outputs": [],
   "source": [
    "import sys\n",
    "sys.path.append('/Users/yangxu/PyPathway')\n",
    "from pypathway import GSEA\n",
    "import pandas as pd"
   ]
  },
  {
   "cell_type": "code",
   "execution_count": 3,
   "metadata": {
    "collapsed": true
   },
   "outputs": [],
   "source": [
    "# load the cls file\n",
    "phenoA, phenoB, class_vector = GSEA.parse_class_vector(\"data/GSE4107.cls\")"
   ]
  },
  {
   "cell_type": "code",
   "execution_count": 4,
   "metadata": {
    "collapsed": true,
    "scrolled": true
   },
   "outputs": [],
   "source": [
    "# load the table\n",
    "gene_exp = pd.read_excel(\"data/GSE4107.xlsx\")"
   ]
  },
  {
   "cell_type": "code",
   "execution_count": 5,
   "metadata": {},
   "outputs": [
    {
     "data": {
      "text/plain": [
       "(1000, 23)"
      ]
     },
     "execution_count": 5,
     "metadata": {},
     "output_type": "execute_result"
    }
   ],
   "source": [
    "gene_exp.iloc[:1000].shape"
   ]
  },
  {
   "cell_type": "code",
   "execution_count": 6,
   "metadata": {
    "collapsed": true
   },
   "outputs": [],
   "source": [
    "r = GSEA.run(data=gene_exp.iloc[:1000], gmt=\"KEGG_2016\", cls=class_vector)"
   ]
  },
  {
   "cell_type": "code",
   "execution_count": 10,
   "metadata": {},
   "outputs": [
    {
     "data": {
      "text/html": [
       "<div>\n",
       "<table border=\"1\" class=\"dataframe\">\n",
       "  <thead>\n",
       "    <tr style=\"text-align: right;\">\n",
       "      <th></th>\n",
       "      <th>es</th>\n",
       "      <th>nes</th>\n",
       "      <th>pval</th>\n",
       "      <th>fdr</th>\n",
       "      <th>gene_set_size</th>\n",
       "      <th>matched_size</th>\n",
       "      <th>genes</th>\n",
       "    </tr>\n",
       "    <tr>\n",
       "      <th>Term</th>\n",
       "      <th></th>\n",
       "      <th></th>\n",
       "      <th></th>\n",
       "      <th></th>\n",
       "      <th></th>\n",
       "      <th></th>\n",
       "      <th></th>\n",
       "    </tr>\n",
       "  </thead>\n",
       "  <tbody>\n",
       "    <tr>\n",
       "      <th>Fatty acid degradation_Homo sapiens_hsa00071</th>\n",
       "      <td>-0.659732</td>\n",
       "      <td>-1.858821</td>\n",
       "      <td>0.004211</td>\n",
       "      <td>0.003139</td>\n",
       "      <td>44</td>\n",
       "      <td>30</td>\n",
       "      <td>ADH1B,ACSL6,ACSBG1,ACADL,ADH5,ACSL4,ALDH1B1,AD...</td>\n",
       "    </tr>\n",
       "    <tr>\n",
       "      <th>Valine, leucine and isoleucine degradation_Homo sapiens_hsa00280</th>\n",
       "      <td>-0.836409</td>\n",
       "      <td>-1.861836</td>\n",
       "      <td>0.000000</td>\n",
       "      <td>0.004317</td>\n",
       "      <td>48</td>\n",
       "      <td>18</td>\n",
       "      <td>ALDH1B1,AGXT2,ACAT1,ACSF3,ALDH7A1,ACAA2,ALDH9A...</td>\n",
       "    </tr>\n",
       "    <tr>\n",
       "      <th>Glycerolipid metabolism_Homo sapiens_hsa00561</th>\n",
       "      <td>-0.674209</td>\n",
       "      <td>-1.875021</td>\n",
       "      <td>0.004211</td>\n",
       "      <td>0.007064</td>\n",
       "      <td>59</td>\n",
       "      <td>16</td>\n",
       "      <td>AKR1B1,AGPAT4,AGPAT1,ALDH1B1,AGPAT6,AGK,AKR1A1...</td>\n",
       "    </tr>\n",
       "    <tr>\n",
       "      <th>Peroxisome_Homo sapiens_hsa04146</th>\n",
       "      <td>-0.672436</td>\n",
       "      <td>-1.660622</td>\n",
       "      <td>0.016529</td>\n",
       "      <td>0.023546</td>\n",
       "      <td>83</td>\n",
       "      <td>17</td>\n",
       "      <td>ACSL6,ABCD1,ACSL4,ABCD2,ACSL1,AGXT,ACOX2,ACSL3...</td>\n",
       "    </tr>\n",
       "    <tr>\n",
       "      <th>Glycolysis / Gluconeogenesis_Homo sapiens_hsa00010</th>\n",
       "      <td>-0.541580</td>\n",
       "      <td>-1.661910</td>\n",
       "      <td>0.018036</td>\n",
       "      <td>0.029040</td>\n",
       "      <td>67</td>\n",
       "      <td>23</td>\n",
       "      <td>ADH1B,ALDOC,ADPGK,ADH5,ACSS1,ALDH1B1,ADH7,ALDH...</td>\n",
       "    </tr>\n",
       "  </tbody>\n",
       "</table>\n",
       "</div>"
      ],
      "text/plain": [
       "                                                          es       nes  \\\n",
       "Term                                                                     \n",
       "Fatty acid degradation_Homo sapiens_hsa00071       -0.659732 -1.858821   \n",
       "Valine, leucine and isoleucine degradation_Homo... -0.836409 -1.861836   \n",
       "Glycerolipid metabolism_Homo sapiens_hsa00561      -0.674209 -1.875021   \n",
       "Peroxisome_Homo sapiens_hsa04146                   -0.672436 -1.660622   \n",
       "Glycolysis / Gluconeogenesis_Homo sapiens_hsa00010 -0.541580 -1.661910   \n",
       "\n",
       "                                                        pval       fdr  \\\n",
       "Term                                                                     \n",
       "Fatty acid degradation_Homo sapiens_hsa00071        0.004211  0.003139   \n",
       "Valine, leucine and isoleucine degradation_Homo...  0.000000  0.004317   \n",
       "Glycerolipid metabolism_Homo sapiens_hsa00561       0.004211  0.007064   \n",
       "Peroxisome_Homo sapiens_hsa04146                    0.016529  0.023546   \n",
       "Glycolysis / Gluconeogenesis_Homo sapiens_hsa00010  0.018036  0.029040   \n",
       "\n",
       "                                                    gene_set_size  \\\n",
       "Term                                                                \n",
       "Fatty acid degradation_Homo sapiens_hsa00071                   44   \n",
       "Valine, leucine and isoleucine degradation_Homo...             48   \n",
       "Glycerolipid metabolism_Homo sapiens_hsa00561                  59   \n",
       "Peroxisome_Homo sapiens_hsa04146                               83   \n",
       "Glycolysis / Gluconeogenesis_Homo sapiens_hsa00010             67   \n",
       "\n",
       "                                                    matched_size  \\\n",
       "Term                                                               \n",
       "Fatty acid degradation_Homo sapiens_hsa00071                  30   \n",
       "Valine, leucine and isoleucine degradation_Homo...            18   \n",
       "Glycerolipid metabolism_Homo sapiens_hsa00561                 16   \n",
       "Peroxisome_Homo sapiens_hsa04146                              17   \n",
       "Glycolysis / Gluconeogenesis_Homo sapiens_hsa00010            23   \n",
       "\n",
       "                                                                                                genes  \n",
       "Term                                                                                                   \n",
       "Fatty acid degradation_Homo sapiens_hsa00071        ADH1B,ACSL6,ACSBG1,ACADL,ADH5,ACSL4,ALDH1B1,AD...  \n",
       "Valine, leucine and isoleucine degradation_Homo...  ALDH1B1,AGXT2,ACAT1,ACSF3,ALDH7A1,ACAA2,ALDH9A...  \n",
       "Glycerolipid metabolism_Homo sapiens_hsa00561       AKR1B1,AGPAT4,AGPAT1,ALDH1B1,AGPAT6,AGK,AKR1A1...  \n",
       "Peroxisome_Homo sapiens_hsa04146                    ACSL6,ABCD1,ACSL4,ABCD2,ACSL1,AGXT,ACOX2,ACSL3...  \n",
       "Glycolysis / Gluconeogenesis_Homo sapiens_hsa00010  ADH1B,ALDOC,ADPGK,ADH5,ACSS1,ALDH1B1,ADH7,ALDH...  "
      ]
     },
     "execution_count": 10,
     "metadata": {},
     "output_type": "execute_result"
    }
   ],
   "source": [
    "r.table.head()"
   ]
  },
  {
   "cell_type": "code",
   "execution_count": 7,
   "metadata": {},
   "outputs": [
    {
     "data": {
      "text/html": [
       "<div id=\"box1504409884299411\" style=\"width: 100%; height: 0px;background-color: #ffffff\">\n",
       "    <script>\n",
       "        var box = $(\"#box1504409884299411\");\n",
       "        var father = box.parent();\n",
       "//        var grandfather = father.parent();\n",
       "        var thirdfather = father.parent().parent().parent();\n",
       "        thirdfather.children(\".prompt\").remove();\n",
       "        father.parent().children(\".prompt\").remove();\n",
       "        father.css(\"max-width\", \"100%\");\n",
       "        box.css(\"margin-left\", \"5px\");\n",
       "        var target = document.getElementById(\"box1504409884299411\");\n",
       "//        var w = target.offsetWidth;\n",
       "        var w = thirdfather.outerWidth();\n",
       "        console.log(w);\n",
       "        target.style.height = w * 0.6 + \"px\";\n",
       "        box.append($(\"<iframe width='\" + (parseInt(w) - 15).toString() + \"'\" +\n",
       "                \" height='\" + w * 0.6 + \"' src='assets/plot/plot_1504409884299411.html' \" +\n",
       "                \"frameborder='0'></iframe>\"))\n",
       "    </script>\n",
       "</div>"
      ],
      "text/plain": [
       "<IPython.core.display.HTML object>"
      ]
     },
     "execution_count": 7,
     "metadata": {},
     "output_type": "execute_result"
    }
   ],
   "source": [
    "r.plot()"
   ]
  }
 ],
 "metadata": {
  "kernelspec": {
   "display_name": "Python 3",
   "language": "python",
   "name": "python3"
  },
  "language_info": {
   "codemirror_mode": {
    "name": "ipython",
    "version": 3
   },
   "file_extension": ".py",
   "mimetype": "text/x-python",
   "name": "python",
   "nbconvert_exporter": "python",
   "pygments_lexer": "ipython3",
   "version": "3.5.2"
  }
 },
 "nbformat": 4,
 "nbformat_minor": 2
}
