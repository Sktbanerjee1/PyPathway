{
 "cells": [
  {
   "cell_type": "code",
   "execution_count": 1,
   "metadata": {
    "collapsed": true
   },
   "outputs": [],
   "source": [
    "from pypathway import *"
   ]
  },
  {
   "cell_type": "code",
   "execution_count": 2,
   "metadata": {
    "collapsed": true
   },
   "outputs": [],
   "source": [
    "path = PublicDatabase.search_kegg(\"jak\")[0].load()"
   ]
  },
  {
   "cell_type": "code",
   "execution_count": 3,
   "metadata": {
    "collapsed": false
   },
   "outputs": [
    {
     "data": {
      "text/plain": [
       "class: pathway, name: path:hsa04630, title: Jak-STAT signaling pathway"
      ]
     },
     "execution_count": 3,
     "metadata": {},
     "output_type": "execute_result"
    }
   ],
   "source": [
    "# screen pathway basic information from __repr__ method\n",
    "path"
   ]
  },
  {
   "cell_type": "code",
   "execution_count": 4,
   "metadata": {
    "collapsed": false,
    "scrolled": true
   },
   "outputs": [
    {
     "name": "stdout",
     "output_type": "stream",
     "text": [
      "class: pathway, props: name: path:hsa04630, yrange: 803, title: Jak-STAT signaling pathway, xrange: 1273, image: http://www.kegg.jp/kegg/pathway/hsa/hsa04630.png, number: 04630, org: hsa\n",
      "....class: entry, props: name: hsa:4609, type: gene, id: 1\n",
      "........class: graphics, props: name: MYC, MRTL, MYCC, bHLHe39, c-Myc, height: 17.0, width: 46.0, y: 240.0, x: 900.0, type: rectangle, fgcolor: #000000\n",
      "....class: entry, props: name: hsa:10000 hsa:207 hsa:208, type: gene, id: 2\n",
      "........class: graphics, props: name: AKT3, MPPH, MPPH2, PKB-GAMMA, PKBG, PRKBG, RAC-PK-gamma, RAC-gamma, STK-2..., height: 17.0, width: 46.0, y: 427.0, x: 429.0, type: rectangle, fgcolor: #000000\n",
      "....class: entry, props: name: hsa:23533 hsa:5290 hsa:5291 hsa:5293 hsa:5294 hsa:5295 hsa:5296 hsa:8503, type: gene, id: 3\n",
      "........class: graphics, props: name: PIK3R5, F730038I15Rik, FOAP-2, P101-PI3K, p101..., height: 17.0, width: 46.0, y: 426.0, x: 346.0, type: rectangle, fgcolor: #000000\n",
      "....class: entry, props: name: hsa:6654 hsa:6655, type: gene, id: 4\n",
      "........class: graphics, props: name: SOS1, GF1, GGF1, GINGF, HGF, NS4..., height: 17.0, width: 46.0, y: 361.0, x: 429.0, type: rectangle, fgcolor: #000000\n",
      "....class: entry, props: name: hsa:2885, type: gene, id: 5\n",
      "........class: graphics, props: name: GRB2, ASH, EGFRBP-GRB2, Grb3-3, MST084, MSTP084, NCKAP2, height: 17.0, width: 46.0, y: 369.0, x: 346.0, type: rectangle, fgcolor: #000000\n",
      "....class: entry, props: name: hsa:1154, type: gene, id: 6\n",
      "........class: graphics, props: name: CISH, BACTS2, CIS, CIS-1, G18, SOCS, height: 17.0, width: 46.0, y: 174.0, x: 900.0, type: rectangle, fgcolor: #000000\n",
      "....class: entry, props: name: hsa:596, type: gene, id: 7\n",
      "........class: graphics, props: name: BCL2, Bcl-2, PPP1R50, height: 17.0, width: 46.0, y: 197.0, x: 900.0, type: rectangle, fgcolor: #000000\n",
      "....class: entry, props: name: hsa:122809 hsa:30837 hsa:8651 hsa:8835 hsa:9021 hsa:9306 hsa:9655, type: gene, id: 8\n",
      "........class: graphics, props: name: SOCS4, SOCS7..., height: 17.0, width: 46.0, y: 174.0, x: 948.0, type: rectangle, fgcolor: #000000\n",
      "....class: entry, props: name: hsa:1387 hsa:2033, type: gene, id: 9\n",
      "........class: graphics, props: name: CREBBP, CBP, KAT3A, RSTS..., height: 17.0, width: 46.0, y: 273.0, x: 688.0, type: rectangle, fgcolor: #000000\n",
      "....class: entry, props: name: hsa:10379, type: gene, id: 10\n",
      "........class: graphics, props: name: IRF9, IRF-9, ISGF3, ISGF3G, p48, height: 17.0, width: 46.0, y: 273.0, x: 584.0, type: rectangle, fgcolor: #000000\n",
      "....class: entry, props: name: hsa:6772 hsa:6773 hsa:6774 hsa:6775 hsa:6776 hsa:6777 hsa:6778, type: gene, id: 11\n",
      "........class: graphics, props: name: STAT1, CANDF7, IMD31A, IMD31B, IMD31C, ISGF-3, STAT91..., height: 17.0, width: 46.0, y: 240.0, x: 352.0, type: rectangle, fgcolor: #000000\n",
      "....class: entry, props: name: hsa:10401 hsa:51588 hsa:8554 hsa:9063, type: gene, id: 12\n",
      "........class: graphics, props: name: PIAS3, ZMIZ5..., height: 17.0, width: 46.0, y: 206.0, x: 743.0, type: rectangle, fgcolor: #000000\n",
      "....class: entry, props: name: hsa:5777, type: gene, id: 13\n",
      "........class: graphics, props: name: PTPN6, HCP, HCPH, HPTP1C, PTP-1C, SH-PTP1, SHP-1, SHP-1L, SHP1, height: 17.0, width: 46.0, y: 284.0, x: 272.0, type: rectangle, fgcolor: #000000\n",
      "....class: entry, props: name: hsa:10254 hsa:8027, type: gene, id: 14\n",
      "........class: graphics, props: name: STAM2, Hbp, STAM2A, STAM2B..., height: 17.0, width: 46.0, y: 194.0, x: 284.0, type: rectangle, fgcolor: #000000\n",
      "....class: entry, props: name: hsa:3716 hsa:3717 hsa:3718 hsa:7297, type: gene, id: 15\n",
      "........class: graphics, props: name: JAK1, JAK1A, JAK1B, JTK3..., height: 17.0, width: 46.0, y: 240.0, x: 225.0, type: rectangle, fgcolor: #000000\n",
      "....class: entry, props: name: path:hsa04120, type: map, id: 16\n",
      "........class: graphics, props: name: Ubiquitin mediated proteolysis, height: 34.0, width: 127.0, y: 122.0, x: 385.0, type: roundrectangle, fgcolor: #000000\n",
      "....class: entry, props: name: path:hsa04010, type: map, id: 17\n",
      "........class: graphics, props: name: MAPK signaling pathway, height: 34.0, width: 105.0, y: 332.0, x: 573.0, type: roundrectangle, fgcolor: #000000\n",
      "....class: entry, props: name: path:hsa04151, type: map, id: 18\n",
      "........class: graphics, props: name: PI3K-Akt signaling pathway, height: 34.0, width: 105.0, y: 405.0, x: 590.0, type: roundrectangle, fgcolor: #000000\n",
      "....class: entry, props: name: hsa:2273, type: gene, id: 19\n",
      "........class: graphics, props: name: FHL1, FHL-1, FHL1A, FHL1B, FLH1A, KYOT, RBMX1A, RBMX1B, SLIM, SLIM-1, SLIM1, SLIMMER, XMPMA, height: 17.0, width: 46.0, y: 273.0, x: 746.0, type: rectangle, fgcolor: #000000\n",
      "....class: entry, props: name: path:hsa04060, type: map, id: 20\n",
      "........class: graphics, props: name: Cytokine-cytokine receptor interaction, height: 34.0, width: 107.0, y: 177.0, x: 105.0, type: roundrectangle, fgcolor: #000000\n",
      "....class: entry, props: name: path:hsa04630, type: map, id: 21\n",
      "........class: graphics, props: name: TITLE:Jak-STAT signaling pathway, height: 25.0, width: 248.0, y: 58.0, x: 164.0, type: roundrectangle, fgcolor: #000000\n",
      "....class: entry, props: name: hsa:116379 hsa:1271 hsa:1438 hsa:1439 hsa:1441 hsa:149233 hsa:163702 hsa:2057 hsa:2690 hsa:3454 hsa:3455 hsa:3459 hsa:3460 hsa:3559 hsa:3560 hsa:3561 hsa:3563 hsa:3566 hsa:3568 hsa:3570 hsa:3572 hsa:3575 hsa:3581 hsa:3587 hsa:3588 hsa:3590 hsa:3594 hsa:3595 hsa:3597 hsa:3598 hsa:3601 hsa:3953 hsa:3977 hsa:4352 hsa:50615 hsa:53832 hsa:53833 hsa:5618 hsa:58985 hsa:64109 hsa:9180 hsa:9466, type: gene, id: 22\n",
      "........class: graphics, props: name: IL22RA2, CRF2-10, CRF2-S1, CRF2X, IL-22BP, IL-22R-alpha-2, IL-22RA2, ZCYTOR16..., height: 17.0, width: 46.0, y: 240.0, x: 180.0, type: rectangle, fgcolor: #000000\n",
      "....class: entry, props: name: hsa:5771, type: gene, id: 23\n",
      "........class: graphics, props: name: PTPN2, PTN2, PTPT, TC-PTP, TCELLPTP, TCPTP, height: 17.0, width: 46.0, y: 206.0, x: 689.0, type: rectangle, fgcolor: #000000\n",
      "....class: entry, props: name: hsa:4170, type: gene, id: 24\n",
      "........class: graphics, props: name: MCL1, BCL2L3, EAT, MCL1-ES, MCL1L, MCL1S, Mcl-1, TM, bcl2-L-3, mcl1/EAT, height: 17.0, width: 46.0, y: 197.0, x: 948.0, type: rectangle, fgcolor: #000000\n",
      "....class: entry, props: name: path:hsa04210, type: map, id: 25\n",
      "........class: graphics, props: name: Apoptosis, height: 25.0, width: 87.0, y: 201.0, x: 1135.0, type: roundrectangle, fgcolor: #000000\n",
      "....class: entry, props: name: path:hsa04110, type: map, id: 26\n",
      "........class: graphics, props: name: Cell cycle, height: 25.0, width: 87.0, y: 252.0, x: 1165.0, type: roundrectangle, fgcolor: #000000\n",
      "....class: entry, props: name: hsa:5292, type: gene, id: 27\n",
      "........class: graphics, props: name: PIM1, PIM, height: 17.0, width: 46.0, y: 216.0, x: 948.0, type: rectangle, fgcolor: #000000\n",
      "....class: entry, props: name: hsa:595 hsa:894 hsa:896, type: gene, id: 28\n",
      "........class: graphics, props: name: CCND1, BCL1, D11S287E, PRAD1, U21B31..., height: 17.0, width: 46.0, y: 240.0, x: 948.0, type: rectangle, fgcolor: #000000\n",
      "....class: entry, props: name: hsa:5781, type: gene, id: 29\n",
      "........class: graphics, props: name: PTPN11, BPTP3, CFC, JMML, METCDS, NS1, PTP-1D, PTP2C, SH-PTP2, SH-PTP3, SHP2, height: 17.0, width: 46.0, y: 352.0, x: 346.0, type: rectangle, fgcolor: #000000\n",
      "....class: entry, props: name: hsa:1026, type: gene, id: 30\n",
      "........class: graphics, props: name: CDKN1A, CAP20, CDKN1, CIP1, MDA-6, P21, SDI1, WAF1, p21CIP1, height: 17.0, width: 46.0, y: 259.0, x: 900.0, type: rectangle, fgcolor: #000000\n",
      "....class: entry, props: name: hsa:598, type: gene, id: 31\n",
      "........class: graphics, props: name: BCL2L1, BCL-XL/S, BCL2L, BCLX, Bcl-X, PPP1R52, height: 17.0, width: 46.0, y: 216.0, x: 900.0, type: rectangle, fgcolor: #000000\n",
      "....class: entry, props: name: hsa:3265, type: gene, id: 32\n",
      "........class: graphics, props: name: HRAS, C-BAS/HAS, C-H-RAS, C-HA-RAS1, CTLO, H-RASIDX, HAMSV, HRAS1, RASH1, p21ras, height: 17.0, width: 46.0, y: 361.0, x: 510.0, type: rectangle, fgcolor: #000000\n",
      "....class: entry, props: name: hsa:5894, type: gene, id: 33\n",
      "........class: graphics, props: name: RAF1, CMD1NN, CRAF, NS5, Raf-1, c-Raf, height: 17.0, width: 46.0, y: 361.0, x: 592.0, type: rectangle, fgcolor: #000000\n",
      "....class: entry, props: name: hsa:316, type: gene, id: 34\n",
      "........class: graphics, props: name: AOX1, AO, AOH1, height: 17.0, width: 46.0, y: 278.0, x: 900.0, type: rectangle, fgcolor: #000000\n",
      "....class: entry, props: name: hsa:2475, type: gene, id: 35\n",
      "........class: graphics, props: name: MTOR, FRAP, FRAP1, FRAP2, RAFT1, RAPT1, SKS, height: 17.0, width: 46.0, y: 427.0, x: 510.0, type: rectangle, fgcolor: #000000\n",
      "....class: entry, props: name: hsa:2670, type: gene, id: 36\n",
      "........class: graphics, props: name: GFAP, ALXDRD, height: 17.0, width: 46.0, y: 297.0, x: 900.0, type: rectangle, fgcolor: #000000\n",
      "....class: entry, props: name: hsa:5771, type: gene, id: 37\n",
      "........class: graphics, props: name: PTPN2, PTN2, PTPT, TC-PTP, TCELLPTP, TCPTP, height: 17.0, width: 46.0, y: 284.0, x: 223.0, type: rectangle, fgcolor: #000000\n",
      "....class: entry, props: name: hsa:11009 hsa:1437 hsa:1489 hsa:282616 hsa:282617 hsa:282618 hsa:29949 hsa:338376 hsa:3439 hsa:3440 hsa:3441 hsa:3442 hsa:3443 hsa:3444 hsa:3445 hsa:3446 hsa:3447 hsa:3448 hsa:3449 hsa:3451 hsa:3452 hsa:3456 hsa:3458 hsa:3467 hsa:3558 hsa:3562 hsa:3565 hsa:3567 hsa:3569 hsa:3574 hsa:3578 hsa:3586 hsa:3589 hsa:3592 hsa:3593 hsa:3596 hsa:3600 hsa:3976 hsa:5008 hsa:50604 hsa:50616 hsa:51561 hsa:53342 hsa:56832 hsa:59067 hsa:85480, type: gene, id: 38\n",
      "........class: graphics, props: name: IL24, C49A, FISP, IL10B, MDA7, MOB5, ST16..., height: 17.0, width: 46.0, y: 215.0, x: 99.0, type: rectangle, fgcolor: #000000\n",
      "....class: entry, props: name: hsa:1270 hsa:1440 hsa:1442 hsa:1443 hsa:2056 hsa:2688 hsa:2689 hsa:3952 hsa:5617 hsa:7066, type: gene, id: 39\n",
      "........class: graphics, props: name: CNTF, HCNTF..., height: 17.0, width: 46.0, y: 266.0, x: 99.0, type: rectangle, fgcolor: #000000\n",
      "....class: entry, props: name: hsa:6772 hsa:6773 hsa:6774 hsa:6775 hsa:6776 hsa:6777 hsa:6778, type: gene, id: 40\n",
      "........class: graphics, props: name: STAT1, CANDF7, IMD31A, IMD31B, IMD31C, ISGF-3, STAT91..., height: 17.0, width: 46.0, y: 231.0, x: 454.0, type: rectangle, fgcolor: #000000\n",
      "....class: entry, props: name: hsa:6772 hsa:6773 hsa:6774 hsa:6775 hsa:6776 hsa:6777 hsa:6778, type: gene, id: 41\n",
      "........class: graphics, props: name: STAT1, CANDF7, IMD31A, IMD31B, IMD31C, ISGF-3, STAT91..., height: 17.0, width: 46.0, y: 248.0, x: 454.0, type: rectangle, fgcolor: #000000\n",
      "....class: entry, props: name: undefined, type: group, id: 42\n",
      "........class: component, props: id: 40\n",
      "........class: component, props: id: 41\n",
      "........class: graphics, props: height: 34.0, width: 46.0, y: 239.0, x: 454.0, type: rectangle, fgcolor: #000000\n",
      "....class: entry, props: name: undefined, type: group, id: 43\n",
      "........class: component, props: id: 29\n",
      "........class: component, props: id: 5\n",
      "........class: graphics, props: height: 34.0, width: 46.0, y: 360.0, x: 346.0, type: rectangle, fgcolor: #000000\n",
      "....class: relation, props: entry2: 22, entry1: 38, type: PPrel\n",
      "........class: subtype, props: value: -->, name: activation\n",
      "....class: relation, props: entry2: 22, entry1: 39, type: PPrel\n",
      "........class: subtype, props: value: -->, name: activation\n",
      "....class: relation, props: entry2: 42, entry1: 9, type: PPrel\n",
      "........class: subtype, props: value: -->, name: activation\n",
      "....class: relation, props: entry2: 4, entry1: 43, type: PPrel\n",
      "........class: subtype, props: value: -->, name: activation\n",
      "....class: relation, props: entry2: 32, entry1: 4, type: PPrel\n",
      "........class: subtype, props: value: -->, name: activation\n",
      "....class: relation, props: entry2: 33, entry1: 32, type: PPrel\n",
      "........class: subtype, props: value: -->, name: activation\n",
      "....class: relation, props: entry2: 11, entry1: 15, type: PPrel\n",
      "........class: subtype, props: value: -->, name: activation\n",
      "........class: subtype, props: value: +p, name: phosphorylation\n",
      "....class: relation, props: entry2: 29, entry1: 15, type: PPrel\n",
      "........class: subtype, props: value: -->, name: activation\n",
      "........class: subtype, props: value: +p, name: phosphorylation\n",
      "....class: relation, props: entry2: 3, entry1: 15, type: PPrel\n",
      "........class: subtype, props: value: -->, name: activation\n",
      "........class: subtype, props: value: +p, name: phosphorylation\n",
      "....class: relation, props: entry2: 2, entry1: 3, type: PPrel\n",
      "........class: subtype, props: value: -->, name: activation\n",
      "........class: subtype, props: value: ..>, name: indirect effect\n",
      "....class: relation, props: entry2: 35, entry1: 2, type: PPrel\n",
      "........class: subtype, props: value: -->, name: activation\n",
      "........class: subtype, props: value: ..>, name: indirect effect\n",
      "....class: relation, props: entry2: 42, entry1: 11, type: PPrel\n",
      "........class: subtype, props: value: ..., name: state change\n",
      "....class: relation, props: entry2: 6, entry1: 42, type: GErel\n",
      "........class: subtype, props: value: -->, name: expression\n",
      "....class: relation, props: entry2: 7, entry1: 42, type: GErel\n",
      "........class: subtype, props: value: -->, name: expression\n",
      "....class: relation, props: entry2: 31, entry1: 42, type: GErel\n",
      "........class: subtype, props: value: -->, name: expression\n",
      "....class: relation, props: entry2: 1, entry1: 42, type: GErel\n",
      "........class: subtype, props: value: -->, name: expression\n",
      "....class: relation, props: entry2: 30, entry1: 42, type: GErel\n",
      "........class: subtype, props: value: -->, name: expression\n",
      "....class: relation, props: entry2: 34, entry1: 42, type: GErel\n",
      "........class: subtype, props: value: -->, name: expression\n",
      "....class: relation, props: entry2: 36, entry1: 42, type: GErel\n",
      "........class: subtype, props: value: -->, name: expression\n",
      "....class: relation, props: entry2: 8, entry1: 42, type: GErel\n",
      "........class: subtype, props: value: -->, name: expression\n",
      "....class: relation, props: entry2: 24, entry1: 42, type: GErel\n",
      "........class: subtype, props: value: -->, name: expression\n",
      "....class: relation, props: entry2: 27, entry1: 42, type: GErel\n",
      "........class: subtype, props: value: -->, name: expression\n",
      "....class: relation, props: entry2: 28, entry1: 42, type: GErel\n",
      "........class: subtype, props: value: -->, name: expression\n",
      "....class: relation, props: entry2: 15, entry1: 22, type: PPrel\n",
      "........class: subtype, props: value: ---, name: binding/association\n",
      "....class: relation, props: entry2: 10, entry1: 42, type: PPrel\n",
      "........class: subtype, props: value: ---, name: binding/association\n",
      "....class: relation, props: entry2: 42, entry1: 12, type: PPrel\n",
      "........class: subtype, props: value: --|, name: inhibition\n",
      "....class: relation, props: entry2: 42, entry1: 23, type: PPrel\n",
      "........class: subtype, props: value: --|, name: inhibition\n",
      "........class: subtype, props: value: -p, name: dephosphorylation\n",
      "....class: relation, props: entry2: 15, entry1: 37, type: PPrel\n",
      "........class: subtype, props: value: --|, name: inhibition\n",
      "........class: subtype, props: value: -p, name: dephosphorylation\n",
      "....class: relation, props: entry2: 15, entry1: 13, type: PPrel\n",
      "........class: subtype, props: value: --|, name: inhibition\n",
      "........class: subtype, props: value: -p, name: dephosphorylation\n",
      "....class: relation, props: entry2: 42, entry1: 19, type: PPrel\n",
      "........class: subtype, props: value: +u, name: ubiquitination\n",
      "....class: relation, props: entry2: 11, entry1: 6, type: PPrel\n",
      "........class: subtype, props: value: --|, name: inhibition\n",
      "....class: relation, props: entry2: 15, entry1: 8, type: PPrel\n",
      "........class: subtype, props: value: --|, name: inhibition\n",
      "....class: relation, props: entry2: 15, entry1: 14, type: PPrel\n",
      "........class: subtype, props: value: -->, name: activation\n",
      "\n"
     ]
    }
   ],
   "source": [
    "# detail pathway information, use summary() method\n",
    "print(path.summary())"
   ]
  },
  {
   "cell_type": "code",
   "execution_count": 17,
   "metadata": {
    "collapsed": false,
    "scrolled": true
   },
   "outputs": [
    {
     "data": {
      "text/plain": [
       "[class: entry, name: hsa:4609, type: gene, id: 1, KO: [u'K04377'],\n",
       " class: entry, name: hsa:10000 hsa:207 hsa:208, type: gene, id: 2, KO: [u'K04456'],\n",
       " class: entry, name: hsa:23533 hsa:5290 hsa:5291 hsa:5293 hsa:5294 hsa:5295 hsa:5296 hsa:8503, type: gene, id: 3, KO: [u'K00922', u'K02649'],\n",
       " class: entry, name: hsa:6654 hsa:6655, type: gene, id: 4, KO: [u'K03099'],\n",
       " class: entry, name: hsa:2885, type: gene, id: 5, KO: [u'K04364'],\n",
       " class: entry, name: hsa:1154, type: gene, id: 6, KO: [u'K04701'],\n",
       " class: entry, name: hsa:596, type: gene, id: 7, KO: [u'K02161'],\n",
       " class: entry, name: hsa:122809 hsa:30837 hsa:8651 hsa:8835 hsa:9021 hsa:9306 hsa:9655, type: gene, id: 8, KO: [u'K04696', u'K04697', u'K04694', u'K04695', u'K04698', u'K04699'],\n",
       " class: entry, name: hsa:1387 hsa:2033, type: gene, id: 9, KO: [u'K04498'],\n",
       " class: entry, name: hsa:10379, type: gene, id: 10, KO: [u'K04693'],\n",
       " class: entry, name: hsa:6772 hsa:6773 hsa:6774 hsa:6775 hsa:6776 hsa:6777 hsa:6778, type: gene, id: 11, KO: [u'K04692', u'K11225', u'K11224', u'K11221', u'K11220', u'K11223', u'K11222'],\n",
       " class: entry, name: hsa:10401 hsa:51588 hsa:8554 hsa:9063, type: gene, id: 12, KO: [u'K16064', u'K16065', u'K04706', u'K16063'],\n",
       " class: entry, name: hsa:5777, type: gene, id: 13, KO: [u'K05697'],\n",
       " class: entry, name: hsa:10254 hsa:8027, type: gene, id: 14, KO: [u'K04705'],\n",
       " class: entry, name: hsa:3716 hsa:3717 hsa:3718 hsa:7297, type: gene, id: 15, KO: [u'K11218', u'K11219', u'K04447', u'K11217'],\n",
       " class: entry, name: path:hsa04120, type: map, id: 16, KO: [],\n",
       " class: entry, name: path:hsa04010, type: map, id: 17, KO: [],\n",
       " class: entry, name: path:hsa04151, type: map, id: 18, KO: [],\n",
       " class: entry, name: hsa:2273, type: gene, id: 19, KO: [u'K14365'],\n",
       " class: entry, name: path:hsa04060, type: map, id: 20, KO: [],\n",
       " class: entry, name: path:hsa04630, type: map, id: 21, KO: [],\n",
       " class: entry, name: hsa:116379 hsa:1271 hsa:1438 hsa:1439 hsa:1441 hsa:149233 hsa:163702 hsa:2057 hsa:2690 hsa:3454 hsa:3455 hsa:3459 hsa:3460 hsa:3559 hsa:3560 hsa:3561 hsa:3563 hsa:3566 hsa:3568 hsa:3570 hsa:3572 hsa:3575 hsa:3581 hsa:3587 hsa:3588 hsa:3590 hsa:3594 hsa:3595 hsa:3597 hsa:3598 hsa:3601 hsa:3953 hsa:3977 hsa:4352 hsa:50615 hsa:53832 hsa:53833 hsa:5618 hsa:58985 hsa:64109 hsa:9180 hsa:9466, type: gene, id: 22, KO: [u'K05066', u'K04738', u'K05065', u'K05059', u'K05061', u'K05080', u'K05079', u'K05139', u'K05140', u'K05130'],\n",
       " class: entry, name: hsa:5771, type: gene, id: 23, KO: [u'K18026'],\n",
       " class: entry, name: hsa:4170, type: gene, id: 24, KO: [u'K02539'],\n",
       " class: entry, name: path:hsa04210, type: map, id: 25, KO: [],\n",
       " class: entry, name: path:hsa04110, type: map, id: 26, KO: [],\n",
       " class: entry, name: hsa:5292, type: gene, id: 27, KO: [u'K04702'],\n",
       " class: entry, name: hsa:595 hsa:894 hsa:896, type: gene, id: 28, KO: [u'K04503', u'K10152', u'K10151'],\n",
       " class: entry, name: hsa:5781, type: gene, id: 29, KO: [u'K07293'],\n",
       " class: entry, name: hsa:1026, type: gene, id: 30, KO: [u'K06625'],\n",
       " class: entry, name: hsa:598, type: gene, id: 31, KO: [u'K04570'],\n",
       " class: entry, name: hsa:3265, type: gene, id: 32, KO: [u'K02833'],\n",
       " class: entry, name: hsa:5894, type: gene, id: 33, KO: [u'K04366'],\n",
       " class: entry, name: hsa:316, type: gene, id: 34, KO: [u'K00157'],\n",
       " class: entry, name: hsa:2475, type: gene, id: 35, KO: [u'K07203'],\n",
       " class: entry, name: hsa:2670, type: gene, id: 36, KO: [u'K05640'],\n",
       " class: entry, name: hsa:5771, type: gene, id: 37, KO: [u'K18026'],\n",
       " class: entry, name: hsa:11009 hsa:1437 hsa:1489 hsa:282616 hsa:282617 hsa:282618 hsa:29949 hsa:338376 hsa:3439 hsa:3440 hsa:3441 hsa:3442 hsa:3443 hsa:3444 hsa:3445 hsa:3446 hsa:3447 hsa:3448 hsa:3449 hsa:3451 hsa:3452 hsa:3456 hsa:3458 hsa:3467 hsa:3558 hsa:3562 hsa:3565 hsa:3567 hsa:3569 hsa:3574 hsa:3578 hsa:3586 hsa:3589 hsa:3592 hsa:3593 hsa:3596 hsa:3600 hsa:3976 hsa:5008 hsa:50604 hsa:50616 hsa:51561 hsa:53342 hsa:56832 hsa:59067 hsa:85480, type: gene, id: 38, KO: [u'K05444', u'K05447', u'K05442', u'K05427', u'K05422', u'K05414'],\n",
       " class: entry, name: hsa:1270 hsa:1440 hsa:1442 hsa:1443 hsa:2056 hsa:2688 hsa:2689 hsa:3952 hsa:5617 hsa:7066, type: gene, id: 39, KO: [u'K06854', u'K05437', u'K05424', u'K05423', u'K05420', u'K05439', u'K05438'],\n",
       " class: entry, name: hsa:6772 hsa:6773 hsa:6774 hsa:6775 hsa:6776 hsa:6777 hsa:6778, type: gene, id: 40, KO: [u'K04692', u'K11225', u'K11224', u'K11221', u'K11220', u'K11223', u'K11222'],\n",
       " class: entry, name: hsa:6772 hsa:6773 hsa:6774 hsa:6775 hsa:6776 hsa:6777 hsa:6778, type: gene, id: 41, KO: [u'K04692', u'K11225', u'K11224', u'K11221', u'K11220', u'K11223', u'K11222'],\n",
       " class: entry, name: undefined, type: group, id: 42, KO: [],\n",
       " class: entry, name: undefined, type: group, id: 43, KO: [],\n",
       " class: relation, props: entry2: 22, entry1: 38, type: PPrel\n",
       " ....class: subtype, props: value: -->, name: activation,\n",
       " class: relation, props: entry2: 22, entry1: 39, type: PPrel\n",
       " ....class: subtype, props: value: -->, name: activation,\n",
       " class: relation, props: entry2: 42, entry1: 9, type: PPrel\n",
       " ....class: subtype, props: value: -->, name: activation,\n",
       " class: relation, props: entry2: 4, entry1: 43, type: PPrel\n",
       " ....class: subtype, props: value: -->, name: activation,\n",
       " class: relation, props: entry2: 32, entry1: 4, type: PPrel\n",
       " ....class: subtype, props: value: -->, name: activation,\n",
       " class: relation, props: entry2: 33, entry1: 32, type: PPrel\n",
       " ....class: subtype, props: value: -->, name: activation,\n",
       " class: relation, props: entry2: 11, entry1: 15, type: PPrel\n",
       " ....class: subtype, props: value: -->, name: activation\n",
       " ....class: subtype, props: value: +p, name: phosphorylation,\n",
       " class: relation, props: entry2: 29, entry1: 15, type: PPrel\n",
       " ....class: subtype, props: value: -->, name: activation\n",
       " ....class: subtype, props: value: +p, name: phosphorylation,\n",
       " class: relation, props: entry2: 3, entry1: 15, type: PPrel\n",
       " ....class: subtype, props: value: -->, name: activation\n",
       " ....class: subtype, props: value: +p, name: phosphorylation,\n",
       " class: relation, props: entry2: 2, entry1: 3, type: PPrel\n",
       " ....class: subtype, props: value: -->, name: activation\n",
       " ....class: subtype, props: value: ..>, name: indirect effect,\n",
       " class: relation, props: entry2: 35, entry1: 2, type: PPrel\n",
       " ....class: subtype, props: value: -->, name: activation\n",
       " ....class: subtype, props: value: ..>, name: indirect effect,\n",
       " class: relation, props: entry2: 42, entry1: 11, type: PPrel\n",
       " ....class: subtype, props: value: ..., name: state change,\n",
       " class: relation, props: entry2: 6, entry1: 42, type: GErel\n",
       " ....class: subtype, props: value: -->, name: expression,\n",
       " class: relation, props: entry2: 7, entry1: 42, type: GErel\n",
       " ....class: subtype, props: value: -->, name: expression,\n",
       " class: relation, props: entry2: 31, entry1: 42, type: GErel\n",
       " ....class: subtype, props: value: -->, name: expression,\n",
       " class: relation, props: entry2: 1, entry1: 42, type: GErel\n",
       " ....class: subtype, props: value: -->, name: expression,\n",
       " class: relation, props: entry2: 30, entry1: 42, type: GErel\n",
       " ....class: subtype, props: value: -->, name: expression,\n",
       " class: relation, props: entry2: 34, entry1: 42, type: GErel\n",
       " ....class: subtype, props: value: -->, name: expression,\n",
       " class: relation, props: entry2: 36, entry1: 42, type: GErel\n",
       " ....class: subtype, props: value: -->, name: expression,\n",
       " class: relation, props: entry2: 8, entry1: 42, type: GErel\n",
       " ....class: subtype, props: value: -->, name: expression,\n",
       " class: relation, props: entry2: 24, entry1: 42, type: GErel\n",
       " ....class: subtype, props: value: -->, name: expression,\n",
       " class: relation, props: entry2: 27, entry1: 42, type: GErel\n",
       " ....class: subtype, props: value: -->, name: expression,\n",
       " class: relation, props: entry2: 28, entry1: 42, type: GErel\n",
       " ....class: subtype, props: value: -->, name: expression,\n",
       " class: relation, props: entry2: 15, entry1: 22, type: PPrel\n",
       " ....class: subtype, props: value: ---, name: binding/association,\n",
       " class: relation, props: entry2: 10, entry1: 42, type: PPrel\n",
       " ....class: subtype, props: value: ---, name: binding/association,\n",
       " class: relation, props: entry2: 42, entry1: 12, type: PPrel\n",
       " ....class: subtype, props: value: --|, name: inhibition,\n",
       " class: relation, props: entry2: 42, entry1: 23, type: PPrel\n",
       " ....class: subtype, props: value: --|, name: inhibition\n",
       " ....class: subtype, props: value: -p, name: dephosphorylation,\n",
       " class: relation, props: entry2: 15, entry1: 37, type: PPrel\n",
       " ....class: subtype, props: value: --|, name: inhibition\n",
       " ....class: subtype, props: value: -p, name: dephosphorylation,\n",
       " class: relation, props: entry2: 15, entry1: 13, type: PPrel\n",
       " ....class: subtype, props: value: --|, name: inhibition\n",
       " ....class: subtype, props: value: -p, name: dephosphorylation,\n",
       " class: relation, props: entry2: 42, entry1: 19, type: PPrel\n",
       " ....class: subtype, props: value: +u, name: ubiquitination,\n",
       " class: relation, props: entry2: 11, entry1: 6, type: PPrel\n",
       " ....class: subtype, props: value: --|, name: inhibition,\n",
       " class: relation, props: entry2: 15, entry1: 8, type: PPrel\n",
       " ....class: subtype, props: value: --|, name: inhibition,\n",
       " class: relation, props: entry2: 15, entry1: 14, type: PPrel\n",
       " ....class: subtype, props: value: -->, name: activation]"
      ]
     },
     "execution_count": 17,
     "metadata": {},
     "output_type": "execute_result"
    }
   ],
   "source": [
    "# node operation method\n",
    "# children: return a list of node's children\n",
    "path.children"
   ]
  },
  {
   "cell_type": "code",
   "execution_count": 18,
   "metadata": {
    "collapsed": false
   },
   "outputs": [
    {
     "data": {
      "text/plain": [
       "True"
      ]
     },
     "execution_count": 18,
     "metadata": {},
     "output_type": "execute_result"
    }
   ],
   "source": [
    "# father: return node's father node\n",
    "path.children[0].father == path"
   ]
  },
  {
   "cell_type": "code",
   "execution_count": 19,
   "metadata": {
    "collapsed": false
   },
   "outputs": [
    {
     "data": {
      "text/plain": [
       "True"
      ]
     },
     "execution_count": 19,
     "metadata": {},
     "output_type": "execute_result"
    }
   ],
   "source": [
    "# root: return the root node of node\n",
    "path.children[0].children[0].root == path"
   ]
  },
  {
   "cell_type": "code",
   "execution_count": 7,
   "metadata": {
    "collapsed": false,
    "scrolled": true
   },
   "outputs": [
    {
     "data": {
      "text/plain": [
       "[class: relation, props: entry2: 22, entry1: 38, type: PPrel\n",
       " ....class: subtype, props: value: -->, name: activation,\n",
       " class: relation, props: entry2: 22, entry1: 39, type: PPrel\n",
       " ....class: subtype, props: value: -->, name: activation,\n",
       " class: relation, props: entry2: 42, entry1: 9, type: PPrel\n",
       " ....class: subtype, props: value: -->, name: activation,\n",
       " class: relation, props: entry2: 4, entry1: 43, type: PPrel\n",
       " ....class: subtype, props: value: -->, name: activation,\n",
       " class: relation, props: entry2: 32, entry1: 4, type: PPrel\n",
       " ....class: subtype, props: value: -->, name: activation,\n",
       " class: relation, props: entry2: 33, entry1: 32, type: PPrel\n",
       " ....class: subtype, props: value: -->, name: activation,\n",
       " class: relation, props: entry2: 11, entry1: 15, type: PPrel\n",
       " ....class: subtype, props: value: -->, name: activation\n",
       " ....class: subtype, props: value: +p, name: phosphorylation,\n",
       " class: relation, props: entry2: 29, entry1: 15, type: PPrel\n",
       " ....class: subtype, props: value: -->, name: activation\n",
       " ....class: subtype, props: value: +p, name: phosphorylation,\n",
       " class: relation, props: entry2: 3, entry1: 15, type: PPrel\n",
       " ....class: subtype, props: value: -->, name: activation\n",
       " ....class: subtype, props: value: +p, name: phosphorylation,\n",
       " class: relation, props: entry2: 2, entry1: 3, type: PPrel\n",
       " ....class: subtype, props: value: -->, name: activation\n",
       " ....class: subtype, props: value: ..>, name: indirect effect,\n",
       " class: relation, props: entry2: 35, entry1: 2, type: PPrel\n",
       " ....class: subtype, props: value: -->, name: activation\n",
       " ....class: subtype, props: value: ..>, name: indirect effect,\n",
       " class: relation, props: entry2: 42, entry1: 11, type: PPrel\n",
       " ....class: subtype, props: value: ..., name: state change,\n",
       " class: relation, props: entry2: 6, entry1: 42, type: GErel\n",
       " ....class: subtype, props: value: -->, name: expression,\n",
       " class: relation, props: entry2: 7, entry1: 42, type: GErel\n",
       " ....class: subtype, props: value: -->, name: expression,\n",
       " class: relation, props: entry2: 31, entry1: 42, type: GErel\n",
       " ....class: subtype, props: value: -->, name: expression,\n",
       " class: relation, props: entry2: 1, entry1: 42, type: GErel\n",
       " ....class: subtype, props: value: -->, name: expression,\n",
       " class: relation, props: entry2: 30, entry1: 42, type: GErel\n",
       " ....class: subtype, props: value: -->, name: expression,\n",
       " class: relation, props: entry2: 34, entry1: 42, type: GErel\n",
       " ....class: subtype, props: value: -->, name: expression,\n",
       " class: relation, props: entry2: 36, entry1: 42, type: GErel\n",
       " ....class: subtype, props: value: -->, name: expression,\n",
       " class: relation, props: entry2: 8, entry1: 42, type: GErel\n",
       " ....class: subtype, props: value: -->, name: expression,\n",
       " class: relation, props: entry2: 24, entry1: 42, type: GErel\n",
       " ....class: subtype, props: value: -->, name: expression,\n",
       " class: relation, props: entry2: 27, entry1: 42, type: GErel\n",
       " ....class: subtype, props: value: -->, name: expression,\n",
       " class: relation, props: entry2: 28, entry1: 42, type: GErel\n",
       " ....class: subtype, props: value: -->, name: expression,\n",
       " class: relation, props: entry2: 15, entry1: 22, type: PPrel\n",
       " ....class: subtype, props: value: ---, name: binding/association,\n",
       " class: relation, props: entry2: 10, entry1: 42, type: PPrel\n",
       " ....class: subtype, props: value: ---, name: binding/association,\n",
       " class: relation, props: entry2: 42, entry1: 12, type: PPrel\n",
       " ....class: subtype, props: value: --|, name: inhibition,\n",
       " class: relation, props: entry2: 42, entry1: 23, type: PPrel\n",
       " ....class: subtype, props: value: --|, name: inhibition\n",
       " ....class: subtype, props: value: -p, name: dephosphorylation,\n",
       " class: relation, props: entry2: 15, entry1: 37, type: PPrel\n",
       " ....class: subtype, props: value: --|, name: inhibition\n",
       " ....class: subtype, props: value: -p, name: dephosphorylation,\n",
       " class: relation, props: entry2: 15, entry1: 13, type: PPrel\n",
       " ....class: subtype, props: value: --|, name: inhibition\n",
       " ....class: subtype, props: value: -p, name: dephosphorylation,\n",
       " class: relation, props: entry2: 42, entry1: 19, type: PPrel\n",
       " ....class: subtype, props: value: +u, name: ubiquitination,\n",
       " class: relation, props: entry2: 11, entry1: 6, type: PPrel\n",
       " ....class: subtype, props: value: --|, name: inhibition,\n",
       " class: relation, props: entry2: 15, entry1: 8, type: PPrel\n",
       " ....class: subtype, props: value: --|, name: inhibition,\n",
       " class: relation, props: entry2: 15, entry1: 14, type: PPrel\n",
       " ....class: subtype, props: value: -->, name: activation]"
      ]
     },
     "execution_count": 7,
     "metadata": {},
     "output_type": "execute_result"
    }
   ],
   "source": [
    "# element method get_element_by_class\n",
    "path.get_element_by_class(\"relation\")"
   ]
  },
  {
   "cell_type": "code",
   "execution_count": 8,
   "metadata": {
    "collapsed": false,
    "scrolled": true
   },
   "outputs": [
    {
     "data": {
      "text/plain": [
       "[class: entry, name: hsa:4609, type: gene, id: 1, KO: [u'K04377'],\n",
       " class: entry, name: hsa:10000 hsa:207 hsa:208, type: gene, id: 2, KO: [u'K04456'],\n",
       " class: entry, name: hsa:23533 hsa:5290 hsa:5291 hsa:5293 hsa:5294 hsa:5295 hsa:5296 hsa:8503, type: gene, id: 3, KO: [u'K00922', u'K02649'],\n",
       " class: entry, name: hsa:6654 hsa:6655, type: gene, id: 4, KO: [u'K03099'],\n",
       " class: entry, name: hsa:2885, type: gene, id: 5, KO: [u'K04364'],\n",
       " class: entry, name: hsa:1154, type: gene, id: 6, KO: [u'K04701'],\n",
       " class: entry, name: hsa:596, type: gene, id: 7, KO: [u'K02161'],\n",
       " class: entry, name: hsa:122809 hsa:30837 hsa:8651 hsa:8835 hsa:9021 hsa:9306 hsa:9655, type: gene, id: 8, KO: [u'K04696', u'K04697', u'K04694', u'K04695', u'K04698', u'K04699'],\n",
       " class: entry, name: hsa:1387 hsa:2033, type: gene, id: 9, KO: [u'K04498'],\n",
       " class: entry, name: hsa:10379, type: gene, id: 10, KO: [u'K04693'],\n",
       " class: entry, name: hsa:6772 hsa:6773 hsa:6774 hsa:6775 hsa:6776 hsa:6777 hsa:6778, type: gene, id: 11, KO: [u'K04692', u'K11225', u'K11224', u'K11221', u'K11220', u'K11223', u'K11222'],\n",
       " class: entry, name: hsa:10401 hsa:51588 hsa:8554 hsa:9063, type: gene, id: 12, KO: [u'K16064', u'K16065', u'K04706', u'K16063'],\n",
       " class: entry, name: hsa:5777, type: gene, id: 13, KO: [u'K05697'],\n",
       " class: entry, name: hsa:10254 hsa:8027, type: gene, id: 14, KO: [u'K04705'],\n",
       " class: entry, name: hsa:3716 hsa:3717 hsa:3718 hsa:7297, type: gene, id: 15, KO: [u'K11218', u'K11219', u'K04447', u'K11217'],\n",
       " class: entry, name: hsa:2273, type: gene, id: 19, KO: [u'K14365'],\n",
       " class: entry, name: hsa:116379 hsa:1271 hsa:1438 hsa:1439 hsa:1441 hsa:149233 hsa:163702 hsa:2057 hsa:2690 hsa:3454 hsa:3455 hsa:3459 hsa:3460 hsa:3559 hsa:3560 hsa:3561 hsa:3563 hsa:3566 hsa:3568 hsa:3570 hsa:3572 hsa:3575 hsa:3581 hsa:3587 hsa:3588 hsa:3590 hsa:3594 hsa:3595 hsa:3597 hsa:3598 hsa:3601 hsa:3953 hsa:3977 hsa:4352 hsa:50615 hsa:53832 hsa:53833 hsa:5618 hsa:58985 hsa:64109 hsa:9180 hsa:9466, type: gene, id: 22, KO: [u'K05066', u'K04738', u'K05065', u'K05059', u'K05061', u'K05080', u'K05079', u'K05139', u'K05140', u'K05130'],\n",
       " class: entry, name: hsa:5771, type: gene, id: 23, KO: [u'K18026'],\n",
       " class: entry, name: hsa:4170, type: gene, id: 24, KO: [u'K02539'],\n",
       " class: entry, name: hsa:5292, type: gene, id: 27, KO: [u'K04702'],\n",
       " class: entry, name: hsa:595 hsa:894 hsa:896, type: gene, id: 28, KO: [u'K04503', u'K10152', u'K10151'],\n",
       " class: entry, name: hsa:5781, type: gene, id: 29, KO: [u'K07293'],\n",
       " class: entry, name: hsa:1026, type: gene, id: 30, KO: [u'K06625'],\n",
       " class: entry, name: hsa:598, type: gene, id: 31, KO: [u'K04570'],\n",
       " class: entry, name: hsa:3265, type: gene, id: 32, KO: [u'K02833'],\n",
       " class: entry, name: hsa:5894, type: gene, id: 33, KO: [u'K04366'],\n",
       " class: entry, name: hsa:316, type: gene, id: 34, KO: [u'K00157'],\n",
       " class: entry, name: hsa:2475, type: gene, id: 35, KO: [u'K07203'],\n",
       " class: entry, name: hsa:2670, type: gene, id: 36, KO: [u'K05640'],\n",
       " class: entry, name: hsa:5771, type: gene, id: 37, KO: [u'K18026'],\n",
       " class: entry, name: hsa:11009 hsa:1437 hsa:1489 hsa:282616 hsa:282617 hsa:282618 hsa:29949 hsa:338376 hsa:3439 hsa:3440 hsa:3441 hsa:3442 hsa:3443 hsa:3444 hsa:3445 hsa:3446 hsa:3447 hsa:3448 hsa:3449 hsa:3451 hsa:3452 hsa:3456 hsa:3458 hsa:3467 hsa:3558 hsa:3562 hsa:3565 hsa:3567 hsa:3569 hsa:3574 hsa:3578 hsa:3586 hsa:3589 hsa:3592 hsa:3593 hsa:3596 hsa:3600 hsa:3976 hsa:5008 hsa:50604 hsa:50616 hsa:51561 hsa:53342 hsa:56832 hsa:59067 hsa:85480, type: gene, id: 38, KO: [u'K05444', u'K05447', u'K05442', u'K05427', u'K05422', u'K05414'],\n",
       " class: entry, name: hsa:1270 hsa:1440 hsa:1442 hsa:1443 hsa:2056 hsa:2688 hsa:2689 hsa:3952 hsa:5617 hsa:7066, type: gene, id: 39, KO: [u'K06854', u'K05437', u'K05424', u'K05423', u'K05420', u'K05439', u'K05438'],\n",
       " class: entry, name: hsa:6772 hsa:6773 hsa:6774 hsa:6775 hsa:6776 hsa:6777 hsa:6778, type: gene, id: 40, KO: [u'K04692', u'K11225', u'K11224', u'K11221', u'K11220', u'K11223', u'K11222'],\n",
       " class: entry, name: hsa:6772 hsa:6773 hsa:6774 hsa:6775 hsa:6776 hsa:6777 hsa:6778, type: gene, id: 41, KO: [u'K04692', u'K11225', u'K11224', u'K11221', u'K11220', u'K11223', u'K11222']]"
      ]
     },
     "execution_count": 8,
     "metadata": {},
     "output_type": "execute_result"
    }
   ],
   "source": [
    "# element method get_element_by_type(e.g if class is entry, type may be gene)\n",
    "path.get_element_by_type(\"gene\")"
   ]
  },
  {
   "cell_type": "code",
   "execution_count": 12,
   "metadata": {
    "collapsed": false
   },
   "outputs": [
    {
     "data": {
      "text/plain": [
       "[class: entry, name: hsa:6772 hsa:6773 hsa:6774 hsa:6775 hsa:6776 hsa:6777 hsa:6778, type: gene, id: 11, KO: [u'K04692', u'K11225', u'K11224', u'K11221', u'K11220', u'K11223', u'K11222']]"
      ]
     },
     "execution_count": 12,
     "metadata": {},
     "output_type": "execute_result"
    }
   ],
   "source": [
    "# element method get_element_by_id(note that the ID is GRAPHIC ID in KGML file)\n",
    "path.get_element_by_id(\"11\")"
   ]
  },
  {
   "cell_type": "code",
   "execution_count": 13,
   "metadata": {
    "collapsed": false
   },
   "outputs": [
    {
     "data": {
      "text/plain": [
       "[class: subtype, props: value: -->, name: activation,\n",
       " class: subtype, props: value: -->, name: activation,\n",
       " class: subtype, props: value: -->, name: activation,\n",
       " class: subtype, props: value: -->, name: activation,\n",
       " class: subtype, props: value: -->, name: activation,\n",
       " class: subtype, props: value: -->, name: activation,\n",
       " class: subtype, props: value: -->, name: activation,\n",
       " class: subtype, props: value: -->, name: activation,\n",
       " class: subtype, props: value: -->, name: activation,\n",
       " class: subtype, props: value: -->, name: activation,\n",
       " class: subtype, props: value: -->, name: activation,\n",
       " class: subtype, props: value: -->, name: activation]"
      ]
     },
     "execution_count": 13,
     "metadata": {},
     "output_type": "execute_result"
    }
   ],
   "source": [
    "# element method get_element_by_name\n",
    "path.get_element_by_name(\"activation\")"
   ]
  },
  {
   "cell_type": "code",
   "execution_count": 14,
   "metadata": {
    "collapsed": false,
    "scrolled": true
   },
   "outputs": [
    {
     "data": {
      "text/plain": [
       "[class: entry, name: hsa:4609, type: gene, id: 1, KO: [u'K04377'],\n",
       " class: entry, name: hsa:10000 hsa:207 hsa:208, type: gene, id: 2, KO: [u'K04456'],\n",
       " class: entry, name: hsa:23533 hsa:5290 hsa:5291 hsa:5293 hsa:5294 hsa:5295 hsa:5296 hsa:8503, type: gene, id: 3, KO: [u'K00922', u'K02649'],\n",
       " class: entry, name: hsa:6654 hsa:6655, type: gene, id: 4, KO: [u'K03099'],\n",
       " class: entry, name: hsa:2885, type: gene, id: 5, KO: [u'K04364'],\n",
       " class: entry, name: hsa:1154, type: gene, id: 6, KO: [u'K04701'],\n",
       " class: entry, name: hsa:596, type: gene, id: 7, KO: [u'K02161'],\n",
       " class: entry, name: hsa:122809 hsa:30837 hsa:8651 hsa:8835 hsa:9021 hsa:9306 hsa:9655, type: gene, id: 8, KO: [u'K04696', u'K04697', u'K04694', u'K04695', u'K04698', u'K04699'],\n",
       " class: entry, name: hsa:1387 hsa:2033, type: gene, id: 9, KO: [u'K04498'],\n",
       " class: entry, name: hsa:10379, type: gene, id: 10, KO: [u'K04693'],\n",
       " class: entry, name: hsa:6772 hsa:6773 hsa:6774 hsa:6775 hsa:6776 hsa:6777 hsa:6778, type: gene, id: 11, KO: [u'K04692', u'K11225', u'K11224', u'K11221', u'K11220', u'K11223', u'K11222'],\n",
       " class: entry, name: hsa:10401 hsa:51588 hsa:8554 hsa:9063, type: gene, id: 12, KO: [u'K16064', u'K16065', u'K04706', u'K16063'],\n",
       " class: entry, name: hsa:5777, type: gene, id: 13, KO: [u'K05697'],\n",
       " class: entry, name: hsa:10254 hsa:8027, type: gene, id: 14, KO: [u'K04705'],\n",
       " class: entry, name: hsa:3716 hsa:3717 hsa:3718 hsa:7297, type: gene, id: 15, KO: [u'K11218', u'K11219', u'K04447', u'K11217'],\n",
       " class: entry, name: path:hsa04120, type: map, id: 16, KO: [],\n",
       " class: entry, name: path:hsa04010, type: map, id: 17, KO: [],\n",
       " class: entry, name: path:hsa04151, type: map, id: 18, KO: [],\n",
       " class: entry, name: hsa:2273, type: gene, id: 19, KO: [u'K14365'],\n",
       " class: entry, name: path:hsa04060, type: map, id: 20, KO: [],\n",
       " class: entry, name: path:hsa04630, type: map, id: 21, KO: [],\n",
       " class: entry, name: hsa:116379 hsa:1271 hsa:1438 hsa:1439 hsa:1441 hsa:149233 hsa:163702 hsa:2057 hsa:2690 hsa:3454 hsa:3455 hsa:3459 hsa:3460 hsa:3559 hsa:3560 hsa:3561 hsa:3563 hsa:3566 hsa:3568 hsa:3570 hsa:3572 hsa:3575 hsa:3581 hsa:3587 hsa:3588 hsa:3590 hsa:3594 hsa:3595 hsa:3597 hsa:3598 hsa:3601 hsa:3953 hsa:3977 hsa:4352 hsa:50615 hsa:53832 hsa:53833 hsa:5618 hsa:58985 hsa:64109 hsa:9180 hsa:9466, type: gene, id: 22, KO: [u'K05066', u'K04738', u'K05065', u'K05059', u'K05061', u'K05080', u'K05079', u'K05139', u'K05140', u'K05130'],\n",
       " class: entry, name: hsa:5771, type: gene, id: 23, KO: [u'K18026'],\n",
       " class: entry, name: hsa:4170, type: gene, id: 24, KO: [u'K02539'],\n",
       " class: entry, name: path:hsa04210, type: map, id: 25, KO: [],\n",
       " class: entry, name: path:hsa04110, type: map, id: 26, KO: [],\n",
       " class: entry, name: hsa:5292, type: gene, id: 27, KO: [u'K04702'],\n",
       " class: entry, name: hsa:595 hsa:894 hsa:896, type: gene, id: 28, KO: [u'K04503', u'K10152', u'K10151'],\n",
       " class: entry, name: hsa:5781, type: gene, id: 29, KO: [u'K07293'],\n",
       " class: entry, name: hsa:1026, type: gene, id: 30, KO: [u'K06625'],\n",
       " class: entry, name: hsa:598, type: gene, id: 31, KO: [u'K04570'],\n",
       " class: entry, name: hsa:3265, type: gene, id: 32, KO: [u'K02833'],\n",
       " class: entry, name: hsa:5894, type: gene, id: 33, KO: [u'K04366'],\n",
       " class: entry, name: hsa:316, type: gene, id: 34, KO: [u'K00157'],\n",
       " class: entry, name: hsa:2475, type: gene, id: 35, KO: [u'K07203'],\n",
       " class: entry, name: hsa:2670, type: gene, id: 36, KO: [u'K05640'],\n",
       " class: entry, name: hsa:5771, type: gene, id: 37, KO: [u'K18026'],\n",
       " class: entry, name: hsa:11009 hsa:1437 hsa:1489 hsa:282616 hsa:282617 hsa:282618 hsa:29949 hsa:338376 hsa:3439 hsa:3440 hsa:3441 hsa:3442 hsa:3443 hsa:3444 hsa:3445 hsa:3446 hsa:3447 hsa:3448 hsa:3449 hsa:3451 hsa:3452 hsa:3456 hsa:3458 hsa:3467 hsa:3558 hsa:3562 hsa:3565 hsa:3567 hsa:3569 hsa:3574 hsa:3578 hsa:3586 hsa:3589 hsa:3592 hsa:3593 hsa:3596 hsa:3600 hsa:3976 hsa:5008 hsa:50604 hsa:50616 hsa:51561 hsa:53342 hsa:56832 hsa:59067 hsa:85480, type: gene, id: 38, KO: [u'K05444', u'K05447', u'K05442', u'K05427', u'K05422', u'K05414'],\n",
       " class: entry, name: hsa:1270 hsa:1440 hsa:1442 hsa:1443 hsa:2056 hsa:2688 hsa:2689 hsa:3952 hsa:5617 hsa:7066, type: gene, id: 39, KO: [u'K06854', u'K05437', u'K05424', u'K05423', u'K05420', u'K05439', u'K05438'],\n",
       " class: entry, name: hsa:6772 hsa:6773 hsa:6774 hsa:6775 hsa:6776 hsa:6777 hsa:6778, type: gene, id: 40, KO: [u'K04692', u'K11225', u'K11224', u'K11221', u'K11220', u'K11223', u'K11222'],\n",
       " class: entry, name: hsa:6772 hsa:6773 hsa:6774 hsa:6775 hsa:6776 hsa:6777 hsa:6778, type: gene, id: 41, KO: [u'K04692', u'K11225', u'K11224', u'K11221', u'K11220', u'K11223', u'K11222'],\n",
       " class: entry, name: undefined, type: group, id: 42, KO: [],\n",
       " class: entry, name: undefined, type: group, id: 43, KO: []]"
      ]
     },
     "execution_count": 14,
     "metadata": {},
     "output_type": "execute_result"
    }
   ],
   "source": [
    "# quick property entities (aka get_element_by_class(\"entry\"))\n",
    "path.entities"
   ]
  },
  {
   "cell_type": "code",
   "execution_count": 15,
   "metadata": {
    "collapsed": false,
    "scrolled": true
   },
   "outputs": [
    {
     "data": {
      "text/plain": [
       "[class: entry, name: hsa:4609, type: gene, id: 1, KO: [u'K04377'],\n",
       " class: entry, name: hsa:10000 hsa:207 hsa:208, type: gene, id: 2, KO: [u'K04456'],\n",
       " class: entry, name: hsa:23533 hsa:5290 hsa:5291 hsa:5293 hsa:5294 hsa:5295 hsa:5296 hsa:8503, type: gene, id: 3, KO: [u'K00922', u'K02649'],\n",
       " class: entry, name: hsa:6654 hsa:6655, type: gene, id: 4, KO: [u'K03099'],\n",
       " class: entry, name: hsa:2885, type: gene, id: 5, KO: [u'K04364'],\n",
       " class: entry, name: hsa:1154, type: gene, id: 6, KO: [u'K04701'],\n",
       " class: entry, name: hsa:596, type: gene, id: 7, KO: [u'K02161'],\n",
       " class: entry, name: hsa:122809 hsa:30837 hsa:8651 hsa:8835 hsa:9021 hsa:9306 hsa:9655, type: gene, id: 8, KO: [u'K04696', u'K04697', u'K04694', u'K04695', u'K04698', u'K04699'],\n",
       " class: entry, name: hsa:1387 hsa:2033, type: gene, id: 9, KO: [u'K04498'],\n",
       " class: entry, name: hsa:10379, type: gene, id: 10, KO: [u'K04693'],\n",
       " class: entry, name: hsa:6772 hsa:6773 hsa:6774 hsa:6775 hsa:6776 hsa:6777 hsa:6778, type: gene, id: 11, KO: [u'K04692', u'K11225', u'K11224', u'K11221', u'K11220', u'K11223', u'K11222'],\n",
       " class: entry, name: hsa:10401 hsa:51588 hsa:8554 hsa:9063, type: gene, id: 12, KO: [u'K16064', u'K16065', u'K04706', u'K16063'],\n",
       " class: entry, name: hsa:5777, type: gene, id: 13, KO: [u'K05697'],\n",
       " class: entry, name: hsa:10254 hsa:8027, type: gene, id: 14, KO: [u'K04705'],\n",
       " class: entry, name: hsa:3716 hsa:3717 hsa:3718 hsa:7297, type: gene, id: 15, KO: [u'K11218', u'K11219', u'K04447', u'K11217'],\n",
       " class: entry, name: hsa:2273, type: gene, id: 19, KO: [u'K14365'],\n",
       " class: entry, name: hsa:116379 hsa:1271 hsa:1438 hsa:1439 hsa:1441 hsa:149233 hsa:163702 hsa:2057 hsa:2690 hsa:3454 hsa:3455 hsa:3459 hsa:3460 hsa:3559 hsa:3560 hsa:3561 hsa:3563 hsa:3566 hsa:3568 hsa:3570 hsa:3572 hsa:3575 hsa:3581 hsa:3587 hsa:3588 hsa:3590 hsa:3594 hsa:3595 hsa:3597 hsa:3598 hsa:3601 hsa:3953 hsa:3977 hsa:4352 hsa:50615 hsa:53832 hsa:53833 hsa:5618 hsa:58985 hsa:64109 hsa:9180 hsa:9466, type: gene, id: 22, KO: [u'K05066', u'K04738', u'K05065', u'K05059', u'K05061', u'K05080', u'K05079', u'K05139', u'K05140', u'K05130'],\n",
       " class: entry, name: hsa:5771, type: gene, id: 23, KO: [u'K18026'],\n",
       " class: entry, name: hsa:4170, type: gene, id: 24, KO: [u'K02539'],\n",
       " class: entry, name: hsa:5292, type: gene, id: 27, KO: [u'K04702'],\n",
       " class: entry, name: hsa:595 hsa:894 hsa:896, type: gene, id: 28, KO: [u'K04503', u'K10152', u'K10151'],\n",
       " class: entry, name: hsa:5781, type: gene, id: 29, KO: [u'K07293'],\n",
       " class: entry, name: hsa:1026, type: gene, id: 30, KO: [u'K06625'],\n",
       " class: entry, name: hsa:598, type: gene, id: 31, KO: [u'K04570'],\n",
       " class: entry, name: hsa:3265, type: gene, id: 32, KO: [u'K02833'],\n",
       " class: entry, name: hsa:5894, type: gene, id: 33, KO: [u'K04366'],\n",
       " class: entry, name: hsa:316, type: gene, id: 34, KO: [u'K00157'],\n",
       " class: entry, name: hsa:2475, type: gene, id: 35, KO: [u'K07203'],\n",
       " class: entry, name: hsa:2670, type: gene, id: 36, KO: [u'K05640'],\n",
       " class: entry, name: hsa:5771, type: gene, id: 37, KO: [u'K18026'],\n",
       " class: entry, name: hsa:11009 hsa:1437 hsa:1489 hsa:282616 hsa:282617 hsa:282618 hsa:29949 hsa:338376 hsa:3439 hsa:3440 hsa:3441 hsa:3442 hsa:3443 hsa:3444 hsa:3445 hsa:3446 hsa:3447 hsa:3448 hsa:3449 hsa:3451 hsa:3452 hsa:3456 hsa:3458 hsa:3467 hsa:3558 hsa:3562 hsa:3565 hsa:3567 hsa:3569 hsa:3574 hsa:3578 hsa:3586 hsa:3589 hsa:3592 hsa:3593 hsa:3596 hsa:3600 hsa:3976 hsa:5008 hsa:50604 hsa:50616 hsa:51561 hsa:53342 hsa:56832 hsa:59067 hsa:85480, type: gene, id: 38, KO: [u'K05444', u'K05447', u'K05442', u'K05427', u'K05422', u'K05414'],\n",
       " class: entry, name: hsa:1270 hsa:1440 hsa:1442 hsa:1443 hsa:2056 hsa:2688 hsa:2689 hsa:3952 hsa:5617 hsa:7066, type: gene, id: 39, KO: [u'K06854', u'K05437', u'K05424', u'K05423', u'K05420', u'K05439', u'K05438'],\n",
       " class: entry, name: hsa:6772 hsa:6773 hsa:6774 hsa:6775 hsa:6776 hsa:6777 hsa:6778, type: gene, id: 40, KO: [u'K04692', u'K11225', u'K11224', u'K11221', u'K11220', u'K11223', u'K11222'],\n",
       " class: entry, name: hsa:6772 hsa:6773 hsa:6774 hsa:6775 hsa:6776 hsa:6777 hsa:6778, type: gene, id: 41, KO: [u'K04692', u'K11225', u'K11224', u'K11221', u'K11220', u'K11223', u'K11222']]"
      ]
     },
     "execution_count": 15,
     "metadata": {},
     "output_type": "execute_result"
    }
   ],
   "source": [
    "# quick property gene (aka. get_element_by_name(\"gene\"))\n",
    "path.genes"
   ]
  },
  {
   "cell_type": "code",
   "execution_count": 16,
   "metadata": {
    "collapsed": false,
    "scrolled": true
   },
   "outputs": [
    {
     "data": {
      "text/plain": [
       "[class: relation, props: entry2: 22, entry1: 38, type: PPrel\n",
       " ....class: subtype, props: value: -->, name: activation,\n",
       " class: relation, props: entry2: 22, entry1: 39, type: PPrel\n",
       " ....class: subtype, props: value: -->, name: activation,\n",
       " class: relation, props: entry2: 42, entry1: 9, type: PPrel\n",
       " ....class: subtype, props: value: -->, name: activation,\n",
       " class: relation, props: entry2: 4, entry1: 43, type: PPrel\n",
       " ....class: subtype, props: value: -->, name: activation,\n",
       " class: relation, props: entry2: 32, entry1: 4, type: PPrel\n",
       " ....class: subtype, props: value: -->, name: activation,\n",
       " class: relation, props: entry2: 33, entry1: 32, type: PPrel\n",
       " ....class: subtype, props: value: -->, name: activation,\n",
       " class: relation, props: entry2: 11, entry1: 15, type: PPrel\n",
       " ....class: subtype, props: value: -->, name: activation\n",
       " ....class: subtype, props: value: +p, name: phosphorylation,\n",
       " class: relation, props: entry2: 29, entry1: 15, type: PPrel\n",
       " ....class: subtype, props: value: -->, name: activation\n",
       " ....class: subtype, props: value: +p, name: phosphorylation,\n",
       " class: relation, props: entry2: 3, entry1: 15, type: PPrel\n",
       " ....class: subtype, props: value: -->, name: activation\n",
       " ....class: subtype, props: value: +p, name: phosphorylation,\n",
       " class: relation, props: entry2: 2, entry1: 3, type: PPrel\n",
       " ....class: subtype, props: value: -->, name: activation\n",
       " ....class: subtype, props: value: ..>, name: indirect effect,\n",
       " class: relation, props: entry2: 35, entry1: 2, type: PPrel\n",
       " ....class: subtype, props: value: -->, name: activation\n",
       " ....class: subtype, props: value: ..>, name: indirect effect,\n",
       " class: relation, props: entry2: 42, entry1: 11, type: PPrel\n",
       " ....class: subtype, props: value: ..., name: state change,\n",
       " class: relation, props: entry2: 6, entry1: 42, type: GErel\n",
       " ....class: subtype, props: value: -->, name: expression,\n",
       " class: relation, props: entry2: 7, entry1: 42, type: GErel\n",
       " ....class: subtype, props: value: -->, name: expression,\n",
       " class: relation, props: entry2: 31, entry1: 42, type: GErel\n",
       " ....class: subtype, props: value: -->, name: expression,\n",
       " class: relation, props: entry2: 1, entry1: 42, type: GErel\n",
       " ....class: subtype, props: value: -->, name: expression,\n",
       " class: relation, props: entry2: 30, entry1: 42, type: GErel\n",
       " ....class: subtype, props: value: -->, name: expression,\n",
       " class: relation, props: entry2: 34, entry1: 42, type: GErel\n",
       " ....class: subtype, props: value: -->, name: expression,\n",
       " class: relation, props: entry2: 36, entry1: 42, type: GErel\n",
       " ....class: subtype, props: value: -->, name: expression,\n",
       " class: relation, props: entry2: 8, entry1: 42, type: GErel\n",
       " ....class: subtype, props: value: -->, name: expression,\n",
       " class: relation, props: entry2: 24, entry1: 42, type: GErel\n",
       " ....class: subtype, props: value: -->, name: expression,\n",
       " class: relation, props: entry2: 27, entry1: 42, type: GErel\n",
       " ....class: subtype, props: value: -->, name: expression,\n",
       " class: relation, props: entry2: 28, entry1: 42, type: GErel\n",
       " ....class: subtype, props: value: -->, name: expression,\n",
       " class: relation, props: entry2: 15, entry1: 22, type: PPrel\n",
       " ....class: subtype, props: value: ---, name: binding/association,\n",
       " class: relation, props: entry2: 10, entry1: 42, type: PPrel\n",
       " ....class: subtype, props: value: ---, name: binding/association,\n",
       " class: relation, props: entry2: 42, entry1: 12, type: PPrel\n",
       " ....class: subtype, props: value: --|, name: inhibition,\n",
       " class: relation, props: entry2: 42, entry1: 23, type: PPrel\n",
       " ....class: subtype, props: value: --|, name: inhibition\n",
       " ....class: subtype, props: value: -p, name: dephosphorylation,\n",
       " class: relation, props: entry2: 15, entry1: 37, type: PPrel\n",
       " ....class: subtype, props: value: --|, name: inhibition\n",
       " ....class: subtype, props: value: -p, name: dephosphorylation,\n",
       " class: relation, props: entry2: 15, entry1: 13, type: PPrel\n",
       " ....class: subtype, props: value: --|, name: inhibition\n",
       " ....class: subtype, props: value: -p, name: dephosphorylation,\n",
       " class: relation, props: entry2: 42, entry1: 19, type: PPrel\n",
       " ....class: subtype, props: value: +u, name: ubiquitination,\n",
       " class: relation, props: entry2: 11, entry1: 6, type: PPrel\n",
       " ....class: subtype, props: value: --|, name: inhibition,\n",
       " class: relation, props: entry2: 15, entry1: 8, type: PPrel\n",
       " ....class: subtype, props: value: --|, name: inhibition,\n",
       " class: relation, props: entry2: 15, entry1: 14, type: PPrel\n",
       " ....class: subtype, props: value: -->, name: activation]"
      ]
     },
     "execution_count": 16,
     "metadata": {},
     "output_type": "execute_result"
    }
   ],
   "source": [
    "# quick method reactions (aka. get_element_by_class(\"relation\"))\n",
    "path.reactions"
   ]
  }
 ],
 "metadata": {
  "kernelspec": {
   "display_name": "Python 2",
   "language": "python",
   "name": "python2"
  },
  "language_info": {
   "codemirror_mode": {
    "name": "ipython",
    "version": 2
   },
   "file_extension": ".py",
   "mimetype": "text/x-python",
   "name": "python",
   "nbconvert_exporter": "python",
   "pygments_lexer": "ipython2",
   "version": "2.7.10"
  }
 },
 "nbformat": 4,
 "nbformat_minor": 1
}
