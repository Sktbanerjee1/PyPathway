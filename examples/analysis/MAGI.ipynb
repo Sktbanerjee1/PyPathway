{
 "cells": [
  {
   "cell_type": "markdown",
   "metadata": {},
   "source": [
    "## MAGI\n",
    "the interface, the multithreading and the visualizer"
   ]
  },
  {
   "cell_type": "code",
   "execution_count": 2,
   "metadata": {},
   "outputs": [],
   "source": [
    "from pypathway import MAGI, MAGIExport"
   ]
  },
  {
   "cell_type": "code",
   "execution_count": 3,
   "metadata": {},
   "outputs": [],
   "source": [
    "# the path to the official example folder\n",
    "path = \"../../tests/assets/smaller_magi/\""
   ]
  },
  {
   "cell_type": "code",
   "execution_count": 4,
   "metadata": {
    "scrolled": false
   },
   "outputs": [],
   "source": [
    "MAGI.select_pathway(\n",
    "    path + 'StringNew_HPRD.txt', \n",
    "    path + 'ID_2_Autism_4_Severe_Missense.Clean_WithNew.txt', \n",
    "    path + 'GeneCoExpresion_ID.txt', path + 'adj1.csv.Tab.BinaryFormat', \n",
    "    path + 'New_ESP_Sereve.txt',\n",
    "    path + 'Gene_Name_Length.txt',\n",
    "    rand_seed = 10\n",
    ")"
   ]
  },
  {
   "cell_type": "code",
   "execution_count": 5,
   "metadata": {
    "scrolled": true
   },
   "outputs": [],
   "source": [
    "r = MAGI.cluster(\n",
    "    path + 'StringNew_HPRD.txt', path + 'GeneCoExpresion_ID.txt', \n",
    "    path + 'adj1.csv.Tab.BinaryFormat', 10, 5, 10, 0.3\n",
    ")"
   ]
  },
  {
   "cell_type": "code",
   "execution_count": 11,
   "metadata": {},
   "outputs": [
    {
     "data": {
      "text/plain": [
       "{'GTF2IRD1': {'numSevereMutInCases': '0', 'prob': '0.000000', 'numMissenseMutInCases': '1', 'weightCases': '3.045591', 'numSevereMutInControl': '0', 'weightControl': '0'}, 'CTNNB1': {'numSevereMutInCases': '1', 'prob': '0.000000', 'numMissenseMutInCases': '1', 'weightCases': '6.503305', 'numSevereMutInControl': '0', 'weightControl': '0'}, 'SMAD4': {'numSevereMutInCases': '0', 'prob': '0.000000', 'numMissenseMutInCases': '0', 'weightCases': '0.000000', 'numSevereMutInControl': '0', 'weightControl': '0'}, 'CDC73': {'numSevereMutInCases': '0', 'prob': '0.000000', 'numMissenseMutInCases': '0', 'weightCases': '0.000000', 'numSevereMutInControl': '0', 'weightControl': '0'}, 'HSPA4': {'numSevereMutInCases': '0', 'prob': '0.000000', 'numMissenseMutInCases': '1', 'weightCases': '3.139670', 'numSevereMutInControl': '0', 'weightControl': '0'}, 'SMARCC2': {'numSevereMutInCases': '1', 'prob': '0.000000', 'numMissenseMutInCases': '0', 'weightCases': '3.808325', 'numSevereMutInControl': '1', 'weightControl': '0'}, 'PIAS1': {'numSevereMutInCases': '0', 'prob': '0.000000', 'numMissenseMutInCases': '1', 'weightCases': '3.515701', 'numSevereMutInControl': '0', 'weightControl': '0'}, 'SMAD2': {'numSevereMutInCases': '0', 'prob': '0.000000', 'numMissenseMutInCases': '1', 'weightCases': '2.088150', 'numSevereMutInControl': '0', 'weightControl': '0'}, 'ZMYND11': {'numSevereMutInCases': '1', 'prob': '0.000000', 'numMissenseMutInCases': '0', 'weightCases': '3.822162', 'numSevereMutInControl': '0', 'weightControl': '0'}, 'GATAD2B': {'numSevereMutInCases': '1', 'prob': '0.000000', 'numMissenseMutInCases': '0', 'weightCases': '3.588371', 'numSevereMutInControl': '2', 'weightControl': '0'}}"
      ]
     },
     "execution_count": 11,
     "metadata": {},
     "output_type": "execute_result"
    }
   ],
   "source": [
    "r[0]"
   ]
  },
  {
   "cell_type": "code",
   "execution_count": 7,
   "metadata": {
    "collapsed": true
   },
   "outputs": [],
   "source": [
    "# or export\n",
    "MAGIExport.export(r)"
   ]
  }
 ],
 "metadata": {
  "kernelspec": {
   "display_name": "Python 3",
   "language": "python",
   "name": "python3"
  },
  "language_info": {
   "codemirror_mode": {
    "name": "ipython",
    "version": 3
   },
   "file_extension": ".py",
   "mimetype": "text/x-python",
   "name": "python",
   "nbconvert_exporter": "python",
   "pygments_lexer": "ipython3",
   "version": "3.5.0"
  }
 },
 "nbformat": 4,
 "nbformat_minor": 1
}
