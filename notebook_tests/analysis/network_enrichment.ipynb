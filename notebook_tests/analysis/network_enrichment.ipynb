{
 "cells": [
  {
   "cell_type": "markdown",
   "metadata": {},
   "source": [
    "## SPIA\n",
    "This example demonstrate the usage of the SPIA"
   ]
  },
  {
   "cell_type": "code",
   "execution_count": 2,
   "metadata": {},
   "outputs": [],
   "source": [
    "from pypathway import SPIA, Enrichnet, ColorectalCancer, IdMapping"
   ]
  },
  {
   "cell_type": "code",
   "execution_count": 3,
   "metadata": {},
   "outputs": [],
   "source": [
    "c = ColorectalCancer()"
   ]
  },
  {
   "cell_type": "code",
   "execution_count": 4,
   "metadata": {},
   "outputs": [],
   "source": [
    "# all: python list of background genes\n",
    "# de: python dict, key: gene id, value: fold-change \n",
    "r = SPIA.run(all=c.background, de=c.deg, organism='hsa')"
   ]
  },
  {
   "cell_type": "code",
   "execution_count": 11,
   "metadata": {},
   "outputs": [
    {
     "data": {
      "text/plain": [
       "2027"
      ]
     },
     "execution_count": 11,
     "metadata": {},
     "output_type": "execute_result"
    }
   ],
   "source": [
    "int(round(r.table.sort_values(\"pGFWER\").iloc[0][\"pGFWER\"] * 1e12))"
   ]
  },
  {
   "cell_type": "code",
   "execution_count": 6,
   "metadata": {},
   "outputs": [
    {
     "data": {
      "text/plain": [
       "[\"Alzheimer's disease\",\n",
       " 'Axon guidance',\n",
       " 'Bacterial invasion of epithelial cells',\n",
       " 'ECM-receptor interaction',\n",
       " 'Fc gamma R-mediated phagocytosis',\n",
       " 'Focal adhesion',\n",
       " 'Glutamatergic synapse',\n",
       " \"Huntington's disease\",\n",
       " 'MAPK signaling pathway',\n",
       " 'PPAR signaling pathway',\n",
       " \"Parkinson's disease\",\n",
       " 'Pathogenic Escherichia coli infection',\n",
       " 'Pathways in cancer',\n",
       " 'Regulation of actin cytoskeleton',\n",
       " 'Small cell lung cancer']"
      ]
     },
     "execution_count": 6,
     "metadata": {},
     "output_type": "execute_result"
    }
   ],
   "source": [
    "sorted([str(x) for x in r.plot(data=True)[\"yAxis\"][\"data\"]])"
   ]
  }
 ],
 "metadata": {
  "kernelspec": {
   "display_name": "Python 3",
   "language": "python",
   "name": "python3"
  },
  "language_info": {
   "codemirror_mode": {
    "name": "ipython",
    "version": 3
   },
   "file_extension": ".py",
   "mimetype": "text/x-python",
   "name": "python",
   "nbconvert_exporter": "python",
   "pygments_lexer": "ipython3",
   "version": "3.5.0"
  }
 },
 "nbformat": 4,
 "nbformat_minor": 2
}
