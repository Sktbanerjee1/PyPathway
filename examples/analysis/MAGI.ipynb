{
 "cells": [
  {
   "cell_type": "markdown",
   "metadata": {},
   "source": [
    "## MAGI\n",
    "the interface, the multithreading and the visualizer"
   ]
  },
  {
   "cell_type": "code",
   "execution_count": 1,
   "metadata": {},
   "outputs": [],
   "source": [
    "%load_ext autoreload\n",
    "%autoreload 2"
   ]
  },
  {
   "cell_type": "code",
   "execution_count": 2,
   "metadata": {},
   "outputs": [],
   "source": [
    "# import sys\n",
    "# sys.path.insert(0, \"/Users/yangxu/PyPathway\")\n",
    "from pypathway import MAGI, MAGIExport"
   ]
  },
  {
   "cell_type": "code",
   "execution_count": 1,
   "metadata": {},
   "outputs": [
    {
     "data": {
      "text/plain": [
       "['',\n",
       " '/Users/yangxu/anaconda3/lib/python35.zip',\n",
       " '/Users/yangxu/anaconda3/lib/python3.5',\n",
       " '/Users/yangxu/anaconda3/lib/python3.5/plat-darwin',\n",
       " '/Users/yangxu/anaconda3/lib/python3.5/lib-dynload',\n",
       " '/Users/yangxu/anaconda3/lib/python3.5/site-packages',\n",
       " '/Users/yangxu/anaconda3/lib/python3.5/site-packages/aeosa',\n",
       " '/Users/yangxu/anaconda3/lib/python3.5/site-packages/IPython/extensions',\n",
       " '/Users/yangxu/.ipython']"
      ]
     },
     "execution_count": 1,
     "metadata": {},
     "output_type": "execute_result"
    }
   ],
   "source": [
    "import sys\n",
    "sys.path"
   ]
  },
  {
   "cell_type": "code",
   "execution_count": 3,
   "metadata": {},
   "outputs": [],
   "source": [
    "# the path to the official example folder\n",
    "path = \"/Users/yangxu/PyPathway/tests/assets/smaller_magi/\""
   ]
  },
  {
   "cell_type": "code",
   "execution_count": 4,
   "metadata": {
    "scrolled": true
   },
   "outputs": [],
   "source": [
    "MAGI.select_pathway(\n",
    "    path + 'StringNew_HPRD.txt', \n",
    "    path + 'ID_2_Autism_4_Severe_Missense.Clean_WithNew.txt', \n",
    "    path + 'GeneCoExpresion_ID.txt', path + 'adj1.csv.Tab.BinaryFormat', \n",
    "    path + 'New_ESP_Sereve.txt',\n",
    "    path + 'Gene_Name_Length.txt'\n",
    ")"
   ]
  },
  {
   "cell_type": "code",
   "execution_count": 11,
   "metadata": {
    "scrolled": true
   },
   "outputs": [],
   "source": [
    "r = MAGI.cluster(\n",
    "    path + 'StringNew_HPRD.txt', path + 'GeneCoExpresion_ID.txt', \n",
    "    path + 'adj1.csv.Tab.BinaryFormat', 10, 5, 10, 0.3\n",
    ")"
   ]
  },
  {
   "cell_type": "code",
   "execution_count": 16,
   "metadata": {},
   "outputs": [
    {
     "data": {
      "text/plain": [
       "{'ARID1B',\n",
       " 'HSPA4',\n",
       " 'MDM2',\n",
       " 'MECP2',\n",
       " 'NCOR1',\n",
       " 'PIAS1',\n",
       " 'SMARCC2',\n",
       " 'TBL1XR1',\n",
       " 'VCP',\n",
       " 'ZMYND11'}"
      ]
     },
     "execution_count": 16,
     "metadata": {},
     "output_type": "execute_result"
    }
   ],
   "source": [
    "set(r[0].genes.keys())"
   ]
  },
  {
   "cell_type": "code",
   "execution_count": 7,
   "metadata": {
    "collapsed": true
   },
   "outputs": [],
   "source": [
    "# or export\n",
    "MAGIExport.export(r)"
   ]
  }
 ],
 "metadata": {
  "kernelspec": {
   "display_name": "Python 3",
   "language": "python",
   "name": "python3"
  },
  "language_info": {
   "codemirror_mode": {
    "name": "ipython",
    "version": 3
   },
   "file_extension": ".py",
   "mimetype": "text/x-python",
   "name": "python",
   "nbconvert_exporter": "python",
   "pygments_lexer": "ipython3",
   "version": "3.5.0"
  }
 },
 "nbformat": 4,
 "nbformat_minor": 1
}
