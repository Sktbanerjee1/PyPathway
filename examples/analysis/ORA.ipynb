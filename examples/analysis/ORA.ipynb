{
 "cells": [
  {
   "cell_type": "markdown",
   "metadata": {},
   "source": [
    "# ORA\n",
    "the general and specfic for KEGG, REACTOME and GO"
   ]
  },
  {
   "cell_type": "code",
   "execution_count": 1,
   "metadata": {
    "collapsed": true
   },
   "outputs": [],
   "source": [
    "import sys\n",
    "import pandas as pd\n",
    "sys.path.append('/Users/yangxu/PyPathway')"
   ]
  },
  {
   "cell_type": "code",
   "execution_count": 2,
   "metadata": {
    "collapsed": true
   },
   "outputs": [],
   "source": [
    "from pypathway import Reactome, GO, KEGG, ORA\n",
    "from pypathway import ColorectalCancer, IdMapping, GMTUtils\n",
    "from pypathway import EnrichmentExport"
   ]
  },
  {
   "cell_type": "code",
   "execution_count": 3,
   "metadata": {
    "collapsed": true
   },
   "outputs": [],
   "source": [
    "# load a gmt file.\n",
    "gmt = GMTUtils.parse_gmt_file(\"../../pypathway/tests/gmt_file/h.all.v6.0.entrez.gmt\")"
   ]
  },
  {
   "cell_type": "code",
   "execution_count": 4,
   "metadata": {
    "collapsed": true
   },
   "outputs": [],
   "source": [
    "# load the example\n",
    "c = ColorectalCancer()"
   ]
  },
  {
   "cell_type": "code",
   "execution_count": 5,
   "metadata": {},
   "outputs": [
    {
     "data": {
      "text/plain": [
       "(5320, 17216)"
      ]
     },
     "execution_count": 5,
     "metadata": {},
     "output_type": "execute_result"
    }
   ],
   "source": [
    "# infomation of datasets\n",
    "len(c.deg_list), len(c.background)"
   ]
  },
  {
   "cell_type": "code",
   "execution_count": 6,
   "metadata": {
    "collapsed": true,
    "scrolled": false
   },
   "outputs": [],
   "source": [
    "res_h = ORA.run(c.deg_list, c.background, gmt)"
   ]
  },
  {
   "cell_type": "code",
   "execution_count": 8,
   "metadata": {},
   "outputs": [
    {
     "data": {
      "text/html": [
       "<div>\n",
       "<table border=\"1\" class=\"dataframe\">\n",
       "  <thead>\n",
       "    <tr style=\"text-align: right;\">\n",
       "      <th></th>\n",
       "      <th>name</th>\n",
       "      <th>mapped</th>\n",
       "      <th>number in study</th>\n",
       "      <th>p-value</th>\n",
       "      <th>fdr</th>\n",
       "    </tr>\n",
       "  </thead>\n",
       "  <tbody>\n",
       "    <tr>\n",
       "      <th>0</th>\n",
       "      <td>HALLMARK_GLYCOLYSIS</td>\n",
       "      <td>184</td>\n",
       "      <td>91</td>\n",
       "      <td>9.956407e-08</td>\n",
       "      <td>3.555860e-07</td>\n",
       "    </tr>\n",
       "    <tr>\n",
       "      <th>1</th>\n",
       "      <td>HALLMARK_HEME_METABOLISM</td>\n",
       "      <td>180</td>\n",
       "      <td>86</td>\n",
       "      <td>1.426538e-06</td>\n",
       "      <td>3.962605e-06</td>\n",
       "    </tr>\n",
       "    <tr>\n",
       "      <th>2</th>\n",
       "      <td>HALLMARK_HEDGEHOG_SIGNALING</td>\n",
       "      <td>36</td>\n",
       "      <td>16</td>\n",
       "      <td>6.011661e-02</td>\n",
       "      <td>8.588088e-02</td>\n",
       "    </tr>\n",
       "    <tr>\n",
       "      <th>3</th>\n",
       "      <td>HALLMARK_XENOBIOTIC_METABOLISM</td>\n",
       "      <td>191</td>\n",
       "      <td>103</td>\n",
       "      <td>2.703391e-11</td>\n",
       "      <td>2.703391e-10</td>\n",
       "    </tr>\n",
       "    <tr>\n",
       "      <th>4</th>\n",
       "      <td>HALLMARK_HYPOXIA</td>\n",
       "      <td>180</td>\n",
       "      <td>98</td>\n",
       "      <td>3.951669e-11</td>\n",
       "      <td>2.822620e-10</td>\n",
       "    </tr>\n",
       "  </tbody>\n",
       "</table>\n",
       "</div>"
      ],
      "text/plain": [
       "                             name  mapped  number in study       p-value  \\\n",
       "0             HALLMARK_GLYCOLYSIS     184               91  9.956407e-08   \n",
       "1        HALLMARK_HEME_METABOLISM     180               86  1.426538e-06   \n",
       "2     HALLMARK_HEDGEHOG_SIGNALING      36               16  6.011661e-02   \n",
       "3  HALLMARK_XENOBIOTIC_METABOLISM     191              103  2.703391e-11   \n",
       "4                HALLMARK_HYPOXIA     180               98  3.951669e-11   \n",
       "\n",
       "            fdr  \n",
       "0  3.555860e-07  \n",
       "1  3.962605e-06  \n",
       "2  8.588088e-02  \n",
       "3  2.703391e-10  \n",
       "4  2.822620e-10  "
      ]
     },
     "execution_count": 8,
     "metadata": {},
     "output_type": "execute_result"
    }
   ],
   "source": [
    "res_h.table.head()"
   ]
  },
  {
   "cell_type": "code",
   "execution_count": 9,
   "metadata": {},
   "outputs": [
    {
     "data": {
      "text/html": [
       "<div id=\"box1504408266751798\" style=\"width: 100%; height: 0px;background-color: #ffffff\">\n",
       "    <script>\n",
       "        var box = $(\"#box1504408266751798\");\n",
       "        var father = box.parent();\n",
       "//        var grandfather = father.parent();\n",
       "        var thirdfather = father.parent().parent().parent();\n",
       "        thirdfather.children(\".prompt\").remove();\n",
       "        father.parent().children(\".prompt\").remove();\n",
       "        father.css(\"max-width\", \"100%\");\n",
       "        box.css(\"margin-left\", \"5px\");\n",
       "        var target = document.getElementById(\"box1504408266751798\");\n",
       "//        var w = target.offsetWidth;\n",
       "        var w = thirdfather.outerWidth();\n",
       "        console.log(w);\n",
       "        target.style.height = w * 0.6 + \"px\";\n",
       "        box.append($(\"<iframe width='\" + (parseInt(w) - 15).toString() + \"'\" +\n",
       "                \" height='\" + w * 0.6 + \"' src='assets/plot/plot_1504408266751798.html' \" +\n",
       "                \"frameborder='0'></iframe>\"))\n",
       "    </script>\n",
       "</div>"
      ],
      "text/plain": [
       "<IPython.core.display.HTML object>"
      ]
     },
     "execution_count": 9,
     "metadata": {},
     "output_type": "execute_result"
    }
   ],
   "source": [
    "# inline bar plot.\n",
    "res_h.plot()"
   ]
  },
  {
   "cell_type": "markdown",
   "metadata": {},
   "source": [
    "## KEGG"
   ]
  },
  {
   "cell_type": "code",
   "execution_count": 11,
   "metadata": {
    "collapsed": true,
    "scrolled": false
   },
   "outputs": [],
   "source": [
    "# kegg enrichment for certain organism\n",
    "r_kg = KEGG.run(c.deg_list, c.background, 'hsa')"
   ]
  },
  {
   "cell_type": "code",
   "execution_count": 12,
   "metadata": {},
   "outputs": [
    {
     "data": {
      "text/html": [
       "<div>\n",
       "<table border=\"1\" class=\"dataframe\">\n",
       "  <thead>\n",
       "    <tr style=\"text-align: right;\">\n",
       "      <th></th>\n",
       "      <th>ID</th>\n",
       "      <th>Name</th>\n",
       "      <th>mapped</th>\n",
       "      <th>deg</th>\n",
       "      <th>p-value</th>\n",
       "      <th>fdr</th>\n",
       "    </tr>\n",
       "  </thead>\n",
       "  <tbody>\n",
       "    <tr>\n",
       "      <th>0</th>\n",
       "      <td>hsa00380</td>\n",
       "      <td>Tryptophan metabolism - Homo sapiens (human)</td>\n",
       "      <td>38</td>\n",
       "      <td>19</td>\n",
       "      <td>0.010641</td>\n",
       "      <td>0.043101</td>\n",
       "    </tr>\n",
       "    <tr>\n",
       "      <th>1</th>\n",
       "      <td>hsa04911</td>\n",
       "      <td>Insulin secretion - Homo sapiens (human)</td>\n",
       "      <td>75</td>\n",
       "      <td>28</td>\n",
       "      <td>0.139888</td>\n",
       "      <td>0.258753</td>\n",
       "    </tr>\n",
       "    <tr>\n",
       "      <th>2</th>\n",
       "      <td>hsa01524</td>\n",
       "      <td>Platinum drug resistance - Homo sapiens (human)</td>\n",
       "      <td>65</td>\n",
       "      <td>23</td>\n",
       "      <td>0.255051</td>\n",
       "      <td>0.390508</td>\n",
       "    </tr>\n",
       "    <tr>\n",
       "      <th>3</th>\n",
       "      <td>hsa00440</td>\n",
       "      <td>Phosphonate and phosphinate metabolism - Homo ...</td>\n",
       "      <td>5</td>\n",
       "      <td>2</td>\n",
       "      <td>0.490263</td>\n",
       "      <td>0.642968</td>\n",
       "    </tr>\n",
       "    <tr>\n",
       "      <th>4</th>\n",
       "      <td>hsa00561</td>\n",
       "      <td>Glycerolipid metabolism - Homo sapiens (human)</td>\n",
       "      <td>57</td>\n",
       "      <td>33</td>\n",
       "      <td>0.000022</td>\n",
       "      <td>0.000349</td>\n",
       "    </tr>\n",
       "  </tbody>\n",
       "</table>\n",
       "</div>"
      ],
      "text/plain": [
       "         ID                                               Name  mapped  deg  \\\n",
       "0  hsa00380       Tryptophan metabolism - Homo sapiens (human)      38   19   \n",
       "1  hsa04911           Insulin secretion - Homo sapiens (human)      75   28   \n",
       "2  hsa01524    Platinum drug resistance - Homo sapiens (human)      65   23   \n",
       "3  hsa00440  Phosphonate and phosphinate metabolism - Homo ...       5    2   \n",
       "4  hsa00561     Glycerolipid metabolism - Homo sapiens (human)      57   33   \n",
       "\n",
       "    p-value       fdr  \n",
       "0  0.010641  0.043101  \n",
       "1  0.139888  0.258753  \n",
       "2  0.255051  0.390508  \n",
       "3  0.490263  0.642968  \n",
       "4  0.000022  0.000349  "
      ]
     },
     "execution_count": 12,
     "metadata": {},
     "output_type": "execute_result"
    }
   ],
   "source": [
    "r_kg.table.head()"
   ]
  },
  {
   "cell_type": "code",
   "execution_count": 13,
   "metadata": {},
   "outputs": [
    {
     "data": {
      "text/html": [
       "<div id=\"box1504408310642493\" style=\"width: 100%; height: 0px;background-color: #ffffff\">\n",
       "    <script>\n",
       "        var box = $(\"#box1504408310642493\");\n",
       "        var father = box.parent();\n",
       "//        var grandfather = father.parent();\n",
       "        var thirdfather = father.parent().parent().parent();\n",
       "        thirdfather.children(\".prompt\").remove();\n",
       "        father.parent().children(\".prompt\").remove();\n",
       "        father.css(\"max-width\", \"100%\");\n",
       "        box.css(\"margin-left\", \"5px\");\n",
       "        var target = document.getElementById(\"box1504408310642493\");\n",
       "//        var w = target.offsetWidth;\n",
       "        var w = thirdfather.outerWidth();\n",
       "        console.log(w);\n",
       "        target.style.height = w * 0.6 + \"px\";\n",
       "        box.append($(\"<iframe width='\" + (parseInt(w) - 15).toString() + \"'\" +\n",
       "                \" height='\" + w * 0.6 + \"' src='assets/plot/plot_1504408310642493.html' \" +\n",
       "                \"frameborder='0'></iframe>\"))\n",
       "    </script>\n",
       "</div>"
      ],
      "text/plain": [
       "<IPython.core.display.HTML object>"
      ]
     },
     "execution_count": 13,
     "metadata": {},
     "output_type": "execute_result"
    }
   ],
   "source": [
    "r_kg.plot()"
   ]
  },
  {
   "cell_type": "markdown",
   "metadata": {},
   "source": [
    "## Reactome"
   ]
  },
  {
   "cell_type": "code",
   "execution_count": 15,
   "metadata": {
    "collapsed": true
   },
   "outputs": [],
   "source": [
    "# the Example of using the warpper of Reactome gene set enrichment analysis"
   ]
  },
  {
   "cell_type": "code",
   "execution_count": 16,
   "metadata": {
    "collapsed": true
   },
   "outputs": [],
   "source": [
    "sybs = [x[1][0] for x in IdMapping.convert(input_id=c.deg_list, organism='hsa', source='ENTREZID', target='SYMBOL') if x[1]]"
   ]
  },
  {
   "cell_type": "code",
   "execution_count": 17,
   "metadata": {
    "scrolled": false
   },
   "outputs": [
    {
     "name": "stdout",
     "output_type": "stream",
     "text": [
      "4\n"
     ]
    }
   ],
   "source": [
    "# the input is a list of symbol\n",
    "r = Reactome.run(sybs[:10], organism='Homo sapiens')"
   ]
  },
  {
   "cell_type": "code",
   "execution_count": 19,
   "metadata": {
    "scrolled": true
   },
   "outputs": [
    {
     "data": {
      "text/html": [
       "<div>\n",
       "<table border=\"1\" class=\"dataframe\">\n",
       "  <thead>\n",
       "    <tr style=\"text-align: right;\">\n",
       "      <th></th>\n",
       "      <th>name</th>\n",
       "      <th>dbId</th>\n",
       "      <th>found</th>\n",
       "      <th>p-value</th>\n",
       "      <th>fdr</th>\n",
       "      <th>species</th>\n",
       "    </tr>\n",
       "  </thead>\n",
       "  <tbody>\n",
       "    <tr>\n",
       "      <th>0</th>\n",
       "      <td>Acetylation</td>\n",
       "      <td>156582</td>\n",
       "      <td>2</td>\n",
       "      <td>0.000722</td>\n",
       "      <td>0.031066</td>\n",
       "      <td>Homo sapiens</td>\n",
       "    </tr>\n",
       "    <tr>\n",
       "      <th>1</th>\n",
       "      <td>Defective SLC6A2 causes orthostatic intoleranc...</td>\n",
       "      <td>5619109</td>\n",
       "      <td>1</td>\n",
       "      <td>0.007301</td>\n",
       "      <td>0.153318</td>\n",
       "      <td>Homo sapiens</td>\n",
       "    </tr>\n",
       "    <tr>\n",
       "      <th>2</th>\n",
       "      <td>Amino acid transport across the plasma membrane</td>\n",
       "      <td>352230</td>\n",
       "      <td>2</td>\n",
       "      <td>0.012057</td>\n",
       "      <td>0.168804</td>\n",
       "      <td>Homo sapiens</td>\n",
       "    </tr>\n",
       "    <tr>\n",
       "      <th>3</th>\n",
       "      <td>Neurotransmitter uptake and metabolism In glia...</td>\n",
       "      <td>112313</td>\n",
       "      <td>1</td>\n",
       "      <td>0.024136</td>\n",
       "      <td>0.184060</td>\n",
       "      <td>Homo sapiens</td>\n",
       "    </tr>\n",
       "    <tr>\n",
       "      <th>4</th>\n",
       "      <td>Astrocytic Glutamate-Glutamine Uptake And Meta...</td>\n",
       "      <td>210455</td>\n",
       "      <td>1</td>\n",
       "      <td>0.024136</td>\n",
       "      <td>0.184060</td>\n",
       "      <td>Homo sapiens</td>\n",
       "    </tr>\n",
       "  </tbody>\n",
       "</table>\n",
       "</div>"
      ],
      "text/plain": [
       "                                                name     dbId  found  \\\n",
       "0                                        Acetylation   156582      2   \n",
       "1  Defective SLC6A2 causes orthostatic intoleranc...  5619109      1   \n",
       "2    Amino acid transport across the plasma membrane   352230      2   \n",
       "3  Neurotransmitter uptake and metabolism In glia...   112313      1   \n",
       "4  Astrocytic Glutamate-Glutamine Uptake And Meta...   210455      1   \n",
       "\n",
       "    p-value       fdr       species  \n",
       "0  0.000722  0.031066  Homo sapiens  \n",
       "1  0.007301  0.153318  Homo sapiens  \n",
       "2  0.012057  0.168804  Homo sapiens  \n",
       "3  0.024136  0.184060  Homo sapiens  \n",
       "4  0.024136  0.184060  Homo sapiens  "
      ]
     },
     "execution_count": 19,
     "metadata": {},
     "output_type": "execute_result"
    }
   ],
   "source": [
    "# the result\n",
    "r.table.head()"
   ]
  },
  {
   "cell_type": "markdown",
   "metadata": {},
   "source": [
    "## Gene ontology"
   ]
  },
  {
   "cell_type": "code",
   "execution_count": 21,
   "metadata": {
    "collapsed": true
   },
   "outputs": [],
   "source": [
    "# make the association file using the id_mapping function\n",
    "# detail using will be shown in the utils section\n",
    "r = IdMapping.convert_to_dict(input_id=c.background, source='ENTREZID', target=\"GO\", organism='hsa')"
   ]
  },
  {
   "cell_type": "code",
   "execution_count": 22,
   "metadata": {
    "scrolled": false
   },
   "outputs": [
    {
     "name": "stdout",
     "output_type": "stream",
     "text": [
      "load obo file /Users/yangxu/goatools/go-basic.obo\n",
      "/Users/yangxu/goatools/go-basic.obo: fmt(1.2) rel(2017-04-28) 48,589 GO Terms\n",
      "fisher module not installed.  Falling back on scipy.stats.fisher_exact\n"
     ]
    },
    {
     "name": "stderr",
     "output_type": "stream",
     "text": [
      "Propagating term counts to parents ..\n"
     ]
    },
    {
     "name": "stdout",
     "output_type": "stream",
     "text": [
      "15,253 out of 17,216 population items found in association\n",
      "Calculating uncorrected p-values using fisher_scipy_stats\n",
      " 5,104 out of  5,320 study items found in association\n",
      "Running multitest correction: local bonferroni\n",
      "Running multitest correction: local sidak\n",
      "Running multitest correction: local holm\n",
      "  15,739 GO terms are associated with 5,104 of 5,320 study items\n",
      "  20,709 GO terms are associated with 15,253 of 17,216 population items\n"
     ]
    }
   ],
   "source": [
    "# run go enrichment analysis via goatools \n",
    "# the inputs of study, pop, and assoc is list, list,  dict.\n",
    "# the path is the folder of go obo file\n",
    "path = 'path_to_obo'\n",
    "rg = GO.run([str(x) for x in c.deg_list], [str(x) for x in c.background], r, obo=path)"
   ]
  },
  {
   "cell_type": "code",
   "execution_count": 23,
   "metadata": {
    "scrolled": true
   },
   "outputs": [
    {
     "name": "stdout",
     "output_type": "stream",
     "text": [
      "load obo file /Users/yangxu/goatools/go-basic.obo\n",
      "/Users/yangxu/goatools/go-basic.obo: fmt(1.2) rel(2017-04-28) 48,589 GO Terms\n",
      "fisher module not installed.  Falling back on scipy.stats.fisher_exact\n"
     ]
    },
    {
     "name": "stderr",
     "output_type": "stream",
     "text": [
      "Propagating term counts to parents ..\n",
      "terms not found: {'GO:0022627', 'GO:0022625'}\n"
     ]
    },
    {
     "name": "stdout",
     "output_type": "stream",
     "text": [
      "31,855 out of 33,239 population items found in association\n",
      "Calculating uncorrected p-values using fisher_scipy_stats\n",
      "   269 out of    276 study items found in association\n",
      "Running multitest correction: local bonferroni\n",
      "Running multitest correction: local sidak\n",
      "Running multitest correction: local holm\n",
      "  797 GO terms are associated with 269 of 276 study items\n",
      "  6,122 GO terms are associated with 31,855 of 33,239 population items\n"
     ]
    }
   ],
   "source": [
    "# the file input of study, pop and assoc\n",
    "# this function is the warpper of the Goatools\n",
    "# Github: https://github.com/tanghaibao/goatools\n",
    "# cite: Haibao Tang et al. (2015). GOATOOLS: Tools for Gene Ontology. Zenodo. 10.5281/zenodo.31628.\n",
    "\n",
    "path = \"path_tO_goatools_dir\"\n",
    "rg = GO.run(path + 'data/study', path + 'data/population', path + 'data/association',\n",
    "        obo=path + 'go-basic.obo')"
   ]
  },
  {
   "cell_type": "code",
   "execution_count": 24,
   "metadata": {},
   "outputs": [
    {
     "data": {
      "text/html": [
       "<div>\n",
       "<table border=\"1\" class=\"dataframe\">\n",
       "  <thead>\n",
       "    <tr style=\"text-align: right;\">\n",
       "      <th></th>\n",
       "      <th>GO</th>\n",
       "      <th>NS</th>\n",
       "      <th>enrichment</th>\n",
       "      <th>name</th>\n",
       "      <th>ratio_in_study</th>\n",
       "      <th>ratio_in_pop</th>\n",
       "      <th>p_uncorrected</th>\n",
       "      <th>depth</th>\n",
       "      <th>study_count</th>\n",
       "      <th>p_bonferroni</th>\n",
       "      <th>p_sidak</th>\n",
       "      <th>p_holm</th>\n",
       "    </tr>\n",
       "  </thead>\n",
       "  <tbody>\n",
       "    <tr>\n",
       "      <th>0</th>\n",
       "      <td>GO:0036211</td>\n",
       "      <td>BP</td>\n",
       "      <td>e</td>\n",
       "      <td>protein modification process</td>\n",
       "      <td>33/276</td>\n",
       "      <td>1727/33239</td>\n",
       "      <td>0.000008</td>\n",
       "      <td>n.a.</td>\n",
       "      <td>33</td>\n",
       "      <td>0.0505</td>\n",
       "      <td>0.0492</td>\n",
       "      <td>0.0505</td>\n",
       "    </tr>\n",
       "    <tr>\n",
       "      <th>1</th>\n",
       "      <td>GO:0006464</td>\n",
       "      <td>BP</td>\n",
       "      <td>e</td>\n",
       "      <td>cellular protein modification process</td>\n",
       "      <td>33/276</td>\n",
       "      <td>1727/33239</td>\n",
       "      <td>0.000008</td>\n",
       "      <td>n.a.</td>\n",
       "      <td>33</td>\n",
       "      <td>0.0505</td>\n",
       "      <td>0.0492</td>\n",
       "      <td>0.0505</td>\n",
       "    </tr>\n",
       "    <tr>\n",
       "      <th>2</th>\n",
       "      <td>GO:0006468</td>\n",
       "      <td>BP</td>\n",
       "      <td>e</td>\n",
       "      <td>protein phosphorylation</td>\n",
       "      <td>22/276</td>\n",
       "      <td>922/33239</td>\n",
       "      <td>0.000011</td>\n",
       "      <td>n.a.</td>\n",
       "      <td>22</td>\n",
       "      <td>0.0660</td>\n",
       "      <td>0.0643</td>\n",
       "      <td>0.0660</td>\n",
       "    </tr>\n",
       "    <tr>\n",
       "      <th>3</th>\n",
       "      <td>GO:0016310</td>\n",
       "      <td>BP</td>\n",
       "      <td>e</td>\n",
       "      <td>phosphorylation</td>\n",
       "      <td>22/276</td>\n",
       "      <td>996/33239</td>\n",
       "      <td>0.000035</td>\n",
       "      <td>n.a.</td>\n",
       "      <td>22</td>\n",
       "      <td>0.2130</td>\n",
       "      <td>0.2070</td>\n",
       "      <td>0.2120</td>\n",
       "    </tr>\n",
       "    <tr>\n",
       "      <th>4</th>\n",
       "      <td>GO:0043412</td>\n",
       "      <td>BP</td>\n",
       "      <td>e</td>\n",
       "      <td>macromolecule modification</td>\n",
       "      <td>33/276</td>\n",
       "      <td>1877/33239</td>\n",
       "      <td>0.000057</td>\n",
       "      <td>n.a.</td>\n",
       "      <td>33</td>\n",
       "      <td>0.3510</td>\n",
       "      <td>0.3420</td>\n",
       "      <td>0.3510</td>\n",
       "    </tr>\n",
       "  </tbody>\n",
       "</table>\n",
       "</div>"
      ],
      "text/plain": [
       "           GO  NS enrichment                                   name  \\\n",
       "0  GO:0036211  BP          e           protein modification process   \n",
       "1  GO:0006464  BP          e  cellular protein modification process   \n",
       "2  GO:0006468  BP          e                protein phosphorylation   \n",
       "3  GO:0016310  BP          e                        phosphorylation   \n",
       "4  GO:0043412  BP          e             macromolecule modification   \n",
       "\n",
       "  ratio_in_study ratio_in_pop  p_uncorrected depth  study_count  p_bonferroni  \\\n",
       "0         33/276   1727/33239       0.000008  n.a.           33        0.0505   \n",
       "1         33/276   1727/33239       0.000008  n.a.           33        0.0505   \n",
       "2         22/276    922/33239       0.000011  n.a.           22        0.0660   \n",
       "3         22/276    996/33239       0.000035  n.a.           22        0.2130   \n",
       "4         33/276   1877/33239       0.000057  n.a.           33        0.3510   \n",
       "\n",
       "   p_sidak  p_holm  \n",
       "0   0.0492  0.0505  \n",
       "1   0.0492  0.0505  \n",
       "2   0.0643  0.0660  \n",
       "3   0.2070  0.2120  \n",
       "4   0.3420  0.3510  "
      ]
     },
     "execution_count": 24,
     "metadata": {},
     "output_type": "execute_result"
    }
   ],
   "source": [
    "rg.table.head()"
   ]
  },
  {
   "cell_type": "code",
   "execution_count": 25,
   "metadata": {},
   "outputs": [
    {
     "data": {
      "text/html": [
       "<div id=\"box1504408590\" style=\"width: 100%; height: 0px;background-color: #ffffff\">\n",
       "    <script>\n",
       "        var box = $(\"#box1504408590\");\n",
       "        var father = box.parent();\n",
       "        var thirdfather = father.parent().parent().parent();\n",
       "        thirdfather.children(\".prompt\").remove();\n",
       "        father.parent().children(\".prompt\").remove();\n",
       "        father.css(\"max-width\", \"100%\");\n",
       "        box.css(\"margin-left\", \"5px\");\n",
       "        box.css(\"margin-top\", \"3px\");\n",
       "        var target = document.getElementById(\"box1504408590\");\n",
       "        var w = thirdfather.outerWidth();\n",
       "        console.log(w);\n",
       "        target.style.height = w * 0.625 + \"px\";\n",
       "        box.append($(\"<iframe id='inner-iframe' width='\" + (parseInt(w) - 15).toString() + \"'\" +\n",
       "                \" height='\" + w * 0.625 + \"' src=files/caches/cy_plot/index.html \" +\n",
       "                \"frameborder='0'></iframe>\"));\n",
       "        window.onresize = function () {\n",
       "            console.log(\"resize\", thirdfather.outerWidth());\n",
       "            var inner_frame = $(\"#inner-iframe\");\n",
       "            inner_frame.css(\"width\", thirdfather.outerWidth() - 15 + \"px\");\n",
       "            inner_frame.css(\"height\", thirdfather.outerWidth() * 0.625 + \"px\");\n",
       "            father.css(\"height\", thirdfather.outerWidth() * 0.625 + 8 + \"px\");\n",
       "            thirdfather.css(\"height\", thirdfather.outerWidth() * 0.625 + 8 + \"px\");\n",
       "            father.parent().css(\"height\", thirdfather.outerWidth() * 0.625 + 8 + \"px\");\n",
       "        }\n",
       "    </script>\n",
       "</div>"
      ],
      "text/plain": [
       "<IPython.core.display.HTML object>"
      ]
     },
     "execution_count": 25,
     "metadata": {},
     "output_type": "execute_result"
    }
   ],
   "source": [
    "# the interactive graph display the significance of the result by color\n",
    "rg.graph()"
   ]
  },
  {
   "cell_type": "code",
   "execution_count": 26,
   "metadata": {
    "collapsed": true
   },
   "outputs": [],
   "source": [
    "# test export\n",
    "c = EnrichmentExport.export([rg, rg])"
   ]
  }
 ],
 "metadata": {
  "kernelspec": {
   "display_name": "Python 3",
   "language": "python",
   "name": "python3"
  },
  "language_info": {
   "codemirror_mode": {
    "name": "ipython",
    "version": 3
   },
   "file_extension": ".py",
   "mimetype": "text/x-python",
   "name": "python",
   "nbconvert_exporter": "python",
   "pygments_lexer": "ipython3",
   "version": "3.5.2"
  }
 },
 "nbformat": 4,
 "nbformat_minor": 2
}
