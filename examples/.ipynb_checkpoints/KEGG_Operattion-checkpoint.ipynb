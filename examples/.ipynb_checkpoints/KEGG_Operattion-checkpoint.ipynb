{
 "cells": [
  {
   "cell_type": "code",
   "execution_count": 1,
   "metadata": {
    "collapsed": true
   },
   "outputs": [],
   "source": [
    "from pypathway import *"
   ]
  },
  {
   "cell_type": "code",
   "execution_count": 2,
   "metadata": {
    "collapsed": false
   },
   "outputs": [],
   "source": [
    "path = PublicDatabase.search_kegg(\"jak\", organism=\"hsa\")[0].load()"
   ]
  },
  {
   "cell_type": "code",
   "execution_count": 3,
   "metadata": {
    "collapsed": false
   },
   "outputs": [
    {
     "data": {
      "text/plain": [
       "class: pathway, name: path:hsa04630, title: Jak-STAT signaling pathway"
      ]
     },
     "execution_count": 3,
     "metadata": {},
     "output_type": "execute_result"
    }
   ],
   "source": [
    "# screen pathway basic information from __repr__ method\n",
    "path"
   ]
  },
  {
   "cell_type": "code",
   "execution_count": 4,
   "metadata": {
    "collapsed": false,
    "scrolled": true
   },
   "outputs": [
    {
     "name": "stdout",
     "output_type": "stream",
     "text": [
      "class: pathway, props: name: path:hsa04630, org: hsa, image: http://www.kegg.jp/kegg/pathway/hsa/hsa04630.png, title: Jak-STAT signaling pathway, yrange: 803, xrange: 1273, number: 04630\n",
      "....class: entry, props: name: hsa:4609, color: black, bg_color: white, id: 1, scale: 1, type: gene, opacity: 1, add_name: MYC\n",
      "........class: graphics, props: fgcolor: #000000, name: MYC, MRTL, MYCC, bHLHe39, c-Myc, x: 900.0, type: rectangle, width: 46.0, y: 240.0, height: 17.0\n",
      "....class: entry, props: name: hsa:10000 hsa:207 hsa:208, color: black, bg_color: white, id: 2, scale: 1, type: gene, opacity: 1, add_name: AKT\n",
      "........class: graphics, props: fgcolor: #000000, name: AKT3, MPPH, MPPH2, PKB-GAMMA, PKBG, PRKBG, RAC-PK-gamma, RAC-gamma, STK-2..., x: 429.0, type: rectangle, width: 46.0, y: 427.0, height: 17.0\n",
      "....class: entry, props: name: hsa:23533 hsa:5290 hsa:5291 hsa:5293 hsa:5294 hsa:5295 hsa:5296 hsa:8503, color: black, bg_color: white, id: 3, scale: 1, type: gene, opacity: 1, add_name: PIK3C\n",
      "........class: graphics, props: fgcolor: #000000, name: PIK3R5, F730038I15Rik, FOAP-2, P101-PI3K, p101..., x: 346.0, type: rectangle, width: 46.0, y: 426.0, height: 17.0\n",
      "....class: entry, props: name: hsa:6654 hsa:6655, color: black, bg_color: white, id: 4, scale: 1, type: gene, opacity: 1, add_name: SOS\n",
      "........class: graphics, props: fgcolor: #000000, name: SOS1, GF1, GGF1, GINGF, HGF, NS4..., x: 429.0, type: rectangle, width: 46.0, y: 361.0, height: 17.0\n",
      "....class: entry, props: name: hsa:2885, color: black, bg_color: white, id: 5, scale: 1, type: gene, opacity: 1, add_name: GRB2\n",
      "........class: graphics, props: fgcolor: #000000, name: GRB2, ASH, EGFRBP-GRB2, Grb3-3, MST084, MSTP084, NCKAP2, x: 346.0, type: rectangle, width: 46.0, y: 369.0, height: 17.0\n",
      "....class: entry, props: name: hsa:1154, color: black, bg_color: white, id: 6, scale: 1, type: gene, opacity: 1, add_name: CISH\n",
      "........class: graphics, props: fgcolor: #000000, name: CISH, BACTS2, CIS, CIS-1, G18, SOCS, x: 900.0, type: rectangle, width: 46.0, y: 174.0, height: 17.0\n",
      "....class: entry, props: name: hsa:596, color: black, bg_color: white, id: 7, scale: 1, type: gene, opacity: 1, add_name: BCL2\n",
      "........class: graphics, props: fgcolor: #000000, name: BCL2, Bcl-2, PPP1R50, x: 900.0, type: rectangle, width: 46.0, y: 197.0, height: 17.0\n",
      "....class: entry, props: name: hsa:122809 hsa:30837 hsa:8651 hsa:8835 hsa:9021 hsa:9306 hsa:9655, color: black, bg_color: white, id: 8, scale: 1, type: gene, opacity: 1, add_name: SOCS1\n",
      "........class: graphics, props: fgcolor: #000000, name: SOCS4, SOCS7..., x: 948.0, type: rectangle, width: 46.0, y: 174.0, height: 17.0\n",
      "....class: entry, props: name: hsa:1387 hsa:2033, color: black, bg_color: white, id: 9, scale: 1, type: gene, opacity: 1, add_name: EP300\n",
      "........class: graphics, props: fgcolor: #000000, name: CREBBP, CBP, KAT3A, RSTS..., x: 688.0, type: rectangle, width: 46.0, y: 273.0, height: 17.0\n",
      "....class: entry, props: name: hsa:10379, color: black, bg_color: white, id: 10, scale: 1, type: gene, opacity: 1, add_name: IRF9\n",
      "........class: graphics, props: fgcolor: #000000, name: IRF9, IRF-9, ISGF3, ISGF3G, p48, x: 584.0, type: rectangle, width: 46.0, y: 273.0, height: 17.0\n",
      "....class: entry, props: name: hsa:6772 hsa:6773 hsa:6774 hsa:6775 hsa:6776 hsa:6777 hsa:6778, color: black, bg_color: white, id: 11, scale: 1, type: gene, opacity: 1, add_name: STAT1\n",
      "........class: graphics, props: fgcolor: #000000, name: STAT1, CANDF7, IMD31A, IMD31B, IMD31C, ISGF-3, STAT91..., x: 352.0, type: rectangle, width: 46.0, y: 240.0, height: 17.0\n",
      "....class: entry, props: name: hsa:10401 hsa:51588 hsa:8554 hsa:9063, color: black, bg_color: white, id: 12, scale: 1, type: gene, opacity: 1, add_name: PIAS1\n",
      "........class: graphics, props: fgcolor: #000000, name: PIAS3, ZMIZ5..., x: 743.0, type: rectangle, width: 46.0, y: 206.0, height: 17.0\n",
      "....class: entry, props: name: hsa:5777, color: black, bg_color: white, id: 13, scale: 1, type: gene, opacity: 1, add_name: PTPN6\n",
      "........class: graphics, props: fgcolor: #000000, name: PTPN6, HCP, HCPH, HPTP1C, PTP-1C, SH-PTP1, SHP-1, SHP-1L, SHP1, x: 272.0, type: rectangle, width: 46.0, y: 284.0, height: 17.0\n",
      "....class: entry, props: name: hsa:10254 hsa:8027, color: black, bg_color: white, id: 14, scale: 1, type: gene, opacity: 1, add_name: STAM\n",
      "........class: graphics, props: fgcolor: #000000, name: STAM2, Hbp, STAM2A, STAM2B..., x: 284.0, type: rectangle, width: 46.0, y: 194.0, height: 17.0\n",
      "....class: entry, props: name: hsa:3716 hsa:3717 hsa:3718 hsa:7297, color: black, bg_color: white, id: 15, scale: 1, type: gene, opacity: 1, add_name: JAK1\n",
      "........class: graphics, props: fgcolor: #000000, name: JAK1, JAK1A, JAK1B, JTK3..., x: 225.0, type: rectangle, width: 46.0, y: 240.0, height: 17.0\n",
      "....class: entry, props: name: path:hsa04120, color: black, bg_color: white, id: 16, scale: 1, type: map, opacity: 1, add_name: biquiti\n",
      "........class: graphics, props: fgcolor: #000000, name: Ubiquitin mediated proteolysis, x: 385.0, type: roundrectangle, width: 127.0, y: 122.0, height: 34.0\n",
      "....class: entry, props: name: path:hsa04010, color: black, bg_color: white, id: 17, scale: 1, type: map, opacity: 1, add_name: AP\n",
      "........class: graphics, props: fgcolor: #000000, name: MAPK signaling pathway, x: 573.0, type: roundrectangle, width: 105.0, y: 332.0, height: 34.0\n",
      "....class: entry, props: name: path:hsa04151, color: black, bg_color: white, id: 18, scale: 1, type: map, opacity: 1, add_name: I3K-Ak\n",
      "........class: graphics, props: fgcolor: #000000, name: PI3K-Akt signaling pathway, x: 590.0, type: roundrectangle, width: 105.0, y: 405.0, height: 34.0\n",
      "....class: entry, props: name: hsa:2273, color: black, bg_color: white, id: 19, scale: 1, type: gene, opacity: 1, add_name: FHL1\n",
      "........class: graphics, props: fgcolor: #000000, name: FHL1, FHL-1, FHL1A, FHL1B, FLH1A, KYOT, RBMX1A, RBMX1B, SLIM, SLIM-1, SLIM1, SLIMMER, XMPMA, x: 746.0, type: rectangle, width: 46.0, y: 273.0, height: 17.0\n",
      "....class: entry, props: name: path:hsa04060, color: black, bg_color: white, id: 20, scale: 1, type: map, opacity: 1, add_name: ytokine-cytokin\n",
      "........class: graphics, props: fgcolor: #000000, name: Cytokine-cytokine receptor interaction, x: 105.0, type: roundrectangle, width: 107.0, y: 177.0, height: 34.0\n",
      "....class: entry, props: name: path:hsa04630, color: black, bg_color: white, id: 21, scale: 1, type: map, opacity: 1, add_name: ak-STA\n",
      "........class: graphics, props: fgcolor: #000000, name: TITLE:Jak-STAT signaling pathway, x: 164.0, type: roundrectangle, width: 248.0, y: 58.0, height: 25.0\n",
      "....class: entry, props: name: hsa:116379 hsa:1271 hsa:1438 hsa:1439 hsa:1441 hsa:149233 hsa:163702 hsa:2057 hsa:2690 hsa:3454 hsa:3455 hsa:3459 hsa:3460 hsa:3559 hsa:3560 hsa:3561 hsa:3563 hsa:3566 hsa:3568 hsa:3570 hsa:3572 hsa:3575 hsa:3581 hsa:3587 hsa:3588 hsa:3590 hsa:3594 hsa:3595 hsa:3597 hsa:3598 hsa:3601 hsa:3953 hsa:3977 hsa:4352 hsa:50615 hsa:53832 hsa:53833 hsa:5618 hsa:58985 hsa:64109 hsa:9180 hsa:9466, color: black, bg_color: white, id: 22, scale: 1, type: gene, opacity: 1, add_name: IL2RA\n",
      "........class: graphics, props: fgcolor: #000000, name: IL22RA2, CRF2-10, CRF2-S1, CRF2X, IL-22BP, IL-22R-alpha-2, IL-22RA2, ZCYTOR16..., x: 180.0, type: rectangle, width: 46.0, y: 240.0, height: 17.0\n",
      "....class: entry, props: name: hsa:5771, color: black, bg_color: white, id: 23, scale: 1, type: gene, opacity: 1, add_name: PTPN2\n",
      "........class: graphics, props: fgcolor: #000000, name: PTPN2, PTN2, PTPT, TC-PTP, TCELLPTP, TCPTP, x: 689.0, type: rectangle, width: 46.0, y: 206.0, height: 17.0\n",
      "....class: entry, props: name: hsa:4170, color: black, bg_color: white, id: 24, scale: 1, type: gene, opacity: 1, add_name: MCL1\n",
      "........class: graphics, props: fgcolor: #000000, name: MCL1, BCL2L3, EAT, MCL1-ES, MCL1L, MCL1S, Mcl-1, TM, bcl2-L-3, mcl1/EAT, x: 948.0, type: rectangle, width: 46.0, y: 197.0, height: 17.0\n",
      "....class: entry, props: name: path:hsa04210, color: black, bg_color: white, id: 25, scale: 1, type: map, opacity: 1, add_name: poptosis\n",
      "........class: graphics, props: fgcolor: #000000, name: Apoptosis, x: 1135.0, type: roundrectangle, width: 87.0, y: 201.0, height: 25.0\n",
      "....class: entry, props: name: path:hsa04110, color: black, bg_color: white, id: 26, scale: 1, type: map, opacity: 1, add_name: el\n",
      "........class: graphics, props: fgcolor: #000000, name: Cell cycle, x: 1165.0, type: roundrectangle, width: 87.0, y: 252.0, height: 25.0\n",
      "....class: entry, props: name: hsa:5292, color: black, bg_color: white, id: 27, scale: 1, type: gene, opacity: 1, add_name: PIM1\n",
      "........class: graphics, props: fgcolor: #000000, name: PIM1, PIM, x: 948.0, type: rectangle, width: 46.0, y: 216.0, height: 17.0\n",
      "....class: entry, props: name: hsa:595 hsa:894 hsa:896, color: black, bg_color: white, id: 28, scale: 1, type: gene, opacity: 1, add_name: CCND1\n",
      "........class: graphics, props: fgcolor: #000000, name: CCND1, BCL1, D11S287E, PRAD1, U21B31..., x: 948.0, type: rectangle, width: 46.0, y: 240.0, height: 17.0\n",
      "....class: entry, props: name: hsa:5781, color: black, bg_color: white, id: 29, scale: 1, type: gene, opacity: 1, add_name: PTPN11\n",
      "........class: graphics, props: fgcolor: #000000, name: PTPN11, BPTP3, CFC, JMML, METCDS, NS1, PTP-1D, PTP2C, SH-PTP2, SH-PTP3, SHP2, x: 346.0, type: rectangle, width: 46.0, y: 352.0, height: 17.0\n",
      "....class: entry, props: name: hsa:1026, color: black, bg_color: white, id: 30, scale: 1, type: gene, opacity: 1, add_name: CDKN1A\n",
      "........class: graphics, props: fgcolor: #000000, name: CDKN1A, CAP20, CDKN1, CIP1, MDA-6, P21, SDI1, WAF1, p21CIP1, x: 900.0, type: rectangle, width: 46.0, y: 259.0, height: 17.0\n",
      "....class: entry, props: name: hsa:598, color: black, bg_color: white, id: 31, scale: 1, type: gene, opacity: 1, add_name: BCL2L1\n",
      "........class: graphics, props: fgcolor: #000000, name: BCL2L1, BCL-XL/S, BCL2L, BCLX, Bcl-X, PPP1R52, x: 900.0, type: rectangle, width: 46.0, y: 216.0, height: 17.0\n",
      "....class: entry, props: name: hsa:3265, color: black, bg_color: white, id: 32, scale: 1, type: gene, opacity: 1, add_name: HRAS\n",
      "........class: graphics, props: fgcolor: #000000, name: HRAS, C-BAS/HAS, C-H-RAS, C-HA-RAS1, CTLO, H-RASIDX, HAMSV, HRAS1, RASH1, p21ras, x: 510.0, type: rectangle, width: 46.0, y: 361.0, height: 17.0\n",
      "....class: entry, props: name: hsa:5894, color: black, bg_color: white, id: 33, scale: 1, type: gene, opacity: 1, add_name: RAF1\n",
      "........class: graphics, props: fgcolor: #000000, name: RAF1, CMD1NN, CRAF, NS5, Raf-1, c-Raf, x: 592.0, type: rectangle, width: 46.0, y: 361.0, height: 17.0\n",
      "....class: entry, props: name: hsa:316, color: black, bg_color: white, id: 34, scale: 1, type: gene, opacity: 1, add_name: AOX\n",
      "........class: graphics, props: fgcolor: #000000, name: AOX1, AO, AOH1, x: 900.0, type: rectangle, width: 46.0, y: 278.0, height: 17.0\n",
      "....class: entry, props: name: hsa:2475, color: black, bg_color: white, id: 35, scale: 1, type: gene, opacity: 1, add_name: MTOR\n",
      "........class: graphics, props: fgcolor: #000000, name: MTOR, FRAP, FRAP1, FRAP2, RAFT1, RAPT1, SKS, x: 510.0, type: rectangle, width: 46.0, y: 427.0, height: 17.0\n",
      "....class: entry, props: name: hsa:2670, color: black, bg_color: white, id: 36, scale: 1, type: gene, opacity: 1, add_name: GFAP\n",
      "........class: graphics, props: fgcolor: #000000, name: GFAP, ALXDRD, x: 900.0, type: rectangle, width: 46.0, y: 297.0, height: 17.0\n",
      "....class: entry, props: name: hsa:5771, color: black, bg_color: white, id: 37, scale: 1, type: gene, opacity: 1, add_name: PTPN2\n",
      "........class: graphics, props: fgcolor: #000000, name: PTPN2, PTN2, PTPT, TC-PTP, TCELLPTP, TCPTP, x: 223.0, type: rectangle, width: 46.0, y: 284.0, height: 17.0\n",
      "....class: entry, props: name: hsa:11009 hsa:1437 hsa:1489 hsa:282616 hsa:282617 hsa:282618 hsa:29949 hsa:338376 hsa:3439 hsa:3440 hsa:3441 hsa:3442 hsa:3443 hsa:3444 hsa:3445 hsa:3446 hsa:3447 hsa:3448 hsa:3449 hsa:3451 hsa:3452 hsa:3456 hsa:3458 hsa:3467 hsa:3558 hsa:3562 hsa:3565 hsa:3567 hsa:3569 hsa:3574 hsa:3578 hsa:3586 hsa:3589 hsa:3592 hsa:3593 hsa:3596 hsa:3600 hsa:3976 hsa:5008 hsa:50604 hsa:50616 hsa:51561 hsa:53342 hsa:56832 hsa:59067 hsa:85480, color: black, bg_color: white, id: 38, scale: 1, type: gene, opacity: 1, add_name: IL2\n",
      "........class: graphics, props: fgcolor: #000000, name: IL24, C49A, FISP, IL10B, MDA7, MOB5, ST16..., x: 99.0, type: rectangle, width: 46.0, y: 215.0, height: 17.0\n",
      "....class: entry, props: name: hsa:1270 hsa:1440 hsa:1442 hsa:1443 hsa:2056 hsa:2688 hsa:2689 hsa:3952 hsa:5617 hsa:7066, color: black, bg_color: white, id: 39, scale: 1, type: gene, opacity: 1, add_name: CNTF\n",
      "........class: graphics, props: fgcolor: #000000, name: CNTF, HCNTF..., x: 99.0, type: rectangle, width: 46.0, y: 266.0, height: 17.0\n",
      "....class: entry, props: name: hsa:6772 hsa:6773 hsa:6774 hsa:6775 hsa:6776 hsa:6777 hsa:6778, color: black, bg_color: white, id: 40, scale: 1, type: gene, opacity: 1, add_name: STAT1\n",
      "........class: graphics, props: fgcolor: #000000, name: STAT1, CANDF7, IMD31A, IMD31B, IMD31C, ISGF-3, STAT91..., x: 454.0, type: rectangle, width: 46.0, y: 231.0, height: 17.0\n",
      "....class: entry, props: name: hsa:6772 hsa:6773 hsa:6774 hsa:6775 hsa:6776 hsa:6777 hsa:6778, color: black, bg_color: white, id: 41, scale: 1, type: gene, opacity: 1, add_name: STAT1\n",
      "........class: graphics, props: fgcolor: #000000, name: STAT1, CANDF7, IMD31A, IMD31B, IMD31C, ISGF-3, STAT91..., x: 454.0, type: rectangle, width: 46.0, y: 248.0, height: 17.0\n",
      "....class: entry, props: name: undefined, color: black, bg_color: white, id: 42, scale: 1, type: group, opacity: 1\n",
      "........class: component, props: id: 40\n",
      "........class: component, props: id: 41\n",
      "........class: graphics, props: fgcolor: #000000, x: 454.0, type: rectangle, width: 46.0, y: 239.0, height: 34.0\n",
      "....class: entry, props: name: undefined, color: black, bg_color: white, id: 43, scale: 1, type: group, opacity: 1\n",
      "........class: component, props: id: 29\n",
      "........class: component, props: id: 5\n",
      "........class: graphics, props: fgcolor: #000000, x: 346.0, type: rectangle, width: 46.0, y: 360.0, height: 34.0\n",
      "....class: relation, props: entry2: 22, entry1: 38, type: PPrel\n",
      "........class: subtype, props: value: -->, name: activation\n",
      "....class: relation, props: entry2: 22, entry1: 39, type: PPrel\n",
      "........class: subtype, props: value: -->, name: activation\n",
      "....class: relation, props: entry2: 42, entry1: 9, type: PPrel\n",
      "........class: subtype, props: value: -->, name: activation\n",
      "....class: relation, props: entry2: 4, entry1: 43, type: PPrel\n",
      "........class: subtype, props: value: -->, name: activation\n",
      "....class: relation, props: entry2: 32, entry1: 4, type: PPrel\n",
      "........class: subtype, props: value: -->, name: activation\n",
      "....class: relation, props: entry2: 33, entry1: 32, type: PPrel\n",
      "........class: subtype, props: value: -->, name: activation\n",
      "....class: relation, props: entry2: 11, entry1: 15, type: PPrel\n",
      "........class: subtype, props: value: -->, name: activation\n",
      "........class: subtype, props: value: +p, name: phosphorylation\n",
      "....class: relation, props: entry2: 29, entry1: 15, type: PPrel\n",
      "........class: subtype, props: value: -->, name: activation\n",
      "........class: subtype, props: value: +p, name: phosphorylation\n",
      "....class: relation, props: entry2: 3, entry1: 15, type: PPrel\n",
      "........class: subtype, props: value: -->, name: activation\n",
      "........class: subtype, props: value: +p, name: phosphorylation\n",
      "....class: relation, props: entry2: 2, entry1: 3, type: PPrel\n",
      "........class: subtype, props: value: -->, name: activation\n",
      "........class: subtype, props: value: ..>, name: indirect effect\n",
      "....class: relation, props: entry2: 35, entry1: 2, type: PPrel\n",
      "........class: subtype, props: value: -->, name: activation\n",
      "........class: subtype, props: value: ..>, name: indirect effect\n",
      "....class: relation, props: entry2: 42, entry1: 11, type: PPrel\n",
      "........class: subtype, props: value: ..., name: state change\n",
      "....class: relation, props: entry2: 6, entry1: 42, type: GErel\n",
      "........class: subtype, props: value: -->, name: expression\n",
      "....class: relation, props: entry2: 7, entry1: 42, type: GErel\n",
      "........class: subtype, props: value: -->, name: expression\n",
      "....class: relation, props: entry2: 31, entry1: 42, type: GErel\n",
      "........class: subtype, props: value: -->, name: expression\n",
      "....class: relation, props: entry2: 1, entry1: 42, type: GErel\n",
      "........class: subtype, props: value: -->, name: expression\n",
      "....class: relation, props: entry2: 30, entry1: 42, type: GErel\n",
      "........class: subtype, props: value: -->, name: expression\n",
      "....class: relation, props: entry2: 34, entry1: 42, type: GErel\n",
      "........class: subtype, props: value: -->, name: expression\n",
      "....class: relation, props: entry2: 36, entry1: 42, type: GErel\n",
      "........class: subtype, props: value: -->, name: expression\n",
      "....class: relation, props: entry2: 8, entry1: 42, type: GErel\n",
      "........class: subtype, props: value: -->, name: expression\n",
      "....class: relation, props: entry2: 24, entry1: 42, type: GErel\n",
      "........class: subtype, props: value: -->, name: expression\n",
      "....class: relation, props: entry2: 27, entry1: 42, type: GErel\n",
      "........class: subtype, props: value: -->, name: expression\n",
      "....class: relation, props: entry2: 28, entry1: 42, type: GErel\n",
      "........class: subtype, props: value: -->, name: expression\n",
      "....class: relation, props: entry2: 15, entry1: 22, type: PPrel\n",
      "........class: subtype, props: value: ---, name: binding/association\n",
      "....class: relation, props: entry2: 10, entry1: 42, type: PPrel\n",
      "........class: subtype, props: value: ---, name: binding/association\n",
      "....class: relation, props: entry2: 42, entry1: 12, type: PPrel\n",
      "........class: subtype, props: value: --|, name: inhibition\n",
      "....class: relation, props: entry2: 42, entry1: 23, type: PPrel\n",
      "........class: subtype, props: value: --|, name: inhibition\n",
      "........class: subtype, props: value: -p, name: dephosphorylation\n",
      "....class: relation, props: entry2: 15, entry1: 37, type: PPrel\n",
      "........class: subtype, props: value: --|, name: inhibition\n",
      "........class: subtype, props: value: -p, name: dephosphorylation\n",
      "....class: relation, props: entry2: 15, entry1: 13, type: PPrel\n",
      "........class: subtype, props: value: --|, name: inhibition\n",
      "........class: subtype, props: value: -p, name: dephosphorylation\n",
      "....class: relation, props: entry2: 42, entry1: 19, type: PPrel\n",
      "........class: subtype, props: value: +u, name: ubiquitination\n",
      "....class: relation, props: entry2: 11, entry1: 6, type: PPrel\n",
      "........class: subtype, props: value: --|, name: inhibition\n",
      "....class: relation, props: entry2: 15, entry1: 8, type: PPrel\n",
      "........class: subtype, props: value: --|, name: inhibition\n",
      "....class: relation, props: entry2: 15, entry1: 14, type: PPrel\n",
      "........class: subtype, props: value: -->, name: activation\n",
      "\n"
     ]
    }
   ],
   "source": [
    "# detail pathway information, use summary() method\n",
    "print(path.summary())"
   ]
  },
  {
   "cell_type": "code",
   "execution_count": 5,
   "metadata": {
    "collapsed": false,
    "scrolled": true
   },
   "outputs": [
    {
     "data": {
      "text/plain": [
       "[class: entry, name: hsa:4609, type: gene, id: 1, KO: ['K04377'],\n",
       " class: entry, name: hsa:10000 hsa:207 hsa:208, type: gene, id: 2, KO: ['K04456'],\n",
       " class: entry, name: hsa:23533 hsa:5290 hsa:5291 hsa:5293 hsa:5294 hsa:5295 hsa:5296 hsa:8503, type: gene, id: 3, KO: ['K00922', 'K02649'],\n",
       " class: entry, name: hsa:6654 hsa:6655, type: gene, id: 4, KO: ['K03099'],\n",
       " class: entry, name: hsa:2885, type: gene, id: 5, KO: ['K04364'],\n",
       " class: entry, name: hsa:1154, type: gene, id: 6, KO: ['K04701'],\n",
       " class: entry, name: hsa:596, type: gene, id: 7, KO: ['K02161'],\n",
       " class: entry, name: hsa:122809 hsa:30837 hsa:8651 hsa:8835 hsa:9021 hsa:9306 hsa:9655, type: gene, id: 8, KO: ['K04694', 'K04695', 'K04696', 'K04697', 'K04698', 'K04699'],\n",
       " class: entry, name: hsa:1387 hsa:2033, type: gene, id: 9, KO: ['K04498'],\n",
       " class: entry, name: hsa:10379, type: gene, id: 10, KO: ['K04693'],\n",
       " class: entry, name: hsa:6772 hsa:6773 hsa:6774 hsa:6775 hsa:6776 hsa:6777 hsa:6778, type: gene, id: 11, KO: ['K11220', 'K11221', 'K04692', 'K11222', 'K11223', 'K11224', 'K11225'],\n",
       " class: entry, name: hsa:10401 hsa:51588 hsa:8554 hsa:9063, type: gene, id: 12, KO: ['K04706', 'K16063', 'K16064', 'K16065'],\n",
       " class: entry, name: hsa:5777, type: gene, id: 13, KO: ['K05697'],\n",
       " class: entry, name: hsa:10254 hsa:8027, type: gene, id: 14, KO: ['K04705'],\n",
       " class: entry, name: hsa:3716 hsa:3717 hsa:3718 hsa:7297, type: gene, id: 15, KO: ['K11217', 'K04447', 'K11218', 'K11219'],\n",
       " class: entry, name: path:hsa04120, type: map, id: 16, KO: ['map04120:', '&quot;map04120:', '&quot;#ffffff&quot;)\"'],\n",
       " class: entry, name: path:hsa04010, type: map, id: 17, KO: ['map04010:', '&quot;map04010:', '&quot;#ffffff&quot;)\"'],\n",
       " class: entry, name: path:hsa04151, type: map, id: 18, KO: ['map04151:', '&quot;map04151:', '&quot;#ffffff&quot;)\"'],\n",
       " class: entry, name: hsa:2273, type: gene, id: 19, KO: ['K14365'],\n",
       " class: entry, name: path:hsa04060, type: map, id: 20, KO: ['map04060:', '&quot;map04060:', '&quot;#ffffff&quot;)\"'],\n",
       " class: entry, name: path:hsa04630, type: map, id: 21, KO: ['map04630:', '&quot;map04630:', '&quot;#ffffff&quot;)\"'],\n",
       " class: entry, name: hsa:116379 hsa:1271 hsa:1438 hsa:1439 hsa:1441 hsa:149233 hsa:163702 hsa:2057 hsa:2690 hsa:3454 hsa:3455 hsa:3459 hsa:3460 hsa:3559 hsa:3560 hsa:3561 hsa:3563 hsa:3566 hsa:3568 hsa:3570 hsa:3572 hsa:3575 hsa:3581 hsa:3587 hsa:3588 hsa:3590 hsa:3594 hsa:3595 hsa:3597 hsa:3598 hsa:3601 hsa:3953 hsa:3977 hsa:4352 hsa:50615 hsa:53832 hsa:53833 hsa:5618 hsa:58985 hsa:64109 hsa:9180 hsa:9466, type: gene, id: 22, KO: ['K05068', 'K05069', 'K05070', 'K04737', 'K05071', 'K05067', 'K05055', 'K05072', 'K05073', 'K05134', 'K05135', 'K05056', 'K05063', 'K05064', 'K05076', 'K05077', 'K05074', 'K05136', 'K05137', 'K05075', 'K05138', 'K05139', 'K05065', 'K19598', 'K05060', 'K05130', 'K05131', 'K05132', 'K05133', 'K05140', 'K05057', 'K05058', 'K05078', 'K05059', 'K05066', 'K04738', 'K05061', 'K05079', 'K05080', 'K05062', 'K05082', 'K05081', 'K19599'],\n",
       " class: entry, name: hsa:5771, type: gene, id: 23, KO: ['K18026'],\n",
       " class: entry, name: hsa:4170, type: gene, id: 24, KO: ['K02539'],\n",
       " class: entry, name: path:hsa04210, type: map, id: 25, KO: ['map04210:', '&quot;map04210:', '&quot;#ffffff&quot;)\"'],\n",
       " class: entry, name: path:hsa04110, type: map, id: 26, KO: ['map04110:', '&quot;map04110:', '&quot;#ffffff&quot;)\"'],\n",
       " class: entry, name: hsa:5292, type: gene, id: 27, KO: ['K04702'],\n",
       " class: entry, name: hsa:595 hsa:894 hsa:896, type: gene, id: 28, KO: ['K04503', 'K10151', 'K10152'],\n",
       " class: entry, name: hsa:5781, type: gene, id: 29, KO: ['K07293'],\n",
       " class: entry, name: hsa:1026, type: gene, id: 30, KO: ['K06625'],\n",
       " class: entry, name: hsa:598, type: gene, id: 31, KO: ['K04570'],\n",
       " class: entry, name: hsa:3265, type: gene, id: 32, KO: ['K02833'],\n",
       " class: entry, name: hsa:5894, type: gene, id: 33, KO: ['K04366'],\n",
       " class: entry, name: hsa:316, type: gene, id: 34, KO: ['K00157'],\n",
       " class: entry, name: hsa:2475, type: gene, id: 35, KO: ['K07203'],\n",
       " class: entry, name: hsa:2670, type: gene, id: 36, KO: ['K05640'],\n",
       " class: entry, name: hsa:5771, type: gene, id: 37, KO: ['K18026'],\n",
       " class: entry, name: hsa:11009 hsa:1437 hsa:1489 hsa:282616 hsa:282617 hsa:282618 hsa:29949 hsa:338376 hsa:3439 hsa:3440 hsa:3441 hsa:3442 hsa:3443 hsa:3444 hsa:3445 hsa:3446 hsa:3447 hsa:3448 hsa:3449 hsa:3451 hsa:3452 hsa:3456 hsa:3458 hsa:3467 hsa:3558 hsa:3562 hsa:3565 hsa:3567 hsa:3569 hsa:3574 hsa:3578 hsa:3586 hsa:3589 hsa:3592 hsa:3593 hsa:3596 hsa:3600 hsa:3976 hsa:5008 hsa:50604 hsa:50616 hsa:51561 hsa:53342 hsa:56832 hsa:59067 hsa:85480, type: gene, id: 38, KO: ['K05429', 'K04736', 'K05430', 'K05428', 'K05405', 'K05431', 'K05432', 'K05443', 'K05417', 'K05406', 'K05425', 'K05435', 'K05433', 'K05444', 'K05434', 'K05445', 'K05426', 'K05492', 'K05414', 'K05415', 'K04687', 'K05442', 'K05441', 'K05447', 'K05440', 'K05418', 'K05419', 'K05436', 'K05422', 'K05427', 'K16689'],\n",
       " class: entry, name: hsa:1270 hsa:1440 hsa:1442 hsa:1443 hsa:2056 hsa:2688 hsa:2689 hsa:3952 hsa:5617 hsa:7066, type: gene, id: 39, KO: ['K05420', 'K05423', 'K05437', 'K05438', 'K05424', 'K06854', 'K05439'],\n",
       " class: entry, name: hsa:6772 hsa:6773 hsa:6774 hsa:6775 hsa:6776 hsa:6777 hsa:6778, type: gene, id: 40, KO: ['K11220', 'K11221', 'K04692', 'K11222', 'K11223', 'K11224', 'K11225'],\n",
       " class: entry, name: hsa:6772 hsa:6773 hsa:6774 hsa:6775 hsa:6776 hsa:6777 hsa:6778, type: gene, id: 41, KO: ['K11220', 'K11221', 'K04692', 'K11222', 'K11223', 'K11224', 'K11225'],\n",
       " class: entry, name: undefined, type: group, id: 42, KO: [],\n",
       " class: entry, name: undefined, type: group, id: 43, KO: [],\n",
       " class: relation, props: entry2: 22, entry1: 38, type: PPrel\n",
       " ....class: subtype, props: value: -->, name: activation,\n",
       " class: relation, props: entry2: 22, entry1: 39, type: PPrel\n",
       " ....class: subtype, props: value: -->, name: activation,\n",
       " class: relation, props: entry2: 42, entry1: 9, type: PPrel\n",
       " ....class: subtype, props: value: -->, name: activation,\n",
       " class: relation, props: entry2: 4, entry1: 43, type: PPrel\n",
       " ....class: subtype, props: value: -->, name: activation,\n",
       " class: relation, props: entry2: 32, entry1: 4, type: PPrel\n",
       " ....class: subtype, props: value: -->, name: activation,\n",
       " class: relation, props: entry2: 33, entry1: 32, type: PPrel\n",
       " ....class: subtype, props: value: -->, name: activation,\n",
       " class: relation, props: entry2: 11, entry1: 15, type: PPrel\n",
       " ....class: subtype, props: value: -->, name: activation\n",
       " ....class: subtype, props: value: +p, name: phosphorylation,\n",
       " class: relation, props: entry2: 29, entry1: 15, type: PPrel\n",
       " ....class: subtype, props: value: -->, name: activation\n",
       " ....class: subtype, props: value: +p, name: phosphorylation,\n",
       " class: relation, props: entry2: 3, entry1: 15, type: PPrel\n",
       " ....class: subtype, props: value: -->, name: activation\n",
       " ....class: subtype, props: value: +p, name: phosphorylation,\n",
       " class: relation, props: entry2: 2, entry1: 3, type: PPrel\n",
       " ....class: subtype, props: value: -->, name: activation\n",
       " ....class: subtype, props: value: ..>, name: indirect effect,\n",
       " class: relation, props: entry2: 35, entry1: 2, type: PPrel\n",
       " ....class: subtype, props: value: -->, name: activation\n",
       " ....class: subtype, props: value: ..>, name: indirect effect,\n",
       " class: relation, props: entry2: 42, entry1: 11, type: PPrel\n",
       " ....class: subtype, props: value: ..., name: state change,\n",
       " class: relation, props: entry2: 6, entry1: 42, type: GErel\n",
       " ....class: subtype, props: value: -->, name: expression,\n",
       " class: relation, props: entry2: 7, entry1: 42, type: GErel\n",
       " ....class: subtype, props: value: -->, name: expression,\n",
       " class: relation, props: entry2: 31, entry1: 42, type: GErel\n",
       " ....class: subtype, props: value: -->, name: expression,\n",
       " class: relation, props: entry2: 1, entry1: 42, type: GErel\n",
       " ....class: subtype, props: value: -->, name: expression,\n",
       " class: relation, props: entry2: 30, entry1: 42, type: GErel\n",
       " ....class: subtype, props: value: -->, name: expression,\n",
       " class: relation, props: entry2: 34, entry1: 42, type: GErel\n",
       " ....class: subtype, props: value: -->, name: expression,\n",
       " class: relation, props: entry2: 36, entry1: 42, type: GErel\n",
       " ....class: subtype, props: value: -->, name: expression,\n",
       " class: relation, props: entry2: 8, entry1: 42, type: GErel\n",
       " ....class: subtype, props: value: -->, name: expression,\n",
       " class: relation, props: entry2: 24, entry1: 42, type: GErel\n",
       " ....class: subtype, props: value: -->, name: expression,\n",
       " class: relation, props: entry2: 27, entry1: 42, type: GErel\n",
       " ....class: subtype, props: value: -->, name: expression,\n",
       " class: relation, props: entry2: 28, entry1: 42, type: GErel\n",
       " ....class: subtype, props: value: -->, name: expression,\n",
       " class: relation, props: entry2: 15, entry1: 22, type: PPrel\n",
       " ....class: subtype, props: value: ---, name: binding/association,\n",
       " class: relation, props: entry2: 10, entry1: 42, type: PPrel\n",
       " ....class: subtype, props: value: ---, name: binding/association,\n",
       " class: relation, props: entry2: 42, entry1: 12, type: PPrel\n",
       " ....class: subtype, props: value: --|, name: inhibition,\n",
       " class: relation, props: entry2: 42, entry1: 23, type: PPrel\n",
       " ....class: subtype, props: value: --|, name: inhibition\n",
       " ....class: subtype, props: value: -p, name: dephosphorylation,\n",
       " class: relation, props: entry2: 15, entry1: 37, type: PPrel\n",
       " ....class: subtype, props: value: --|, name: inhibition\n",
       " ....class: subtype, props: value: -p, name: dephosphorylation,\n",
       " class: relation, props: entry2: 15, entry1: 13, type: PPrel\n",
       " ....class: subtype, props: value: --|, name: inhibition\n",
       " ....class: subtype, props: value: -p, name: dephosphorylation,\n",
       " class: relation, props: entry2: 42, entry1: 19, type: PPrel\n",
       " ....class: subtype, props: value: +u, name: ubiquitination,\n",
       " class: relation, props: entry2: 11, entry1: 6, type: PPrel\n",
       " ....class: subtype, props: value: --|, name: inhibition,\n",
       " class: relation, props: entry2: 15, entry1: 8, type: PPrel\n",
       " ....class: subtype, props: value: --|, name: inhibition,\n",
       " class: relation, props: entry2: 15, entry1: 14, type: PPrel\n",
       " ....class: subtype, props: value: -->, name: activation]"
      ]
     },
     "execution_count": 5,
     "metadata": {},
     "output_type": "execute_result"
    }
   ],
   "source": [
    "# node operation method\n",
    "# children: return a list of node's children\n",
    "path.children"
   ]
  },
  {
   "cell_type": "code",
   "execution_count": 6,
   "metadata": {
    "collapsed": false
   },
   "outputs": [
    {
     "data": {
      "text/plain": [
       "True"
      ]
     },
     "execution_count": 6,
     "metadata": {},
     "output_type": "execute_result"
    }
   ],
   "source": [
    "# father: return node's father node\n",
    "path.children[0].father == path"
   ]
  },
  {
   "cell_type": "code",
   "execution_count": 7,
   "metadata": {
    "collapsed": false
   },
   "outputs": [
    {
     "data": {
      "text/plain": [
       "True"
      ]
     },
     "execution_count": 7,
     "metadata": {},
     "output_type": "execute_result"
    }
   ],
   "source": [
    "# root: return the root node of node\n",
    "path.children[0].children[0].root == path"
   ]
  },
  {
   "cell_type": "code",
   "execution_count": 8,
   "metadata": {
    "collapsed": false,
    "scrolled": true
   },
   "outputs": [
    {
     "data": {
      "text/plain": [
       "[class: relation, props: entry2: 22, entry1: 38, type: PPrel\n",
       " ....class: subtype, props: value: -->, name: activation,\n",
       " class: relation, props: entry2: 22, entry1: 39, type: PPrel\n",
       " ....class: subtype, props: value: -->, name: activation,\n",
       " class: relation, props: entry2: 42, entry1: 9, type: PPrel\n",
       " ....class: subtype, props: value: -->, name: activation,\n",
       " class: relation, props: entry2: 4, entry1: 43, type: PPrel\n",
       " ....class: subtype, props: value: -->, name: activation,\n",
       " class: relation, props: entry2: 32, entry1: 4, type: PPrel\n",
       " ....class: subtype, props: value: -->, name: activation,\n",
       " class: relation, props: entry2: 33, entry1: 32, type: PPrel\n",
       " ....class: subtype, props: value: -->, name: activation,\n",
       " class: relation, props: entry2: 11, entry1: 15, type: PPrel\n",
       " ....class: subtype, props: value: -->, name: activation\n",
       " ....class: subtype, props: value: +p, name: phosphorylation,\n",
       " class: relation, props: entry2: 29, entry1: 15, type: PPrel\n",
       " ....class: subtype, props: value: -->, name: activation\n",
       " ....class: subtype, props: value: +p, name: phosphorylation,\n",
       " class: relation, props: entry2: 3, entry1: 15, type: PPrel\n",
       " ....class: subtype, props: value: -->, name: activation\n",
       " ....class: subtype, props: value: +p, name: phosphorylation,\n",
       " class: relation, props: entry2: 2, entry1: 3, type: PPrel\n",
       " ....class: subtype, props: value: -->, name: activation\n",
       " ....class: subtype, props: value: ..>, name: indirect effect,\n",
       " class: relation, props: entry2: 35, entry1: 2, type: PPrel\n",
       " ....class: subtype, props: value: -->, name: activation\n",
       " ....class: subtype, props: value: ..>, name: indirect effect,\n",
       " class: relation, props: entry2: 42, entry1: 11, type: PPrel\n",
       " ....class: subtype, props: value: ..., name: state change,\n",
       " class: relation, props: entry2: 6, entry1: 42, type: GErel\n",
       " ....class: subtype, props: value: -->, name: expression,\n",
       " class: relation, props: entry2: 7, entry1: 42, type: GErel\n",
       " ....class: subtype, props: value: -->, name: expression,\n",
       " class: relation, props: entry2: 31, entry1: 42, type: GErel\n",
       " ....class: subtype, props: value: -->, name: expression,\n",
       " class: relation, props: entry2: 1, entry1: 42, type: GErel\n",
       " ....class: subtype, props: value: -->, name: expression,\n",
       " class: relation, props: entry2: 30, entry1: 42, type: GErel\n",
       " ....class: subtype, props: value: -->, name: expression,\n",
       " class: relation, props: entry2: 34, entry1: 42, type: GErel\n",
       " ....class: subtype, props: value: -->, name: expression,\n",
       " class: relation, props: entry2: 36, entry1: 42, type: GErel\n",
       " ....class: subtype, props: value: -->, name: expression,\n",
       " class: relation, props: entry2: 8, entry1: 42, type: GErel\n",
       " ....class: subtype, props: value: -->, name: expression,\n",
       " class: relation, props: entry2: 24, entry1: 42, type: GErel\n",
       " ....class: subtype, props: value: -->, name: expression,\n",
       " class: relation, props: entry2: 27, entry1: 42, type: GErel\n",
       " ....class: subtype, props: value: -->, name: expression,\n",
       " class: relation, props: entry2: 28, entry1: 42, type: GErel\n",
       " ....class: subtype, props: value: -->, name: expression,\n",
       " class: relation, props: entry2: 15, entry1: 22, type: PPrel\n",
       " ....class: subtype, props: value: ---, name: binding/association,\n",
       " class: relation, props: entry2: 10, entry1: 42, type: PPrel\n",
       " ....class: subtype, props: value: ---, name: binding/association,\n",
       " class: relation, props: entry2: 42, entry1: 12, type: PPrel\n",
       " ....class: subtype, props: value: --|, name: inhibition,\n",
       " class: relation, props: entry2: 42, entry1: 23, type: PPrel\n",
       " ....class: subtype, props: value: --|, name: inhibition\n",
       " ....class: subtype, props: value: -p, name: dephosphorylation,\n",
       " class: relation, props: entry2: 15, entry1: 37, type: PPrel\n",
       " ....class: subtype, props: value: --|, name: inhibition\n",
       " ....class: subtype, props: value: -p, name: dephosphorylation,\n",
       " class: relation, props: entry2: 15, entry1: 13, type: PPrel\n",
       " ....class: subtype, props: value: --|, name: inhibition\n",
       " ....class: subtype, props: value: -p, name: dephosphorylation,\n",
       " class: relation, props: entry2: 42, entry1: 19, type: PPrel\n",
       " ....class: subtype, props: value: +u, name: ubiquitination,\n",
       " class: relation, props: entry2: 11, entry1: 6, type: PPrel\n",
       " ....class: subtype, props: value: --|, name: inhibition,\n",
       " class: relation, props: entry2: 15, entry1: 8, type: PPrel\n",
       " ....class: subtype, props: value: --|, name: inhibition,\n",
       " class: relation, props: entry2: 15, entry1: 14, type: PPrel\n",
       " ....class: subtype, props: value: -->, name: activation]"
      ]
     },
     "execution_count": 8,
     "metadata": {},
     "output_type": "execute_result"
    }
   ],
   "source": [
    "# element method get_element_by_class\n",
    "path.get_element_by_class(\"relation\")"
   ]
  },
  {
   "cell_type": "code",
   "execution_count": 9,
   "metadata": {
    "collapsed": false,
    "scrolled": true
   },
   "outputs": [
    {
     "data": {
      "text/plain": [
       "[class: entry, name: hsa:4609, type: gene, id: 1, KO: ['K04377'],\n",
       " class: entry, name: hsa:10000 hsa:207 hsa:208, type: gene, id: 2, KO: ['K04456'],\n",
       " class: entry, name: hsa:23533 hsa:5290 hsa:5291 hsa:5293 hsa:5294 hsa:5295 hsa:5296 hsa:8503, type: gene, id: 3, KO: ['K00922', 'K02649'],\n",
       " class: entry, name: hsa:6654 hsa:6655, type: gene, id: 4, KO: ['K03099'],\n",
       " class: entry, name: hsa:2885, type: gene, id: 5, KO: ['K04364'],\n",
       " class: entry, name: hsa:1154, type: gene, id: 6, KO: ['K04701'],\n",
       " class: entry, name: hsa:596, type: gene, id: 7, KO: ['K02161'],\n",
       " class: entry, name: hsa:122809 hsa:30837 hsa:8651 hsa:8835 hsa:9021 hsa:9306 hsa:9655, type: gene, id: 8, KO: ['K04694', 'K04695', 'K04696', 'K04697', 'K04698', 'K04699'],\n",
       " class: entry, name: hsa:1387 hsa:2033, type: gene, id: 9, KO: ['K04498'],\n",
       " class: entry, name: hsa:10379, type: gene, id: 10, KO: ['K04693'],\n",
       " class: entry, name: hsa:6772 hsa:6773 hsa:6774 hsa:6775 hsa:6776 hsa:6777 hsa:6778, type: gene, id: 11, KO: ['K11220', 'K11221', 'K04692', 'K11222', 'K11223', 'K11224', 'K11225'],\n",
       " class: entry, name: hsa:10401 hsa:51588 hsa:8554 hsa:9063, type: gene, id: 12, KO: ['K04706', 'K16063', 'K16064', 'K16065'],\n",
       " class: entry, name: hsa:5777, type: gene, id: 13, KO: ['K05697'],\n",
       " class: entry, name: hsa:10254 hsa:8027, type: gene, id: 14, KO: ['K04705'],\n",
       " class: entry, name: hsa:3716 hsa:3717 hsa:3718 hsa:7297, type: gene, id: 15, KO: ['K11217', 'K04447', 'K11218', 'K11219'],\n",
       " class: entry, name: hsa:2273, type: gene, id: 19, KO: ['K14365'],\n",
       " class: entry, name: hsa:116379 hsa:1271 hsa:1438 hsa:1439 hsa:1441 hsa:149233 hsa:163702 hsa:2057 hsa:2690 hsa:3454 hsa:3455 hsa:3459 hsa:3460 hsa:3559 hsa:3560 hsa:3561 hsa:3563 hsa:3566 hsa:3568 hsa:3570 hsa:3572 hsa:3575 hsa:3581 hsa:3587 hsa:3588 hsa:3590 hsa:3594 hsa:3595 hsa:3597 hsa:3598 hsa:3601 hsa:3953 hsa:3977 hsa:4352 hsa:50615 hsa:53832 hsa:53833 hsa:5618 hsa:58985 hsa:64109 hsa:9180 hsa:9466, type: gene, id: 22, KO: ['K05068', 'K05069', 'K05070', 'K04737', 'K05071', 'K05067', 'K05055', 'K05072', 'K05073', 'K05134', 'K05135', 'K05056', 'K05063', 'K05064', 'K05076', 'K05077', 'K05074', 'K05136', 'K05137', 'K05075', 'K05138', 'K05139', 'K05065', 'K19598', 'K05060', 'K05130', 'K05131', 'K05132', 'K05133', 'K05140', 'K05057', 'K05058', 'K05078', 'K05059', 'K05066', 'K04738', 'K05061', 'K05079', 'K05080', 'K05062', 'K05082', 'K05081', 'K19599'],\n",
       " class: entry, name: hsa:5771, type: gene, id: 23, KO: ['K18026'],\n",
       " class: entry, name: hsa:4170, type: gene, id: 24, KO: ['K02539'],\n",
       " class: entry, name: hsa:5292, type: gene, id: 27, KO: ['K04702'],\n",
       " class: entry, name: hsa:595 hsa:894 hsa:896, type: gene, id: 28, KO: ['K04503', 'K10151', 'K10152'],\n",
       " class: entry, name: hsa:5781, type: gene, id: 29, KO: ['K07293'],\n",
       " class: entry, name: hsa:1026, type: gene, id: 30, KO: ['K06625'],\n",
       " class: entry, name: hsa:598, type: gene, id: 31, KO: ['K04570'],\n",
       " class: entry, name: hsa:3265, type: gene, id: 32, KO: ['K02833'],\n",
       " class: entry, name: hsa:5894, type: gene, id: 33, KO: ['K04366'],\n",
       " class: entry, name: hsa:316, type: gene, id: 34, KO: ['K00157'],\n",
       " class: entry, name: hsa:2475, type: gene, id: 35, KO: ['K07203'],\n",
       " class: entry, name: hsa:2670, type: gene, id: 36, KO: ['K05640'],\n",
       " class: entry, name: hsa:5771, type: gene, id: 37, KO: ['K18026'],\n",
       " class: entry, name: hsa:11009 hsa:1437 hsa:1489 hsa:282616 hsa:282617 hsa:282618 hsa:29949 hsa:338376 hsa:3439 hsa:3440 hsa:3441 hsa:3442 hsa:3443 hsa:3444 hsa:3445 hsa:3446 hsa:3447 hsa:3448 hsa:3449 hsa:3451 hsa:3452 hsa:3456 hsa:3458 hsa:3467 hsa:3558 hsa:3562 hsa:3565 hsa:3567 hsa:3569 hsa:3574 hsa:3578 hsa:3586 hsa:3589 hsa:3592 hsa:3593 hsa:3596 hsa:3600 hsa:3976 hsa:5008 hsa:50604 hsa:50616 hsa:51561 hsa:53342 hsa:56832 hsa:59067 hsa:85480, type: gene, id: 38, KO: ['K05429', 'K04736', 'K05430', 'K05428', 'K05405', 'K05431', 'K05432', 'K05443', 'K05417', 'K05406', 'K05425', 'K05435', 'K05433', 'K05444', 'K05434', 'K05445', 'K05426', 'K05492', 'K05414', 'K05415', 'K04687', 'K05442', 'K05441', 'K05447', 'K05440', 'K05418', 'K05419', 'K05436', 'K05422', 'K05427', 'K16689'],\n",
       " class: entry, name: hsa:1270 hsa:1440 hsa:1442 hsa:1443 hsa:2056 hsa:2688 hsa:2689 hsa:3952 hsa:5617 hsa:7066, type: gene, id: 39, KO: ['K05420', 'K05423', 'K05437', 'K05438', 'K05424', 'K06854', 'K05439'],\n",
       " class: entry, name: hsa:6772 hsa:6773 hsa:6774 hsa:6775 hsa:6776 hsa:6777 hsa:6778, type: gene, id: 40, KO: ['K11220', 'K11221', 'K04692', 'K11222', 'K11223', 'K11224', 'K11225'],\n",
       " class: entry, name: hsa:6772 hsa:6773 hsa:6774 hsa:6775 hsa:6776 hsa:6777 hsa:6778, type: gene, id: 41, KO: ['K11220', 'K11221', 'K04692', 'K11222', 'K11223', 'K11224', 'K11225']]"
      ]
     },
     "execution_count": 9,
     "metadata": {},
     "output_type": "execute_result"
    }
   ],
   "source": [
    "# element method get_element_by_type(e.g if class is entry, type may be gene)\n",
    "path.get_element_by_type(\"gene\")"
   ]
  },
  {
   "cell_type": "code",
   "execution_count": 10,
   "metadata": {
    "collapsed": false
   },
   "outputs": [
    {
     "data": {
      "text/plain": [
       "[class: entry, name: hsa:6772 hsa:6773 hsa:6774 hsa:6775 hsa:6776 hsa:6777 hsa:6778, type: gene, id: 11, KO: ['K11220', 'K11221', 'K04692', 'K11222', 'K11223', 'K11224', 'K11225']]"
      ]
     },
     "execution_count": 10,
     "metadata": {},
     "output_type": "execute_result"
    }
   ],
   "source": [
    "# element method get_element_by_id(note that the ID is GRAPHIC ID in KGML file)\n",
    "path.get_element_by_id(\"11\")"
   ]
  },
  {
   "cell_type": "code",
   "execution_count": 11,
   "metadata": {
    "collapsed": false
   },
   "outputs": [
    {
     "data": {
      "text/plain": [
       "[class: subtype, props: value: -->, name: activation,\n",
       " class: subtype, props: value: -->, name: activation,\n",
       " class: subtype, props: value: -->, name: activation,\n",
       " class: subtype, props: value: -->, name: activation,\n",
       " class: subtype, props: value: -->, name: activation,\n",
       " class: subtype, props: value: -->, name: activation,\n",
       " class: subtype, props: value: -->, name: activation,\n",
       " class: subtype, props: value: -->, name: activation,\n",
       " class: subtype, props: value: -->, name: activation,\n",
       " class: subtype, props: value: -->, name: activation,\n",
       " class: subtype, props: value: -->, name: activation,\n",
       " class: subtype, props: value: -->, name: activation]"
      ]
     },
     "execution_count": 11,
     "metadata": {},
     "output_type": "execute_result"
    }
   ],
   "source": [
    "# element method get_element_by_name\n",
    "path.get_element_by_name(\"activation\")"
   ]
  },
  {
   "cell_type": "code",
   "execution_count": 12,
   "metadata": {
    "collapsed": false,
    "scrolled": true
   },
   "outputs": [
    {
     "data": {
      "text/plain": [
       "[class: entry, name: hsa:4609, type: gene, id: 1, KO: ['K04377'],\n",
       " class: entry, name: hsa:10000 hsa:207 hsa:208, type: gene, id: 2, KO: ['K04456'],\n",
       " class: entry, name: hsa:23533 hsa:5290 hsa:5291 hsa:5293 hsa:5294 hsa:5295 hsa:5296 hsa:8503, type: gene, id: 3, KO: ['K00922', 'K02649'],\n",
       " class: entry, name: hsa:6654 hsa:6655, type: gene, id: 4, KO: ['K03099'],\n",
       " class: entry, name: hsa:2885, type: gene, id: 5, KO: ['K04364'],\n",
       " class: entry, name: hsa:1154, type: gene, id: 6, KO: ['K04701'],\n",
       " class: entry, name: hsa:596, type: gene, id: 7, KO: ['K02161'],\n",
       " class: entry, name: hsa:122809 hsa:30837 hsa:8651 hsa:8835 hsa:9021 hsa:9306 hsa:9655, type: gene, id: 8, KO: ['K04694', 'K04695', 'K04696', 'K04697', 'K04698', 'K04699'],\n",
       " class: entry, name: hsa:1387 hsa:2033, type: gene, id: 9, KO: ['K04498'],\n",
       " class: entry, name: hsa:10379, type: gene, id: 10, KO: ['K04693'],\n",
       " class: entry, name: hsa:6772 hsa:6773 hsa:6774 hsa:6775 hsa:6776 hsa:6777 hsa:6778, type: gene, id: 11, KO: ['K11220', 'K11221', 'K04692', 'K11222', 'K11223', 'K11224', 'K11225'],\n",
       " class: entry, name: hsa:10401 hsa:51588 hsa:8554 hsa:9063, type: gene, id: 12, KO: ['K04706', 'K16063', 'K16064', 'K16065'],\n",
       " class: entry, name: hsa:5777, type: gene, id: 13, KO: ['K05697'],\n",
       " class: entry, name: hsa:10254 hsa:8027, type: gene, id: 14, KO: ['K04705'],\n",
       " class: entry, name: hsa:3716 hsa:3717 hsa:3718 hsa:7297, type: gene, id: 15, KO: ['K11217', 'K04447', 'K11218', 'K11219'],\n",
       " class: entry, name: path:hsa04120, type: map, id: 16, KO: ['map04120:', '&quot;map04120:', '&quot;#ffffff&quot;)\"'],\n",
       " class: entry, name: path:hsa04010, type: map, id: 17, KO: ['map04010:', '&quot;map04010:', '&quot;#ffffff&quot;)\"'],\n",
       " class: entry, name: path:hsa04151, type: map, id: 18, KO: ['map04151:', '&quot;map04151:', '&quot;#ffffff&quot;)\"'],\n",
       " class: entry, name: hsa:2273, type: gene, id: 19, KO: ['K14365'],\n",
       " class: entry, name: path:hsa04060, type: map, id: 20, KO: ['map04060:', '&quot;map04060:', '&quot;#ffffff&quot;)\"'],\n",
       " class: entry, name: path:hsa04630, type: map, id: 21, KO: ['map04630:', '&quot;map04630:', '&quot;#ffffff&quot;)\"'],\n",
       " class: entry, name: hsa:116379 hsa:1271 hsa:1438 hsa:1439 hsa:1441 hsa:149233 hsa:163702 hsa:2057 hsa:2690 hsa:3454 hsa:3455 hsa:3459 hsa:3460 hsa:3559 hsa:3560 hsa:3561 hsa:3563 hsa:3566 hsa:3568 hsa:3570 hsa:3572 hsa:3575 hsa:3581 hsa:3587 hsa:3588 hsa:3590 hsa:3594 hsa:3595 hsa:3597 hsa:3598 hsa:3601 hsa:3953 hsa:3977 hsa:4352 hsa:50615 hsa:53832 hsa:53833 hsa:5618 hsa:58985 hsa:64109 hsa:9180 hsa:9466, type: gene, id: 22, KO: ['K05068', 'K05069', 'K05070', 'K04737', 'K05071', 'K05067', 'K05055', 'K05072', 'K05073', 'K05134', 'K05135', 'K05056', 'K05063', 'K05064', 'K05076', 'K05077', 'K05074', 'K05136', 'K05137', 'K05075', 'K05138', 'K05139', 'K05065', 'K19598', 'K05060', 'K05130', 'K05131', 'K05132', 'K05133', 'K05140', 'K05057', 'K05058', 'K05078', 'K05059', 'K05066', 'K04738', 'K05061', 'K05079', 'K05080', 'K05062', 'K05082', 'K05081', 'K19599'],\n",
       " class: entry, name: hsa:5771, type: gene, id: 23, KO: ['K18026'],\n",
       " class: entry, name: hsa:4170, type: gene, id: 24, KO: ['K02539'],\n",
       " class: entry, name: path:hsa04210, type: map, id: 25, KO: ['map04210:', '&quot;map04210:', '&quot;#ffffff&quot;)\"'],\n",
       " class: entry, name: path:hsa04110, type: map, id: 26, KO: ['map04110:', '&quot;map04110:', '&quot;#ffffff&quot;)\"'],\n",
       " class: entry, name: hsa:5292, type: gene, id: 27, KO: ['K04702'],\n",
       " class: entry, name: hsa:595 hsa:894 hsa:896, type: gene, id: 28, KO: ['K04503', 'K10151', 'K10152'],\n",
       " class: entry, name: hsa:5781, type: gene, id: 29, KO: ['K07293'],\n",
       " class: entry, name: hsa:1026, type: gene, id: 30, KO: ['K06625'],\n",
       " class: entry, name: hsa:598, type: gene, id: 31, KO: ['K04570'],\n",
       " class: entry, name: hsa:3265, type: gene, id: 32, KO: ['K02833'],\n",
       " class: entry, name: hsa:5894, type: gene, id: 33, KO: ['K04366'],\n",
       " class: entry, name: hsa:316, type: gene, id: 34, KO: ['K00157'],\n",
       " class: entry, name: hsa:2475, type: gene, id: 35, KO: ['K07203'],\n",
       " class: entry, name: hsa:2670, type: gene, id: 36, KO: ['K05640'],\n",
       " class: entry, name: hsa:5771, type: gene, id: 37, KO: ['K18026'],\n",
       " class: entry, name: hsa:11009 hsa:1437 hsa:1489 hsa:282616 hsa:282617 hsa:282618 hsa:29949 hsa:338376 hsa:3439 hsa:3440 hsa:3441 hsa:3442 hsa:3443 hsa:3444 hsa:3445 hsa:3446 hsa:3447 hsa:3448 hsa:3449 hsa:3451 hsa:3452 hsa:3456 hsa:3458 hsa:3467 hsa:3558 hsa:3562 hsa:3565 hsa:3567 hsa:3569 hsa:3574 hsa:3578 hsa:3586 hsa:3589 hsa:3592 hsa:3593 hsa:3596 hsa:3600 hsa:3976 hsa:5008 hsa:50604 hsa:50616 hsa:51561 hsa:53342 hsa:56832 hsa:59067 hsa:85480, type: gene, id: 38, KO: ['K05429', 'K04736', 'K05430', 'K05428', 'K05405', 'K05431', 'K05432', 'K05443', 'K05417', 'K05406', 'K05425', 'K05435', 'K05433', 'K05444', 'K05434', 'K05445', 'K05426', 'K05492', 'K05414', 'K05415', 'K04687', 'K05442', 'K05441', 'K05447', 'K05440', 'K05418', 'K05419', 'K05436', 'K05422', 'K05427', 'K16689'],\n",
       " class: entry, name: hsa:1270 hsa:1440 hsa:1442 hsa:1443 hsa:2056 hsa:2688 hsa:2689 hsa:3952 hsa:5617 hsa:7066, type: gene, id: 39, KO: ['K05420', 'K05423', 'K05437', 'K05438', 'K05424', 'K06854', 'K05439'],\n",
       " class: entry, name: hsa:6772 hsa:6773 hsa:6774 hsa:6775 hsa:6776 hsa:6777 hsa:6778, type: gene, id: 40, KO: ['K11220', 'K11221', 'K04692', 'K11222', 'K11223', 'K11224', 'K11225'],\n",
       " class: entry, name: hsa:6772 hsa:6773 hsa:6774 hsa:6775 hsa:6776 hsa:6777 hsa:6778, type: gene, id: 41, KO: ['K11220', 'K11221', 'K04692', 'K11222', 'K11223', 'K11224', 'K11225'],\n",
       " class: entry, name: undefined, type: group, id: 42, KO: [],\n",
       " class: entry, name: undefined, type: group, id: 43, KO: []]"
      ]
     },
     "execution_count": 12,
     "metadata": {},
     "output_type": "execute_result"
    }
   ],
   "source": [
    "# quick property entities (aka get_element_by_class(\"entry\"))\n",
    "path.entities"
   ]
  },
  {
   "cell_type": "code",
   "execution_count": 13,
   "metadata": {
    "collapsed": false,
    "scrolled": true
   },
   "outputs": [
    {
     "data": {
      "text/plain": [
       "[class: entry, name: hsa:4609, type: gene, id: 1, KO: ['K04377'],\n",
       " class: entry, name: hsa:10000 hsa:207 hsa:208, type: gene, id: 2, KO: ['K04456'],\n",
       " class: entry, name: hsa:23533 hsa:5290 hsa:5291 hsa:5293 hsa:5294 hsa:5295 hsa:5296 hsa:8503, type: gene, id: 3, KO: ['K00922', 'K02649'],\n",
       " class: entry, name: hsa:6654 hsa:6655, type: gene, id: 4, KO: ['K03099'],\n",
       " class: entry, name: hsa:2885, type: gene, id: 5, KO: ['K04364'],\n",
       " class: entry, name: hsa:1154, type: gene, id: 6, KO: ['K04701'],\n",
       " class: entry, name: hsa:596, type: gene, id: 7, KO: ['K02161'],\n",
       " class: entry, name: hsa:122809 hsa:30837 hsa:8651 hsa:8835 hsa:9021 hsa:9306 hsa:9655, type: gene, id: 8, KO: ['K04694', 'K04695', 'K04696', 'K04697', 'K04698', 'K04699'],\n",
       " class: entry, name: hsa:1387 hsa:2033, type: gene, id: 9, KO: ['K04498'],\n",
       " class: entry, name: hsa:10379, type: gene, id: 10, KO: ['K04693'],\n",
       " class: entry, name: hsa:6772 hsa:6773 hsa:6774 hsa:6775 hsa:6776 hsa:6777 hsa:6778, type: gene, id: 11, KO: ['K11220', 'K11221', 'K04692', 'K11222', 'K11223', 'K11224', 'K11225'],\n",
       " class: entry, name: hsa:10401 hsa:51588 hsa:8554 hsa:9063, type: gene, id: 12, KO: ['K04706', 'K16063', 'K16064', 'K16065'],\n",
       " class: entry, name: hsa:5777, type: gene, id: 13, KO: ['K05697'],\n",
       " class: entry, name: hsa:10254 hsa:8027, type: gene, id: 14, KO: ['K04705'],\n",
       " class: entry, name: hsa:3716 hsa:3717 hsa:3718 hsa:7297, type: gene, id: 15, KO: ['K11217', 'K04447', 'K11218', 'K11219'],\n",
       " class: entry, name: hsa:2273, type: gene, id: 19, KO: ['K14365'],\n",
       " class: entry, name: hsa:116379 hsa:1271 hsa:1438 hsa:1439 hsa:1441 hsa:149233 hsa:163702 hsa:2057 hsa:2690 hsa:3454 hsa:3455 hsa:3459 hsa:3460 hsa:3559 hsa:3560 hsa:3561 hsa:3563 hsa:3566 hsa:3568 hsa:3570 hsa:3572 hsa:3575 hsa:3581 hsa:3587 hsa:3588 hsa:3590 hsa:3594 hsa:3595 hsa:3597 hsa:3598 hsa:3601 hsa:3953 hsa:3977 hsa:4352 hsa:50615 hsa:53832 hsa:53833 hsa:5618 hsa:58985 hsa:64109 hsa:9180 hsa:9466, type: gene, id: 22, KO: ['K05068', 'K05069', 'K05070', 'K04737', 'K05071', 'K05067', 'K05055', 'K05072', 'K05073', 'K05134', 'K05135', 'K05056', 'K05063', 'K05064', 'K05076', 'K05077', 'K05074', 'K05136', 'K05137', 'K05075', 'K05138', 'K05139', 'K05065', 'K19598', 'K05060', 'K05130', 'K05131', 'K05132', 'K05133', 'K05140', 'K05057', 'K05058', 'K05078', 'K05059', 'K05066', 'K04738', 'K05061', 'K05079', 'K05080', 'K05062', 'K05082', 'K05081', 'K19599'],\n",
       " class: entry, name: hsa:5771, type: gene, id: 23, KO: ['K18026'],\n",
       " class: entry, name: hsa:4170, type: gene, id: 24, KO: ['K02539'],\n",
       " class: entry, name: hsa:5292, type: gene, id: 27, KO: ['K04702'],\n",
       " class: entry, name: hsa:595 hsa:894 hsa:896, type: gene, id: 28, KO: ['K04503', 'K10151', 'K10152'],\n",
       " class: entry, name: hsa:5781, type: gene, id: 29, KO: ['K07293'],\n",
       " class: entry, name: hsa:1026, type: gene, id: 30, KO: ['K06625'],\n",
       " class: entry, name: hsa:598, type: gene, id: 31, KO: ['K04570'],\n",
       " class: entry, name: hsa:3265, type: gene, id: 32, KO: ['K02833'],\n",
       " class: entry, name: hsa:5894, type: gene, id: 33, KO: ['K04366'],\n",
       " class: entry, name: hsa:316, type: gene, id: 34, KO: ['K00157'],\n",
       " class: entry, name: hsa:2475, type: gene, id: 35, KO: ['K07203'],\n",
       " class: entry, name: hsa:2670, type: gene, id: 36, KO: ['K05640'],\n",
       " class: entry, name: hsa:5771, type: gene, id: 37, KO: ['K18026'],\n",
       " class: entry, name: hsa:11009 hsa:1437 hsa:1489 hsa:282616 hsa:282617 hsa:282618 hsa:29949 hsa:338376 hsa:3439 hsa:3440 hsa:3441 hsa:3442 hsa:3443 hsa:3444 hsa:3445 hsa:3446 hsa:3447 hsa:3448 hsa:3449 hsa:3451 hsa:3452 hsa:3456 hsa:3458 hsa:3467 hsa:3558 hsa:3562 hsa:3565 hsa:3567 hsa:3569 hsa:3574 hsa:3578 hsa:3586 hsa:3589 hsa:3592 hsa:3593 hsa:3596 hsa:3600 hsa:3976 hsa:5008 hsa:50604 hsa:50616 hsa:51561 hsa:53342 hsa:56832 hsa:59067 hsa:85480, type: gene, id: 38, KO: ['K05429', 'K04736', 'K05430', 'K05428', 'K05405', 'K05431', 'K05432', 'K05443', 'K05417', 'K05406', 'K05425', 'K05435', 'K05433', 'K05444', 'K05434', 'K05445', 'K05426', 'K05492', 'K05414', 'K05415', 'K04687', 'K05442', 'K05441', 'K05447', 'K05440', 'K05418', 'K05419', 'K05436', 'K05422', 'K05427', 'K16689'],\n",
       " class: entry, name: hsa:1270 hsa:1440 hsa:1442 hsa:1443 hsa:2056 hsa:2688 hsa:2689 hsa:3952 hsa:5617 hsa:7066, type: gene, id: 39, KO: ['K05420', 'K05423', 'K05437', 'K05438', 'K05424', 'K06854', 'K05439'],\n",
       " class: entry, name: hsa:6772 hsa:6773 hsa:6774 hsa:6775 hsa:6776 hsa:6777 hsa:6778, type: gene, id: 40, KO: ['K11220', 'K11221', 'K04692', 'K11222', 'K11223', 'K11224', 'K11225'],\n",
       " class: entry, name: hsa:6772 hsa:6773 hsa:6774 hsa:6775 hsa:6776 hsa:6777 hsa:6778, type: gene, id: 41, KO: ['K11220', 'K11221', 'K04692', 'K11222', 'K11223', 'K11224', 'K11225']]"
      ]
     },
     "execution_count": 13,
     "metadata": {},
     "output_type": "execute_result"
    }
   ],
   "source": [
    "# quick property gene (aka. get_element_by_name(\"gene\"))\n",
    "path.genes"
   ]
  },
  {
   "cell_type": "code",
   "execution_count": 14,
   "metadata": {
    "collapsed": false,
    "scrolled": true
   },
   "outputs": [
    {
     "data": {
      "text/plain": [
       "[class: relation, props: entry2: 22, entry1: 38, type: PPrel\n",
       " ....class: subtype, props: value: -->, name: activation,\n",
       " class: relation, props: entry2: 22, entry1: 39, type: PPrel\n",
       " ....class: subtype, props: value: -->, name: activation,\n",
       " class: relation, props: entry2: 42, entry1: 9, type: PPrel\n",
       " ....class: subtype, props: value: -->, name: activation,\n",
       " class: relation, props: entry2: 4, entry1: 43, type: PPrel\n",
       " ....class: subtype, props: value: -->, name: activation,\n",
       " class: relation, props: entry2: 32, entry1: 4, type: PPrel\n",
       " ....class: subtype, props: value: -->, name: activation,\n",
       " class: relation, props: entry2: 33, entry1: 32, type: PPrel\n",
       " ....class: subtype, props: value: -->, name: activation,\n",
       " class: relation, props: entry2: 11, entry1: 15, type: PPrel\n",
       " ....class: subtype, props: value: -->, name: activation\n",
       " ....class: subtype, props: value: +p, name: phosphorylation,\n",
       " class: relation, props: entry2: 29, entry1: 15, type: PPrel\n",
       " ....class: subtype, props: value: -->, name: activation\n",
       " ....class: subtype, props: value: +p, name: phosphorylation,\n",
       " class: relation, props: entry2: 3, entry1: 15, type: PPrel\n",
       " ....class: subtype, props: value: -->, name: activation\n",
       " ....class: subtype, props: value: +p, name: phosphorylation,\n",
       " class: relation, props: entry2: 2, entry1: 3, type: PPrel\n",
       " ....class: subtype, props: value: -->, name: activation\n",
       " ....class: subtype, props: value: ..>, name: indirect effect,\n",
       " class: relation, props: entry2: 35, entry1: 2, type: PPrel\n",
       " ....class: subtype, props: value: -->, name: activation\n",
       " ....class: subtype, props: value: ..>, name: indirect effect,\n",
       " class: relation, props: entry2: 42, entry1: 11, type: PPrel\n",
       " ....class: subtype, props: value: ..., name: state change,\n",
       " class: relation, props: entry2: 6, entry1: 42, type: GErel\n",
       " ....class: subtype, props: value: -->, name: expression,\n",
       " class: relation, props: entry2: 7, entry1: 42, type: GErel\n",
       " ....class: subtype, props: value: -->, name: expression,\n",
       " class: relation, props: entry2: 31, entry1: 42, type: GErel\n",
       " ....class: subtype, props: value: -->, name: expression,\n",
       " class: relation, props: entry2: 1, entry1: 42, type: GErel\n",
       " ....class: subtype, props: value: -->, name: expression,\n",
       " class: relation, props: entry2: 30, entry1: 42, type: GErel\n",
       " ....class: subtype, props: value: -->, name: expression,\n",
       " class: relation, props: entry2: 34, entry1: 42, type: GErel\n",
       " ....class: subtype, props: value: -->, name: expression,\n",
       " class: relation, props: entry2: 36, entry1: 42, type: GErel\n",
       " ....class: subtype, props: value: -->, name: expression,\n",
       " class: relation, props: entry2: 8, entry1: 42, type: GErel\n",
       " ....class: subtype, props: value: -->, name: expression,\n",
       " class: relation, props: entry2: 24, entry1: 42, type: GErel\n",
       " ....class: subtype, props: value: -->, name: expression,\n",
       " class: relation, props: entry2: 27, entry1: 42, type: GErel\n",
       " ....class: subtype, props: value: -->, name: expression,\n",
       " class: relation, props: entry2: 28, entry1: 42, type: GErel\n",
       " ....class: subtype, props: value: -->, name: expression,\n",
       " class: relation, props: entry2: 15, entry1: 22, type: PPrel\n",
       " ....class: subtype, props: value: ---, name: binding/association,\n",
       " class: relation, props: entry2: 10, entry1: 42, type: PPrel\n",
       " ....class: subtype, props: value: ---, name: binding/association,\n",
       " class: relation, props: entry2: 42, entry1: 12, type: PPrel\n",
       " ....class: subtype, props: value: --|, name: inhibition,\n",
       " class: relation, props: entry2: 42, entry1: 23, type: PPrel\n",
       " ....class: subtype, props: value: --|, name: inhibition\n",
       " ....class: subtype, props: value: -p, name: dephosphorylation,\n",
       " class: relation, props: entry2: 15, entry1: 37, type: PPrel\n",
       " ....class: subtype, props: value: --|, name: inhibition\n",
       " ....class: subtype, props: value: -p, name: dephosphorylation,\n",
       " class: relation, props: entry2: 15, entry1: 13, type: PPrel\n",
       " ....class: subtype, props: value: --|, name: inhibition\n",
       " ....class: subtype, props: value: -p, name: dephosphorylation,\n",
       " class: relation, props: entry2: 42, entry1: 19, type: PPrel\n",
       " ....class: subtype, props: value: +u, name: ubiquitination,\n",
       " class: relation, props: entry2: 11, entry1: 6, type: PPrel\n",
       " ....class: subtype, props: value: --|, name: inhibition,\n",
       " class: relation, props: entry2: 15, entry1: 8, type: PPrel\n",
       " ....class: subtype, props: value: --|, name: inhibition,\n",
       " class: relation, props: entry2: 15, entry1: 14, type: PPrel\n",
       " ....class: subtype, props: value: -->, name: activation]"
      ]
     },
     "execution_count": 14,
     "metadata": {},
     "output_type": "execute_result"
    }
   ],
   "source": [
    "# quick method reactions (aka. get_element_by_class(\"relation\"))\n",
    "path.reactions"
   ]
  }
 ],
 "metadata": {
  "kernelspec": {
   "display_name": "Python 3",
   "language": "python",
   "name": "python3"
  },
  "language_info": {
   "codemirror_mode": {
    "name": "ipython",
    "version": 3
   },
   "file_extension": ".py",
   "mimetype": "text/x-python",
   "name": "python",
   "nbconvert_exporter": "python",
   "pygments_lexer": "ipython3",
   "version": "3.5.1"
  }
 },
 "nbformat": 4,
 "nbformat_minor": 1
}
