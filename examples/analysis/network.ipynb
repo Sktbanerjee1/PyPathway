{
 "cells": [
  {
   "cell_type": "code",
   "execution_count": 1,
   "metadata": {
    "collapsed": true
   },
   "outputs": [],
   "source": [
    "%load_ext autoreload\n",
    "%autoreload 2"
   ]
  },
  {
   "cell_type": "code",
   "execution_count": 2,
   "metadata": {
    "collapsed": true
   },
   "outputs": [],
   "source": [
    "import sys"
   ]
  },
  {
   "cell_type": "code",
   "execution_count": 3,
   "metadata": {
    "collapsed": true
   },
   "outputs": [],
   "source": [
    "sys.path.append('/Users/sheep/PyPathway/')"
   ]
  },
  {
   "cell_type": "code",
   "execution_count": 4,
   "metadata": {
    "collapsed": false
   },
   "outputs": [],
   "source": [
    "from pypathway.analysis.network import Enrichnet, SPIA\n",
    "from pypathway.utils import ColorectalCancer"
   ]
  },
  {
   "cell_type": "code",
   "execution_count": 5,
   "metadata": {
    "collapsed": true
   },
   "outputs": [],
   "source": [
    "geneset = ['LRRK2', 'PARK2', 'SNCA', 'APOE', 'PINK1', 'MAPT', 'GBA', 'COMT', 'UCHL1', 'MAOB', 'DRD2', 'CYP2D6', 'PARK7', 'SLC6A3', 'BDNF', 'NR4A2', 'GIGYF2', 'DRD3', 'GSTM1', 'MTHFR', 'PON1', 'GSTP1', 'NAT2', 'HFE', 'ATP13A2', 'IL1A', 'IL1B', 'MAOA', 'ND1', 'ABCB1', 'FGF20', 'GSTT1', 'FMR1', 'SLC6A4', 'TNF', 'SOD2', 'PITX3', 'ND3', 'NQO1', 'DRD4', 'LINGO1', 'SEMA5A', 'CYP2E1', 'ND2', 'ATXN3', 'NOS1', 'NOS2A', 'POLG', 'ATXN2', 'TBP', 'TFAM', 'TRNG', 'GSTO2', 'SERPINA3', 'DBH', 'ESR1', 'ESR2', 'PARK10', 'HTRA2', 'HTR2A', 'IL6', 'GSTO1', 'SNCAIP', 'BST1', 'TH', 'IL10', 'LMX1B', 'GSTM3', 'HNMT', 'FTL', 'GRN', 'GRIN2B', 'GSK3B', 'EPHX1', 'ACE', 'CYP1A1', 'CYP1A2', 'ND5', 'ATP6', 'COX2', 'NQO2', 'TRNQ', 'NEDD9', 'NUCKS1', 'CACNA1A', 'PRNP', 'USP40', 'CALB1', 'SNCG', 'TRNK', 'NDUFV2', 'NOS3', 'MSX1', 'COX1', 'ATP8', 'ASCL1', 'PARK11', 'LMX1A', 'MTR', 'ND4', 'CYTB', 'NUDT1', 'CYP1B1', 'ADRA2A', 'CST3', 'PACRG', 'CHRNA4', 'DRD5', 'ELAVL4', 'A2M', 'USP24', 'TOR1A', 'GCH1', 'GSTZ1', 'STH', 'FRAXA', 'FTH1', 'HMOX1', 'IL8', 'IL1RN', 'CAST', 'PDXK', 'UNC5C', 'CCK', 'CCKAR', 'CCKBR']"
   ]
  },
  {
   "cell_type": "code",
   "execution_count": 6,
   "metadata": {
    "collapsed": false,
    "scrolled": true
   },
   "outputs": [
    {
     "name": "stdout",
     "output_type": "stream",
     "text": [
      "checking:  processing...\n",
      "checking:  processing...\n"
     ]
    }
   ],
   "source": [
    "task = Enrichnet.run(geneset, pathdb='kegg')"
   ]
  },
  {
   "cell_type": "code",
   "execution_count": 8,
   "metadata": {
    "collapsed": false
   },
   "outputs": [
    {
     "data": {
      "text/html": [
       "<div>\n",
       "<style>\n",
       "    .dataframe thead tr:only-child th {\n",
       "        text-align: right;\n",
       "    }\n",
       "\n",
       "    .dataframe thead th {\n",
       "        text-align: left;\n",
       "    }\n",
       "\n",
       "    .dataframe tbody tr th {\n",
       "        vertical-align: top;\n",
       "    }\n",
       "</style>\n",
       "<table border=\"1\" class=\"dataframe\">\n",
       "  <thead>\n",
       "    <tr style=\"text-align: right;\">\n",
       "      <th></th>\n",
       "      <th>Annotation (pathway/process)</th>\n",
       "      <th>XD-score</th>\n",
       "      <th>Fisher q-value</th>\n",
       "      <th>Gene set size</th>\n",
       "      <th>Pathway size</th>\n",
       "      <th>Overlap size</th>\n",
       "    </tr>\n",
       "  </thead>\n",
       "  <tbody>\n",
       "    <tr>\n",
       "      <th>0</th>\n",
       "      <td>hsa00980:Metabolism of xenobiotics by cytochro...</td>\n",
       "      <td>1.438045</td>\n",
       "      <td>1.092202e-08</td>\n",
       "      <td>107</td>\n",
       "      <td>67</td>\n",
       "      <td>12</td>\n",
       "    </tr>\n",
       "    <tr>\n",
       "      <th>1</th>\n",
       "      <td>hsa00982:Drug metabolism - cytochrome P450</td>\n",
       "      <td>1.414340</td>\n",
       "      <td>1.092202e-08</td>\n",
       "      <td>107</td>\n",
       "      <td>68</td>\n",
       "      <td>12</td>\n",
       "    </tr>\n",
       "    <tr>\n",
       "      <th>2</th>\n",
       "      <td>hsa00480:Glutathione metabolism</td>\n",
       "      <td>1.257923</td>\n",
       "      <td>1.119154e-04</td>\n",
       "      <td>107</td>\n",
       "      <td>44</td>\n",
       "      <td>7</td>\n",
       "    </tr>\n",
       "    <tr>\n",
       "      <th>3</th>\n",
       "      <td>hsa00350:Tyrosine metabolism</td>\n",
       "      <td>1.210720</td>\n",
       "      <td>6.084594e-04</td>\n",
       "      <td>107</td>\n",
       "      <td>39</td>\n",
       "      <td>6</td>\n",
       "    </tr>\n",
       "    <tr>\n",
       "      <th>4</th>\n",
       "      <td>hsa00380:Tryptophan metabolism</td>\n",
       "      <td>0.979951</td>\n",
       "      <td>6.673776e-03</td>\n",
       "      <td>107</td>\n",
       "      <td>39</td>\n",
       "      <td>5</td>\n",
       "    </tr>\n",
       "  </tbody>\n",
       "</table>\n",
       "</div>"
      ],
      "text/plain": [
       "                        Annotation (pathway/process)  XD-score  \\\n",
       "0  hsa00980:Metabolism of xenobiotics by cytochro...  1.438045   \n",
       "1         hsa00982:Drug metabolism - cytochrome P450  1.414340   \n",
       "2                    hsa00480:Glutathione metabolism  1.257923   \n",
       "3                       hsa00350:Tyrosine metabolism  1.210720   \n",
       "4                     hsa00380:Tryptophan metabolism  0.979951   \n",
       "\n",
       "   Fisher q-value  Gene set size  Pathway size  Overlap size  \n",
       "0    1.092202e-08            107            67            12  \n",
       "1    1.092202e-08            107            68            12  \n",
       "2    1.119154e-04            107            44             7  \n",
       "3    6.084594e-04            107            39             6  \n",
       "4    6.673776e-03            107            39             5  "
      ]
     },
     "execution_count": 8,
     "metadata": {},
     "output_type": "execute_result"
    }
   ],
   "source": [
    "task.table.head()"
   ]
  },
  {
   "cell_type": "code",
   "execution_count": 11,
   "metadata": {
    "collapsed": false
   },
   "outputs": [
    {
     "data": {
      "text/html": [
       "<div id=\"box1503033774798246\" style=\"width: 100%; height: 0px;background-color: #ffffff\">\n",
       "    <script>\n",
       "        var box = $(\"#box1503033774798246\");\n",
       "        var father = box.parent();\n",
       "//        var grandfather = father.parent();\n",
       "        var thirdfather = father.parent().parent().parent();\n",
       "        thirdfather.children(\".prompt\").remove();\n",
       "        father.parent().children(\".prompt\").remove();\n",
       "        father.css(\"max-width\", \"100%\");\n",
       "        box.css(\"margin-left\", \"5px\");\n",
       "        var target = document.getElementById(\"box1503033774798246\");\n",
       "//        var w = target.offsetWidth;\n",
       "        var w = thirdfather.outerWidth();\n",
       "        console.log(w);\n",
       "        target.style.height = w * 0.6 + \"px\";\n",
       "        box.append($(\"<iframe width='\" + (parseInt(w) - 15).toString() + \"'\" +\n",
       "                \" height='\" + w * 0.6 + \"' src='assets/plot/plot_1503033774798246.html' \" +\n",
       "                \"frameborder='0'></iframe>\"))\n",
       "    </script>\n",
       "</div>"
      ],
      "text/plain": [
       "<IPython.core.display.HTML object>"
      ]
     },
     "execution_count": 11,
     "metadata": {},
     "output_type": "execute_result"
    }
   ],
   "source": [
    "task.plot()"
   ]
  },
  {
   "cell_type": "code",
   "execution_count": 9,
   "metadata": {
    "collapsed": false
   },
   "outputs": [],
   "source": [
    "c = ColorectalCancer()"
   ]
  },
  {
   "cell_type": "code",
   "execution_count": 10,
   "metadata": {
    "collapsed": false
   },
   "outputs": [],
   "source": [
    "r = SPIA.run(de=c.deg, all=c.background)"
   ]
  },
  {
   "cell_type": "code",
   "execution_count": 14,
   "metadata": {
    "collapsed": false
   },
   "outputs": [
    {
     "data": {
      "text/html": [
       "<div id=\"box1503033511631873\" style=\"width: 100%; height: 0px;background-color: #ffffff\">\n",
       "    <script>\n",
       "        var box = $(\"#box1503033511631873\");\n",
       "        var father = box.parent();\n",
       "//        var grandfather = father.parent();\n",
       "        var thirdfather = father.parent().parent().parent();\n",
       "        thirdfather.children(\".prompt\").remove();\n",
       "        father.parent().children(\".prompt\").remove();\n",
       "        father.css(\"max-width\", \"100%\");\n",
       "        box.css(\"margin-left\", \"5px\");\n",
       "        var target = document.getElementById(\"box1503033511631873\");\n",
       "//        var w = target.offsetWidth;\n",
       "        var w = thirdfather.outerWidth();\n",
       "        console.log(w);\n",
       "        target.style.height = w * 0.6 + \"px\";\n",
       "        box.append($(\"<iframe width='\" + (parseInt(w) - 15).toString() + \"'\" +\n",
       "                \" height='\" + w * 0.6 + \"' src='assets/plot/plot_1503033511631873.html' \" +\n",
       "                \"frameborder='0'></iframe>\"))\n",
       "    </script>\n",
       "</div>"
      ],
      "text/plain": [
       "<IPython.core.display.HTML object>"
      ]
     },
     "execution_count": 14,
     "metadata": {},
     "output_type": "execute_result"
    }
   ],
   "source": [
    "r.plot()"
   ]
  }
 ],
 "metadata": {
  "kernelspec": {
   "display_name": "Python 3",
   "language": "python",
   "name": "python3"
  },
  "language_info": {
   "codemirror_mode": {
    "name": "ipython",
    "version": 3
   },
   "file_extension": ".py",
   "mimetype": "text/x-python",
   "name": "python",
   "nbconvert_exporter": "python",
   "pygments_lexer": "ipython3",
   "version": "3.5.2"
  }
 },
 "nbformat": 4,
 "nbformat_minor": 2
}
