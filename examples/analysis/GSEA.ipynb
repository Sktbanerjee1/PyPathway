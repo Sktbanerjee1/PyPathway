{
 "cells": [
  {
   "cell_type": "code",
   "execution_count": 1,
   "metadata": {
    "collapsed": false
   },
   "outputs": [],
   "source": [
    "%load_ext autoreload\n",
    "%autoreload 2"
   ]
  },
  {
   "cell_type": "code",
   "execution_count": 2,
   "metadata": {
    "collapsed": true
   },
   "outputs": [],
   "source": [
    "import sys"
   ]
  },
  {
   "cell_type": "code",
   "execution_count": 3,
   "metadata": {
    "collapsed": true
   },
   "outputs": [],
   "source": [
    "sys.path.append('/Users/sheep/PyPathway')"
   ]
  },
  {
   "cell_type": "code",
   "execution_count": 4,
   "metadata": {
    "collapsed": true
   },
   "outputs": [],
   "source": [
    "%matplotlib inline\n",
    "import pandas as pd\n",
    "import gseapy as gp\n",
    "import matplotlib.pyplot as plt"
   ]
  },
  {
   "cell_type": "code",
   "execution_count": 5,
   "metadata": {
    "collapsed": false
   },
   "outputs": [
    {
     "data": {
      "text/plain": [
       "'0.8.4'"
      ]
     },
     "execution_count": 5,
     "metadata": {},
     "output_type": "execute_result"
    }
   ],
   "source": [
    "gp.__version__"
   ]
  },
  {
   "cell_type": "code",
   "execution_count": 6,
   "metadata": {
    "collapsed": true
   },
   "outputs": [],
   "source": [
    "path = '/Users/sheep/GSEApy/data/'"
   ]
  },
  {
   "cell_type": "code",
   "execution_count": 7,
   "metadata": {
    "collapsed": false
   },
   "outputs": [],
   "source": [
    "gene_list = pd.read_table(path + \"gene_list.txt\",header=None)"
   ]
  },
  {
   "cell_type": "code",
   "execution_count": 8,
   "metadata": {
    "collapsed": false
   },
   "outputs": [
    {
     "data": {
      "text/html": [
       "<div>\n",
       "<style>\n",
       "    .dataframe thead tr:only-child th {\n",
       "        text-align: right;\n",
       "    }\n",
       "\n",
       "    .dataframe thead th {\n",
       "        text-align: left;\n",
       "    }\n",
       "\n",
       "    .dataframe tbody tr th {\n",
       "        vertical-align: top;\n",
       "    }\n",
       "</style>\n",
       "<table border=\"1\" class=\"dataframe\">\n",
       "  <thead>\n",
       "    <tr style=\"text-align: right;\">\n",
       "      <th></th>\n",
       "      <th>0</th>\n",
       "    </tr>\n",
       "  </thead>\n",
       "  <tbody>\n",
       "    <tr>\n",
       "      <th>0</th>\n",
       "      <td>CTLA2B</td>\n",
       "    </tr>\n",
       "    <tr>\n",
       "      <th>1</th>\n",
       "      <td>SCARA3</td>\n",
       "    </tr>\n",
       "    <tr>\n",
       "      <th>2</th>\n",
       "      <td>LOC100044683</td>\n",
       "    </tr>\n",
       "    <tr>\n",
       "      <th>3</th>\n",
       "      <td>CMBL</td>\n",
       "    </tr>\n",
       "    <tr>\n",
       "      <th>4</th>\n",
       "      <td>CLIC6</td>\n",
       "    </tr>\n",
       "  </tbody>\n",
       "</table>\n",
       "</div>"
      ],
      "text/plain": [
       "              0\n",
       "0        CTLA2B\n",
       "1        SCARA3\n",
       "2  LOC100044683\n",
       "3          CMBL\n",
       "4         CLIC6"
      ]
     },
     "execution_count": 8,
     "metadata": {},
     "output_type": "execute_result"
    }
   ],
   "source": [
    "gene_list[:5]"
   ]
  },
  {
   "cell_type": "code",
   "execution_count": 9,
   "metadata": {
    "collapsed": true
   },
   "outputs": [],
   "source": [
    "glist = gene_list.squeeze().tolist()"
   ]
  },
  {
   "cell_type": "code",
   "execution_count": 10,
   "metadata": {
    "collapsed": false
   },
   "outputs": [
    {
     "name": "stdout",
     "output_type": "stream",
     "text": [
      "/Users/sheep\n"
     ]
    }
   ],
   "source": [
    "cd ~"
   ]
  },
  {
   "cell_type": "code",
   "execution_count": 11,
   "metadata": {
    "collapsed": false
   },
   "outputs": [
    {
     "data": {
      "text/plain": [
       "'/Users/sheep'"
      ]
     },
     "execution_count": 11,
     "metadata": {},
     "output_type": "execute_result"
    }
   ],
   "source": [
    "pwd"
   ]
  },
  {
   "cell_type": "code",
   "execution_count": 12,
   "metadata": {
    "collapsed": true
   },
   "outputs": [],
   "source": [
    "phenoA,phenoB, class_vector =  gp.parser.gsea_cls_parser('/Users/sheep/' + \"GSE4107.cls\")"
   ]
  },
  {
   "cell_type": "code",
   "execution_count": 13,
   "metadata": {
    "collapsed": false
   },
   "outputs": [
    {
     "data": {
      "text/plain": [
       "['patient',\n",
       " 'patient',\n",
       " 'patient',\n",
       " 'patient',\n",
       " 'patient',\n",
       " 'patient',\n",
       " 'patient',\n",
       " 'patient',\n",
       " 'patient',\n",
       " 'patient',\n",
       " 'patient',\n",
       " 'patient',\n",
       " 'control',\n",
       " 'control',\n",
       " 'control',\n",
       " 'control',\n",
       " 'control',\n",
       " 'control',\n",
       " 'control',\n",
       " 'control',\n",
       " 'control',\n",
       " 'control']"
      ]
     },
     "execution_count": 13,
     "metadata": {},
     "output_type": "execute_result"
    }
   ],
   "source": [
    "class_vector"
   ]
  },
  {
   "cell_type": "code",
   "execution_count": 14,
   "metadata": {
    "collapsed": false
   },
   "outputs": [
    {
     "data": {
      "text/plain": [
       "22"
      ]
     },
     "execution_count": 14,
     "metadata": {},
     "output_type": "execute_result"
    }
   ],
   "source": [
    "len(class_vector)"
   ]
  },
  {
   "cell_type": "code",
   "execution_count": 15,
   "metadata": {
    "collapsed": false,
    "scrolled": true
   },
   "outputs": [
    {
     "data": {
      "text/html": [
       "<div>\n",
       "<style>\n",
       "    .dataframe thead tr:only-child th {\n",
       "        text-align: right;\n",
       "    }\n",
       "\n",
       "    .dataframe thead th {\n",
       "        text-align: left;\n",
       "    }\n",
       "\n",
       "    .dataframe tbody tr th {\n",
       "        vertical-align: top;\n",
       "    }\n",
       "</style>\n",
       "<table border=\"1\" class=\"dataframe\">\n",
       "  <thead>\n",
       "    <tr style=\"text-align: right;\">\n",
       "      <th></th>\n",
       "      <th>Name</th>\n",
       "      <th>2965M patient's mucosa</th>\n",
       "      <th>3216M patient's mucosa</th>\n",
       "      <th>3335M patientüs mucosa</th>\n",
       "      <th>3416M patient's mucosa</th>\n",
       "      <th>3578M patientüs mucosa</th>\n",
       "      <th>3798M patientüs mucosa</th>\n",
       "      <th>3838M patientüs mucosa</th>\n",
       "      <th>3894M patientüs mucosa</th>\n",
       "      <th>3950M patientüs mucosa</th>\n",
       "      <th>...</th>\n",
       "      <th>NM14 healthy control</th>\n",
       "      <th>NM16 healthy control</th>\n",
       "      <th>NM18 healthy control</th>\n",
       "      <th>NM19 healthy control</th>\n",
       "      <th>NM20 healthy control</th>\n",
       "      <th>NM22 healthy control</th>\n",
       "      <th>NM24 healthy control</th>\n",
       "      <th>NM3 healthy control</th>\n",
       "      <th>NM4 healthy control</th>\n",
       "      <th>NM9 healthy control</th>\n",
       "    </tr>\n",
       "  </thead>\n",
       "  <tbody>\n",
       "    <tr>\n",
       "      <th>0</th>\n",
       "      <td>A1BG</td>\n",
       "      <td>2.738077</td>\n",
       "      <td>2.364171</td>\n",
       "      <td>1.915184</td>\n",
       "      <td>2.204392</td>\n",
       "      <td>2.105189</td>\n",
       "      <td>2.355191</td>\n",
       "      <td>0.711476</td>\n",
       "      <td>2.097443</td>\n",
       "      <td>1.496572</td>\n",
       "      <td>...</td>\n",
       "      <td>1.773150</td>\n",
       "      <td>2.164193</td>\n",
       "      <td>2.346402</td>\n",
       "      <td>2.042523</td>\n",
       "      <td>1.518295</td>\n",
       "      <td>1.972372</td>\n",
       "      <td>1.078999</td>\n",
       "      <td>2.171907</td>\n",
       "      <td>2.123645</td>\n",
       "      <td>1.536769</td>\n",
       "    </tr>\n",
       "    <tr>\n",
       "      <th>1</th>\n",
       "      <td>A1BG-AS1</td>\n",
       "      <td>1.618062</td>\n",
       "      <td>1.631023</td>\n",
       "      <td>1.751713</td>\n",
       "      <td>1.942189</td>\n",
       "      <td>1.389749</td>\n",
       "      <td>1.620180</td>\n",
       "      <td>1.222842</td>\n",
       "      <td>1.561975</td>\n",
       "      <td>2.109663</td>\n",
       "      <td>...</td>\n",
       "      <td>1.176899</td>\n",
       "      <td>1.804385</td>\n",
       "      <td>1.354942</td>\n",
       "      <td>1.414842</td>\n",
       "      <td>1.403163</td>\n",
       "      <td>1.592050</td>\n",
       "      <td>1.732328</td>\n",
       "      <td>1.524912</td>\n",
       "      <td>1.317243</td>\n",
       "      <td>1.326480</td>\n",
       "    </tr>\n",
       "    <tr>\n",
       "      <th>2</th>\n",
       "      <td>A1CF</td>\n",
       "      <td>2.029520</td>\n",
       "      <td>3.323313</td>\n",
       "      <td>3.315563</td>\n",
       "      <td>2.795794</td>\n",
       "      <td>3.209412</td>\n",
       "      <td>2.805799</td>\n",
       "      <td>1.633054</td>\n",
       "      <td>2.807252</td>\n",
       "      <td>3.194931</td>\n",
       "      <td>...</td>\n",
       "      <td>3.400948</td>\n",
       "      <td>3.498237</td>\n",
       "      <td>3.507465</td>\n",
       "      <td>3.405435</td>\n",
       "      <td>3.478323</td>\n",
       "      <td>3.469412</td>\n",
       "      <td>3.511901</td>\n",
       "      <td>3.431951</td>\n",
       "      <td>3.560375</td>\n",
       "      <td>3.516000</td>\n",
       "    </tr>\n",
       "    <tr>\n",
       "      <th>3</th>\n",
       "      <td>A2M</td>\n",
       "      <td>2.994217</td>\n",
       "      <td>2.556958</td>\n",
       "      <td>2.999796</td>\n",
       "      <td>3.354563</td>\n",
       "      <td>3.143560</td>\n",
       "      <td>2.776570</td>\n",
       "      <td>3.075487</td>\n",
       "      <td>2.509139</td>\n",
       "      <td>3.033883</td>\n",
       "      <td>...</td>\n",
       "      <td>3.020295</td>\n",
       "      <td>2.995580</td>\n",
       "      <td>3.013548</td>\n",
       "      <td>2.837932</td>\n",
       "      <td>2.812989</td>\n",
       "      <td>2.459263</td>\n",
       "      <td>2.832147</td>\n",
       "      <td>2.984786</td>\n",
       "      <td>2.824153</td>\n",
       "      <td>2.688611</td>\n",
       "    </tr>\n",
       "    <tr>\n",
       "      <th>4</th>\n",
       "      <td>A2M-AS1</td>\n",
       "      <td>2.233742</td>\n",
       "      <td>1.709143</td>\n",
       "      <td>1.968936</td>\n",
       "      <td>2.648101</td>\n",
       "      <td>2.353158</td>\n",
       "      <td>2.346996</td>\n",
       "      <td>2.903206</td>\n",
       "      <td>2.467630</td>\n",
       "      <td>2.119784</td>\n",
       "      <td>...</td>\n",
       "      <td>2.288889</td>\n",
       "      <td>1.060712</td>\n",
       "      <td>2.242833</td>\n",
       "      <td>2.235845</td>\n",
       "      <td>2.016905</td>\n",
       "      <td>1.204287</td>\n",
       "      <td>2.312234</td>\n",
       "      <td>1.712255</td>\n",
       "      <td>2.286789</td>\n",
       "      <td>2.104353</td>\n",
       "    </tr>\n",
       "  </tbody>\n",
       "</table>\n",
       "<p>5 rows × 23 columns</p>\n",
       "</div>"
      ],
      "text/plain": [
       "       Name  2965M patient's mucosa  3216M patient's mucosa  \\\n",
       "0      A1BG                2.738077                2.364171   \n",
       "1  A1BG-AS1                1.618062                1.631023   \n",
       "2      A1CF                2.029520                3.323313   \n",
       "3       A2M                2.994217                2.556958   \n",
       "4   A2M-AS1                2.233742                1.709143   \n",
       "\n",
       "   3335M patientüs mucosa  3416M patient's mucosa  3578M patientüs mucosa  \\\n",
       "0                1.915184                2.204392                2.105189   \n",
       "1                1.751713                1.942189                1.389749   \n",
       "2                3.315563                2.795794                3.209412   \n",
       "3                2.999796                3.354563                3.143560   \n",
       "4                1.968936                2.648101                2.353158   \n",
       "\n",
       "   3798M patientüs mucosa  3838M patientüs mucosa  3894M patientüs mucosa  \\\n",
       "0                2.355191                0.711476                2.097443   \n",
       "1                1.620180                1.222842                1.561975   \n",
       "2                2.805799                1.633054                2.807252   \n",
       "3                2.776570                3.075487                2.509139   \n",
       "4                2.346996                2.903206                2.467630   \n",
       "\n",
       "   3950M patientüs mucosa         ...           NM14 healthy control  \\\n",
       "0                1.496572         ...                       1.773150   \n",
       "1                2.109663         ...                       1.176899   \n",
       "2                3.194931         ...                       3.400948   \n",
       "3                3.033883         ...                       3.020295   \n",
       "4                2.119784         ...                       2.288889   \n",
       "\n",
       "   NM16 healthy control  NM18 healthy control  NM19 healthy control  \\\n",
       "0              2.164193              2.346402              2.042523   \n",
       "1              1.804385              1.354942              1.414842   \n",
       "2              3.498237              3.507465              3.405435   \n",
       "3              2.995580              3.013548              2.837932   \n",
       "4              1.060712              2.242833              2.235845   \n",
       "\n",
       "   NM20 healthy control  NM22 healthy control  NM24 healthy control  \\\n",
       "0              1.518295              1.972372              1.078999   \n",
       "1              1.403163              1.592050              1.732328   \n",
       "2              3.478323              3.469412              3.511901   \n",
       "3              2.812989              2.459263              2.832147   \n",
       "4              2.016905              1.204287              2.312234   \n",
       "\n",
       "   NM3 healthy control  NM4 healthy control  NM9 healthy control  \n",
       "0             2.171907             2.123645             1.536769  \n",
       "1             1.524912             1.317243             1.326480  \n",
       "2             3.431951             3.560375             3.516000  \n",
       "3             2.984786             2.824153             2.688611  \n",
       "4             1.712255             2.286789             2.104353  \n",
       "\n",
       "[5 rows x 23 columns]"
      ]
     },
     "execution_count": 15,
     "metadata": {},
     "output_type": "execute_result"
    }
   ],
   "source": [
    "gene_exp = pd.read_excel(\"/Users/sheep/\" + \"GSE4107.xlsx\")\n",
    "gene_exp.head()"
   ]
  },
  {
   "cell_type": "code",
   "execution_count": 16,
   "metadata": {
    "collapsed": false,
    "scrolled": false
   },
   "outputs": [],
   "source": [
    "gs_res = gp.gsea(data=gene_exp, gene_sets='KEGG_2016', cls=class_vector, \n",
    "                 permutation_type='phenotype', #set permutation_type to phenotype when \n",
    "                 outdir='gsea_reprot', method='signal_to_noise', format='png')"
   ]
  },
  {
   "cell_type": "code",
   "execution_count": 16,
   "metadata": {
    "collapsed": false
   },
   "outputs": [],
   "source": [
    "from pypathway.analysis.gsea import GSEA"
   ]
  },
  {
   "cell_type": "code",
   "execution_count": null,
   "metadata": {
    "collapsed": false
   },
   "outputs": [],
   "source": [
    "GSEA.run(data=gene_exp, gmt=\"KEGG_2016\", cls=class_vector)"
   ]
  },
  {
   "cell_type": "code",
   "execution_count": 23,
   "metadata": {
    "collapsed": false
   },
   "outputs": [
    {
     "ename": "NameError",
     "evalue": "name 'res' is not defined",
     "output_type": "error",
     "traceback": [
      "\u001b[0;31m---------\u001b[0m",
      "\u001b[0;31mNameError\u001b[0mTraceback (most recent call last)",
      "\u001b[0;32m<ipython-input-23-c64557cc397e>\u001b[0m in \u001b[0;36m<module>\u001b[0;34m()\u001b[0m\n\u001b[0;32m----> 1\u001b[0;31m \u001b[0mres\u001b[0m\u001b[0;34m.\u001b[0m\u001b[0mresult\u001b[0m\u001b[0;34m\u001b[0m\u001b[0m\n\u001b[0m",
      "\u001b[0;31mNameError\u001b[0m: name 'res' is not defined"
     ]
    }
   ],
   "source": [
    "res.result"
   ]
  },
  {
   "cell_type": "code",
   "execution_count": 107,
   "metadata": {
    "collapsed": false
   },
   "outputs": [
    {
     "name": "stdout",
     "output_type": "stream",
     "text": [
      "\u001b[31mAUTHORS.rst\u001b[m\u001b[m*          \u001b[30m\u001b[43mbuild\u001b[m\u001b[m/                \u001b[30m\u001b[43mpypathway.egg-info\u001b[m\u001b[m/\r\n",
      "\u001b[31mCONTRIBUTING.rst\u001b[m\u001b[m*     \u001b[31mcompile.sh\u001b[m\u001b[m*           \u001b[31mrequirements_dev.txt\u001b[m\u001b[m*\r\n",
      "\u001b[31mLICENSE\u001b[m\u001b[m*              \u001b[30m\u001b[43mdocs\u001b[m\u001b[m/                 \u001b[31msetup.cfg\u001b[m\u001b[m*\r\n",
      "\u001b[31mMANIFEST.in\u001b[m\u001b[m*          \u001b[30m\u001b[43mexamples\u001b[m\u001b[m/             \u001b[31msetup.py\u001b[m\u001b[m*\r\n",
      "\u001b[31mMakefile\u001b[m\u001b[m*             \u001b[31moutput\u001b[m\u001b[m*               \u001b[30m\u001b[43mtests\u001b[m\u001b[m/\r\n",
      "\u001b[31mREADME.md\u001b[m\u001b[m*            \u001b[30m\u001b[43mpypathway\u001b[m\u001b[m/            \u001b[31mtox.ini\u001b[m\u001b[m*\r\n"
     ]
    }
   ],
   "source": [
    "ls /Users/sheep/PyPathway"
   ]
  }
 ],
 "metadata": {
  "kernelspec": {
   "display_name": "Python 3",
   "language": "python",
   "name": "python3"
  },
  "language_info": {
   "codemirror_mode": {
    "name": "ipython",
    "version": 3
   },
   "file_extension": ".py",
   "mimetype": "text/x-python",
   "name": "python",
   "nbconvert_exporter": "python",
   "pygments_lexer": "ipython3",
   "version": "3.5.2"
  }
 },
 "nbformat": 4,
 "nbformat_minor": 2
}
